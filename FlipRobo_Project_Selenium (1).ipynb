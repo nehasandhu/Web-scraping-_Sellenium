{
 "cells": [
  {
   "cell_type": "code",
   "execution_count": 23,
   "id": "e329d745",
   "metadata": {},
   "outputs": [
    {
     "name": "stdout",
     "output_type": "stream",
     "text": [
      "Requirement already satisfied: selenium in c:\\programdata\\anaconda3\\lib\\site-packages (4.1.2)\n",
      "Requirement already satisfied: urllib3[secure,socks]~=1.26 in c:\\programdata\\anaconda3\\lib\\site-packages (from selenium) (1.26.4)\n",
      "Requirement already satisfied: trio~=0.17 in c:\\programdata\\anaconda3\\lib\\site-packages (from selenium) (0.20.0)\n",
      "Requirement already satisfied: trio-websocket~=0.9 in c:\\programdata\\anaconda3\\lib\\site-packages (from selenium) (0.9.2)\n",
      "Requirement already satisfied: attrs>=19.2.0 in c:\\programdata\\anaconda3\\lib\\site-packages (from trio~=0.17->selenium) (20.3.0)\n",
      "Requirement already satisfied: sortedcontainers in c:\\programdata\\anaconda3\\lib\\site-packages (from trio~=0.17->selenium) (2.3.0)\n",
      "Requirement already satisfied: async-generator>=1.9 in c:\\programdata\\anaconda3\\lib\\site-packages (from trio~=0.17->selenium) (1.10)\n",
      "Requirement already satisfied: idna in c:\\programdata\\anaconda3\\lib\\site-packages (from trio~=0.17->selenium) (2.10)\n",
      "Requirement already satisfied: sniffio in c:\\programdata\\anaconda3\\lib\\site-packages (from trio~=0.17->selenium) (1.2.0)\n",
      "Requirement already satisfied: outcome in c:\\programdata\\anaconda3\\lib\\site-packages (from trio~=0.17->selenium) (1.1.0)\n",
      "Requirement already satisfied: cffi>=1.14 in c:\\programdata\\anaconda3\\lib\\site-packages (from trio~=0.17->selenium) (1.14.5)\n",
      "Requirement already satisfied: pycparser in c:\\programdata\\anaconda3\\lib\\site-packages (from cffi>=1.14->trio~=0.17->selenium) (2.20)\n",
      "Requirement already satisfied: wsproto>=0.14 in c:\\programdata\\anaconda3\\lib\\site-packages (from trio-websocket~=0.9->selenium) (1.1.0)\n",
      "Requirement already satisfied: cryptography>=1.3.4 in c:\\programdata\\anaconda3\\lib\\site-packages (from urllib3[secure,socks]~=1.26->selenium) (3.4.7)\n",
      "Requirement already satisfied: pyOpenSSL>=0.14 in c:\\programdata\\anaconda3\\lib\\site-packages (from urllib3[secure,socks]~=1.26->selenium) (20.0.1)\n",
      "Requirement already satisfied: certifi in c:\\programdata\\anaconda3\\lib\\site-packages (from urllib3[secure,socks]~=1.26->selenium) (2020.12.5)\n",
      "Requirement already satisfied: PySocks!=1.5.7,<2.0,>=1.5.6 in c:\\programdata\\anaconda3\\lib\\site-packages (from urllib3[secure,socks]~=1.26->selenium) (1.7.1)\n",
      "Requirement already satisfied: six>=1.5.2 in c:\\programdata\\anaconda3\\lib\\site-packages (from pyOpenSSL>=0.14->urllib3[secure,socks]~=1.26->selenium) (1.15.0)"
     ]
    }
   ],
   "source": [
    "!pip install selenium"
   ]
  },
  {
   "cell_type": "code",
   "execution_count": 24,
   "id": "265b0a6b",
   "metadata": {},
   "outputs": [
    {
     "name": "stdout",
     "output_type": "stream",
     "text": [
      "\n",
      "Requirement already satisfied: h11<1,>=0.9.0 in c:\\programdata\\anaconda3\\lib\\site-packages (from wsproto>=0.14->trio-websocket~=0.9->selenium) (0.13.0)\n"
     ]
    }
   ],
   "source": [
    "import selenium\n",
    "from selenium import webdriver\n",
    "import pandas as pd\n",
    "import warnings\n",
    "warnings.filterwarnings(\"ignore\")"
   ]
  },
  {
   "cell_type": "code",
   "execution_count": 25,
   "id": "a0ed62a2",
   "metadata": {},
   "outputs": [],
   "source": [
    "driver = webdriver.Chrome('chromedriver.exe')\n"
   ]
  },
  {
   "cell_type": "code",
   "execution_count": 26,
   "id": "7b896500",
   "metadata": {},
   "outputs": [],
   "source": [
    "url = 'https://www.naukri.com/'\n",
    "driver.get(url)"
   ]
  },
  {
   "cell_type": "markdown",
   "id": "e2a350b5",
   "metadata": {},
   "source": [
    "# Q1: Write a python program to scrape data for “Data Analyst” Job position in “Bangalore” location. You have to scrape the job-title, job-location, company_name, experience_required. You have to scrape first 10 jobs data.\n"
   ]
  },
  {
   "cell_type": "code",
   "execution_count": 27,
   "id": "a0e35722",
   "metadata": {},
   "outputs": [
    {
     "data": {
      "text/plain": [
       "<selenium.webdriver.remote.webelement.WebElement (session=\"c046533267f7576c541830b99b152bb0\", element=\"278ba54b-6ff8-4ede-8868-25069435938c\")>"
      ]
     },
     "execution_count": 27,
     "metadata": {},
     "output_type": "execute_result"
    }
   ],
   "source": [
    "search_job=driver.find_element_by_xpath('/html/body/div/div[2]/div[3]/div/div/div[1]/div/div/div/input')\n",
    "search_job"
   ]
  },
  {
   "cell_type": "code",
   "execution_count": 28,
   "id": "78370dd3",
   "metadata": {},
   "outputs": [],
   "source": [
    "search_job.send_keys(\"Data Analyst\")"
   ]
  },
  {
   "cell_type": "code",
   "execution_count": 29,
   "id": "83726d3d",
   "metadata": {},
   "outputs": [
    {
     "data": {
      "text/plain": [
       "<selenium.webdriver.remote.webelement.WebElement (session=\"c046533267f7576c541830b99b152bb0\", element=\"349a301c-75ce-4acd-a592-44246dbadba6\")>"
      ]
     },
     "execution_count": 29,
     "metadata": {},
     "output_type": "execute_result"
    }
   ],
   "source": [
    "search_Loc=driver.find_element_by_xpath(\"/html/body/div/div[2]/div[3]/div/div/div[3]/div/div/div/input\")\n",
    "search_Loc"
   ]
  },
  {
   "cell_type": "code",
   "execution_count": 30,
   "id": "f194bdec",
   "metadata": {},
   "outputs": [],
   "source": [
    "search_Loc.send_keys(\"Bangalore\")"
   ]
  },
  {
   "cell_type": "code",
   "execution_count": 31,
   "id": "ef61f941",
   "metadata": {},
   "outputs": [
    {
     "data": {
      "text/plain": [
       "<selenium.webdriver.remote.webelement.WebElement (session=\"c046533267f7576c541830b99b152bb0\", element=\"6f1cfca5-4a18-4814-8d5a-8cddcd9a0b92\")>"
      ]
     },
     "execution_count": 31,
     "metadata": {},
     "output_type": "execute_result"
    }
   ],
   "source": [
    "search_Button=driver.find_element_by_xpath(\"/html/body/div/div[2]/div[3]/div/div/div[6]\")\n",
    "search_Button"
   ]
  },
  {
   "cell_type": "code",
   "execution_count": 302,
   "id": "9c65f6a9",
   "metadata": {},
   "outputs": [],
   "source": [
    "search_Button.click()"
   ]
  },
  {
   "cell_type": "code",
   "execution_count": 303,
   "id": "e9eb7470",
   "metadata": {},
   "outputs": [
    {
     "data": {
      "text/plain": [
       "20"
      ]
     },
     "execution_count": 303,
     "metadata": {},
     "output_type": "execute_result"
    }
   ],
   "source": [
    "title_tags = driver.find_elements_by_xpath('//a[@class=\"title fw500 ellipsis\"]')\n",
    "len(title_tags)\n"
   ]
  },
  {
   "cell_type": "code",
   "execution_count": 304,
   "id": "51ccf0af",
   "metadata": {},
   "outputs": [
    {
     "data": {
      "text/plain": [
       "['software developer & Testing / Business Analyst/Data Analyst/Python.',\n",
       " 'Staff Business Data Analyst - FDP',\n",
       " 'Data Analyst - IIM/ISB/MDI/FMS/SP Jain',\n",
       " 'Senior Data Analyst',\n",
       " 'Senior Data Analyst',\n",
       " 'Looking For Data Analyst',\n",
       " 'Data Analyst || Advance Excel || D Limit || Concatenate',\n",
       " 'Data Analyst (Python, SQL, Excel)',\n",
       " 'Data Analyst',\n",
       " 'Data Analyst For Text / Sentiment Analysis']"
      ]
     },
     "execution_count": 304,
     "metadata": {},
     "output_type": "execute_result"
    }
   ],
   "source": [
    "jobTitles=[]\n",
    "for i in title_tags:\n",
    "     jobTitles.append(i.text)\n",
    "        \n",
    "jobTitles[0:10]"
   ]
  },
  {
   "cell_type": "code",
   "execution_count": 305,
   "id": "d4ff39c2",
   "metadata": {},
   "outputs": [
    {
     "data": {
      "text/plain": [
       "[<selenium.webdriver.remote.webelement.WebElement (session=\"13726a825e6b2ee5bf2cbfd11cb4d882\", element=\"cfad45f9-d1d1-44a3-8e68-13be8d5d159f\")>,\n",
       " <selenium.webdriver.remote.webelement.WebElement (session=\"13726a825e6b2ee5bf2cbfd11cb4d882\", element=\"e14f27b5-38f4-4c38-83dd-8d098ec4225c\")>,\n",
       " <selenium.webdriver.remote.webelement.WebElement (session=\"13726a825e6b2ee5bf2cbfd11cb4d882\", element=\"53587528-f7c0-41dc-992e-7bd8b55b052c\")>,\n",
       " <selenium.webdriver.remote.webelement.WebElement (session=\"13726a825e6b2ee5bf2cbfd11cb4d882\", element=\"319a2a6c-1e7d-45bb-adb4-333a1855b26b\")>,\n",
       " <selenium.webdriver.remote.webelement.WebElement (session=\"13726a825e6b2ee5bf2cbfd11cb4d882\", element=\"9ebe43f7-7275-4910-8f6e-c95ea85608b5\")>,\n",
       " <selenium.webdriver.remote.webelement.WebElement (session=\"13726a825e6b2ee5bf2cbfd11cb4d882\", element=\"eab92477-7943-4b0c-a547-50aaedde7e93\")>,\n",
       " <selenium.webdriver.remote.webelement.WebElement (session=\"13726a825e6b2ee5bf2cbfd11cb4d882\", element=\"202b4999-b72d-4f84-983f-ae91cf6384cd\")>,\n",
       " <selenium.webdriver.remote.webelement.WebElement (session=\"13726a825e6b2ee5bf2cbfd11cb4d882\", element=\"4a8fc395-270a-441a-8526-ec0d1fc357b2\")>,\n",
       " <selenium.webdriver.remote.webelement.WebElement (session=\"13726a825e6b2ee5bf2cbfd11cb4d882\", element=\"be4ae4a1-4208-44bb-8e83-eba641a25903\")>,\n",
       " <selenium.webdriver.remote.webelement.WebElement (session=\"13726a825e6b2ee5bf2cbfd11cb4d882\", element=\"9dafe8da-a87c-4445-a7e2-2ffe553ebb28\")>]"
      ]
     },
     "execution_count": 305,
     "metadata": {},
     "output_type": "execute_result"
    }
   ],
   "source": [
    "CompanyNames = driver.find_elements_by_xpath('//a[@class=\"subTitle ellipsis fleft\"]')\n",
    "len(CompanyNames)\n",
    "CompanyNames[0:10]"
   ]
  },
  {
   "cell_type": "code",
   "execution_count": 306,
   "id": "78cbc476",
   "metadata": {},
   "outputs": [
    {
     "data": {
      "text/plain": [
       "['SECRET TECHNOLOGIES INDIA VMS GROUP',\n",
       " 'Intuit Inc.',\n",
       " 'K12 Techno Services Pvt Ltd',\n",
       " 'Mobile Premier League',\n",
       " 'Flipkart',\n",
       " 'Trellance',\n",
       " 'Inspiration Manpower Consultancy Pvt. Ltd.',\n",
       " 'Flipkart',\n",
       " 'Flipkart',\n",
       " 'FUTURLYTIC PRIVATE LIMITED']"
      ]
     },
     "execution_count": 306,
     "metadata": {},
     "output_type": "execute_result"
    }
   ],
   "source": [
    "CompanyTitles=[]\n",
    "for i in CompanyNames:\n",
    "     CompanyTitles.append(i.text)\n",
    "        \n",
    "CompanyTitles[0:10]"
   ]
  },
  {
   "cell_type": "code",
   "execution_count": 319,
   "id": "a71c8b40",
   "metadata": {},
   "outputs": [
    {
     "data": {
      "text/plain": [
       "[<selenium.webdriver.remote.webelement.WebElement (session=\"13726a825e6b2ee5bf2cbfd11cb4d882\", element=\"92f9e761-4a3d-4d40-896e-3598a4f37be7\")>,\n",
       " <selenium.webdriver.remote.webelement.WebElement (session=\"13726a825e6b2ee5bf2cbfd11cb4d882\", element=\"c57072cb-4bd4-4a81-a37c-638ba580dbe4\")>,\n",
       " <selenium.webdriver.remote.webelement.WebElement (session=\"13726a825e6b2ee5bf2cbfd11cb4d882\", element=\"14ecbae9-4081-480c-809a-43c9d44f75aa\")>,\n",
       " <selenium.webdriver.remote.webelement.WebElement (session=\"13726a825e6b2ee5bf2cbfd11cb4d882\", element=\"4d8e5f95-0ec9-4c19-8b70-c97f192bc0a5\")>,\n",
       " <selenium.webdriver.remote.webelement.WebElement (session=\"13726a825e6b2ee5bf2cbfd11cb4d882\", element=\"f97915a5-938b-4ac4-adc6-6054f40739d7\")>,\n",
       " <selenium.webdriver.remote.webelement.WebElement (session=\"13726a825e6b2ee5bf2cbfd11cb4d882\", element=\"48f0e6f4-04de-4ec6-b68b-2db3784e1a00\")>,\n",
       " <selenium.webdriver.remote.webelement.WebElement (session=\"13726a825e6b2ee5bf2cbfd11cb4d882\", element=\"fac9c6c1-2149-4c1c-b7c8-9ec0e10c902a\")>,\n",
       " <selenium.webdriver.remote.webelement.WebElement (session=\"13726a825e6b2ee5bf2cbfd11cb4d882\", element=\"b4624ca4-7e9c-4c09-ac5e-b5efffd9dd36\")>,\n",
       " <selenium.webdriver.remote.webelement.WebElement (session=\"13726a825e6b2ee5bf2cbfd11cb4d882\", element=\"f8b291bb-eeb4-476b-95a1-cc44bca4f382\")>,\n",
       " <selenium.webdriver.remote.webelement.WebElement (session=\"13726a825e6b2ee5bf2cbfd11cb4d882\", element=\"93d5b7ce-21a8-4482-ae0b-e6eecd557bdc\")>]"
      ]
     },
     "execution_count": 319,
     "metadata": {},
     "output_type": "execute_result"
    }
   ],
   "source": [
    "ExperienceTitle = driver.find_elements_by_xpath('//li[@class=\"fleft grey-text br2 placeHolderLi experience\"]')\n",
    "len(ExperienceTitle)\n",
    "ExperienceTitle[0:10]"
   ]
  },
  {
   "cell_type": "code",
   "execution_count": 322,
   "id": "e194d289",
   "metadata": {},
   "outputs": [
    {
     "data": {
      "text/plain": [
       "['0-4 Yrs',\n",
       " '5-7 Yrs',\n",
       " '4-9 Yrs',\n",
       " '3-6 Yrs',\n",
       " '3-6 Yrs',\n",
       " '0-2 Yrs',\n",
       " '2-4 Yrs',\n",
       " '1-2 Yrs',\n",
       " '0-1 Yrs',\n",
       " '3-7 Yrs',\n",
       " '1-3 Yrs',\n",
       " '5-8 Yrs',\n",
       " '1-6 Yrs',\n",
       " '3-8 Yrs',\n",
       " '2-7 Yrs',\n",
       " '2-7 Yrs',\n",
       " '2-5 Yrs',\n",
       " '2-7 Yrs',\n",
       " '1-4 Yrs']"
      ]
     },
     "execution_count": 322,
     "metadata": {},
     "output_type": "execute_result"
    }
   ],
   "source": [
    "Experience=[]\n",
    "for i in ExperienceTitle:\n",
    "    Experience.append(i.text)\n",
    "        \n",
    "Experience\n"
   ]
  },
  {
   "cell_type": "code",
   "execution_count": 331,
   "id": "544800c7",
   "metadata": {},
   "outputs": [
    {
     "data": {
      "text/html": [
       "<div>\n",
       "<style scoped>\n",
       "    .dataframe tbody tr th:only-of-type {\n",
       "        vertical-align: middle;\n",
       "    }\n",
       "\n",
       "    .dataframe tbody tr th {\n",
       "        vertical-align: top;\n",
       "    }\n",
       "\n",
       "    .dataframe thead th {\n",
       "        text-align: right;\n",
       "    }\n",
       "</style>\n",
       "<table border=\"1\" class=\"dataframe\">\n",
       "  <thead>\n",
       "    <tr style=\"text-align: right;\">\n",
       "      <th></th>\n",
       "      <th>Job Title</th>\n",
       "      <th>Company Name</th>\n",
       "      <th>Location</th>\n",
       "      <th>Exp</th>\n",
       "    </tr>\n",
       "  </thead>\n",
       "  <tbody>\n",
       "    <tr>\n",
       "      <th>0</th>\n",
       "      <td>software developer &amp; Testing / Business Analys...</td>\n",
       "      <td>SECRET TECHNOLOGIES INDIA VMS GROUP</td>\n",
       "      <td>Bangalore</td>\n",
       "      <td>0-4 Yrs</td>\n",
       "    </tr>\n",
       "    <tr>\n",
       "      <th>1</th>\n",
       "      <td>Staff Business Data Analyst - FDP</td>\n",
       "      <td>Intuit Inc.</td>\n",
       "      <td>Bangalore</td>\n",
       "      <td>5-7 Yrs</td>\n",
       "    </tr>\n",
       "    <tr>\n",
       "      <th>2</th>\n",
       "      <td>Data Analyst - IIM/ISB/MDI/FMS/SP Jain</td>\n",
       "      <td>K12 Techno Services Pvt Ltd</td>\n",
       "      <td>Bangalore</td>\n",
       "      <td>4-9 Yrs</td>\n",
       "    </tr>\n",
       "    <tr>\n",
       "      <th>3</th>\n",
       "      <td>Senior Data Analyst</td>\n",
       "      <td>Mobile Premier League</td>\n",
       "      <td>Bangalore</td>\n",
       "      <td>3-6 Yrs</td>\n",
       "    </tr>\n",
       "    <tr>\n",
       "      <th>4</th>\n",
       "      <td>Senior Data Analyst</td>\n",
       "      <td>Flipkart</td>\n",
       "      <td>Bangalore</td>\n",
       "      <td>3-6 Yrs</td>\n",
       "    </tr>\n",
       "    <tr>\n",
       "      <th>5</th>\n",
       "      <td>Looking For Data Analyst</td>\n",
       "      <td>Trellance</td>\n",
       "      <td>Bangalore</td>\n",
       "      <td>0-2 Yrs</td>\n",
       "    </tr>\n",
       "    <tr>\n",
       "      <th>6</th>\n",
       "      <td>Data Analyst || Advance Excel || D Limit || Co...</td>\n",
       "      <td>Inspiration Manpower Consultancy Pvt. Ltd.</td>\n",
       "      <td>Bangalore</td>\n",
       "      <td>2-4 Yrs</td>\n",
       "    </tr>\n",
       "    <tr>\n",
       "      <th>7</th>\n",
       "      <td>Data Analyst (Python, SQL, Excel)</td>\n",
       "      <td>Flipkart</td>\n",
       "      <td>Bangalore</td>\n",
       "      <td>1-2 Yrs</td>\n",
       "    </tr>\n",
       "    <tr>\n",
       "      <th>8</th>\n",
       "      <td>Data Analyst</td>\n",
       "      <td>Flipkart</td>\n",
       "      <td>Bangalore</td>\n",
       "      <td>0-1 Yrs</td>\n",
       "    </tr>\n",
       "    <tr>\n",
       "      <th>9</th>\n",
       "      <td>Data Analyst For Text / Sentiment Analysis</td>\n",
       "      <td>FUTURLYTIC PRIVATE LIMITED</td>\n",
       "      <td>Bangalore</td>\n",
       "      <td>3-7 Yrs</td>\n",
       "    </tr>\n",
       "    <tr>\n",
       "      <th>10</th>\n",
       "      <td>Senior Data Analyst</td>\n",
       "      <td>Flipkart</td>\n",
       "      <td>Bangalore</td>\n",
       "      <td>1-3 Yrs</td>\n",
       "    </tr>\n",
       "    <tr>\n",
       "      <th>11</th>\n",
       "      <td>Data Analyst</td>\n",
       "      <td>Capillary Technologies</td>\n",
       "      <td>Bangalore</td>\n",
       "      <td>5-8 Yrs</td>\n",
       "    </tr>\n",
       "    <tr>\n",
       "      <th>12</th>\n",
       "      <td>Senior Data Analyst</td>\n",
       "      <td>Liventus</td>\n",
       "      <td>Bangalore</td>\n",
       "      <td>1-6 Yrs</td>\n",
       "    </tr>\n",
       "    <tr>\n",
       "      <th>13</th>\n",
       "      <td>Senior Data Analyst (Digital Services Analytics)</td>\n",
       "      <td>Dell</td>\n",
       "      <td>Bangalore</td>\n",
       "      <td>3-8 Yrs</td>\n",
       "    </tr>\n",
       "    <tr>\n",
       "      <th>14</th>\n",
       "      <td>Tcs Hiring For Data Analyst / Data Engineer</td>\n",
       "      <td>TCS</td>\n",
       "      <td>Bangalore</td>\n",
       "      <td>2-7 Yrs</td>\n",
       "    </tr>\n",
       "    <tr>\n",
       "      <th>15</th>\n",
       "      <td>Data Analyst / Data Source Engineer - SOQL/SOSL</td>\n",
       "      <td>Talent Placers</td>\n",
       "      <td>Bangalore</td>\n",
       "      <td>2-7 Yrs</td>\n",
       "    </tr>\n",
       "    <tr>\n",
       "      <th>16</th>\n",
       "      <td>Data Analyst</td>\n",
       "      <td>Kenko</td>\n",
       "      <td>Bangalore</td>\n",
       "      <td>2-5 Yrs</td>\n",
       "    </tr>\n",
       "    <tr>\n",
       "      <th>17</th>\n",
       "      <td>Data Analyst</td>\n",
       "      <td>SUGAR.FIT</td>\n",
       "      <td>Bangalore</td>\n",
       "      <td>2-7 Yrs</td>\n",
       "    </tr>\n",
       "    <tr>\n",
       "      <th>18</th>\n",
       "      <td>Hiring For a Data Analyst with Permanent Oppor...</td>\n",
       "      <td>NTT Data Business Solutions Pvt Ltd</td>\n",
       "      <td>Bangalore</td>\n",
       "      <td>1-4 Yrs</td>\n",
       "    </tr>\n",
       "    <tr>\n",
       "      <th>19</th>\n",
       "      <td>Data Analyst</td>\n",
       "      <td>Yulu Bikes</td>\n",
       "      <td>Bangalore</td>\n",
       "      <td>0</td>\n",
       "    </tr>\n",
       "  </tbody>\n",
       "</table>\n",
       "</div>"
      ],
      "text/plain": [
       "                                            Job Title  \\\n",
       "0   software developer & Testing / Business Analys...   \n",
       "1                   Staff Business Data Analyst - FDP   \n",
       "2              Data Analyst - IIM/ISB/MDI/FMS/SP Jain   \n",
       "3                                 Senior Data Analyst   \n",
       "4                                 Senior Data Analyst   \n",
       "5                            Looking For Data Analyst   \n",
       "6   Data Analyst || Advance Excel || D Limit || Co...   \n",
       "7                   Data Analyst (Python, SQL, Excel)   \n",
       "8                                        Data Analyst   \n",
       "9          Data Analyst For Text / Sentiment Analysis   \n",
       "10                                Senior Data Analyst   \n",
       "11                                       Data Analyst   \n",
       "12                                Senior Data Analyst   \n",
       "13   Senior Data Analyst (Digital Services Analytics)   \n",
       "14        Tcs Hiring For Data Analyst / Data Engineer   \n",
       "15    Data Analyst / Data Source Engineer - SOQL/SOSL   \n",
       "16                                       Data Analyst   \n",
       "17                                       Data Analyst   \n",
       "18  Hiring For a Data Analyst with Permanent Oppor...   \n",
       "19                                       Data Analyst   \n",
       "\n",
       "                                  Company Name   Location      Exp  \n",
       "0          SECRET TECHNOLOGIES INDIA VMS GROUP  Bangalore  0-4 Yrs  \n",
       "1                                  Intuit Inc.  Bangalore  5-7 Yrs  \n",
       "2                  K12 Techno Services Pvt Ltd  Bangalore  4-9 Yrs  \n",
       "3                        Mobile Premier League  Bangalore  3-6 Yrs  \n",
       "4                                     Flipkart  Bangalore  3-6 Yrs  \n",
       "5                                    Trellance  Bangalore  0-2 Yrs  \n",
       "6   Inspiration Manpower Consultancy Pvt. Ltd.  Bangalore  2-4 Yrs  \n",
       "7                                     Flipkart  Bangalore  1-2 Yrs  \n",
       "8                                     Flipkart  Bangalore  0-1 Yrs  \n",
       "9                   FUTURLYTIC PRIVATE LIMITED  Bangalore  3-7 Yrs  \n",
       "10                                    Flipkart  Bangalore  1-3 Yrs  \n",
       "11                      Capillary Technologies  Bangalore  5-8 Yrs  \n",
       "12                                    Liventus  Bangalore  1-6 Yrs  \n",
       "13                                        Dell  Bangalore  3-8 Yrs  \n",
       "14                                         TCS  Bangalore  2-7 Yrs  \n",
       "15                              Talent Placers  Bangalore  2-7 Yrs  \n",
       "16                                       Kenko  Bangalore  2-5 Yrs  \n",
       "17                                   SUGAR.FIT  Bangalore  2-7 Yrs  \n",
       "18         NTT Data Business Solutions Pvt Ltd  Bangalore  1-4 Yrs  \n",
       "19                                  Yulu Bikes  Bangalore        0  "
      ]
     },
     "execution_count": 331,
     "metadata": {},
     "output_type": "execute_result"
    }
   ],
   "source": [
    "import pandas as pd\n",
    "df= pd.DataFrame({\"Job Title\":jobTitles,\"Company Name\":CompanyTitles,\"Location\":\"Bangalore\",\"Exp\":Experience + [0]})\n",
    "df"
   ]
  },
  {
   "cell_type": "code",
   "execution_count": 333,
   "id": "44aecb2b",
   "metadata": {},
   "outputs": [],
   "source": [
    "resulutDF=df.head(10)"
   ]
  },
  {
   "cell_type": "code",
   "execution_count": 334,
   "id": "aadb691c",
   "metadata": {},
   "outputs": [
    {
     "data": {
      "text/html": [
       "<div>\n",
       "<style scoped>\n",
       "    .dataframe tbody tr th:only-of-type {\n",
       "        vertical-align: middle;\n",
       "    }\n",
       "\n",
       "    .dataframe tbody tr th {\n",
       "        vertical-align: top;\n",
       "    }\n",
       "\n",
       "    .dataframe thead th {\n",
       "        text-align: right;\n",
       "    }\n",
       "</style>\n",
       "<table border=\"1\" class=\"dataframe\">\n",
       "  <thead>\n",
       "    <tr style=\"text-align: right;\">\n",
       "      <th></th>\n",
       "      <th>Job Title</th>\n",
       "      <th>Company Name</th>\n",
       "      <th>Location</th>\n",
       "      <th>Exp</th>\n",
       "    </tr>\n",
       "  </thead>\n",
       "  <tbody>\n",
       "    <tr>\n",
       "      <th>0</th>\n",
       "      <td>software developer &amp; Testing / Business Analys...</td>\n",
       "      <td>SECRET TECHNOLOGIES INDIA VMS GROUP</td>\n",
       "      <td>Bangalore</td>\n",
       "      <td>0-4 Yrs</td>\n",
       "    </tr>\n",
       "    <tr>\n",
       "      <th>1</th>\n",
       "      <td>Staff Business Data Analyst - FDP</td>\n",
       "      <td>Intuit Inc.</td>\n",
       "      <td>Bangalore</td>\n",
       "      <td>5-7 Yrs</td>\n",
       "    </tr>\n",
       "    <tr>\n",
       "      <th>2</th>\n",
       "      <td>Data Analyst - IIM/ISB/MDI/FMS/SP Jain</td>\n",
       "      <td>K12 Techno Services Pvt Ltd</td>\n",
       "      <td>Bangalore</td>\n",
       "      <td>4-9 Yrs</td>\n",
       "    </tr>\n",
       "    <tr>\n",
       "      <th>3</th>\n",
       "      <td>Senior Data Analyst</td>\n",
       "      <td>Mobile Premier League</td>\n",
       "      <td>Bangalore</td>\n",
       "      <td>3-6 Yrs</td>\n",
       "    </tr>\n",
       "    <tr>\n",
       "      <th>4</th>\n",
       "      <td>Senior Data Analyst</td>\n",
       "      <td>Flipkart</td>\n",
       "      <td>Bangalore</td>\n",
       "      <td>3-6 Yrs</td>\n",
       "    </tr>\n",
       "    <tr>\n",
       "      <th>5</th>\n",
       "      <td>Looking For Data Analyst</td>\n",
       "      <td>Trellance</td>\n",
       "      <td>Bangalore</td>\n",
       "      <td>0-2 Yrs</td>\n",
       "    </tr>\n",
       "    <tr>\n",
       "      <th>6</th>\n",
       "      <td>Data Analyst || Advance Excel || D Limit || Co...</td>\n",
       "      <td>Inspiration Manpower Consultancy Pvt. Ltd.</td>\n",
       "      <td>Bangalore</td>\n",
       "      <td>2-4 Yrs</td>\n",
       "    </tr>\n",
       "    <tr>\n",
       "      <th>7</th>\n",
       "      <td>Data Analyst (Python, SQL, Excel)</td>\n",
       "      <td>Flipkart</td>\n",
       "      <td>Bangalore</td>\n",
       "      <td>1-2 Yrs</td>\n",
       "    </tr>\n",
       "    <tr>\n",
       "      <th>8</th>\n",
       "      <td>Data Analyst</td>\n",
       "      <td>Flipkart</td>\n",
       "      <td>Bangalore</td>\n",
       "      <td>0-1 Yrs</td>\n",
       "    </tr>\n",
       "    <tr>\n",
       "      <th>9</th>\n",
       "      <td>Data Analyst For Text / Sentiment Analysis</td>\n",
       "      <td>FUTURLYTIC PRIVATE LIMITED</td>\n",
       "      <td>Bangalore</td>\n",
       "      <td>3-7 Yrs</td>\n",
       "    </tr>\n",
       "  </tbody>\n",
       "</table>\n",
       "</div>"
      ],
      "text/plain": [
       "                                           Job Title  \\\n",
       "0  software developer & Testing / Business Analys...   \n",
       "1                  Staff Business Data Analyst - FDP   \n",
       "2             Data Analyst - IIM/ISB/MDI/FMS/SP Jain   \n",
       "3                                Senior Data Analyst   \n",
       "4                                Senior Data Analyst   \n",
       "5                           Looking For Data Analyst   \n",
       "6  Data Analyst || Advance Excel || D Limit || Co...   \n",
       "7                  Data Analyst (Python, SQL, Excel)   \n",
       "8                                       Data Analyst   \n",
       "9         Data Analyst For Text / Sentiment Analysis   \n",
       "\n",
       "                                 Company Name   Location      Exp  \n",
       "0         SECRET TECHNOLOGIES INDIA VMS GROUP  Bangalore  0-4 Yrs  \n",
       "1                                 Intuit Inc.  Bangalore  5-7 Yrs  \n",
       "2                 K12 Techno Services Pvt Ltd  Bangalore  4-9 Yrs  \n",
       "3                       Mobile Premier League  Bangalore  3-6 Yrs  \n",
       "4                                    Flipkart  Bangalore  3-6 Yrs  \n",
       "5                                   Trellance  Bangalore  0-2 Yrs  \n",
       "6  Inspiration Manpower Consultancy Pvt. Ltd.  Bangalore  2-4 Yrs  \n",
       "7                                    Flipkart  Bangalore  1-2 Yrs  \n",
       "8                                    Flipkart  Bangalore  0-1 Yrs  \n",
       "9                  FUTURLYTIC PRIVATE LIMITED  Bangalore  3-7 Yrs  "
      ]
     },
     "execution_count": 334,
     "metadata": {},
     "output_type": "execute_result"
    }
   ],
   "source": [
    "resulutDF"
   ]
  },
  {
   "cell_type": "markdown",
   "id": "fadde946",
   "metadata": {},
   "source": [
    "# Q2: Write a python program to scrape data for “Data Scientist” Job position in “Bangalore” location. You have to scrape the job-title, job-location, company_name. You have to scrape first 10 jobs data."
   ]
  },
  {
   "cell_type": "code",
   "execution_count": 346,
   "id": "4bec46e2",
   "metadata": {},
   "outputs": [],
   "source": [
    "driver = webdriver.Chrome('chromedriver.exe')\n"
   ]
  },
  {
   "cell_type": "code",
   "execution_count": 347,
   "id": "8fba824f",
   "metadata": {},
   "outputs": [],
   "source": [
    "url = 'https://www.naukri.com/'\n",
    "driver.get(url)"
   ]
  },
  {
   "cell_type": "code",
   "execution_count": 348,
   "id": "7f1c02f8",
   "metadata": {},
   "outputs": [
    {
     "data": {
      "text/plain": [
       "<selenium.webdriver.remote.webelement.WebElement (session=\"3cd1309b695065754fb743c51ea30ad6\", element=\"ac8a1bc0-342d-4724-b414-c08aa2278ec3\")>"
      ]
     },
     "execution_count": 348,
     "metadata": {},
     "output_type": "execute_result"
    }
   ],
   "source": [
    "search_job=driver.find_element_by_xpath('/html/body/div/div[2]/div[3]/div/div/div[1]/div/div/div/input')\n",
    "search_job"
   ]
  },
  {
   "cell_type": "code",
   "execution_count": 349,
   "id": "18927d3b",
   "metadata": {},
   "outputs": [],
   "source": [
    "search_job.send_keys(\"Data Scientist\")"
   ]
  },
  {
   "cell_type": "code",
   "execution_count": 350,
   "id": "cd18835c",
   "metadata": {},
   "outputs": [
    {
     "data": {
      "text/plain": [
       "<selenium.webdriver.remote.webelement.WebElement (session=\"3cd1309b695065754fb743c51ea30ad6\", element=\"f45f69f1-7e7d-43a7-85a2-0d17d43e67c1\")>"
      ]
     },
     "execution_count": 350,
     "metadata": {},
     "output_type": "execute_result"
    }
   ],
   "source": [
    "search_Loc=driver.find_element_by_xpath(\"/html/body/div/div[2]/div[3]/div/div/div[3]/div/div/div/input\")\n",
    "search_Loc"
   ]
  },
  {
   "cell_type": "code",
   "execution_count": 352,
   "id": "cd8b2bf1",
   "metadata": {},
   "outputs": [],
   "source": [
    "search_Loc.send_keys(\"Bangalore\")"
   ]
  },
  {
   "cell_type": "code",
   "execution_count": 353,
   "id": "20d54abc",
   "metadata": {},
   "outputs": [
    {
     "data": {
      "text/plain": [
       "<selenium.webdriver.remote.webelement.WebElement (session=\"3cd1309b695065754fb743c51ea30ad6\", element=\"e1ff3556-94c7-47d6-96d4-2a16ce87c2eb\")>"
      ]
     },
     "execution_count": 353,
     "metadata": {},
     "output_type": "execute_result"
    }
   ],
   "source": [
    "search_Button=driver.find_element_by_xpath(\"/html/body/div/div[2]/div[3]/div/div/div[6]\")\n",
    "search_Button"
   ]
  },
  {
   "cell_type": "code",
   "execution_count": 354,
   "id": "ae7709fe",
   "metadata": {},
   "outputs": [],
   "source": [
    "search_Button.click()"
   ]
  },
  {
   "cell_type": "code",
   "execution_count": 355,
   "id": "7756a721",
   "metadata": {},
   "outputs": [
    {
     "data": {
      "text/plain": [
       "20"
      ]
     },
     "execution_count": 355,
     "metadata": {},
     "output_type": "execute_result"
    }
   ],
   "source": [
    "title_tags = driver.find_elements_by_xpath('//a[@class=\"title fw500 ellipsis\"]')\n",
    "len(title_tags)"
   ]
  },
  {
   "cell_type": "code",
   "execution_count": 356,
   "id": "823ea99f",
   "metadata": {},
   "outputs": [
    {
     "data": {
      "text/plain": [
       "['Data Scientist / Analyst',\n",
       " 'Forecasting Analyst/ Data Scientist (US Client)',\n",
       " 'Excellent Opportunity For Freshers For AI/ML, Data Scientist, BI, QA',\n",
       " 'Data Scientist',\n",
       " 'Staff Data Scientist, Personalization',\n",
       " 'Data Scientist II- Merchandise & Discovery',\n",
       " 'Data Scientist',\n",
       " 'Senior Data Scientist',\n",
       " 'Senior Data Scientist',\n",
       " 'Senior Data Scientist']"
      ]
     },
     "execution_count": 356,
     "metadata": {},
     "output_type": "execute_result"
    }
   ],
   "source": [
    "jobTitles=[]\n",
    "for i in title_tags:\n",
    "     jobTitles.append(i.text)\n",
    "        \n",
    "jobTitles[0:10]"
   ]
  },
  {
   "cell_type": "code",
   "execution_count": 357,
   "id": "2f55479b",
   "metadata": {},
   "outputs": [
    {
     "data": {
      "text/plain": [
       "[<selenium.webdriver.remote.webelement.WebElement (session=\"3cd1309b695065754fb743c51ea30ad6\", element=\"5731353b-934f-4854-9e72-d5428a526a74\")>,\n",
       " <selenium.webdriver.remote.webelement.WebElement (session=\"3cd1309b695065754fb743c51ea30ad6\", element=\"dc67177d-6f39-43c7-ba1f-c4994f0d23b0\")>,\n",
       " <selenium.webdriver.remote.webelement.WebElement (session=\"3cd1309b695065754fb743c51ea30ad6\", element=\"15bef8a5-7a9c-4a5e-a2c6-74c1c59ced82\")>,\n",
       " <selenium.webdriver.remote.webelement.WebElement (session=\"3cd1309b695065754fb743c51ea30ad6\", element=\"f9d1d4c8-cd3c-4e32-a7e8-f67e42925f5e\")>,\n",
       " <selenium.webdriver.remote.webelement.WebElement (session=\"3cd1309b695065754fb743c51ea30ad6\", element=\"9bb2e776-ac66-4d54-a88b-faa12ebb6c97\")>,\n",
       " <selenium.webdriver.remote.webelement.WebElement (session=\"3cd1309b695065754fb743c51ea30ad6\", element=\"ea85bf01-6d3f-4b05-9192-caee04a24a05\")>,\n",
       " <selenium.webdriver.remote.webelement.WebElement (session=\"3cd1309b695065754fb743c51ea30ad6\", element=\"e39a3049-c858-4902-a198-e1ee647b569f\")>,\n",
       " <selenium.webdriver.remote.webelement.WebElement (session=\"3cd1309b695065754fb743c51ea30ad6\", element=\"8e575949-f459-4cf0-8777-c4b5275caf61\")>,\n",
       " <selenium.webdriver.remote.webelement.WebElement (session=\"3cd1309b695065754fb743c51ea30ad6\", element=\"4bd12e53-4e49-4968-bdcd-d54534457029\")>,\n",
       " <selenium.webdriver.remote.webelement.WebElement (session=\"3cd1309b695065754fb743c51ea30ad6\", element=\"1442eaf4-b447-4f37-8e89-4b739b6c91fa\")>]"
      ]
     },
     "execution_count": 357,
     "metadata": {},
     "output_type": "execute_result"
    }
   ],
   "source": [
    "CompanyNames = driver.find_elements_by_xpath('//a[@class=\"subTitle ellipsis fleft\"]')\n",
    "len(CompanyNames)\n",
    "CompanyNames[0:10]"
   ]
  },
  {
   "cell_type": "code",
   "execution_count": 57,
   "id": "1a148cc5",
   "metadata": {},
   "outputs": [
    {
     "ename": "NameError",
     "evalue": "name 'CompanyNames' is not defined",
     "output_type": "error",
     "traceback": [
      "\u001b[1;31m---------------------------------------------------------------------------\u001b[0m",
      "\u001b[1;31mNameError\u001b[0m                                 Traceback (most recent call last)",
      "\u001b[1;32m<ipython-input-57-a346bcbf099d>\u001b[0m in \u001b[0;36m<module>\u001b[1;34m\u001b[0m\n\u001b[0;32m      1\u001b[0m \u001b[0mCompanyTitles\u001b[0m\u001b[1;33m=\u001b[0m\u001b[1;33m[\u001b[0m\u001b[1;33m]\u001b[0m\u001b[1;33m\u001b[0m\u001b[1;33m\u001b[0m\u001b[0m\n\u001b[1;32m----> 2\u001b[1;33m \u001b[1;32mfor\u001b[0m \u001b[0mi\u001b[0m \u001b[1;32min\u001b[0m \u001b[0mCompanyNames\u001b[0m\u001b[1;33m:\u001b[0m\u001b[1;33m\u001b[0m\u001b[1;33m\u001b[0m\u001b[0m\n\u001b[0m\u001b[0;32m      3\u001b[0m      \u001b[0mCompanyTitles\u001b[0m\u001b[1;33m.\u001b[0m\u001b[0mappend\u001b[0m\u001b[1;33m(\u001b[0m\u001b[0mi\u001b[0m\u001b[1;33m.\u001b[0m\u001b[0mtext\u001b[0m\u001b[1;33m)\u001b[0m\u001b[1;33m\u001b[0m\u001b[1;33m\u001b[0m\u001b[0m\n\u001b[0;32m      4\u001b[0m \u001b[1;33m\u001b[0m\u001b[0m\n\u001b[0;32m      5\u001b[0m \u001b[0mCompanyTitles\u001b[0m\u001b[1;33m[\u001b[0m\u001b[1;36m0\u001b[0m\u001b[1;33m:\u001b[0m\u001b[1;36m10\u001b[0m\u001b[1;33m]\u001b[0m\u001b[1;33m\u001b[0m\u001b[1;33m\u001b[0m\u001b[0m\n",
      "\u001b[1;31mNameError\u001b[0m: name 'CompanyNames' is not defined"
     ]
    }
   ],
   "source": [
    "CompanyTitles=[]\n",
    "for i in CompanyNames:\n",
    "     CompanyTitles.append(i.text)\n",
    "        \n",
    "CompanyTitles[0:10]"
   ]
  },
  {
   "cell_type": "code",
   "execution_count": 58,
   "id": "0138db9d",
   "metadata": {},
   "outputs": [
    {
     "data": {
      "text/plain": [
       "[]"
      ]
     },
     "execution_count": 58,
     "metadata": {},
     "output_type": "execute_result"
    }
   ],
   "source": [
    "ExperienceTitle = driver.find_elements_by_xpath('//li[@class=\"fleft grey-text br2 placeHolderLi experience\"]')\n",
    "len(ExperienceTitle)\n",
    "ExperienceTitle[0:10]"
   ]
  },
  {
   "cell_type": "code",
   "execution_count": 361,
   "id": "df3eec27",
   "metadata": {},
   "outputs": [
    {
     "data": {
      "text/plain": [
       "['4-9 Yrs',\n",
       " '3-8 Yrs',\n",
       " '0-0 Yrs',\n",
       " '7-12 Yrs',\n",
       " '4-7 Yrs',\n",
       " '2-5 Yrs',\n",
       " '7-10 Yrs',\n",
       " '5-10 Yrs',\n",
       " '9-12 Yrs',\n",
       " '3-6 Yrs',\n",
       " '5-9 Yrs',\n",
       " '3-7 Yrs',\n",
       " '2-7 Yrs',\n",
       " '3-8 Yrs',\n",
       " '2-6 Yrs',\n",
       " '5-9 Yrs',\n",
       " '7-12 Yrs',\n",
       " '4-6 Yrs',\n",
       " '5-10 Yrs',\n",
       " '5-10 Yrs']"
      ]
     },
     "execution_count": 361,
     "metadata": {},
     "output_type": "execute_result"
    }
   ],
   "source": [
    "Experience=[]\n",
    "for i in ExperienceTitle:\n",
    "    Experience.append(i.text)\n",
    "        \n",
    "Experience"
   ]
  },
  {
   "cell_type": "code",
   "execution_count": 363,
   "id": "318268af",
   "metadata": {},
   "outputs": [
    {
     "data": {
      "text/html": [
       "<div>\n",
       "<style scoped>\n",
       "    .dataframe tbody tr th:only-of-type {\n",
       "        vertical-align: middle;\n",
       "    }\n",
       "\n",
       "    .dataframe tbody tr th {\n",
       "        vertical-align: top;\n",
       "    }\n",
       "\n",
       "    .dataframe thead th {\n",
       "        text-align: right;\n",
       "    }\n",
       "</style>\n",
       "<table border=\"1\" class=\"dataframe\">\n",
       "  <thead>\n",
       "    <tr style=\"text-align: right;\">\n",
       "      <th></th>\n",
       "      <th>Job Title</th>\n",
       "      <th>Company Name</th>\n",
       "      <th>Location</th>\n",
       "      <th>Exp</th>\n",
       "    </tr>\n",
       "  </thead>\n",
       "  <tbody>\n",
       "    <tr>\n",
       "      <th>0</th>\n",
       "      <td>Data Scientist / Analyst</td>\n",
       "      <td>open data fabric</td>\n",
       "      <td>Bangalore</td>\n",
       "      <td>4-9 Yrs</td>\n",
       "    </tr>\n",
       "    <tr>\n",
       "      <th>1</th>\n",
       "      <td>Forecasting Analyst/ Data Scientist (US Client)</td>\n",
       "      <td>Concentrix</td>\n",
       "      <td>Bangalore</td>\n",
       "      <td>3-8 Yrs</td>\n",
       "    </tr>\n",
       "    <tr>\n",
       "      <th>2</th>\n",
       "      <td>Excellent Opportunity For Freshers For AI/ML, ...</td>\n",
       "      <td>NTT Data</td>\n",
       "      <td>Bangalore</td>\n",
       "      <td>0-0 Yrs</td>\n",
       "    </tr>\n",
       "    <tr>\n",
       "      <th>3</th>\n",
       "      <td>Data Scientist</td>\n",
       "      <td>Amazon</td>\n",
       "      <td>Bangalore</td>\n",
       "      <td>7-12 Yrs</td>\n",
       "    </tr>\n",
       "    <tr>\n",
       "      <th>4</th>\n",
       "      <td>Staff Data Scientist, Personalization</td>\n",
       "      <td>Walmart</td>\n",
       "      <td>Bangalore</td>\n",
       "      <td>4-7 Yrs</td>\n",
       "    </tr>\n",
       "    <tr>\n",
       "      <th>5</th>\n",
       "      <td>Data Scientist II- Merchandise &amp; Discovery</td>\n",
       "      <td>Swiggy</td>\n",
       "      <td>Bangalore</td>\n",
       "      <td>2-5 Yrs</td>\n",
       "    </tr>\n",
       "    <tr>\n",
       "      <th>6</th>\n",
       "      <td>Data Scientist</td>\n",
       "      <td>Hewlett-Packard (HP)</td>\n",
       "      <td>Bangalore</td>\n",
       "      <td>7-10 Yrs</td>\n",
       "    </tr>\n",
       "    <tr>\n",
       "      <th>7</th>\n",
       "      <td>Senior Data Scientist</td>\n",
       "      <td>newscorp</td>\n",
       "      <td>Bangalore</td>\n",
       "      <td>5-10 Yrs</td>\n",
       "    </tr>\n",
       "    <tr>\n",
       "      <th>8</th>\n",
       "      <td>Senior Data Scientist</td>\n",
       "      <td>Walmart</td>\n",
       "      <td>Bangalore</td>\n",
       "      <td>9-12 Yrs</td>\n",
       "    </tr>\n",
       "    <tr>\n",
       "      <th>9</th>\n",
       "      <td>Senior Data Scientist</td>\n",
       "      <td>Precisely</td>\n",
       "      <td>Bangalore</td>\n",
       "      <td>3-6 Yrs</td>\n",
       "    </tr>\n",
       "    <tr>\n",
       "      <th>10</th>\n",
       "      <td>Virtusa Hiring DATA Scientist- PAN India</td>\n",
       "      <td>Virtusa</td>\n",
       "      <td>Bangalore</td>\n",
       "      <td>5-9 Yrs</td>\n",
       "    </tr>\n",
       "    <tr>\n",
       "      <th>11</th>\n",
       "      <td>Data Scientist</td>\n",
       "      <td>Visa</td>\n",
       "      <td>Bangalore</td>\n",
       "      <td>3-7 Yrs</td>\n",
       "    </tr>\n",
       "    <tr>\n",
       "      <th>12</th>\n",
       "      <td>Sr. Product Data Scientist</td>\n",
       "      <td>Uber</td>\n",
       "      <td>Bangalore</td>\n",
       "      <td>2-7 Yrs</td>\n",
       "    </tr>\n",
       "    <tr>\n",
       "      <th>13</th>\n",
       "      <td>Data Scientist/Senior Data Scientist - Python</td>\n",
       "      <td>ApicalGo Consultancy</td>\n",
       "      <td>Bangalore</td>\n",
       "      <td>3-8 Yrs</td>\n",
       "    </tr>\n",
       "    <tr>\n",
       "      <th>14</th>\n",
       "      <td>Senior Data Scientist - SQL/Python/Numpy</td>\n",
       "      <td>Serving Skill</td>\n",
       "      <td>Bangalore</td>\n",
       "      <td>2-6 Yrs</td>\n",
       "    </tr>\n",
       "    <tr>\n",
       "      <th>15</th>\n",
       "      <td>Senior Data Scientist</td>\n",
       "      <td>L A Consultancy</td>\n",
       "      <td>Bangalore</td>\n",
       "      <td>5-9 Yrs</td>\n",
       "    </tr>\n",
       "    <tr>\n",
       "      <th>16</th>\n",
       "      <td>Associate Solution Architect (Data Scientist)</td>\n",
       "      <td>Apisero</td>\n",
       "      <td>Bangalore</td>\n",
       "      <td>7-12 Yrs</td>\n",
       "    </tr>\n",
       "    <tr>\n",
       "      <th>17</th>\n",
       "      <td>Data Scientist</td>\n",
       "      <td>VANTAGEIQ TECHNOLOGIES (OPC) PRIVATE LIMITED</td>\n",
       "      <td>Bangalore</td>\n",
       "      <td>4-6 Yrs</td>\n",
       "    </tr>\n",
       "    <tr>\n",
       "      <th>18</th>\n",
       "      <td>Data Scientist</td>\n",
       "      <td>newscorp</td>\n",
       "      <td>Bangalore</td>\n",
       "      <td>5-10 Yrs</td>\n",
       "    </tr>\n",
       "    <tr>\n",
       "      <th>19</th>\n",
       "      <td>Data Scientist</td>\n",
       "      <td>AbbVie</td>\n",
       "      <td>Bangalore</td>\n",
       "      <td>5-10 Yrs</td>\n",
       "    </tr>\n",
       "  </tbody>\n",
       "</table>\n",
       "</div>"
      ],
      "text/plain": [
       "                                            Job Title  \\\n",
       "0                            Data Scientist / Analyst   \n",
       "1     Forecasting Analyst/ Data Scientist (US Client)   \n",
       "2   Excellent Opportunity For Freshers For AI/ML, ...   \n",
       "3                                      Data Scientist   \n",
       "4               Staff Data Scientist, Personalization   \n",
       "5          Data Scientist II- Merchandise & Discovery   \n",
       "6                                      Data Scientist   \n",
       "7                               Senior Data Scientist   \n",
       "8                               Senior Data Scientist   \n",
       "9                               Senior Data Scientist   \n",
       "10           Virtusa Hiring DATA Scientist- PAN India   \n",
       "11                                     Data Scientist   \n",
       "12                         Sr. Product Data Scientist   \n",
       "13      Data Scientist/Senior Data Scientist - Python   \n",
       "14           Senior Data Scientist - SQL/Python/Numpy   \n",
       "15                              Senior Data Scientist   \n",
       "16      Associate Solution Architect (Data Scientist)   \n",
       "17                                     Data Scientist   \n",
       "18                                     Data Scientist   \n",
       "19                                     Data Scientist   \n",
       "\n",
       "                                    Company Name   Location       Exp  \n",
       "0                               open data fabric  Bangalore   4-9 Yrs  \n",
       "1                                     Concentrix  Bangalore   3-8 Yrs  \n",
       "2                                       NTT Data  Bangalore   0-0 Yrs  \n",
       "3                                         Amazon  Bangalore  7-12 Yrs  \n",
       "4                                        Walmart  Bangalore   4-7 Yrs  \n",
       "5                                         Swiggy  Bangalore   2-5 Yrs  \n",
       "6                           Hewlett-Packard (HP)  Bangalore  7-10 Yrs  \n",
       "7                                       newscorp  Bangalore  5-10 Yrs  \n",
       "8                                        Walmart  Bangalore  9-12 Yrs  \n",
       "9                                      Precisely  Bangalore   3-6 Yrs  \n",
       "10                                       Virtusa  Bangalore   5-9 Yrs  \n",
       "11                                          Visa  Bangalore   3-7 Yrs  \n",
       "12                                          Uber  Bangalore   2-7 Yrs  \n",
       "13                          ApicalGo Consultancy  Bangalore   3-8 Yrs  \n",
       "14                                 Serving Skill  Bangalore   2-6 Yrs  \n",
       "15                               L A Consultancy  Bangalore   5-9 Yrs  \n",
       "16                                       Apisero  Bangalore  7-12 Yrs  \n",
       "17  VANTAGEIQ TECHNOLOGIES (OPC) PRIVATE LIMITED  Bangalore   4-6 Yrs  \n",
       "18                                      newscorp  Bangalore  5-10 Yrs  \n",
       "19                                        AbbVie  Bangalore  5-10 Yrs  "
      ]
     },
     "execution_count": 363,
     "metadata": {},
     "output_type": "execute_result"
    }
   ],
   "source": [
    "import pandas as pd\n",
    "df1= pd.DataFrame({\"Job Title\":jobTitles,\"Company Name\":CompanyTitles,\"Location\":\"Bangalore\",\"Exp\":Experience})\n",
    "df1"
   ]
  },
  {
   "cell_type": "code",
   "execution_count": 364,
   "id": "0ee1e511",
   "metadata": {},
   "outputs": [],
   "source": [
    "resulutDF1=df1.head(10)"
   ]
  },
  {
   "cell_type": "code",
   "execution_count": 366,
   "id": "de1cd424",
   "metadata": {},
   "outputs": [
    {
     "data": {
      "text/html": [
       "<div>\n",
       "<style scoped>\n",
       "    .dataframe tbody tr th:only-of-type {\n",
       "        vertical-align: middle;\n",
       "    }\n",
       "\n",
       "    .dataframe tbody tr th {\n",
       "        vertical-align: top;\n",
       "    }\n",
       "\n",
       "    .dataframe thead th {\n",
       "        text-align: right;\n",
       "    }\n",
       "</style>\n",
       "<table border=\"1\" class=\"dataframe\">\n",
       "  <thead>\n",
       "    <tr style=\"text-align: right;\">\n",
       "      <th></th>\n",
       "      <th>Job Title</th>\n",
       "      <th>Company Name</th>\n",
       "      <th>Location</th>\n",
       "      <th>Exp</th>\n",
       "    </tr>\n",
       "  </thead>\n",
       "  <tbody>\n",
       "    <tr>\n",
       "      <th>0</th>\n",
       "      <td>Data Scientist / Analyst</td>\n",
       "      <td>open data fabric</td>\n",
       "      <td>Bangalore</td>\n",
       "      <td>4-9 Yrs</td>\n",
       "    </tr>\n",
       "    <tr>\n",
       "      <th>1</th>\n",
       "      <td>Forecasting Analyst/ Data Scientist (US Client)</td>\n",
       "      <td>Concentrix</td>\n",
       "      <td>Bangalore</td>\n",
       "      <td>3-8 Yrs</td>\n",
       "    </tr>\n",
       "    <tr>\n",
       "      <th>2</th>\n",
       "      <td>Excellent Opportunity For Freshers For AI/ML, ...</td>\n",
       "      <td>NTT Data</td>\n",
       "      <td>Bangalore</td>\n",
       "      <td>0-0 Yrs</td>\n",
       "    </tr>\n",
       "    <tr>\n",
       "      <th>3</th>\n",
       "      <td>Data Scientist</td>\n",
       "      <td>Amazon</td>\n",
       "      <td>Bangalore</td>\n",
       "      <td>7-12 Yrs</td>\n",
       "    </tr>\n",
       "    <tr>\n",
       "      <th>4</th>\n",
       "      <td>Staff Data Scientist, Personalization</td>\n",
       "      <td>Walmart</td>\n",
       "      <td>Bangalore</td>\n",
       "      <td>4-7 Yrs</td>\n",
       "    </tr>\n",
       "    <tr>\n",
       "      <th>5</th>\n",
       "      <td>Data Scientist II- Merchandise &amp; Discovery</td>\n",
       "      <td>Swiggy</td>\n",
       "      <td>Bangalore</td>\n",
       "      <td>2-5 Yrs</td>\n",
       "    </tr>\n",
       "    <tr>\n",
       "      <th>6</th>\n",
       "      <td>Data Scientist</td>\n",
       "      <td>Hewlett-Packard (HP)</td>\n",
       "      <td>Bangalore</td>\n",
       "      <td>7-10 Yrs</td>\n",
       "    </tr>\n",
       "    <tr>\n",
       "      <th>7</th>\n",
       "      <td>Senior Data Scientist</td>\n",
       "      <td>newscorp</td>\n",
       "      <td>Bangalore</td>\n",
       "      <td>5-10 Yrs</td>\n",
       "    </tr>\n",
       "    <tr>\n",
       "      <th>8</th>\n",
       "      <td>Senior Data Scientist</td>\n",
       "      <td>Walmart</td>\n",
       "      <td>Bangalore</td>\n",
       "      <td>9-12 Yrs</td>\n",
       "    </tr>\n",
       "    <tr>\n",
       "      <th>9</th>\n",
       "      <td>Senior Data Scientist</td>\n",
       "      <td>Precisely</td>\n",
       "      <td>Bangalore</td>\n",
       "      <td>3-6 Yrs</td>\n",
       "    </tr>\n",
       "  </tbody>\n",
       "</table>\n",
       "</div>"
      ],
      "text/plain": [
       "                                           Job Title          Company Name  \\\n",
       "0                           Data Scientist / Analyst      open data fabric   \n",
       "1    Forecasting Analyst/ Data Scientist (US Client)            Concentrix   \n",
       "2  Excellent Opportunity For Freshers For AI/ML, ...              NTT Data   \n",
       "3                                     Data Scientist                Amazon   \n",
       "4              Staff Data Scientist, Personalization               Walmart   \n",
       "5         Data Scientist II- Merchandise & Discovery                Swiggy   \n",
       "6                                     Data Scientist  Hewlett-Packard (HP)   \n",
       "7                              Senior Data Scientist              newscorp   \n",
       "8                              Senior Data Scientist               Walmart   \n",
       "9                              Senior Data Scientist             Precisely   \n",
       "\n",
       "    Location       Exp  \n",
       "0  Bangalore   4-9 Yrs  \n",
       "1  Bangalore   3-8 Yrs  \n",
       "2  Bangalore   0-0 Yrs  \n",
       "3  Bangalore  7-12 Yrs  \n",
       "4  Bangalore   4-7 Yrs  \n",
       "5  Bangalore   2-5 Yrs  \n",
       "6  Bangalore  7-10 Yrs  \n",
       "7  Bangalore  5-10 Yrs  \n",
       "8  Bangalore  9-12 Yrs  \n",
       "9  Bangalore   3-6 Yrs  "
      ]
     },
     "execution_count": 366,
     "metadata": {},
     "output_type": "execute_result"
    }
   ],
   "source": [
    "resulutDF1"
   ]
  },
  {
   "cell_type": "markdown",
   "id": "3f4f3064",
   "metadata": {},
   "source": [
    "# Q3: In this question you have to scrape data using the filters available on the webpage as shown"
   ]
  },
  {
   "cell_type": "code",
   "execution_count": 391,
   "id": "ee77c953",
   "metadata": {},
   "outputs": [],
   "source": [
    "driver = webdriver.Chrome('chromedriver.exe')\n"
   ]
  },
  {
   "cell_type": "code",
   "execution_count": 392,
   "id": "2c10f088",
   "metadata": {},
   "outputs": [],
   "source": [
    "url = 'https://www.naukri.com/'\n",
    "driver.get(url)"
   ]
  },
  {
   "cell_type": "code",
   "execution_count": 393,
   "id": "de3c8ec1",
   "metadata": {},
   "outputs": [
    {
     "data": {
      "text/plain": [
       "<selenium.webdriver.remote.webelement.WebElement (session=\"ac12c33fc85c931db2e95837c44ef601\", element=\"ec8f2e36-35b7-43eb-8771-d4d1330ee3f1\")>"
      ]
     },
     "execution_count": 393,
     "metadata": {},
     "output_type": "execute_result"
    }
   ],
   "source": [
    "search_job=driver.find_element_by_xpath('/html/body/div/div[2]/div[3]/div/div/div[1]/div/div/div/input')\n",
    "search_job"
   ]
  },
  {
   "cell_type": "code",
   "execution_count": 394,
   "id": "5015fa64",
   "metadata": {},
   "outputs": [],
   "source": [
    "search_job.send_keys(\"Data Scientist\")"
   ]
  },
  {
   "cell_type": "code",
   "execution_count": 395,
   "id": "1b41c9dc",
   "metadata": {},
   "outputs": [
    {
     "data": {
      "text/plain": [
       "<selenium.webdriver.remote.webelement.WebElement (session=\"ac12c33fc85c931db2e95837c44ef601\", element=\"912593d4-ebac-4e97-b1e2-adfb477e194d\")>"
      ]
     },
     "execution_count": 395,
     "metadata": {},
     "output_type": "execute_result"
    }
   ],
   "source": [
    "search_Loc=driver.find_element_by_xpath(\"/html/body/div/div[2]/div[3]/div/div/div[3]/div/div/div/input\")\n",
    "search_Loc"
   ]
  },
  {
   "cell_type": "code",
   "execution_count": 396,
   "id": "28cee343",
   "metadata": {},
   "outputs": [],
   "source": [
    "search_Loc.send_keys(\"Delhi/NCR\")"
   ]
  },
  {
   "cell_type": "code",
   "execution_count": 397,
   "id": "6c00f997",
   "metadata": {},
   "outputs": [
    {
     "data": {
      "text/plain": [
       "<selenium.webdriver.remote.webelement.WebElement (session=\"ac12c33fc85c931db2e95837c44ef601\", element=\"803bc18c-03ae-4bcc-9f61-87830679d5f0\")>"
      ]
     },
     "execution_count": 397,
     "metadata": {},
     "output_type": "execute_result"
    }
   ],
   "source": [
    "search_Button=driver.find_element_by_xpath(\"/html/body/div/div[2]/div[3]/div/div/div[6]\")\n",
    "search_Button"
   ]
  },
  {
   "cell_type": "code",
   "execution_count": 398,
   "id": "c6f64930",
   "metadata": {},
   "outputs": [],
   "source": [
    "search_Button.click()  "
   ]
  },
  {
   "cell_type": "code",
   "execution_count": 399,
   "id": "e18e84b5",
   "metadata": {},
   "outputs": [
    {
     "data": {
      "text/plain": [
       "<selenium.webdriver.remote.webelement.WebElement (session=\"ac12c33fc85c931db2e95837c44ef601\", element=\"07f27894-1fd2-40e0-9d6f-2615fd1a71f8\")>"
      ]
     },
     "execution_count": 399,
     "metadata": {},
     "output_type": "execute_result"
    }
   ],
   "source": [
    "search_CheckBox=driver.find_element_by_xpath(\"/html/body/div[1]/div[3]/div[2]/section[1]/div[2]/div[4]/div[2]/div[2]/label/i\")\n",
    "search_CheckBox"
   ]
  },
  {
   "cell_type": "code",
   "execution_count": 400,
   "id": "f4551988",
   "metadata": {},
   "outputs": [],
   "source": [
    "search_CheckBox.click() "
   ]
  },
  {
   "cell_type": "code",
   "execution_count": 401,
   "id": "6cdd6a85",
   "metadata": {},
   "outputs": [
    {
     "data": {
      "text/plain": [
       "20"
      ]
     },
     "execution_count": 401,
     "metadata": {},
     "output_type": "execute_result"
    }
   ],
   "source": [
    "title_tags = driver.find_elements_by_xpath('//a[@class=\"title fw500 ellipsis\"]')\n",
    "len(title_tags)"
   ]
  },
  {
   "cell_type": "code",
   "execution_count": 402,
   "id": "84e0bd2b",
   "metadata": {},
   "outputs": [
    {
     "data": {
      "text/plain": [
       "['Excellent Opportunity For Freshers For AI/ML, Data Scientist, BI, QA',\n",
       " 'Junior Data Analyst/ Scientist- Fresher Position',\n",
       " 'Lead Data Scientist',\n",
       " 'Data Scientist',\n",
       " 'Data Scientist - MIND Infotech',\n",
       " 'Data Scientist - MIND Infotech',\n",
       " 'Hiring For Data Scientist',\n",
       " 'Open Project | IT Consulting | Data Scientist',\n",
       " 'Data Scientist (freelance)',\n",
       " 'Data Scientist']"
      ]
     },
     "execution_count": 402,
     "metadata": {},
     "output_type": "execute_result"
    }
   ],
   "source": [
    "jobTitles=[]\n",
    "for i in title_tags:\n",
    "     jobTitles.append(i.text)\n",
    "        \n",
    "jobTitles[0:10]"
   ]
  },
  {
   "cell_type": "code",
   "execution_count": 404,
   "id": "aecae49c",
   "metadata": {},
   "outputs": [
    {
     "data": {
      "text/plain": [
       "[<selenium.webdriver.remote.webelement.WebElement (session=\"ac12c33fc85c931db2e95837c44ef601\", element=\"ab974be8-caba-4c82-be46-0aeaffadcffe\")>,\n",
       " <selenium.webdriver.remote.webelement.WebElement (session=\"ac12c33fc85c931db2e95837c44ef601\", element=\"7f993379-7c5a-4ad0-af59-cca61e1c6bf5\")>,\n",
       " <selenium.webdriver.remote.webelement.WebElement (session=\"ac12c33fc85c931db2e95837c44ef601\", element=\"12b30d5b-015a-4275-9c4d-7552714e303a\")>,\n",
       " <selenium.webdriver.remote.webelement.WebElement (session=\"ac12c33fc85c931db2e95837c44ef601\", element=\"ef0692d1-037e-40e2-abdb-6c2719614d3e\")>,\n",
       " <selenium.webdriver.remote.webelement.WebElement (session=\"ac12c33fc85c931db2e95837c44ef601\", element=\"601c065c-a67f-4f01-82a2-e4d7940f88df\")>,\n",
       " <selenium.webdriver.remote.webelement.WebElement (session=\"ac12c33fc85c931db2e95837c44ef601\", element=\"24107ae5-ed1a-4234-b18a-24721de37c62\")>,\n",
       " <selenium.webdriver.remote.webelement.WebElement (session=\"ac12c33fc85c931db2e95837c44ef601\", element=\"d04ab2a6-1a97-4d70-a16b-e826e31519e5\")>,\n",
       " <selenium.webdriver.remote.webelement.WebElement (session=\"ac12c33fc85c931db2e95837c44ef601\", element=\"02cb890c-2939-46ff-b3b5-da50f623049f\")>,\n",
       " <selenium.webdriver.remote.webelement.WebElement (session=\"ac12c33fc85c931db2e95837c44ef601\", element=\"0003788c-d2f8-4876-9425-cf72aad50075\")>,\n",
       " <selenium.webdriver.remote.webelement.WebElement (session=\"ac12c33fc85c931db2e95837c44ef601\", element=\"23bf1a67-dbf0-4cf3-a2bc-19700c66fdd5\")>]"
      ]
     },
     "execution_count": 404,
     "metadata": {},
     "output_type": "execute_result"
    }
   ],
   "source": [
    "CompanyNames = driver.find_elements_by_xpath('//a[@class=\"subTitle ellipsis fleft\"]')\n",
    "len(CompanyNames)\n",
    "CompanyNames[0:10]"
   ]
  },
  {
   "cell_type": "code",
   "execution_count": 405,
   "id": "9c263aa4",
   "metadata": {},
   "outputs": [
    {
     "data": {
      "text/plain": [
       "['NTT Data',\n",
       " 'Sejal Consulting Hub',\n",
       " 'Indihire HR Consultants Private Limited',\n",
       " 'Optum',\n",
       " 'MOTHERSONSUMI INFOTECH & DESIGNS LIMITED',\n",
       " 'MOTHERSONSUMI INFOTECH & DESIGNS LIMITED',\n",
       " 'Lumiq.ai',\n",
       " 'Virtuoso Staffing Solutions Pvt Ltd',\n",
       " '2Coms',\n",
       " 'CHANGE LEADERS CONSULTING']"
      ]
     },
     "execution_count": 405,
     "metadata": {},
     "output_type": "execute_result"
    }
   ],
   "source": [
    "CompanyTitles=[]\n",
    "for i in CompanyNames:\n",
    "     CompanyTitles.append(i.text)\n",
    "        \n",
    "CompanyTitles[0:10]"
   ]
  },
  {
   "cell_type": "code",
   "execution_count": 406,
   "id": "9ecc59a7",
   "metadata": {},
   "outputs": [
    {
     "data": {
      "text/plain": [
       "[<selenium.webdriver.remote.webelement.WebElement (session=\"ac12c33fc85c931db2e95837c44ef601\", element=\"1596d596-e68d-4594-93c8-ef0ff9935b59\")>,\n",
       " <selenium.webdriver.remote.webelement.WebElement (session=\"ac12c33fc85c931db2e95837c44ef601\", element=\"d36e1b85-33a9-4da3-8b16-d13be0fc2302\")>,\n",
       " <selenium.webdriver.remote.webelement.WebElement (session=\"ac12c33fc85c931db2e95837c44ef601\", element=\"ea5c79b9-0a78-48ae-863c-e07cca7d427e\")>,\n",
       " <selenium.webdriver.remote.webelement.WebElement (session=\"ac12c33fc85c931db2e95837c44ef601\", element=\"3b4b2807-e8a4-4b63-af2b-729c25741ede\")>,\n",
       " <selenium.webdriver.remote.webelement.WebElement (session=\"ac12c33fc85c931db2e95837c44ef601\", element=\"69268729-25d9-445a-bb19-818b9388ee5b\")>,\n",
       " <selenium.webdriver.remote.webelement.WebElement (session=\"ac12c33fc85c931db2e95837c44ef601\", element=\"1e11d5b2-95bc-47ef-8791-63a5833db152\")>,\n",
       " <selenium.webdriver.remote.webelement.WebElement (session=\"ac12c33fc85c931db2e95837c44ef601\", element=\"1a4299ca-d477-46e7-86a9-742d652fdaa3\")>,\n",
       " <selenium.webdriver.remote.webelement.WebElement (session=\"ac12c33fc85c931db2e95837c44ef601\", element=\"8b7fb36c-61fc-4792-b6d1-c06527fcfcaf\")>,\n",
       " <selenium.webdriver.remote.webelement.WebElement (session=\"ac12c33fc85c931db2e95837c44ef601\", element=\"f0587d5c-5597-4f0e-b532-d80aa6f5d5a6\")>,\n",
       " <selenium.webdriver.remote.webelement.WebElement (session=\"ac12c33fc85c931db2e95837c44ef601\", element=\"eb81a0b9-c03d-4732-ae14-b919df2851a0\")>]"
      ]
     },
     "execution_count": 406,
     "metadata": {},
     "output_type": "execute_result"
    }
   ],
   "source": [
    "ExperienceTitle = driver.find_elements_by_xpath('//li[@class=\"fleft grey-text br2 placeHolderLi experience\"]')\n",
    "len(ExperienceTitle)\n",
    "ExperienceTitle[0:10]"
   ]
  },
  {
   "cell_type": "code",
   "execution_count": 407,
   "id": "57fadc59",
   "metadata": {},
   "outputs": [
    {
     "data": {
      "text/plain": [
       "['0-0 Yrs',\n",
       " '0-3 Yrs',\n",
       " '2-4 Yrs',\n",
       " '2-6 Yrs',\n",
       " '4-8 Yrs',\n",
       " '4-8 Yrs',\n",
       " '2-7 Yrs',\n",
       " '5-10 Yrs',\n",
       " '2-7 Yrs',\n",
       " '3-8 Yrs',\n",
       " '3-8 Yrs',\n",
       " '1-5 Yrs',\n",
       " '2-5 Yrs',\n",
       " '3-8 Yrs',\n",
       " '1-6 Yrs',\n",
       " '3-7 Yrs',\n",
       " '1-3 Yrs',\n",
       " '2-5 Yrs',\n",
       " '2-6 Yrs',\n",
       " '2-6 Yrs']"
      ]
     },
     "execution_count": 407,
     "metadata": {},
     "output_type": "execute_result"
    }
   ],
   "source": [
    "Experience=[]\n",
    "for i in ExperienceTitle:\n",
    "    Experience.append(i.text)\n",
    "        \n",
    "Experience"
   ]
  },
  {
   "cell_type": "code",
   "execution_count": 408,
   "id": "56150c51",
   "metadata": {},
   "outputs": [
    {
     "data": {
      "text/html": [
       "<div>\n",
       "<style scoped>\n",
       "    .dataframe tbody tr th:only-of-type {\n",
       "        vertical-align: middle;\n",
       "    }\n",
       "\n",
       "    .dataframe tbody tr th {\n",
       "        vertical-align: top;\n",
       "    }\n",
       "\n",
       "    .dataframe thead th {\n",
       "        text-align: right;\n",
       "    }\n",
       "</style>\n",
       "<table border=\"1\" class=\"dataframe\">\n",
       "  <thead>\n",
       "    <tr style=\"text-align: right;\">\n",
       "      <th></th>\n",
       "      <th>Job Title</th>\n",
       "      <th>Company Name</th>\n",
       "      <th>Location</th>\n",
       "      <th>Exp</th>\n",
       "    </tr>\n",
       "  </thead>\n",
       "  <tbody>\n",
       "    <tr>\n",
       "      <th>0</th>\n",
       "      <td>Excellent Opportunity For Freshers For AI/ML, ...</td>\n",
       "      <td>NTT Data</td>\n",
       "      <td>Delhi/NCR</td>\n",
       "      <td>0-0 Yrs</td>\n",
       "    </tr>\n",
       "    <tr>\n",
       "      <th>1</th>\n",
       "      <td>Junior Data Analyst/ Scientist- Fresher Position</td>\n",
       "      <td>Sejal Consulting Hub</td>\n",
       "      <td>Delhi/NCR</td>\n",
       "      <td>0-3 Yrs</td>\n",
       "    </tr>\n",
       "    <tr>\n",
       "      <th>2</th>\n",
       "      <td>Lead Data Scientist</td>\n",
       "      <td>Indihire HR Consultants Private Limited</td>\n",
       "      <td>Delhi/NCR</td>\n",
       "      <td>2-4 Yrs</td>\n",
       "    </tr>\n",
       "    <tr>\n",
       "      <th>3</th>\n",
       "      <td>Data Scientist</td>\n",
       "      <td>Optum</td>\n",
       "      <td>Delhi/NCR</td>\n",
       "      <td>2-6 Yrs</td>\n",
       "    </tr>\n",
       "    <tr>\n",
       "      <th>4</th>\n",
       "      <td>Data Scientist - MIND Infotech</td>\n",
       "      <td>MOTHERSONSUMI INFOTECH &amp; DESIGNS LIMITED</td>\n",
       "      <td>Delhi/NCR</td>\n",
       "      <td>4-8 Yrs</td>\n",
       "    </tr>\n",
       "    <tr>\n",
       "      <th>5</th>\n",
       "      <td>Data Scientist - MIND Infotech</td>\n",
       "      <td>MOTHERSONSUMI INFOTECH &amp; DESIGNS LIMITED</td>\n",
       "      <td>Delhi/NCR</td>\n",
       "      <td>4-8 Yrs</td>\n",
       "    </tr>\n",
       "    <tr>\n",
       "      <th>6</th>\n",
       "      <td>Hiring For Data Scientist</td>\n",
       "      <td>Lumiq.ai</td>\n",
       "      <td>Delhi/NCR</td>\n",
       "      <td>2-7 Yrs</td>\n",
       "    </tr>\n",
       "    <tr>\n",
       "      <th>7</th>\n",
       "      <td>Open Project | IT Consulting | Data Scientist</td>\n",
       "      <td>Virtuoso Staffing Solutions Pvt Ltd</td>\n",
       "      <td>Delhi/NCR</td>\n",
       "      <td>5-10 Yrs</td>\n",
       "    </tr>\n",
       "    <tr>\n",
       "      <th>8</th>\n",
       "      <td>Data Scientist (freelance)</td>\n",
       "      <td>2Coms</td>\n",
       "      <td>Delhi/NCR</td>\n",
       "      <td>2-7 Yrs</td>\n",
       "    </tr>\n",
       "    <tr>\n",
       "      <th>9</th>\n",
       "      <td>Data Scientist</td>\n",
       "      <td>CHANGE LEADERS CONSULTING</td>\n",
       "      <td>Delhi/NCR</td>\n",
       "      <td>3-8 Yrs</td>\n",
       "    </tr>\n",
       "    <tr>\n",
       "      <th>10</th>\n",
       "      <td>Urgent Requirement || Data Scientist || Noida</td>\n",
       "      <td>HCL</td>\n",
       "      <td>Delhi/NCR</td>\n",
       "      <td>3-8 Yrs</td>\n",
       "    </tr>\n",
       "    <tr>\n",
       "      <th>11</th>\n",
       "      <td>Senior Data Scientist</td>\n",
       "      <td>iNICU</td>\n",
       "      <td>Delhi/NCR</td>\n",
       "      <td>1-5 Yrs</td>\n",
       "    </tr>\n",
       "    <tr>\n",
       "      <th>12</th>\n",
       "      <td>Data Scientist</td>\n",
       "      <td>Boston Consulting Group</td>\n",
       "      <td>Delhi/NCR</td>\n",
       "      <td>2-5 Yrs</td>\n",
       "    </tr>\n",
       "    <tr>\n",
       "      <th>13</th>\n",
       "      <td>Data Scientist</td>\n",
       "      <td>Stefanini</td>\n",
       "      <td>Delhi/NCR</td>\n",
       "      <td>3-8 Yrs</td>\n",
       "    </tr>\n",
       "    <tr>\n",
       "      <th>14</th>\n",
       "      <td>Lead Data Scientist - KYC/Fraud/Marketing</td>\n",
       "      <td>Tide Software</td>\n",
       "      <td>Delhi/NCR</td>\n",
       "      <td>1-6 Yrs</td>\n",
       "    </tr>\n",
       "    <tr>\n",
       "      <th>15</th>\n",
       "      <td>Data Scientist</td>\n",
       "      <td>BlackBuck</td>\n",
       "      <td>Delhi/NCR</td>\n",
       "      <td>3-7 Yrs</td>\n",
       "    </tr>\n",
       "    <tr>\n",
       "      <th>16</th>\n",
       "      <td>Data Scientist</td>\n",
       "      <td>Country Veggie</td>\n",
       "      <td>Delhi/NCR</td>\n",
       "      <td>1-3 Yrs</td>\n",
       "    </tr>\n",
       "    <tr>\n",
       "      <th>17</th>\n",
       "      <td>Data Scientist</td>\n",
       "      <td>NAVIKENZ INDIA PRIVATE LIMITED</td>\n",
       "      <td>Delhi/NCR</td>\n",
       "      <td>2-5 Yrs</td>\n",
       "    </tr>\n",
       "    <tr>\n",
       "      <th>18</th>\n",
       "      <td>Data Scientist/Senior Scientist - Python/Spark...</td>\n",
       "      <td>Connexions</td>\n",
       "      <td>Delhi/NCR</td>\n",
       "      <td>2-6 Yrs</td>\n",
       "    </tr>\n",
       "    <tr>\n",
       "      <th>19</th>\n",
       "      <td>Data Scientist</td>\n",
       "      <td>Mahajan Imaging</td>\n",
       "      <td>Delhi/NCR</td>\n",
       "      <td>2-6 Yrs</td>\n",
       "    </tr>\n",
       "  </tbody>\n",
       "</table>\n",
       "</div>"
      ],
      "text/plain": [
       "                                            Job Title  \\\n",
       "0   Excellent Opportunity For Freshers For AI/ML, ...   \n",
       "1    Junior Data Analyst/ Scientist- Fresher Position   \n",
       "2                                 Lead Data Scientist   \n",
       "3                                      Data Scientist   \n",
       "4                      Data Scientist - MIND Infotech   \n",
       "5                      Data Scientist - MIND Infotech   \n",
       "6                           Hiring For Data Scientist   \n",
       "7       Open Project | IT Consulting | Data Scientist   \n",
       "8                          Data Scientist (freelance)   \n",
       "9                                      Data Scientist   \n",
       "10      Urgent Requirement || Data Scientist || Noida   \n",
       "11                              Senior Data Scientist   \n",
       "12                                     Data Scientist   \n",
       "13                                     Data Scientist   \n",
       "14          Lead Data Scientist - KYC/Fraud/Marketing   \n",
       "15                                     Data Scientist   \n",
       "16                                     Data Scientist   \n",
       "17                                     Data Scientist   \n",
       "18  Data Scientist/Senior Scientist - Python/Spark...   \n",
       "19                                     Data Scientist   \n",
       "\n",
       "                                Company Name   Location       Exp  \n",
       "0                                   NTT Data  Delhi/NCR   0-0 Yrs  \n",
       "1                       Sejal Consulting Hub  Delhi/NCR   0-3 Yrs  \n",
       "2    Indihire HR Consultants Private Limited  Delhi/NCR   2-4 Yrs  \n",
       "3                                      Optum  Delhi/NCR   2-6 Yrs  \n",
       "4   MOTHERSONSUMI INFOTECH & DESIGNS LIMITED  Delhi/NCR   4-8 Yrs  \n",
       "5   MOTHERSONSUMI INFOTECH & DESIGNS LIMITED  Delhi/NCR   4-8 Yrs  \n",
       "6                                   Lumiq.ai  Delhi/NCR   2-7 Yrs  \n",
       "7        Virtuoso Staffing Solutions Pvt Ltd  Delhi/NCR  5-10 Yrs  \n",
       "8                                      2Coms  Delhi/NCR   2-7 Yrs  \n",
       "9                  CHANGE LEADERS CONSULTING  Delhi/NCR   3-8 Yrs  \n",
       "10                                       HCL  Delhi/NCR   3-8 Yrs  \n",
       "11                                     iNICU  Delhi/NCR   1-5 Yrs  \n",
       "12                   Boston Consulting Group  Delhi/NCR   2-5 Yrs  \n",
       "13                                 Stefanini  Delhi/NCR   3-8 Yrs  \n",
       "14                             Tide Software  Delhi/NCR   1-6 Yrs  \n",
       "15                                 BlackBuck  Delhi/NCR   3-7 Yrs  \n",
       "16                            Country Veggie  Delhi/NCR   1-3 Yrs  \n",
       "17            NAVIKENZ INDIA PRIVATE LIMITED  Delhi/NCR   2-5 Yrs  \n",
       "18                                Connexions  Delhi/NCR   2-6 Yrs  \n",
       "19                           Mahajan Imaging  Delhi/NCR   2-6 Yrs  "
      ]
     },
     "execution_count": 408,
     "metadata": {},
     "output_type": "execute_result"
    }
   ],
   "source": [
    "import pandas as pd\n",
    "df2= pd.DataFrame({\"Job Title\":jobTitles,\"Company Name\":CompanyTitles,\"Location\":\"Delhi/NCR\",\"Exp\":Experience})\n",
    "df2"
   ]
  },
  {
   "cell_type": "code",
   "execution_count": 409,
   "id": "1e5a386e",
   "metadata": {},
   "outputs": [],
   "source": [
    "resulutDF2=df1.head(10)"
   ]
  },
  {
   "cell_type": "code",
   "execution_count": 410,
   "id": "fddfe70c",
   "metadata": {},
   "outputs": [
    {
     "data": {
      "text/html": [
       "<div>\n",
       "<style scoped>\n",
       "    .dataframe tbody tr th:only-of-type {\n",
       "        vertical-align: middle;\n",
       "    }\n",
       "\n",
       "    .dataframe tbody tr th {\n",
       "        vertical-align: top;\n",
       "    }\n",
       "\n",
       "    .dataframe thead th {\n",
       "        text-align: right;\n",
       "    }\n",
       "</style>\n",
       "<table border=\"1\" class=\"dataframe\">\n",
       "  <thead>\n",
       "    <tr style=\"text-align: right;\">\n",
       "      <th></th>\n",
       "      <th>Job Title</th>\n",
       "      <th>Company Name</th>\n",
       "      <th>Location</th>\n",
       "      <th>Exp</th>\n",
       "    </tr>\n",
       "  </thead>\n",
       "  <tbody>\n",
       "    <tr>\n",
       "      <th>0</th>\n",
       "      <td>Data Scientist / Analyst</td>\n",
       "      <td>open data fabric</td>\n",
       "      <td>Bangalore</td>\n",
       "      <td>4-9 Yrs</td>\n",
       "    </tr>\n",
       "    <tr>\n",
       "      <th>1</th>\n",
       "      <td>Forecasting Analyst/ Data Scientist (US Client)</td>\n",
       "      <td>Concentrix</td>\n",
       "      <td>Bangalore</td>\n",
       "      <td>3-8 Yrs</td>\n",
       "    </tr>\n",
       "    <tr>\n",
       "      <th>2</th>\n",
       "      <td>Excellent Opportunity For Freshers For AI/ML, ...</td>\n",
       "      <td>NTT Data</td>\n",
       "      <td>Bangalore</td>\n",
       "      <td>0-0 Yrs</td>\n",
       "    </tr>\n",
       "    <tr>\n",
       "      <th>3</th>\n",
       "      <td>Data Scientist</td>\n",
       "      <td>Amazon</td>\n",
       "      <td>Bangalore</td>\n",
       "      <td>7-12 Yrs</td>\n",
       "    </tr>\n",
       "    <tr>\n",
       "      <th>4</th>\n",
       "      <td>Staff Data Scientist, Personalization</td>\n",
       "      <td>Walmart</td>\n",
       "      <td>Bangalore</td>\n",
       "      <td>4-7 Yrs</td>\n",
       "    </tr>\n",
       "    <tr>\n",
       "      <th>5</th>\n",
       "      <td>Data Scientist II- Merchandise &amp; Discovery</td>\n",
       "      <td>Swiggy</td>\n",
       "      <td>Bangalore</td>\n",
       "      <td>2-5 Yrs</td>\n",
       "    </tr>\n",
       "    <tr>\n",
       "      <th>6</th>\n",
       "      <td>Data Scientist</td>\n",
       "      <td>Hewlett-Packard (HP)</td>\n",
       "      <td>Bangalore</td>\n",
       "      <td>7-10 Yrs</td>\n",
       "    </tr>\n",
       "    <tr>\n",
       "      <th>7</th>\n",
       "      <td>Senior Data Scientist</td>\n",
       "      <td>newscorp</td>\n",
       "      <td>Bangalore</td>\n",
       "      <td>5-10 Yrs</td>\n",
       "    </tr>\n",
       "    <tr>\n",
       "      <th>8</th>\n",
       "      <td>Senior Data Scientist</td>\n",
       "      <td>Walmart</td>\n",
       "      <td>Bangalore</td>\n",
       "      <td>9-12 Yrs</td>\n",
       "    </tr>\n",
       "    <tr>\n",
       "      <th>9</th>\n",
       "      <td>Senior Data Scientist</td>\n",
       "      <td>Precisely</td>\n",
       "      <td>Bangalore</td>\n",
       "      <td>3-6 Yrs</td>\n",
       "    </tr>\n",
       "  </tbody>\n",
       "</table>\n",
       "</div>"
      ],
      "text/plain": [
       "                                           Job Title          Company Name  \\\n",
       "0                           Data Scientist / Analyst      open data fabric   \n",
       "1    Forecasting Analyst/ Data Scientist (US Client)            Concentrix   \n",
       "2  Excellent Opportunity For Freshers For AI/ML, ...              NTT Data   \n",
       "3                                     Data Scientist                Amazon   \n",
       "4              Staff Data Scientist, Personalization               Walmart   \n",
       "5         Data Scientist II- Merchandise & Discovery                Swiggy   \n",
       "6                                     Data Scientist  Hewlett-Packard (HP)   \n",
       "7                              Senior Data Scientist              newscorp   \n",
       "8                              Senior Data Scientist               Walmart   \n",
       "9                              Senior Data Scientist             Precisely   \n",
       "\n",
       "    Location       Exp  \n",
       "0  Bangalore   4-9 Yrs  \n",
       "1  Bangalore   3-8 Yrs  \n",
       "2  Bangalore   0-0 Yrs  \n",
       "3  Bangalore  7-12 Yrs  \n",
       "4  Bangalore   4-7 Yrs  \n",
       "5  Bangalore   2-5 Yrs  \n",
       "6  Bangalore  7-10 Yrs  \n",
       "7  Bangalore  5-10 Yrs  \n",
       "8  Bangalore  9-12 Yrs  \n",
       "9  Bangalore   3-6 Yrs  "
      ]
     },
     "execution_count": 410,
     "metadata": {},
     "output_type": "execute_result"
    }
   ],
   "source": [
    "resulutDF2"
   ]
  },
  {
   "cell_type": "markdown",
   "id": "84dcef3c",
   "metadata": {},
   "source": [
    "# Q4: Scrape data of first 100 sunglasses listings on flipkart.com."
   ]
  },
  {
   "cell_type": "code",
   "execution_count": 46,
   "id": "503cd561",
   "metadata": {},
   "outputs": [],
   "source": [
    "driver = webdriver.Chrome('chromedriver.exe')\n"
   ]
  },
  {
   "cell_type": "code",
   "execution_count": 47,
   "id": "4fff9d7c",
   "metadata": {},
   "outputs": [],
   "source": [
    "url = 'https://www.flipkart.com/'\n",
    "driver.get(url)"
   ]
  },
  {
   "cell_type": "code",
   "execution_count": 48,
   "id": "4a36304e",
   "metadata": {},
   "outputs": [
    {
     "data": {
      "text/plain": [
       "<selenium.webdriver.remote.webelement.WebElement (session=\"d700897a64bb3f231484ba3534f29843\", element=\"06b550fb-b30a-4a1d-87f4-de5b7ecf748f\")>"
      ]
     },
     "execution_count": 48,
     "metadata": {},
     "output_type": "execute_result"
    }
   ],
   "source": [
    "search_product=driver.find_element_by_xpath('/html/body/div[1]/div/div[1]/div[1]/div[2]/div[2]/form/div/div/input')\n",
    "search_product"
   ]
  },
  {
   "cell_type": "code",
   "execution_count": 49,
   "id": "c4d8c2b7",
   "metadata": {},
   "outputs": [],
   "source": [
    "search_product.send_keys(\"sunglasses\")  "
   ]
  },
  {
   "cell_type": "code",
   "execution_count": 51,
   "id": "1aaad392",
   "metadata": {},
   "outputs": [
    {
     "data": {
      "text/plain": [
       "40"
      ]
     },
     "execution_count": 51,
     "metadata": {},
     "output_type": "execute_result"
    }
   ],
   "source": [
    "Brand_tags = driver.find_elements_by_xpath('//div[@class=\"_2WkVRV\"]')\n",
    "len(Brand_tags)"
   ]
  },
  {
   "cell_type": "code",
   "execution_count": 52,
   "id": "80e1a61d",
   "metadata": {},
   "outputs": [
    {
     "data": {
      "text/plain": [
       "['ROZZETTA CRAFT',\n",
       " 'SKYZA INDIA',\n",
       " 'SRPM',\n",
       " 'SUNBEE',\n",
       " 'Elligator',\n",
       " 'PIRASO',\n",
       " 'Fastrack',\n",
       " 'AISLIN',\n",
       " 'New Specs',\n",
       " 'DEIXELS',\n",
       " 'SHAAH COLLECTIONS',\n",
       " 'ROZZETTA CRAFT',\n",
       " 'hipe',\n",
       " 'Fastrack',\n",
       " 'SRPM',\n",
       " 'Sewell',\n",
       " 'SUNBEE',\n",
       " 'Lee Topper',\n",
       " 'PIRASO',\n",
       " 'AISLIN',\n",
       " 'PIRASO',\n",
       " 'PIRASO',\n",
       " 'kingsunglasses',\n",
       " 'ZOSTAL',\n",
       " 'kingsunglasses',\n",
       " 'GANSTA',\n",
       " 'Lee Topper',\n",
       " 'Fair-x',\n",
       " 'ROYAL SON',\n",
       " 'SHAAH COLLECTIONS',\n",
       " 'kingsunglasses',\n",
       " 'HAMIW COLLECTION',\n",
       " 'Elligator',\n",
       " 'Silver Kartz',\n",
       " 'Elligator',\n",
       " 'Sewell']"
      ]
     },
     "execution_count": 52,
     "metadata": {},
     "output_type": "execute_result"
    }
   ],
   "source": [
    "BrandName=[]\n",
    "for i in Brand_tags:\n",
    "     BrandName.append(i.text)\n",
    "        \n",
    "BrandName[0:36]"
   ]
  },
  {
   "cell_type": "code",
   "execution_count": 53,
   "id": "efd05159",
   "metadata": {},
   "outputs": [
    {
     "data": {
      "text/plain": [
       "[<selenium.webdriver.remote.webelement.WebElement (session=\"d700897a64bb3f231484ba3534f29843\", element=\"25ef003a-f5cf-47eb-9173-32cdda5d1427\")>,\n",
       " <selenium.webdriver.remote.webelement.WebElement (session=\"d700897a64bb3f231484ba3534f29843\", element=\"a5b07ce8-a35b-436f-9309-9413c1e13c7d\")>,\n",
       " <selenium.webdriver.remote.webelement.WebElement (session=\"d700897a64bb3f231484ba3534f29843\", element=\"75609a68-fb8c-4686-8b1b-01a79cc58906\")>,\n",
       " <selenium.webdriver.remote.webelement.WebElement (session=\"d700897a64bb3f231484ba3534f29843\", element=\"ca2e6a00-2385-4dc6-9a2e-90baf0d1fad0\")>,\n",
       " <selenium.webdriver.remote.webelement.WebElement (session=\"d700897a64bb3f231484ba3534f29843\", element=\"ae224e43-aed8-4390-aefa-4c9a34d0181d\")>,\n",
       " <selenium.webdriver.remote.webelement.WebElement (session=\"d700897a64bb3f231484ba3534f29843\", element=\"cc23cbf1-1e5f-44d6-8276-77761e5d1da4\")>,\n",
       " <selenium.webdriver.remote.webelement.WebElement (session=\"d700897a64bb3f231484ba3534f29843\", element=\"84e1d6d3-a281-49c5-80e1-48824b130a6c\")>,\n",
       " <selenium.webdriver.remote.webelement.WebElement (session=\"d700897a64bb3f231484ba3534f29843\", element=\"fc53f793-a16b-4be5-a1f4-8dd187ed3e67\")>,\n",
       " <selenium.webdriver.remote.webelement.WebElement (session=\"d700897a64bb3f231484ba3534f29843\", element=\"019e6aad-0b80-49ad-9716-9a1d825968cd\")>,\n",
       " <selenium.webdriver.remote.webelement.WebElement (session=\"d700897a64bb3f231484ba3534f29843\", element=\"b0ed0f4b-fa64-4b22-83f0-4e78e1f09734\")>,\n",
       " <selenium.webdriver.remote.webelement.WebElement (session=\"d700897a64bb3f231484ba3534f29843\", element=\"7bda851e-032c-420b-9db1-42c08f08dd27\")>,\n",
       " <selenium.webdriver.remote.webelement.WebElement (session=\"d700897a64bb3f231484ba3534f29843\", element=\"cc859257-926a-45d3-81ee-1178fd28803b\")>,\n",
       " <selenium.webdriver.remote.webelement.WebElement (session=\"d700897a64bb3f231484ba3534f29843\", element=\"4ec59601-ff9c-489e-8596-d72fcf5d81fb\")>,\n",
       " <selenium.webdriver.remote.webelement.WebElement (session=\"d700897a64bb3f231484ba3534f29843\", element=\"a3a42fb4-3d84-4e42-a1aa-6c0cc44bf388\")>,\n",
       " <selenium.webdriver.remote.webelement.WebElement (session=\"d700897a64bb3f231484ba3534f29843\", element=\"ea0a2a16-49a3-4091-9965-9e18dbdf7be3\")>,\n",
       " <selenium.webdriver.remote.webelement.WebElement (session=\"d700897a64bb3f231484ba3534f29843\", element=\"2d50c128-81a5-44b9-a047-88ec1c9fedb3\")>,\n",
       " <selenium.webdriver.remote.webelement.WebElement (session=\"d700897a64bb3f231484ba3534f29843\", element=\"67f3d295-ea0a-4570-939d-9c2183519f22\")>,\n",
       " <selenium.webdriver.remote.webelement.WebElement (session=\"d700897a64bb3f231484ba3534f29843\", element=\"0cdeaa4a-1469-4538-b04d-393e62552360\")>,\n",
       " <selenium.webdriver.remote.webelement.WebElement (session=\"d700897a64bb3f231484ba3534f29843\", element=\"704e3595-3b07-4258-9c5a-108bb5416b01\")>,\n",
       " <selenium.webdriver.remote.webelement.WebElement (session=\"d700897a64bb3f231484ba3534f29843\", element=\"3c5d0762-ccfa-48ab-9177-0d8b7776338b\")>,\n",
       " <selenium.webdriver.remote.webelement.WebElement (session=\"d700897a64bb3f231484ba3534f29843\", element=\"1b06be17-5e22-4ae4-8158-e7acea99267d\")>,\n",
       " <selenium.webdriver.remote.webelement.WebElement (session=\"d700897a64bb3f231484ba3534f29843\", element=\"a8339848-65fd-4235-bb66-cdb0470c8dae\")>,\n",
       " <selenium.webdriver.remote.webelement.WebElement (session=\"d700897a64bb3f231484ba3534f29843\", element=\"4561ae43-5147-46da-82f5-46ca749ab3f7\")>,\n",
       " <selenium.webdriver.remote.webelement.WebElement (session=\"d700897a64bb3f231484ba3534f29843\", element=\"4ce299f1-a48a-440a-b10a-36ec5d381ea4\")>,\n",
       " <selenium.webdriver.remote.webelement.WebElement (session=\"d700897a64bb3f231484ba3534f29843\", element=\"4f1c553a-7935-4c40-a5a5-35a5c84d2065\")>,\n",
       " <selenium.webdriver.remote.webelement.WebElement (session=\"d700897a64bb3f231484ba3534f29843\", element=\"ce4a7a85-7df6-4241-a566-12750022a5d0\")>,\n",
       " <selenium.webdriver.remote.webelement.WebElement (session=\"d700897a64bb3f231484ba3534f29843\", element=\"4de7aeb5-007c-41ec-bbd6-6019e3c6b886\")>,\n",
       " <selenium.webdriver.remote.webelement.WebElement (session=\"d700897a64bb3f231484ba3534f29843\", element=\"7a9c91a9-0c3a-4353-b156-1d2dc247ca00\")>,\n",
       " <selenium.webdriver.remote.webelement.WebElement (session=\"d700897a64bb3f231484ba3534f29843\", element=\"8765577f-9cd8-4273-b11a-036cc28fe9f8\")>,\n",
       " <selenium.webdriver.remote.webelement.WebElement (session=\"d700897a64bb3f231484ba3534f29843\", element=\"9379033a-be7d-4647-b0fe-b2e08e983708\")>,\n",
       " <selenium.webdriver.remote.webelement.WebElement (session=\"d700897a64bb3f231484ba3534f29843\", element=\"8c31b625-36b7-4528-a995-9eb6f2062e56\")>,\n",
       " <selenium.webdriver.remote.webelement.WebElement (session=\"d700897a64bb3f231484ba3534f29843\", element=\"b2cec048-a2e3-4348-ae1a-e1b1a25868ab\")>,\n",
       " <selenium.webdriver.remote.webelement.WebElement (session=\"d700897a64bb3f231484ba3534f29843\", element=\"2392b2f9-e20d-45da-83bd-a30344ab3980\")>,\n",
       " <selenium.webdriver.remote.webelement.WebElement (session=\"d700897a64bb3f231484ba3534f29843\", element=\"c258f14b-942e-470d-a4f6-1f0efac9b3ee\")>,\n",
       " <selenium.webdriver.remote.webelement.WebElement (session=\"d700897a64bb3f231484ba3534f29843\", element=\"5d892101-d07a-4332-b052-298fc3c96450\")>,\n",
       " <selenium.webdriver.remote.webelement.WebElement (session=\"d700897a64bb3f231484ba3534f29843\", element=\"d4c54609-9cbc-4d4e-ad5a-c5212a047e3b\")>]"
      ]
     },
     "execution_count": 53,
     "metadata": {},
     "output_type": "execute_result"
    }
   ],
   "source": [
    "Brand_Discr = driver.find_elements_by_xpath('//a[@class=\"IRpwTa\"]')\n",
    "len(Brand_Discr)\n",
    "Brand_Discr[0:36]"
   ]
  },
  {
   "cell_type": "code",
   "execution_count": 54,
   "id": "7a7289f0",
   "metadata": {},
   "outputs": [
    {
     "data": {
      "text/plain": [
       "['UV Protection, Gradient Rectangular Sunglasses (Free Si...',\n",
       " 'Polarized, UV Protection Sports Sunglasses (Free Size)',\n",
       " 'UV Protection Wayfarer Sunglasses (50)',\n",
       " 'UV Protection, Polarized Wayfarer Sunglasses (Free Size...',\n",
       " 'UV Protection Round Sunglasses (54)',\n",
       " 'UV Protection Aviator Sunglasses (54)',\n",
       " 'Gradient, UV Protection Wayfarer Sunglasses (Free Size)',\n",
       " 'Toughened Glass Lens, UV Protection Wrap-around, Rectan...',\n",
       " 'UV Protection Rectangular Sunglasses (Free Size)',\n",
       " 'UV Protection Aviator, Wayfarer Sunglasses (Free Size)',\n",
       " 'UV Protection, Polarized, Mirrored Rectangular Sunglass...',\n",
       " 'UV Protection, Gradient Retro Square Sunglasses (Free S...',\n",
       " 'UV Protection Aviator Sunglasses (Free Size)',\n",
       " 'UV Protection Rectangular Sunglasses (Free Size)',\n",
       " 'Others Wayfarer, Retro Square Sunglasses (50)',\n",
       " 'Polarized Butterfly Sunglasses (Free Size)',\n",
       " 'UV Protection, Polarized, Mirrored Round Sunglasses (Fr...',\n",
       " 'Riding Glasses Wrap-around Sunglasses (Free Size)',\n",
       " 'UV Protection Wayfarer Sunglasses (32)',\n",
       " 'UV Protection, Gradient Cat-eye Sunglasses (58)',\n",
       " 'UV Protection Aviator Sunglasses (54)',\n",
       " 'UV Protection Aviator Sunglasses (54)',\n",
       " 'UV Protection, Riding Glasses, Mirrored Wayfarer Sungla...',\n",
       " 'UV Protection Wrap-around Sunglasses (Free Size)',\n",
       " 'Mirrored, UV Protection Wayfarer Sunglasses (Free Size)',\n",
       " 'UV Protection, Riding Glasses Wayfarer Sunglasses (53)',\n",
       " 'UV Protection Rectangular Sunglasses (Free Size)',\n",
       " 'Riding Glasses, UV Protection Sports Sunglasses (Free S...',\n",
       " 'Mirrored Aviator Sunglasses (55)',\n",
       " 'UV Protection, Polarized, Mirrored Rectangular Sunglass...',\n",
       " 'UV Protection Round Sunglasses (54)',\n",
       " 'UV Protection Wayfarer, Sports, Shield, Rectangular, Re...',\n",
       " 'UV Protection Round Sunglasses (53)',\n",
       " 'UV Protection Wayfarer Sunglasses (Free Size)',\n",
       " 'UV Protection Aviator Sunglasses (55)',\n",
       " 'Polarized Butterfly Sunglasses (Free Size)']"
      ]
     },
     "execution_count": 54,
     "metadata": {},
     "output_type": "execute_result"
    }
   ],
   "source": [
    "ProductDiscription=[]\n",
    "for i in Brand_Discr:\n",
    "     ProductDiscription.append(i.text)\n",
    "        \n",
    "ProductDiscription[0:36]"
   ]
  },
  {
   "cell_type": "raw",
   "id": "3ab0bb01",
   "metadata": {},
   "source": [
    "Price_tags = driver.find_elements_by_xpath('//a[@class=\"_3bPFwb\"]')\n",
    "len(Price_tags)"
   ]
  },
  {
   "cell_type": "code",
   "execution_count": 56,
   "id": "4f858817",
   "metadata": {},
   "outputs": [
    {
     "ename": "TypeError",
     "evalue": "'int' object is not subscriptable",
     "output_type": "error",
     "traceback": [
      "\u001b[1;31m---------------------------------------------------------------------------\u001b[0m",
      "\u001b[1;31mTypeError\u001b[0m                                 Traceback (most recent call last)",
      "\u001b[1;32m<ipython-input-56-9f5863846aed>\u001b[0m in \u001b[0;36m<module>\u001b[1;34m\u001b[0m\n\u001b[0;32m      1\u001b[0m \u001b[0mPrice_tags\u001b[0m \u001b[1;33m=\u001b[0m \u001b[0mdriver\u001b[0m\u001b[1;33m.\u001b[0m\u001b[0mfind_elements_by_xpath\u001b[0m\u001b[1;33m(\u001b[0m\u001b[1;34m'//a[@class=\"_3bPFwb\"]'\u001b[0m\u001b[1;33m)\u001b[0m\u001b[1;33m\u001b[0m\u001b[1;33m\u001b[0m\u001b[0m\n\u001b[1;32m----> 2\u001b[1;33m \u001b[0mlen\u001b[0m\u001b[1;33m(\u001b[0m\u001b[0mPrice_tags\u001b[0m\u001b[1;33m)\u001b[0m\u001b[1;33m[\u001b[0m\u001b[1;36m0\u001b[0m\u001b[1;33m:\u001b[0m\u001b[1;36m36\u001b[0m\u001b[1;33m]\u001b[0m\u001b[1;33m\u001b[0m\u001b[1;33m\u001b[0m\u001b[0m\n\u001b[0m",
      "\u001b[1;31mTypeError\u001b[0m: 'int' object is not subscriptable"
     ]
    }
   ],
   "source": [
    "Price_tags = driver.find_elements_by_xpath('//a[@class=\"_3bPFwb\"]')\n",
    "len(Price_tags)[0:36]"
   ]
  },
  {
   "cell_type": "code",
   "execution_count": 56,
   "id": "4f30ed8c",
   "metadata": {},
   "outputs": [
    {
     "data": {
      "text/plain": [
       "['₹399₹1,99980% off',\n",
       " '₹409₹1,79977% off',\n",
       " '₹148₹1,29988% off',\n",
       " '₹193₹1,29985% off',\n",
       " '₹208₹2,49591% off',\n",
       " '₹179₹1,59988% off',\n",
       " '₹629₹79921% off\\nFree delivery',\n",
       " '₹1,248₹3,69966% off\\nFree delivery',\n",
       " '₹182₹2,59992% off',\n",
       " '₹152₹1,19987% off',\n",
       " '₹115₹1,69993% off',\n",
       " '₹281₹1,99985% off',\n",
       " '₹129₹1,46691% off',\n",
       " '₹629₹79921% off\\nFree delivery',\n",
       " '₹128₹99987% off',\n",
       " '₹599₹1,99970% off\\nFree delivery',\n",
       " '₹226₹1,69986% off',\n",
       " '₹225₹2,49990% off',\n",
       " '₹175₹1,59989% off',\n",
       " '₹409₹1,52573% off',\n",
       " '₹175₹1,59989% off',\n",
       " '₹175₹1,59989% off',\n",
       " '₹134₹1,19988% off',\n",
       " '₹110₹99988% off',\n",
       " '₹189₹1,99990% off',\n",
       " '₹148₹1,79991% off',\n",
       " '₹149₹99985% off',\n",
       " '₹309₹1,49979% off',\n",
       " '₹329₹1,49978% off',\n",
       " '₹131₹99986% off',\n",
       " '₹136₹99986% off',\n",
       " '₹98₹1,49993% off',\n",
       " '₹139₹99886% off',\n",
       " '₹183₹1,49987% off',\n",
       " '₹321₹1,99983% off',\n",
       " '₹599₹1,99970% off\\nFree delivery']"
      ]
     },
     "execution_count": 56,
     "metadata": {},
     "output_type": "execute_result"
    }
   ],
   "source": [
    "ProductPrice=[]\n",
    "for i in Price_tags:\n",
    "     ProductPrice.append(i.text)\n",
    "        \n",
    "ProductPrice[0:36]"
   ]
  },
  {
   "cell_type": "code",
   "execution_count": 60,
   "id": "8cc95fc8",
   "metadata": {},
   "outputs": [
    {
     "data": {
      "text/html": [
       "<div>\n",
       "<style scoped>\n",
       "    .dataframe tbody tr th:only-of-type {\n",
       "        vertical-align: middle;\n",
       "    }\n",
       "\n",
       "    .dataframe tbody tr th {\n",
       "        vertical-align: top;\n",
       "    }\n",
       "\n",
       "    .dataframe thead th {\n",
       "        text-align: right;\n",
       "    }\n",
       "</style>\n",
       "<table border=\"1\" class=\"dataframe\">\n",
       "  <thead>\n",
       "    <tr style=\"text-align: right;\">\n",
       "      <th></th>\n",
       "      <th>Brand Name</th>\n",
       "      <th>Discription</th>\n",
       "      <th>Price</th>\n",
       "    </tr>\n",
       "  </thead>\n",
       "  <tbody>\n",
       "    <tr>\n",
       "      <th>0</th>\n",
       "      <td>ROZZETTA CRAFT</td>\n",
       "      <td>UV Protection, Gradient Rectangular Sunglasses...</td>\n",
       "      <td>₹399₹1,99980% off</td>\n",
       "    </tr>\n",
       "    <tr>\n",
       "      <th>1</th>\n",
       "      <td>SKYZA INDIA</td>\n",
       "      <td>Polarized, UV Protection Sports Sunglasses (Fr...</td>\n",
       "      <td>₹409₹1,79977% off</td>\n",
       "    </tr>\n",
       "    <tr>\n",
       "      <th>2</th>\n",
       "      <td>SRPM</td>\n",
       "      <td>UV Protection Wayfarer Sunglasses (50)</td>\n",
       "      <td>₹148₹1,29988% off</td>\n",
       "    </tr>\n",
       "    <tr>\n",
       "      <th>3</th>\n",
       "      <td>SUNBEE</td>\n",
       "      <td>UV Protection, Polarized Wayfarer Sunglasses (...</td>\n",
       "      <td>₹193₹1,29985% off</td>\n",
       "    </tr>\n",
       "    <tr>\n",
       "      <th>4</th>\n",
       "      <td>Elligator</td>\n",
       "      <td>UV Protection Round Sunglasses (54)</td>\n",
       "      <td>₹208₹2,49591% off</td>\n",
       "    </tr>\n",
       "    <tr>\n",
       "      <th>5</th>\n",
       "      <td>PIRASO</td>\n",
       "      <td>UV Protection Aviator Sunglasses (54)</td>\n",
       "      <td>₹179₹1,59988% off</td>\n",
       "    </tr>\n",
       "    <tr>\n",
       "      <th>6</th>\n",
       "      <td>Fastrack</td>\n",
       "      <td>Gradient, UV Protection Wayfarer Sunglasses (F...</td>\n",
       "      <td>₹629₹79921% off\\nFree delivery</td>\n",
       "    </tr>\n",
       "    <tr>\n",
       "      <th>7</th>\n",
       "      <td>AISLIN</td>\n",
       "      <td>Toughened Glass Lens, UV Protection Wrap-aroun...</td>\n",
       "      <td>₹1,248₹3,69966% off\\nFree delivery</td>\n",
       "    </tr>\n",
       "    <tr>\n",
       "      <th>8</th>\n",
       "      <td>New Specs</td>\n",
       "      <td>UV Protection Rectangular Sunglasses (Free Size)</td>\n",
       "      <td>₹182₹2,59992% off</td>\n",
       "    </tr>\n",
       "    <tr>\n",
       "      <th>9</th>\n",
       "      <td>DEIXELS</td>\n",
       "      <td>UV Protection Aviator, Wayfarer Sunglasses (Fr...</td>\n",
       "      <td>₹152₹1,19987% off</td>\n",
       "    </tr>\n",
       "    <tr>\n",
       "      <th>10</th>\n",
       "      <td>SHAAH COLLECTIONS</td>\n",
       "      <td>UV Protection, Polarized, Mirrored Rectangular...</td>\n",
       "      <td>₹115₹1,69993% off</td>\n",
       "    </tr>\n",
       "    <tr>\n",
       "      <th>11</th>\n",
       "      <td>ROZZETTA CRAFT</td>\n",
       "      <td>UV Protection, Gradient Retro Square Sunglasse...</td>\n",
       "      <td>₹281₹1,99985% off</td>\n",
       "    </tr>\n",
       "    <tr>\n",
       "      <th>12</th>\n",
       "      <td>hipe</td>\n",
       "      <td>UV Protection Aviator Sunglasses (Free Size)</td>\n",
       "      <td>₹129₹1,46691% off</td>\n",
       "    </tr>\n",
       "    <tr>\n",
       "      <th>13</th>\n",
       "      <td>Fastrack</td>\n",
       "      <td>UV Protection Rectangular Sunglasses (Free Size)</td>\n",
       "      <td>₹629₹79921% off\\nFree delivery</td>\n",
       "    </tr>\n",
       "    <tr>\n",
       "      <th>14</th>\n",
       "      <td>SRPM</td>\n",
       "      <td>Others Wayfarer, Retro Square Sunglasses (50)</td>\n",
       "      <td>₹128₹99987% off</td>\n",
       "    </tr>\n",
       "    <tr>\n",
       "      <th>15</th>\n",
       "      <td>Sewell</td>\n",
       "      <td>Polarized Butterfly Sunglasses (Free Size)</td>\n",
       "      <td>₹599₹1,99970% off\\nFree delivery</td>\n",
       "    </tr>\n",
       "    <tr>\n",
       "      <th>16</th>\n",
       "      <td>SUNBEE</td>\n",
       "      <td>UV Protection, Polarized, Mirrored Round Sungl...</td>\n",
       "      <td>₹226₹1,69986% off</td>\n",
       "    </tr>\n",
       "    <tr>\n",
       "      <th>17</th>\n",
       "      <td>Lee Topper</td>\n",
       "      <td>Riding Glasses Wrap-around Sunglasses (Free Size)</td>\n",
       "      <td>₹225₹2,49990% off</td>\n",
       "    </tr>\n",
       "    <tr>\n",
       "      <th>18</th>\n",
       "      <td>PIRASO</td>\n",
       "      <td>UV Protection Wayfarer Sunglasses (32)</td>\n",
       "      <td>₹175₹1,59989% off</td>\n",
       "    </tr>\n",
       "    <tr>\n",
       "      <th>19</th>\n",
       "      <td>AISLIN</td>\n",
       "      <td>UV Protection, Gradient Cat-eye Sunglasses (58)</td>\n",
       "      <td>₹409₹1,52573% off</td>\n",
       "    </tr>\n",
       "    <tr>\n",
       "      <th>20</th>\n",
       "      <td>PIRASO</td>\n",
       "      <td>UV Protection Aviator Sunglasses (54)</td>\n",
       "      <td>₹175₹1,59989% off</td>\n",
       "    </tr>\n",
       "    <tr>\n",
       "      <th>21</th>\n",
       "      <td>PIRASO</td>\n",
       "      <td>UV Protection Aviator Sunglasses (54)</td>\n",
       "      <td>₹175₹1,59989% off</td>\n",
       "    </tr>\n",
       "    <tr>\n",
       "      <th>22</th>\n",
       "      <td>kingsunglasses</td>\n",
       "      <td>UV Protection, Riding Glasses, Mirrored Wayfar...</td>\n",
       "      <td>₹134₹1,19988% off</td>\n",
       "    </tr>\n",
       "    <tr>\n",
       "      <th>23</th>\n",
       "      <td>ZOSTAL</td>\n",
       "      <td>UV Protection Wrap-around Sunglasses (Free Size)</td>\n",
       "      <td>₹110₹99988% off</td>\n",
       "    </tr>\n",
       "    <tr>\n",
       "      <th>24</th>\n",
       "      <td>kingsunglasses</td>\n",
       "      <td>Mirrored, UV Protection Wayfarer Sunglasses (F...</td>\n",
       "      <td>₹189₹1,99990% off</td>\n",
       "    </tr>\n",
       "    <tr>\n",
       "      <th>25</th>\n",
       "      <td>GANSTA</td>\n",
       "      <td>UV Protection, Riding Glasses Wayfarer Sunglas...</td>\n",
       "      <td>₹148₹1,79991% off</td>\n",
       "    </tr>\n",
       "    <tr>\n",
       "      <th>26</th>\n",
       "      <td>Lee Topper</td>\n",
       "      <td>UV Protection Rectangular Sunglasses (Free Size)</td>\n",
       "      <td>₹149₹99985% off</td>\n",
       "    </tr>\n",
       "    <tr>\n",
       "      <th>27</th>\n",
       "      <td>Fair-x</td>\n",
       "      <td>Riding Glasses, UV Protection Sports Sunglasse...</td>\n",
       "      <td>₹309₹1,49979% off</td>\n",
       "    </tr>\n",
       "    <tr>\n",
       "      <th>28</th>\n",
       "      <td>ROYAL SON</td>\n",
       "      <td>Mirrored Aviator Sunglasses (55)</td>\n",
       "      <td>₹329₹1,49978% off</td>\n",
       "    </tr>\n",
       "    <tr>\n",
       "      <th>29</th>\n",
       "      <td>SHAAH COLLECTIONS</td>\n",
       "      <td>UV Protection, Polarized, Mirrored Rectangular...</td>\n",
       "      <td>₹131₹99986% off</td>\n",
       "    </tr>\n",
       "    <tr>\n",
       "      <th>30</th>\n",
       "      <td>kingsunglasses</td>\n",
       "      <td>UV Protection Round Sunglasses (54)</td>\n",
       "      <td>₹136₹99986% off</td>\n",
       "    </tr>\n",
       "    <tr>\n",
       "      <th>31</th>\n",
       "      <td>HAMIW COLLECTION</td>\n",
       "      <td>UV Protection Wayfarer, Sports, Shield, Rectan...</td>\n",
       "      <td>₹98₹1,49993% off</td>\n",
       "    </tr>\n",
       "    <tr>\n",
       "      <th>32</th>\n",
       "      <td>Elligator</td>\n",
       "      <td>UV Protection Round Sunglasses (53)</td>\n",
       "      <td>₹139₹99886% off</td>\n",
       "    </tr>\n",
       "    <tr>\n",
       "      <th>33</th>\n",
       "      <td>Silver Kartz</td>\n",
       "      <td>UV Protection Wayfarer Sunglasses (Free Size)</td>\n",
       "      <td>₹183₹1,49987% off</td>\n",
       "    </tr>\n",
       "    <tr>\n",
       "      <th>34</th>\n",
       "      <td>Elligator</td>\n",
       "      <td>UV Protection Aviator Sunglasses (55)</td>\n",
       "      <td>₹321₹1,99983% off</td>\n",
       "    </tr>\n",
       "    <tr>\n",
       "      <th>35</th>\n",
       "      <td>Sewell</td>\n",
       "      <td>Polarized Butterfly Sunglasses (Free Size)</td>\n",
       "      <td>₹599₹1,99970% off\\nFree delivery</td>\n",
       "    </tr>\n",
       "    <tr>\n",
       "      <th>36</th>\n",
       "      <td>New Specs</td>\n",
       "      <td>Mirrored, UV Protection, Riding Glasses, Other...</td>\n",
       "      <td>₹213₹1,39984% off</td>\n",
       "    </tr>\n",
       "    <tr>\n",
       "      <th>37</th>\n",
       "      <td>PIRASO</td>\n",
       "      <td>UV Protection Aviator Sunglasses (58)</td>\n",
       "      <td>₹299₹2,59988% off</td>\n",
       "    </tr>\n",
       "    <tr>\n",
       "      <th>38</th>\n",
       "      <td>PHENOMENAL</td>\n",
       "      <td>UV Protection Retro Square Sunglasses (53)</td>\n",
       "      <td>₹239₹99976% off</td>\n",
       "    </tr>\n",
       "    <tr>\n",
       "      <th>39</th>\n",
       "      <td>AISLIN</td>\n",
       "      <td>Toughened Glass Lens, UV Protection Aviator Su...</td>\n",
       "      <td>₹933₹4,25078% off\\nFree delivery</td>\n",
       "    </tr>\n",
       "  </tbody>\n",
       "</table>\n",
       "</div>"
      ],
      "text/plain": [
       "           Brand Name                                        Discription  \\\n",
       "0      ROZZETTA CRAFT  UV Protection, Gradient Rectangular Sunglasses...   \n",
       "1         SKYZA INDIA  Polarized, UV Protection Sports Sunglasses (Fr...   \n",
       "2                SRPM             UV Protection Wayfarer Sunglasses (50)   \n",
       "3              SUNBEE  UV Protection, Polarized Wayfarer Sunglasses (...   \n",
       "4           Elligator                UV Protection Round Sunglasses (54)   \n",
       "5              PIRASO              UV Protection Aviator Sunglasses (54)   \n",
       "6            Fastrack  Gradient, UV Protection Wayfarer Sunglasses (F...   \n",
       "7              AISLIN  Toughened Glass Lens, UV Protection Wrap-aroun...   \n",
       "8           New Specs   UV Protection Rectangular Sunglasses (Free Size)   \n",
       "9             DEIXELS  UV Protection Aviator, Wayfarer Sunglasses (Fr...   \n",
       "10  SHAAH COLLECTIONS  UV Protection, Polarized, Mirrored Rectangular...   \n",
       "11     ROZZETTA CRAFT  UV Protection, Gradient Retro Square Sunglasse...   \n",
       "12               hipe       UV Protection Aviator Sunglasses (Free Size)   \n",
       "13           Fastrack   UV Protection Rectangular Sunglasses (Free Size)   \n",
       "14               SRPM      Others Wayfarer, Retro Square Sunglasses (50)   \n",
       "15             Sewell         Polarized Butterfly Sunglasses (Free Size)   \n",
       "16             SUNBEE  UV Protection, Polarized, Mirrored Round Sungl...   \n",
       "17         Lee Topper  Riding Glasses Wrap-around Sunglasses (Free Size)   \n",
       "18             PIRASO             UV Protection Wayfarer Sunglasses (32)   \n",
       "19             AISLIN    UV Protection, Gradient Cat-eye Sunglasses (58)   \n",
       "20             PIRASO              UV Protection Aviator Sunglasses (54)   \n",
       "21             PIRASO              UV Protection Aviator Sunglasses (54)   \n",
       "22     kingsunglasses  UV Protection, Riding Glasses, Mirrored Wayfar...   \n",
       "23             ZOSTAL   UV Protection Wrap-around Sunglasses (Free Size)   \n",
       "24     kingsunglasses  Mirrored, UV Protection Wayfarer Sunglasses (F...   \n",
       "25             GANSTA  UV Protection, Riding Glasses Wayfarer Sunglas...   \n",
       "26         Lee Topper   UV Protection Rectangular Sunglasses (Free Size)   \n",
       "27             Fair-x  Riding Glasses, UV Protection Sports Sunglasse...   \n",
       "28          ROYAL SON                   Mirrored Aviator Sunglasses (55)   \n",
       "29  SHAAH COLLECTIONS  UV Protection, Polarized, Mirrored Rectangular...   \n",
       "30     kingsunglasses                UV Protection Round Sunglasses (54)   \n",
       "31   HAMIW COLLECTION  UV Protection Wayfarer, Sports, Shield, Rectan...   \n",
       "32          Elligator                UV Protection Round Sunglasses (53)   \n",
       "33       Silver Kartz      UV Protection Wayfarer Sunglasses (Free Size)   \n",
       "34          Elligator              UV Protection Aviator Sunglasses (55)   \n",
       "35             Sewell         Polarized Butterfly Sunglasses (Free Size)   \n",
       "36          New Specs  Mirrored, UV Protection, Riding Glasses, Other...   \n",
       "37             PIRASO              UV Protection Aviator Sunglasses (58)   \n",
       "38         PHENOMENAL         UV Protection Retro Square Sunglasses (53)   \n",
       "39             AISLIN  Toughened Glass Lens, UV Protection Aviator Su...   \n",
       "\n",
       "                                 Price  \n",
       "0                    ₹399₹1,99980% off  \n",
       "1                    ₹409₹1,79977% off  \n",
       "2                    ₹148₹1,29988% off  \n",
       "3                    ₹193₹1,29985% off  \n",
       "4                    ₹208₹2,49591% off  \n",
       "5                    ₹179₹1,59988% off  \n",
       "6       ₹629₹79921% off\\nFree delivery  \n",
       "7   ₹1,248₹3,69966% off\\nFree delivery  \n",
       "8                    ₹182₹2,59992% off  \n",
       "9                    ₹152₹1,19987% off  \n",
       "10                   ₹115₹1,69993% off  \n",
       "11                   ₹281₹1,99985% off  \n",
       "12                   ₹129₹1,46691% off  \n",
       "13      ₹629₹79921% off\\nFree delivery  \n",
       "14                     ₹128₹99987% off  \n",
       "15    ₹599₹1,99970% off\\nFree delivery  \n",
       "16                   ₹226₹1,69986% off  \n",
       "17                   ₹225₹2,49990% off  \n",
       "18                   ₹175₹1,59989% off  \n",
       "19                   ₹409₹1,52573% off  \n",
       "20                   ₹175₹1,59989% off  \n",
       "21                   ₹175₹1,59989% off  \n",
       "22                   ₹134₹1,19988% off  \n",
       "23                     ₹110₹99988% off  \n",
       "24                   ₹189₹1,99990% off  \n",
       "25                   ₹148₹1,79991% off  \n",
       "26                     ₹149₹99985% off  \n",
       "27                   ₹309₹1,49979% off  \n",
       "28                   ₹329₹1,49978% off  \n",
       "29                     ₹131₹99986% off  \n",
       "30                     ₹136₹99986% off  \n",
       "31                    ₹98₹1,49993% off  \n",
       "32                     ₹139₹99886% off  \n",
       "33                   ₹183₹1,49987% off  \n",
       "34                   ₹321₹1,99983% off  \n",
       "35    ₹599₹1,99970% off\\nFree delivery  \n",
       "36                   ₹213₹1,39984% off  \n",
       "37                   ₹299₹2,59988% off  \n",
       "38                     ₹239₹99976% off  \n",
       "39    ₹933₹4,25078% off\\nFree delivery  "
      ]
     },
     "execution_count": 60,
     "metadata": {},
     "output_type": "execute_result"
    }
   ],
   "source": [
    "import pandas as pd\n",
    "df3=pd.DataFrame({\"Brand Name\" :BrandName,\"Discription\":ProductDiscription ,\"Price\":ProductPrice})\n",
    "df3"
   ]
  },
  {
   "cell_type": "code",
   "execution_count": 58,
   "id": "19405e49",
   "metadata": {},
   "outputs": [
    {
     "data": {
      "text/plain": [
       "<selenium.webdriver.remote.webelement.WebElement (session=\"d700897a64bb3f231484ba3534f29843\", element=\"038c72fd-c5f6-4290-9dc9-ecb2c8be6425\")>"
      ]
     },
     "execution_count": 58,
     "metadata": {},
     "output_type": "execute_result"
    }
   ],
   "source": [
    "Next_Button=driver.find_element_by_xpath(\"/html/body/div[1]/div/div[3]/div[1]/div[2]/div[12]/div/div/nav/a[11]\")\n",
    "Next_Button"
   ]
  },
  {
   "cell_type": "code",
   "execution_count": 11,
   "id": "42f1606b",
   "metadata": {},
   "outputs": [],
   "source": [
    "Next_Button.click() "
   ]
  },
  {
   "cell_type": "code",
   "execution_count": 12,
   "id": "3a076dc0",
   "metadata": {},
   "outputs": [
    {
     "data": {
      "text/plain": [
       "40"
      ]
     },
     "execution_count": 12,
     "metadata": {},
     "output_type": "execute_result"
    }
   ],
   "source": [
    "Brand_tags = driver.find_elements_by_xpath('//div[@class=\"_2WkVRV\"]')\n",
    "len(Brand_tags)\n",
    "\n"
   ]
  },
  {
   "cell_type": "code",
   "execution_count": 13,
   "id": "dd881ce2",
   "metadata": {},
   "outputs": [
    {
     "data": {
      "text/plain": [
       "['PHENOMENAL',\n",
       " 'DEIXELS',\n",
       " 'hipe',\n",
       " 'Fastrack',\n",
       " 'Fastrack',\n",
       " 'ROYAL SON',\n",
       " 'Elligator',\n",
       " 'PHENOMENAL',\n",
       " 'PIRASO',\n",
       " 'New Specs',\n",
       " 'Rich Club',\n",
       " 'ROZZETTA CRAFT',\n",
       " 'PIRASO',\n",
       " 'Fastrack',\n",
       " 'Rich Club',\n",
       " 'PHENOMENAL',\n",
       " 'SHAAH COLLECTIONS',\n",
       " 'DEIXELS',\n",
       " 'Silver Kartz',\n",
       " 'kingsunglasses',\n",
       " 'Lee Topper',\n",
       " 'SUNBEE',\n",
       " 'Elligator',\n",
       " 'Lee Topper',\n",
       " 'hipe',\n",
       " 'Johaena',\n",
       " 'Fastrack',\n",
       " 'ROYAL SON',\n",
       " 'ROYAL SON',\n",
       " 'Elligator',\n",
       " 'Fastrack',\n",
       " 'ROZZETTA CRAFT',\n",
       " 'hipe',\n",
       " 'Rich Club',\n",
       " 'Rich Club',\n",
       " 'VINCENT CHASE']"
      ]
     },
     "execution_count": 13,
     "metadata": {},
     "output_type": "execute_result"
    }
   ],
   "source": [
    "BrandName=[]\n",
    "for i in Brand_tags:\n",
    "     BrandName.append(i.text)\n",
    "        \n",
    "BrandName[0:36]"
   ]
  },
  {
   "cell_type": "code",
   "execution_count": 14,
   "id": "886c6427",
   "metadata": {},
   "outputs": [
    {
     "data": {
      "text/plain": [
       "[<selenium.webdriver.remote.webelement.WebElement (session=\"956896c8ff917f122336247a24b76b82\", element=\"31833472-0f85-4526-8c37-8db0f3e6805e\")>,\n",
       " <selenium.webdriver.remote.webelement.WebElement (session=\"956896c8ff917f122336247a24b76b82\", element=\"8767a19b-b40b-401a-b90f-e3fd3e381286\")>,\n",
       " <selenium.webdriver.remote.webelement.WebElement (session=\"956896c8ff917f122336247a24b76b82\", element=\"b0c8f2ba-8224-4620-af36-3046411ee950\")>,\n",
       " <selenium.webdriver.remote.webelement.WebElement (session=\"956896c8ff917f122336247a24b76b82\", element=\"41fcbaf0-3ab7-454b-a10f-14b3aa5211e0\")>,\n",
       " <selenium.webdriver.remote.webelement.WebElement (session=\"956896c8ff917f122336247a24b76b82\", element=\"641667d7-5c37-4b69-8cdc-48b51445429d\")>,\n",
       " <selenium.webdriver.remote.webelement.WebElement (session=\"956896c8ff917f122336247a24b76b82\", element=\"c28354a2-affb-4c07-8d98-6564f9c7c219\")>,\n",
       " <selenium.webdriver.remote.webelement.WebElement (session=\"956896c8ff917f122336247a24b76b82\", element=\"ae171c54-f47b-4709-9c6a-b888d21ae06a\")>,\n",
       " <selenium.webdriver.remote.webelement.WebElement (session=\"956896c8ff917f122336247a24b76b82\", element=\"193d2e89-d712-4f63-8483-459291f50686\")>,\n",
       " <selenium.webdriver.remote.webelement.WebElement (session=\"956896c8ff917f122336247a24b76b82\", element=\"63efa25e-720b-4cf7-b74e-6873e1d9922c\")>,\n",
       " <selenium.webdriver.remote.webelement.WebElement (session=\"956896c8ff917f122336247a24b76b82\", element=\"3da51362-82cb-472e-9e5e-a8791e2bdf47\")>,\n",
       " <selenium.webdriver.remote.webelement.WebElement (session=\"956896c8ff917f122336247a24b76b82\", element=\"853a06b1-3fb5-4230-9021-126e9173f888\")>,\n",
       " <selenium.webdriver.remote.webelement.WebElement (session=\"956896c8ff917f122336247a24b76b82\", element=\"029cf045-31fb-4da5-a423-84d11cc7d317\")>,\n",
       " <selenium.webdriver.remote.webelement.WebElement (session=\"956896c8ff917f122336247a24b76b82\", element=\"c2684cdb-4cb6-4e1c-9f3f-e2d421ea3fc6\")>,\n",
       " <selenium.webdriver.remote.webelement.WebElement (session=\"956896c8ff917f122336247a24b76b82\", element=\"9a3f38c6-c977-4ee4-9908-6c73c1893d3a\")>,\n",
       " <selenium.webdriver.remote.webelement.WebElement (session=\"956896c8ff917f122336247a24b76b82\", element=\"f89064af-20c3-4bfc-a6b5-00958d331cfe\")>,\n",
       " <selenium.webdriver.remote.webelement.WebElement (session=\"956896c8ff917f122336247a24b76b82\", element=\"bfe4b096-c55c-4a2a-9310-53bd45bb7511\")>,\n",
       " <selenium.webdriver.remote.webelement.WebElement (session=\"956896c8ff917f122336247a24b76b82\", element=\"c9bec825-4a2c-4271-9b76-2b16404e4e55\")>,\n",
       " <selenium.webdriver.remote.webelement.WebElement (session=\"956896c8ff917f122336247a24b76b82\", element=\"69b730ae-6201-4c55-b1ce-019a35c8e89e\")>,\n",
       " <selenium.webdriver.remote.webelement.WebElement (session=\"956896c8ff917f122336247a24b76b82\", element=\"e793ac1c-78e0-442e-b192-1598bab7c92b\")>,\n",
       " <selenium.webdriver.remote.webelement.WebElement (session=\"956896c8ff917f122336247a24b76b82\", element=\"a9350166-f23d-494f-ae6d-f89ff81539e8\")>,\n",
       " <selenium.webdriver.remote.webelement.WebElement (session=\"956896c8ff917f122336247a24b76b82\", element=\"2116fc3a-0ea3-4ea1-853b-f0a99a0123a4\")>,\n",
       " <selenium.webdriver.remote.webelement.WebElement (session=\"956896c8ff917f122336247a24b76b82\", element=\"117df2b2-8dbd-4b24-8956-19fbe01b491d\")>,\n",
       " <selenium.webdriver.remote.webelement.WebElement (session=\"956896c8ff917f122336247a24b76b82\", element=\"3fb97dab-dc7a-47db-b3ac-ec8170c120ac\")>,\n",
       " <selenium.webdriver.remote.webelement.WebElement (session=\"956896c8ff917f122336247a24b76b82\", element=\"9e35272b-5946-4aca-aff8-a1f1cc728839\")>,\n",
       " <selenium.webdriver.remote.webelement.WebElement (session=\"956896c8ff917f122336247a24b76b82\", element=\"2b280e98-b0a3-4411-99fc-35c51adc2f29\")>,\n",
       " <selenium.webdriver.remote.webelement.WebElement (session=\"956896c8ff917f122336247a24b76b82\", element=\"8962d55f-0ac0-45a8-ae75-6ee12b935a40\")>,\n",
       " <selenium.webdriver.remote.webelement.WebElement (session=\"956896c8ff917f122336247a24b76b82\", element=\"fdd28900-dbeb-438f-8815-34bd24cfb543\")>,\n",
       " <selenium.webdriver.remote.webelement.WebElement (session=\"956896c8ff917f122336247a24b76b82\", element=\"2ce3b430-b3c7-47e4-8549-499eb735a405\")>,\n",
       " <selenium.webdriver.remote.webelement.WebElement (session=\"956896c8ff917f122336247a24b76b82\", element=\"6ed0cb88-0fcc-4740-ab59-87809fb4819d\")>,\n",
       " <selenium.webdriver.remote.webelement.WebElement (session=\"956896c8ff917f122336247a24b76b82\", element=\"abfd38d5-fb63-47b5-b0c4-08ddff8b4d3b\")>,\n",
       " <selenium.webdriver.remote.webelement.WebElement (session=\"956896c8ff917f122336247a24b76b82\", element=\"0aea34a4-b0dd-4eee-9d97-00ffb85804fb\")>,\n",
       " <selenium.webdriver.remote.webelement.WebElement (session=\"956896c8ff917f122336247a24b76b82\", element=\"8984e60b-a3d3-44ee-86e6-d34b070042cc\")>,\n",
       " <selenium.webdriver.remote.webelement.WebElement (session=\"956896c8ff917f122336247a24b76b82\", element=\"e8dbd75e-43c2-4505-afa9-4b6b774cbb95\")>,\n",
       " <selenium.webdriver.remote.webelement.WebElement (session=\"956896c8ff917f122336247a24b76b82\", element=\"1eb0d466-ea0d-464e-af00-d64f4e0c73ac\")>,\n",
       " <selenium.webdriver.remote.webelement.WebElement (session=\"956896c8ff917f122336247a24b76b82\", element=\"7a66d7e5-04c0-4be7-bb28-61c11a448e07\")>,\n",
       " <selenium.webdriver.remote.webelement.WebElement (session=\"956896c8ff917f122336247a24b76b82\", element=\"fc05da9b-a0e9-420b-9af0-12c8df094d59\")>]"
      ]
     },
     "execution_count": 14,
     "metadata": {},
     "output_type": "execute_result"
    }
   ],
   "source": [
    "Brand_Discr = driver.find_elements_by_xpath('//a[@class=\"IRpwTa\"]')\n",
    "len(Brand_Discr)\n",
    "Brand_Discr[0:36]"
   ]
  },
  {
   "cell_type": "code",
   "execution_count": 15,
   "id": "089f38d2",
   "metadata": {},
   "outputs": [
    {
     "data": {
      "text/plain": [
       "['UV Protection Retro Square Sunglasses (Free Size)',\n",
       " 'UV Protection Wayfarer Sunglasses (Free Size)',\n",
       " 'UV Protection, Gradient, Mirrored, Riding Glasses Aviat...',\n",
       " 'Gradient, UV Protection Wayfarer Sunglasses (Free Size)',\n",
       " 'UV Protection Wayfarer Sunglasses (Free Size)',\n",
       " 'Mirrored Aviator Sunglasses (Free Size)',\n",
       " 'UV Protection Wayfarer Sunglasses (53)',\n",
       " 'UV Protection, Mirrored Retro Square Sunglasses (53)',\n",
       " 'UV Protection Aviator Sunglasses (Free Size)',\n",
       " 'UV Protection Aviator Sunglasses (Free Size)',\n",
       " 'Polarized Round Sunglasses (48)',\n",
       " 'UV Protection Retro Square Sunglasses (Free Size)',\n",
       " 'UV Protection Butterfly Sunglasses (60)',\n",
       " 'UV Protection Aviator Sunglasses (Free Size)',\n",
       " 'Polarized Round Sunglasses (48)',\n",
       " 'UV Protection, Mirrored Retro Square Sunglasses (53)',\n",
       " 'UV Protection Round Sunglasses (Free Size)',\n",
       " 'UV Protection Rectangular Sunglasses (Free Size)',\n",
       " 'UV Protection Aviator Sunglasses (88)',\n",
       " 'Mirrored, UV Protection Aviator Sunglasses (56)',\n",
       " 'Riding Glasses, Night Vision Wrap-around Sunglasses (Fr...',\n",
       " 'UV Protection, Polarized, Mirrored Wayfarer Sunglasses ...',\n",
       " 'UV Protection Round Sunglasses (50)',\n",
       " 'UV Protection, Riding Glasses Retro Square, Spectacle ...',\n",
       " 'Mirrored, UV Protection, Gradient Round Sunglasses (55)',\n",
       " 'Riding Glasses, UV Protection Oval Sunglasses (52)',\n",
       " 'Polarized Retro Square Sunglasses (Free Size)',\n",
       " 'UV Protection Rectangular Sunglasses (58)',\n",
       " 'UV Protection, Gradient Wayfarer Sunglasses (55)',\n",
       " 'UV Protection Retro Square, Round Sunglasses (54)',\n",
       " 'UV Protection Oval Sunglasses (Free Size)',\n",
       " 'UV Protection, Gradient Rectangular Sunglasses (Free Si...',\n",
       " 'UV Protection Sports Sunglasses (Free Size)',\n",
       " 'UV Protection Round Sunglasses (48)',\n",
       " 'UV Protection, Mirrored, Gradient Round Sunglasses (51)',\n",
       " 'by Lenskart Polarized, UV Protection Wayfarer Sunglasse...']"
      ]
     },
     "execution_count": 15,
     "metadata": {},
     "output_type": "execute_result"
    }
   ],
   "source": [
    "ProductDiscription=[]\n",
    "for i in Brand_Discr:\n",
    "     ProductDiscription.append(i.text)\n",
    "        \n",
    "ProductDiscription[0:36]"
   ]
  },
  {
   "cell_type": "code",
   "execution_count": 17,
   "id": "95c65a32",
   "metadata": {},
   "outputs": [
    {
     "ename": "TypeError",
     "evalue": "'int' object is not subscriptable",
     "output_type": "error",
     "traceback": [
      "\u001b[1;31m---------------------------------------------------------------------------\u001b[0m",
      "\u001b[1;31mTypeError\u001b[0m                                 Traceback (most recent call last)",
      "\u001b[1;32m<ipython-input-17-9f5863846aed>\u001b[0m in \u001b[0;36m<module>\u001b[1;34m\u001b[0m\n\u001b[0;32m      1\u001b[0m \u001b[0mPrice_tags\u001b[0m \u001b[1;33m=\u001b[0m \u001b[0mdriver\u001b[0m\u001b[1;33m.\u001b[0m\u001b[0mfind_elements_by_xpath\u001b[0m\u001b[1;33m(\u001b[0m\u001b[1;34m'//a[@class=\"_3bPFwb\"]'\u001b[0m\u001b[1;33m)\u001b[0m\u001b[1;33m\u001b[0m\u001b[1;33m\u001b[0m\u001b[0m\n\u001b[1;32m----> 2\u001b[1;33m \u001b[0mlen\u001b[0m\u001b[1;33m(\u001b[0m\u001b[0mPrice_tags\u001b[0m\u001b[1;33m)\u001b[0m\u001b[1;33m[\u001b[0m\u001b[1;36m0\u001b[0m\u001b[1;33m:\u001b[0m\u001b[1;36m36\u001b[0m\u001b[1;33m]\u001b[0m\u001b[1;33m\u001b[0m\u001b[1;33m\u001b[0m\u001b[0m\n\u001b[0m",
      "\u001b[1;31mTypeError\u001b[0m: 'int' object is not subscriptable"
     ]
    }
   ],
   "source": [
    "Price_tags = driver.find_elements_by_xpath('//a[@class=\"_3bPFwb\"]')\n",
    "len(Price_tags)[0:36]"
   ]
  },
  {
   "cell_type": "code",
   "execution_count": 18,
   "id": "0d0fa00c",
   "metadata": {},
   "outputs": [
    {
     "data": {
      "text/plain": [
       "['₹278₹1,99986% off',\n",
       " '₹149₹49970% off',\n",
       " '₹159₹99984% off',\n",
       " '₹629₹79921% off',\n",
       " '₹549₹79931% off\\nFree delivery',\n",
       " '₹329₹1,49978% off',\n",
       " '₹199₹1,29984% off',\n",
       " '₹267₹1,99986% off',\n",
       " '₹249₹1,59984% off',\n",
       " '₹133₹1,59991% off',\n",
       " '₹125₹49974% off',\n",
       " '₹424₹2,22580% off',\n",
       " '₹325₹2,59987% off',\n",
       " '₹709₹79911% off\\nFree delivery',\n",
       " '₹115₹49976% off',\n",
       " '₹267₹1,99986% off',\n",
       " '₹226₹1,69986% off',\n",
       " '₹149₹1,49990% off',\n",
       " '₹192₹1,19983% off',\n",
       " '₹169₹1,29986% off',\n",
       " '₹226₹2,49990% off',\n",
       " '₹193₹1,29985% off',\n",
       " '₹219₹1,99689% off',\n",
       " '₹325₹1,29974% off',\n",
       " '₹139₹1,46690% off',\n",
       " '₹127₹1,28890% off',\n",
       " '₹548₹79931% off\\nFree delivery',\n",
       " '₹424₹1,49971% off',\n",
       " '₹167₹99983% off',\n",
       " '₹261₹1,99986% off',\n",
       " '₹1,549₹1,99922% off\\nFree delivery',\n",
       " '₹349₹1,99982% off',\n",
       " '₹237₹1,89987% off',\n",
       " '₹159₹79980% off',\n",
       " '₹175₹79978% off',\n",
       " '₹749₹2,50070% off\\nFree delivery']"
      ]
     },
     "execution_count": 18,
     "metadata": {},
     "output_type": "execute_result"
    }
   ],
   "source": [
    "ProductPrice=[]\n",
    "for i in Price_tags:\n",
    "     ProductPrice.append(i.text)\n",
    "        \n",
    "ProductPrice[0:36]"
   ]
  },
  {
   "cell_type": "code",
   "execution_count": 20,
   "id": "d388fc37",
   "metadata": {},
   "outputs": [
    {
     "data": {
      "text/html": [
       "<div>\n",
       "<style scoped>\n",
       "    .dataframe tbody tr th:only-of-type {\n",
       "        vertical-align: middle;\n",
       "    }\n",
       "\n",
       "    .dataframe tbody tr th {\n",
       "        vertical-align: top;\n",
       "    }\n",
       "\n",
       "    .dataframe thead th {\n",
       "        text-align: right;\n",
       "    }\n",
       "</style>\n",
       "<table border=\"1\" class=\"dataframe\">\n",
       "  <thead>\n",
       "    <tr style=\"text-align: right;\">\n",
       "      <th></th>\n",
       "      <th>Brand Name</th>\n",
       "      <th>Discription</th>\n",
       "      <th>Price</th>\n",
       "    </tr>\n",
       "  </thead>\n",
       "  <tbody>\n",
       "    <tr>\n",
       "      <th>0</th>\n",
       "      <td>PHENOMENAL</td>\n",
       "      <td>UV Protection Retro Square Sunglasses (Free Size)</td>\n",
       "      <td>₹278₹1,99986% off</td>\n",
       "    </tr>\n",
       "    <tr>\n",
       "      <th>1</th>\n",
       "      <td>DEIXELS</td>\n",
       "      <td>UV Protection Wayfarer Sunglasses (Free Size)</td>\n",
       "      <td>₹149₹49970% off</td>\n",
       "    </tr>\n",
       "    <tr>\n",
       "      <th>2</th>\n",
       "      <td>hipe</td>\n",
       "      <td>UV Protection, Gradient, Mirrored, Riding Glas...</td>\n",
       "      <td>₹159₹99984% off</td>\n",
       "    </tr>\n",
       "    <tr>\n",
       "      <th>3</th>\n",
       "      <td>Fastrack</td>\n",
       "      <td>Gradient, UV Protection Wayfarer Sunglasses (F...</td>\n",
       "      <td>₹629₹79921% off</td>\n",
       "    </tr>\n",
       "    <tr>\n",
       "      <th>4</th>\n",
       "      <td>Fastrack</td>\n",
       "      <td>UV Protection Wayfarer Sunglasses (Free Size)</td>\n",
       "      <td>₹549₹79931% off\\nFree delivery</td>\n",
       "    </tr>\n",
       "    <tr>\n",
       "      <th>5</th>\n",
       "      <td>ROYAL SON</td>\n",
       "      <td>Mirrored Aviator Sunglasses (Free Size)</td>\n",
       "      <td>₹329₹1,49978% off</td>\n",
       "    </tr>\n",
       "    <tr>\n",
       "      <th>6</th>\n",
       "      <td>Elligator</td>\n",
       "      <td>UV Protection Wayfarer Sunglasses (53)</td>\n",
       "      <td>₹199₹1,29984% off</td>\n",
       "    </tr>\n",
       "    <tr>\n",
       "      <th>7</th>\n",
       "      <td>PHENOMENAL</td>\n",
       "      <td>UV Protection, Mirrored Retro Square Sunglasse...</td>\n",
       "      <td>₹267₹1,99986% off</td>\n",
       "    </tr>\n",
       "    <tr>\n",
       "      <th>8</th>\n",
       "      <td>PIRASO</td>\n",
       "      <td>UV Protection Aviator Sunglasses (Free Size)</td>\n",
       "      <td>₹249₹1,59984% off</td>\n",
       "    </tr>\n",
       "    <tr>\n",
       "      <th>9</th>\n",
       "      <td>New Specs</td>\n",
       "      <td>UV Protection Aviator Sunglasses (Free Size)</td>\n",
       "      <td>₹133₹1,59991% off</td>\n",
       "    </tr>\n",
       "    <tr>\n",
       "      <th>10</th>\n",
       "      <td>Rich Club</td>\n",
       "      <td>Polarized Round Sunglasses (48)</td>\n",
       "      <td>₹125₹49974% off</td>\n",
       "    </tr>\n",
       "    <tr>\n",
       "      <th>11</th>\n",
       "      <td>ROZZETTA CRAFT</td>\n",
       "      <td>UV Protection Retro Square Sunglasses (Free Size)</td>\n",
       "      <td>₹424₹2,22580% off</td>\n",
       "    </tr>\n",
       "    <tr>\n",
       "      <th>12</th>\n",
       "      <td>PIRASO</td>\n",
       "      <td>UV Protection Butterfly Sunglasses (60)</td>\n",
       "      <td>₹325₹2,59987% off</td>\n",
       "    </tr>\n",
       "    <tr>\n",
       "      <th>13</th>\n",
       "      <td>Fastrack</td>\n",
       "      <td>UV Protection Aviator Sunglasses (Free Size)</td>\n",
       "      <td>₹709₹79911% off\\nFree delivery</td>\n",
       "    </tr>\n",
       "    <tr>\n",
       "      <th>14</th>\n",
       "      <td>Rich Club</td>\n",
       "      <td>Polarized Round Sunglasses (48)</td>\n",
       "      <td>₹115₹49976% off</td>\n",
       "    </tr>\n",
       "    <tr>\n",
       "      <th>15</th>\n",
       "      <td>PHENOMENAL</td>\n",
       "      <td>UV Protection, Mirrored Retro Square Sunglasse...</td>\n",
       "      <td>₹267₹1,99986% off</td>\n",
       "    </tr>\n",
       "    <tr>\n",
       "      <th>16</th>\n",
       "      <td>SHAAH COLLECTIONS</td>\n",
       "      <td>UV Protection Round Sunglasses (Free Size)</td>\n",
       "      <td>₹226₹1,69986% off</td>\n",
       "    </tr>\n",
       "    <tr>\n",
       "      <th>17</th>\n",
       "      <td>DEIXELS</td>\n",
       "      <td>UV Protection Rectangular Sunglasses (Free Size)</td>\n",
       "      <td>₹149₹1,49990% off</td>\n",
       "    </tr>\n",
       "    <tr>\n",
       "      <th>18</th>\n",
       "      <td>Silver Kartz</td>\n",
       "      <td>UV Protection Aviator Sunglasses (88)</td>\n",
       "      <td>₹192₹1,19983% off</td>\n",
       "    </tr>\n",
       "    <tr>\n",
       "      <th>19</th>\n",
       "      <td>kingsunglasses</td>\n",
       "      <td>Mirrored, UV Protection Aviator Sunglasses (56)</td>\n",
       "      <td>₹169₹1,29986% off</td>\n",
       "    </tr>\n",
       "    <tr>\n",
       "      <th>20</th>\n",
       "      <td>Lee Topper</td>\n",
       "      <td>Riding Glasses, Night Vision Wrap-around Sungl...</td>\n",
       "      <td>₹226₹2,49990% off</td>\n",
       "    </tr>\n",
       "    <tr>\n",
       "      <th>21</th>\n",
       "      <td>SUNBEE</td>\n",
       "      <td>UV Protection, Polarized, Mirrored Wayfarer Su...</td>\n",
       "      <td>₹193₹1,29985% off</td>\n",
       "    </tr>\n",
       "    <tr>\n",
       "      <th>22</th>\n",
       "      <td>Elligator</td>\n",
       "      <td>UV Protection Round Sunglasses (50)</td>\n",
       "      <td>₹219₹1,99689% off</td>\n",
       "    </tr>\n",
       "    <tr>\n",
       "      <th>23</th>\n",
       "      <td>Lee Topper</td>\n",
       "      <td>UV Protection, Riding Glasses Retro Square, Sp...</td>\n",
       "      <td>₹325₹1,29974% off</td>\n",
       "    </tr>\n",
       "    <tr>\n",
       "      <th>24</th>\n",
       "      <td>hipe</td>\n",
       "      <td>Mirrored, UV Protection, Gradient Round Sungla...</td>\n",
       "      <td>₹139₹1,46690% off</td>\n",
       "    </tr>\n",
       "    <tr>\n",
       "      <th>25</th>\n",
       "      <td>Johaena</td>\n",
       "      <td>Riding Glasses, UV Protection Oval Sunglasses ...</td>\n",
       "      <td>₹127₹1,28890% off</td>\n",
       "    </tr>\n",
       "    <tr>\n",
       "      <th>26</th>\n",
       "      <td>Fastrack</td>\n",
       "      <td>Polarized Retro Square Sunglasses (Free Size)</td>\n",
       "      <td>₹548₹79931% off\\nFree delivery</td>\n",
       "    </tr>\n",
       "    <tr>\n",
       "      <th>27</th>\n",
       "      <td>ROYAL SON</td>\n",
       "      <td>UV Protection Rectangular Sunglasses (58)</td>\n",
       "      <td>₹424₹1,49971% off</td>\n",
       "    </tr>\n",
       "    <tr>\n",
       "      <th>28</th>\n",
       "      <td>ROYAL SON</td>\n",
       "      <td>UV Protection, Gradient Wayfarer Sunglasses (55)</td>\n",
       "      <td>₹167₹99983% off</td>\n",
       "    </tr>\n",
       "    <tr>\n",
       "      <th>29</th>\n",
       "      <td>Elligator</td>\n",
       "      <td>UV Protection Retro Square, Round Sunglasses (54)</td>\n",
       "      <td>₹261₹1,99986% off</td>\n",
       "    </tr>\n",
       "    <tr>\n",
       "      <th>30</th>\n",
       "      <td>Fastrack</td>\n",
       "      <td>UV Protection Oval Sunglasses (Free Size)</td>\n",
       "      <td>₹1,549₹1,99922% off\\nFree delivery</td>\n",
       "    </tr>\n",
       "    <tr>\n",
       "      <th>31</th>\n",
       "      <td>ROZZETTA CRAFT</td>\n",
       "      <td>UV Protection, Gradient Rectangular Sunglasses...</td>\n",
       "      <td>₹349₹1,99982% off</td>\n",
       "    </tr>\n",
       "    <tr>\n",
       "      <th>32</th>\n",
       "      <td>hipe</td>\n",
       "      <td>UV Protection Sports Sunglasses (Free Size)</td>\n",
       "      <td>₹237₹1,89987% off</td>\n",
       "    </tr>\n",
       "    <tr>\n",
       "      <th>33</th>\n",
       "      <td>Rich Club</td>\n",
       "      <td>UV Protection Round Sunglasses (48)</td>\n",
       "      <td>₹159₹79980% off</td>\n",
       "    </tr>\n",
       "    <tr>\n",
       "      <th>34</th>\n",
       "      <td>Rich Club</td>\n",
       "      <td>UV Protection, Mirrored, Gradient Round Sungla...</td>\n",
       "      <td>₹175₹79978% off</td>\n",
       "    </tr>\n",
       "    <tr>\n",
       "      <th>35</th>\n",
       "      <td>VINCENT CHASE</td>\n",
       "      <td>by Lenskart Polarized, UV Protection Wayfarer ...</td>\n",
       "      <td>₹749₹2,50070% off\\nFree delivery</td>\n",
       "    </tr>\n",
       "    <tr>\n",
       "      <th>36</th>\n",
       "      <td>Lee Topper</td>\n",
       "      <td>UV Protection Cat-eye Sunglasses (Free Size)</td>\n",
       "      <td>₹231₹1,29982% off</td>\n",
       "    </tr>\n",
       "    <tr>\n",
       "      <th>37</th>\n",
       "      <td>ROZZETTA CRAFT</td>\n",
       "      <td>UV Protection, Gradient Round Sunglasses (Free...</td>\n",
       "      <td>₹292₹1,99985% off</td>\n",
       "    </tr>\n",
       "    <tr>\n",
       "      <th>38</th>\n",
       "      <td>kingsunglasses</td>\n",
       "      <td>UV Protection, Mirrored Wayfarer Sunglasses (F...</td>\n",
       "      <td>₹111₹99988% off</td>\n",
       "    </tr>\n",
       "    <tr>\n",
       "      <th>39</th>\n",
       "      <td>PHENOMENAL</td>\n",
       "      <td>UV Protection, Mirrored Clubmaster Sunglasses ...</td>\n",
       "      <td>₹257₹1,99887% off</td>\n",
       "    </tr>\n",
       "  </tbody>\n",
       "</table>\n",
       "</div>"
      ],
      "text/plain": [
       "           Brand Name                                        Discription  \\\n",
       "0          PHENOMENAL  UV Protection Retro Square Sunglasses (Free Size)   \n",
       "1             DEIXELS      UV Protection Wayfarer Sunglasses (Free Size)   \n",
       "2                hipe  UV Protection, Gradient, Mirrored, Riding Glas...   \n",
       "3            Fastrack  Gradient, UV Protection Wayfarer Sunglasses (F...   \n",
       "4            Fastrack      UV Protection Wayfarer Sunglasses (Free Size)   \n",
       "5           ROYAL SON            Mirrored Aviator Sunglasses (Free Size)   \n",
       "6           Elligator             UV Protection Wayfarer Sunglasses (53)   \n",
       "7          PHENOMENAL  UV Protection, Mirrored Retro Square Sunglasse...   \n",
       "8              PIRASO       UV Protection Aviator Sunglasses (Free Size)   \n",
       "9           New Specs       UV Protection Aviator Sunglasses (Free Size)   \n",
       "10          Rich Club                    Polarized Round Sunglasses (48)   \n",
       "11     ROZZETTA CRAFT  UV Protection Retro Square Sunglasses (Free Size)   \n",
       "12             PIRASO            UV Protection Butterfly Sunglasses (60)   \n",
       "13           Fastrack       UV Protection Aviator Sunglasses (Free Size)   \n",
       "14          Rich Club                    Polarized Round Sunglasses (48)   \n",
       "15         PHENOMENAL  UV Protection, Mirrored Retro Square Sunglasse...   \n",
       "16  SHAAH COLLECTIONS         UV Protection Round Sunglasses (Free Size)   \n",
       "17            DEIXELS   UV Protection Rectangular Sunglasses (Free Size)   \n",
       "18       Silver Kartz              UV Protection Aviator Sunglasses (88)   \n",
       "19     kingsunglasses    Mirrored, UV Protection Aviator Sunglasses (56)   \n",
       "20         Lee Topper  Riding Glasses, Night Vision Wrap-around Sungl...   \n",
       "21             SUNBEE  UV Protection, Polarized, Mirrored Wayfarer Su...   \n",
       "22          Elligator                UV Protection Round Sunglasses (50)   \n",
       "23         Lee Topper  UV Protection, Riding Glasses Retro Square, Sp...   \n",
       "24               hipe  Mirrored, UV Protection, Gradient Round Sungla...   \n",
       "25            Johaena  Riding Glasses, UV Protection Oval Sunglasses ...   \n",
       "26           Fastrack      Polarized Retro Square Sunglasses (Free Size)   \n",
       "27          ROYAL SON          UV Protection Rectangular Sunglasses (58)   \n",
       "28          ROYAL SON   UV Protection, Gradient Wayfarer Sunglasses (55)   \n",
       "29          Elligator  UV Protection Retro Square, Round Sunglasses (54)   \n",
       "30           Fastrack          UV Protection Oval Sunglasses (Free Size)   \n",
       "31     ROZZETTA CRAFT  UV Protection, Gradient Rectangular Sunglasses...   \n",
       "32               hipe        UV Protection Sports Sunglasses (Free Size)   \n",
       "33          Rich Club                UV Protection Round Sunglasses (48)   \n",
       "34          Rich Club  UV Protection, Mirrored, Gradient Round Sungla...   \n",
       "35      VINCENT CHASE  by Lenskart Polarized, UV Protection Wayfarer ...   \n",
       "36         Lee Topper       UV Protection Cat-eye Sunglasses (Free Size)   \n",
       "37     ROZZETTA CRAFT  UV Protection, Gradient Round Sunglasses (Free...   \n",
       "38     kingsunglasses  UV Protection, Mirrored Wayfarer Sunglasses (F...   \n",
       "39         PHENOMENAL  UV Protection, Mirrored Clubmaster Sunglasses ...   \n",
       "\n",
       "                                 Price  \n",
       "0                    ₹278₹1,99986% off  \n",
       "1                      ₹149₹49970% off  \n",
       "2                      ₹159₹99984% off  \n",
       "3                      ₹629₹79921% off  \n",
       "4       ₹549₹79931% off\\nFree delivery  \n",
       "5                    ₹329₹1,49978% off  \n",
       "6                    ₹199₹1,29984% off  \n",
       "7                    ₹267₹1,99986% off  \n",
       "8                    ₹249₹1,59984% off  \n",
       "9                    ₹133₹1,59991% off  \n",
       "10                     ₹125₹49974% off  \n",
       "11                   ₹424₹2,22580% off  \n",
       "12                   ₹325₹2,59987% off  \n",
       "13      ₹709₹79911% off\\nFree delivery  \n",
       "14                     ₹115₹49976% off  \n",
       "15                   ₹267₹1,99986% off  \n",
       "16                   ₹226₹1,69986% off  \n",
       "17                   ₹149₹1,49990% off  \n",
       "18                   ₹192₹1,19983% off  \n",
       "19                   ₹169₹1,29986% off  \n",
       "20                   ₹226₹2,49990% off  \n",
       "21                   ₹193₹1,29985% off  \n",
       "22                   ₹219₹1,99689% off  \n",
       "23                   ₹325₹1,29974% off  \n",
       "24                   ₹139₹1,46690% off  \n",
       "25                   ₹127₹1,28890% off  \n",
       "26      ₹548₹79931% off\\nFree delivery  \n",
       "27                   ₹424₹1,49971% off  \n",
       "28                     ₹167₹99983% off  \n",
       "29                   ₹261₹1,99986% off  \n",
       "30  ₹1,549₹1,99922% off\\nFree delivery  \n",
       "31                   ₹349₹1,99982% off  \n",
       "32                   ₹237₹1,89987% off  \n",
       "33                     ₹159₹79980% off  \n",
       "34                     ₹175₹79978% off  \n",
       "35    ₹749₹2,50070% off\\nFree delivery  \n",
       "36                   ₹231₹1,29982% off  \n",
       "37                   ₹292₹1,99985% off  \n",
       "38                     ₹111₹99988% off  \n",
       "39                   ₹257₹1,99887% off  "
      ]
     },
     "execution_count": 20,
     "metadata": {},
     "output_type": "execute_result"
    }
   ],
   "source": [
    "import pandas as pd\n",
    "df4=pd.DataFrame({\"Brand Name\" :BrandName,\"Discription\":ProductDiscription ,\"Price\":ProductPrice})\n",
    "df4"
   ]
  },
  {
   "cell_type": "code",
   "execution_count": 21,
   "id": "fdce2649",
   "metadata": {},
   "outputs": [
    {
     "data": {
      "text/plain": [
       "<selenium.webdriver.remote.webelement.WebElement (session=\"956896c8ff917f122336247a24b76b82\", element=\"26f79762-6d9c-45c5-b473-f29e11c0a748\")>"
      ]
     },
     "execution_count": 21,
     "metadata": {},
     "output_type": "execute_result"
    }
   ],
   "source": [
    "Next_Button=driver.find_element_by_xpath(\"/html/body/div[1]/div/div[3]/div[1]/div[2]/div[12]/div/div/nav/a[11]\")\n",
    "Next_Button"
   ]
  },
  {
   "cell_type": "code",
   "execution_count": 22,
   "id": "23dbe086",
   "metadata": {},
   "outputs": [],
   "source": [
    "Next_Button.click() "
   ]
  },
  {
   "cell_type": "code",
   "execution_count": 23,
   "id": "458e5d49",
   "metadata": {},
   "outputs": [
    {
     "data": {
      "text/plain": [
       "40"
      ]
     },
     "execution_count": 23,
     "metadata": {},
     "output_type": "execute_result"
    }
   ],
   "source": [
    "Brand_tags = driver.find_elements_by_xpath('//div[@class=\"_2WkVRV\"]')\n",
    "len(Brand_tags)"
   ]
  },
  {
   "cell_type": "code",
   "execution_count": 24,
   "id": "00cb106b",
   "metadata": {},
   "outputs": [
    {
     "data": {
      "text/plain": [
       "['Urbanic',\n",
       " 'ROYAL SON',\n",
       " 'United Colors of Benetton',\n",
       " 'ROZZETTA CRAFT',\n",
       " 'SUNBEE',\n",
       " 'NuVew',\n",
       " 'kingsunglasses',\n",
       " 'SKYZA INDIA',\n",
       " 'IDEE',\n",
       " 'NuVew',\n",
       " 'United Colors of Benetton',\n",
       " 'AISLIN',\n",
       " 'NuVew',\n",
       " 'IDEE',\n",
       " 'NuVew',\n",
       " 'ROZZETTA CRAFT',\n",
       " 'NuVew',\n",
       " 'New Specs',\n",
       " 'ROYAL SON',\n",
       " 'ROZZETTA CRAFT',\n",
       " 'Cruze',\n",
       " 'ROZZETTA CRAFT',\n",
       " 'Urbanic',\n",
       " 'AISLIN',\n",
       " 'AISLIN',\n",
       " 'Elligator',\n",
       " 'ROYAL SON',\n",
       " 'ROZZETTA CRAFT',\n",
       " 'Rich Club',\n",
       " 'AISLIN',\n",
       " 'Ray-Ban',\n",
       " 'HAMIW COLLECTION',\n",
       " 'PETER JONES',\n",
       " 'Fastrack',\n",
       " 'AISLIN',\n",
       " 'Sewell']"
      ]
     },
     "execution_count": 24,
     "metadata": {},
     "output_type": "execute_result"
    }
   ],
   "source": [
    "BrandName=[]\n",
    "for i in Brand_tags:\n",
    "     BrandName.append(i.text)\n",
    "        \n",
    "BrandName[0:36]"
   ]
  },
  {
   "cell_type": "code",
   "execution_count": 25,
   "id": "f2ccac02",
   "metadata": {},
   "outputs": [
    {
     "data": {
      "text/plain": [
       "[<selenium.webdriver.remote.webelement.WebElement (session=\"956896c8ff917f122336247a24b76b82\", element=\"48a7d35a-7b34-4a51-95d0-fe607c710247\")>,\n",
       " <selenium.webdriver.remote.webelement.WebElement (session=\"956896c8ff917f122336247a24b76b82\", element=\"c3d9227b-7681-4993-8027-b21714a7d199\")>,\n",
       " <selenium.webdriver.remote.webelement.WebElement (session=\"956896c8ff917f122336247a24b76b82\", element=\"7ba816f3-f04c-4a04-861b-bdb61edc6aff\")>,\n",
       " <selenium.webdriver.remote.webelement.WebElement (session=\"956896c8ff917f122336247a24b76b82\", element=\"c2c6e39b-4d4b-4f2a-915a-7e2e18f0f12f\")>,\n",
       " <selenium.webdriver.remote.webelement.WebElement (session=\"956896c8ff917f122336247a24b76b82\", element=\"ab34ae7e-1077-4640-a441-bf7280c4dfa9\")>,\n",
       " <selenium.webdriver.remote.webelement.WebElement (session=\"956896c8ff917f122336247a24b76b82\", element=\"a4fe4f9f-8ee8-4e19-b1c8-f280d4937e9f\")>,\n",
       " <selenium.webdriver.remote.webelement.WebElement (session=\"956896c8ff917f122336247a24b76b82\", element=\"73d7d36c-4768-4f8d-b898-b7cb613737c7\")>,\n",
       " <selenium.webdriver.remote.webelement.WebElement (session=\"956896c8ff917f122336247a24b76b82\", element=\"7cd88b73-225b-4861-89d9-2062d9addb56\")>,\n",
       " <selenium.webdriver.remote.webelement.WebElement (session=\"956896c8ff917f122336247a24b76b82\", element=\"c5b6ca38-e9f2-4c34-bb3b-efc612482e01\")>,\n",
       " <selenium.webdriver.remote.webelement.WebElement (session=\"956896c8ff917f122336247a24b76b82\", element=\"22a49755-0b10-40a2-9baa-417addd97435\")>,\n",
       " <selenium.webdriver.remote.webelement.WebElement (session=\"956896c8ff917f122336247a24b76b82\", element=\"9c42207b-196a-4df4-a9f4-919dabcf1c17\")>,\n",
       " <selenium.webdriver.remote.webelement.WebElement (session=\"956896c8ff917f122336247a24b76b82\", element=\"b5bfa70f-9349-4be6-a840-f5b9b239d153\")>,\n",
       " <selenium.webdriver.remote.webelement.WebElement (session=\"956896c8ff917f122336247a24b76b82\", element=\"da04c18e-0d53-4586-82cf-46e24c53b81a\")>,\n",
       " <selenium.webdriver.remote.webelement.WebElement (session=\"956896c8ff917f122336247a24b76b82\", element=\"8863e8d7-17c4-4f28-90c3-979c883e7a8e\")>,\n",
       " <selenium.webdriver.remote.webelement.WebElement (session=\"956896c8ff917f122336247a24b76b82\", element=\"336cf15c-c388-4405-92bb-6e000f5b57c2\")>,\n",
       " <selenium.webdriver.remote.webelement.WebElement (session=\"956896c8ff917f122336247a24b76b82\", element=\"6b8e3c8f-c09d-4622-9bc6-33ec808c3914\")>,\n",
       " <selenium.webdriver.remote.webelement.WebElement (session=\"956896c8ff917f122336247a24b76b82\", element=\"2652c79d-944a-49a6-98bc-118c4179db50\")>,\n",
       " <selenium.webdriver.remote.webelement.WebElement (session=\"956896c8ff917f122336247a24b76b82\", element=\"b1b290ef-f52c-4833-972e-ca56bda3cdc5\")>,\n",
       " <selenium.webdriver.remote.webelement.WebElement (session=\"956896c8ff917f122336247a24b76b82\", element=\"8094f07a-6994-4812-9c90-db0c092efd9b\")>,\n",
       " <selenium.webdriver.remote.webelement.WebElement (session=\"956896c8ff917f122336247a24b76b82\", element=\"7adceda9-f4ae-4b07-81ef-5345f4ece20e\")>,\n",
       " <selenium.webdriver.remote.webelement.WebElement (session=\"956896c8ff917f122336247a24b76b82\", element=\"e55ef68f-fcf3-4e3b-8db5-baff789f28c3\")>,\n",
       " <selenium.webdriver.remote.webelement.WebElement (session=\"956896c8ff917f122336247a24b76b82\", element=\"4f83e121-5da1-4ffd-8c39-1a5cc47b58ab\")>,\n",
       " <selenium.webdriver.remote.webelement.WebElement (session=\"956896c8ff917f122336247a24b76b82\", element=\"0c20b79e-410a-40e6-83d6-bdaca3c57886\")>,\n",
       " <selenium.webdriver.remote.webelement.WebElement (session=\"956896c8ff917f122336247a24b76b82\", element=\"6f0f50eb-5ba4-4c71-8374-ff9a9512b3b3\")>,\n",
       " <selenium.webdriver.remote.webelement.WebElement (session=\"956896c8ff917f122336247a24b76b82\", element=\"299ba2c0-d30a-43cd-98cd-634f6ecf33f9\")>,\n",
       " <selenium.webdriver.remote.webelement.WebElement (session=\"956896c8ff917f122336247a24b76b82\", element=\"814eb2bc-e70a-4f7e-a2b6-a872e47e6d91\")>,\n",
       " <selenium.webdriver.remote.webelement.WebElement (session=\"956896c8ff917f122336247a24b76b82\", element=\"58232d72-42fb-4443-bd92-a7ee6db5e465\")>,\n",
       " <selenium.webdriver.remote.webelement.WebElement (session=\"956896c8ff917f122336247a24b76b82\", element=\"ecc438c8-cabe-468c-bb95-85c09544cb59\")>,\n",
       " <selenium.webdriver.remote.webelement.WebElement (session=\"956896c8ff917f122336247a24b76b82\", element=\"f2839104-0d59-4230-a70f-e33f3fefd629\")>,\n",
       " <selenium.webdriver.remote.webelement.WebElement (session=\"956896c8ff917f122336247a24b76b82\", element=\"9391dff8-c613-4360-a2ec-bc3c59ac03db\")>,\n",
       " <selenium.webdriver.remote.webelement.WebElement (session=\"956896c8ff917f122336247a24b76b82\", element=\"71a5b8c9-8a45-4906-9b5f-a87f05ebe999\")>,\n",
       " <selenium.webdriver.remote.webelement.WebElement (session=\"956896c8ff917f122336247a24b76b82\", element=\"3dc9cb4c-15c5-4255-9aad-db141294332f\")>,\n",
       " <selenium.webdriver.remote.webelement.WebElement (session=\"956896c8ff917f122336247a24b76b82\", element=\"67183b69-1cbe-44a5-8633-74960b1333a7\")>,\n",
       " <selenium.webdriver.remote.webelement.WebElement (session=\"956896c8ff917f122336247a24b76b82\", element=\"61825562-8477-49b5-9599-2749cfdf166a\")>,\n",
       " <selenium.webdriver.remote.webelement.WebElement (session=\"956896c8ff917f122336247a24b76b82\", element=\"b1c4ab00-e156-44a1-9168-bdf8e5d91dce\")>,\n",
       " <selenium.webdriver.remote.webelement.WebElement (session=\"956896c8ff917f122336247a24b76b82\", element=\"40a1f2fc-61c5-4e10-b10b-6fc48a37f51f\")>]"
      ]
     },
     "execution_count": 25,
     "metadata": {},
     "output_type": "execute_result"
    }
   ],
   "source": [
    "Brand_Discr = driver.find_elements_by_xpath('//a[@class=\"IRpwTa\"]')\n",
    "len(Brand_Discr)\n",
    "Brand_Discr[0:36]"
   ]
  },
  {
   "cell_type": "code",
   "execution_count": 26,
   "id": "5550b4cd",
   "metadata": {},
   "outputs": [
    {
     "data": {
      "text/plain": [
       "['Others Retro Square Sunglasses (Free Size)',\n",
       " 'Mirrored Aviator Sunglasses (55)',\n",
       " 'Gradient Retro Square Sunglasses (56)',\n",
       " 'UV Protection, Gradient Rectangular Sunglasses (Free Si...',\n",
       " 'UV Protection, Polarized, Mirrored Retro Square, Rectan...',\n",
       " 'UV Protection, Mirrored Wayfarer, Rectangular Sunglasse...',\n",
       " 'UV Protection Round Sunglasses (Free Size)',\n",
       " 'Polarized, UV Protection Sports Sunglasses (Free Size)',\n",
       " 'UV Protection Round Sunglasses (49)',\n",
       " 'UV Protection, Mirrored Aviator Sunglasses (57)',\n",
       " 'Gradient, Mirrored, UV Protection Aviator Sunglasses (5...',\n",
       " 'Toughened Glass Lens, UV Protection Wrap-around, Rectan...',\n",
       " 'UV Protection Aviator Sunglasses (Free Size)',\n",
       " 'UV Protection Wayfarer Sunglasses (50)',\n",
       " 'UV Protection Cat-eye Sunglasses (60)',\n",
       " 'Gradient, UV Protection Round Sunglasses (Free Size)',\n",
       " 'UV Protection, Gradient Cat-eye Sunglasses (59)',\n",
       " 'UV Protection Round Sunglasses (Free Size)',\n",
       " 'Gradient Retro Square Sunglasses (60)',\n",
       " 'UV Protection, Gradient Retro Square Sunglasses (Free S...',\n",
       " 'UV Protection Aviator Sunglasses (Free Size)',\n",
       " 'UV Protection Rectangular Sunglasses (Free Size)',\n",
       " 'Others Oval Sunglasses (Free Size)',\n",
       " 'UV Protection, Gradient Cat-eye Sunglasses (58)',\n",
       " 'Toughened Glass Lens, UV Protection Aviator Sunglasses ...',\n",
       " 'UV Protection, Riding Glasses Rectangular, Retro Square...',\n",
       " 'UV Protection Aviator Sunglasses (Free Size)',\n",
       " 'UV Protection Aviator Sunglasses (62)',\n",
       " 'Polarized, UV Protection, Riding Glasses Wayfarer, Rect...',\n",
       " 'UV Protection, Gradient Oval Sunglasses (58)',\n",
       " 'UV Protection Wayfarer Sunglasses (51)',\n",
       " 'UV Protection Wayfarer, Sports, Shield, Rectangular, Re...',\n",
       " 'UV Protection Over-sized Sunglasses (58)',\n",
       " 'Aviator Sunglasses (58)',\n",
       " 'UV Protection Oval Sunglasses (60)',\n",
       " 'Polarized Butterfly Sunglasses (Free Size)']"
      ]
     },
     "execution_count": 26,
     "metadata": {},
     "output_type": "execute_result"
    }
   ],
   "source": [
    "ProductDiscription=[]\n",
    "for i in Brand_Discr:\n",
    "     ProductDiscription.append(i.text)\n",
    "        \n",
    "ProductDiscription[0:36]"
   ]
  },
  {
   "cell_type": "code",
   "execution_count": 27,
   "id": "b6b10fb2",
   "metadata": {},
   "outputs": [
    {
     "ename": "TypeError",
     "evalue": "'int' object is not subscriptable",
     "output_type": "error",
     "traceback": [
      "\u001b[1;31m---------------------------------------------------------------------------\u001b[0m",
      "\u001b[1;31mTypeError\u001b[0m                                 Traceback (most recent call last)",
      "\u001b[1;32m<ipython-input-27-9f5863846aed>\u001b[0m in \u001b[0;36m<module>\u001b[1;34m\u001b[0m\n\u001b[0;32m      1\u001b[0m \u001b[0mPrice_tags\u001b[0m \u001b[1;33m=\u001b[0m \u001b[0mdriver\u001b[0m\u001b[1;33m.\u001b[0m\u001b[0mfind_elements_by_xpath\u001b[0m\u001b[1;33m(\u001b[0m\u001b[1;34m'//a[@class=\"_3bPFwb\"]'\u001b[0m\u001b[1;33m)\u001b[0m\u001b[1;33m\u001b[0m\u001b[1;33m\u001b[0m\u001b[0m\n\u001b[1;32m----> 2\u001b[1;33m \u001b[0mlen\u001b[0m\u001b[1;33m(\u001b[0m\u001b[0mPrice_tags\u001b[0m\u001b[1;33m)\u001b[0m\u001b[1;33m[\u001b[0m\u001b[1;36m0\u001b[0m\u001b[1;33m:\u001b[0m\u001b[1;36m36\u001b[0m\u001b[1;33m]\u001b[0m\u001b[1;33m\u001b[0m\u001b[1;33m\u001b[0m\u001b[0m\n\u001b[0m",
      "\u001b[1;31mTypeError\u001b[0m: 'int' object is not subscriptable"
     ]
    }
   ],
   "source": [
    "Price_tags = driver.find_elements_by_xpath('//a[@class=\"_3bPFwb\"]')\n",
    "len(Price_tags)[0:36]"
   ]
  },
  {
   "cell_type": "code",
   "execution_count": 28,
   "id": "85ee3b86",
   "metadata": {},
   "outputs": [
    {
     "data": {
      "text/plain": [
       "['₹439₹1,09059% off',\n",
       " '₹329₹1,49978% off',\n",
       " '₹757₹3,70079% off',\n",
       " '₹399₹1,99980% off',\n",
       " '₹161₹99983% off',\n",
       " '₹264₹1,04574% off',\n",
       " '₹169₹1,49988% off',\n",
       " '₹409₹1,79977% off',\n",
       " '₹869₹2,25061% off\\nFree delivery',\n",
       " '₹145₹75080% off',\n",
       " '₹869₹4,10078% off\\nFree delivery',\n",
       " '₹1,248₹3,69966% off\\nFree delivery',\n",
       " '₹346₹1,25072% off',\n",
       " '₹789₹2,05061% off\\nFree delivery',\n",
       " '₹327₹1,44577% off',\n",
       " '₹376₹1,99581% off',\n",
       " '₹159₹1,65090% off',\n",
       " '₹128₹1,59991% off',\n",
       " '₹614₹1,99969% off\\nFree delivery',\n",
       " '₹281₹1,99985% off',\n",
       " '₹380₹1,29570% off',\n",
       " '₹253₹1,49983% off',\n",
       " '₹399₹99059% off',\n",
       " '₹409₹1,52573% off',\n",
       " '₹848₹3,69977% off\\nFree delivery',\n",
       " '₹281₹1,49981% off',\n",
       " '₹424₹1,29967% off',\n",
       " '₹599₹2,55576% off\\nFree delivery',\n",
       " '₹225₹99977% off',\n",
       " '₹396₹1,52574% off',\n",
       " '₹4,139₹5,59025% off\\nFree delivery',\n",
       " '₹98₹1,49993% off',\n",
       " '₹369₹1,20069% off',\n",
       " '₹1,349₹1,99932% off\\nFree delivery',\n",
       " '₹376₹3,20088% off',\n",
       " '₹599₹1,99970% off\\nFree delivery']"
      ]
     },
     "execution_count": 28,
     "metadata": {},
     "output_type": "execute_result"
    }
   ],
   "source": [
    "ProductPrice=[]\n",
    "for i in Price_tags:\n",
    "     ProductPrice.append(i.text)\n",
    "        \n",
    "ProductPrice[0:36]"
   ]
  },
  {
   "cell_type": "code",
   "execution_count": 29,
   "id": "e40de5a9",
   "metadata": {},
   "outputs": [
    {
     "data": {
      "text/html": [
       "<div>\n",
       "<style scoped>\n",
       "    .dataframe tbody tr th:only-of-type {\n",
       "        vertical-align: middle;\n",
       "    }\n",
       "\n",
       "    .dataframe tbody tr th {\n",
       "        vertical-align: top;\n",
       "    }\n",
       "\n",
       "    .dataframe thead th {\n",
       "        text-align: right;\n",
       "    }\n",
       "</style>\n",
       "<table border=\"1\" class=\"dataframe\">\n",
       "  <thead>\n",
       "    <tr style=\"text-align: right;\">\n",
       "      <th></th>\n",
       "      <th>Brand Name</th>\n",
       "      <th>Discription</th>\n",
       "      <th>Price</th>\n",
       "    </tr>\n",
       "  </thead>\n",
       "  <tbody>\n",
       "    <tr>\n",
       "      <th>0</th>\n",
       "      <td>Urbanic</td>\n",
       "      <td>Others Retro Square Sunglasses (Free Size)</td>\n",
       "      <td>₹439₹1,09059% off</td>\n",
       "    </tr>\n",
       "    <tr>\n",
       "      <th>1</th>\n",
       "      <td>ROYAL SON</td>\n",
       "      <td>Mirrored Aviator Sunglasses (55)</td>\n",
       "      <td>₹329₹1,49978% off</td>\n",
       "    </tr>\n",
       "    <tr>\n",
       "      <th>2</th>\n",
       "      <td>United Colors of Benetton</td>\n",
       "      <td>Gradient Retro Square Sunglasses (56)</td>\n",
       "      <td>₹757₹3,70079% off</td>\n",
       "    </tr>\n",
       "    <tr>\n",
       "      <th>3</th>\n",
       "      <td>ROZZETTA CRAFT</td>\n",
       "      <td>UV Protection, Gradient Rectangular Sunglasses...</td>\n",
       "      <td>₹399₹1,99980% off</td>\n",
       "    </tr>\n",
       "    <tr>\n",
       "      <th>4</th>\n",
       "      <td>SUNBEE</td>\n",
       "      <td>UV Protection, Polarized, Mirrored Retro Squar...</td>\n",
       "      <td>₹161₹99983% off</td>\n",
       "    </tr>\n",
       "    <tr>\n",
       "      <th>5</th>\n",
       "      <td>NuVew</td>\n",
       "      <td>UV Protection, Mirrored Wayfarer, Rectangular ...</td>\n",
       "      <td>₹264₹1,04574% off</td>\n",
       "    </tr>\n",
       "    <tr>\n",
       "      <th>6</th>\n",
       "      <td>kingsunglasses</td>\n",
       "      <td>UV Protection Round Sunglasses (Free Size)</td>\n",
       "      <td>₹169₹1,49988% off</td>\n",
       "    </tr>\n",
       "    <tr>\n",
       "      <th>7</th>\n",
       "      <td>SKYZA INDIA</td>\n",
       "      <td>Polarized, UV Protection Sports Sunglasses (Fr...</td>\n",
       "      <td>₹409₹1,79977% off</td>\n",
       "    </tr>\n",
       "    <tr>\n",
       "      <th>8</th>\n",
       "      <td>IDEE</td>\n",
       "      <td>UV Protection Round Sunglasses (49)</td>\n",
       "      <td>₹869₹2,25061% off\\nFree delivery</td>\n",
       "    </tr>\n",
       "    <tr>\n",
       "      <th>9</th>\n",
       "      <td>NuVew</td>\n",
       "      <td>UV Protection, Mirrored Aviator Sunglasses (57)</td>\n",
       "      <td>₹145₹75080% off</td>\n",
       "    </tr>\n",
       "    <tr>\n",
       "      <th>10</th>\n",
       "      <td>United Colors of Benetton</td>\n",
       "      <td>Gradient, Mirrored, UV Protection Aviator Sung...</td>\n",
       "      <td>₹869₹4,10078% off\\nFree delivery</td>\n",
       "    </tr>\n",
       "    <tr>\n",
       "      <th>11</th>\n",
       "      <td>AISLIN</td>\n",
       "      <td>Toughened Glass Lens, UV Protection Wrap-aroun...</td>\n",
       "      <td>₹1,248₹3,69966% off\\nFree delivery</td>\n",
       "    </tr>\n",
       "    <tr>\n",
       "      <th>12</th>\n",
       "      <td>NuVew</td>\n",
       "      <td>UV Protection Aviator Sunglasses (Free Size)</td>\n",
       "      <td>₹346₹1,25072% off</td>\n",
       "    </tr>\n",
       "    <tr>\n",
       "      <th>13</th>\n",
       "      <td>IDEE</td>\n",
       "      <td>UV Protection Wayfarer Sunglasses (50)</td>\n",
       "      <td>₹789₹2,05061% off\\nFree delivery</td>\n",
       "    </tr>\n",
       "    <tr>\n",
       "      <th>14</th>\n",
       "      <td>NuVew</td>\n",
       "      <td>UV Protection Cat-eye Sunglasses (60)</td>\n",
       "      <td>₹327₹1,44577% off</td>\n",
       "    </tr>\n",
       "    <tr>\n",
       "      <th>15</th>\n",
       "      <td>ROZZETTA CRAFT</td>\n",
       "      <td>Gradient, UV Protection Round Sunglasses (Free...</td>\n",
       "      <td>₹376₹1,99581% off</td>\n",
       "    </tr>\n",
       "    <tr>\n",
       "      <th>16</th>\n",
       "      <td>NuVew</td>\n",
       "      <td>UV Protection, Gradient Cat-eye Sunglasses (59)</td>\n",
       "      <td>₹159₹1,65090% off</td>\n",
       "    </tr>\n",
       "    <tr>\n",
       "      <th>17</th>\n",
       "      <td>New Specs</td>\n",
       "      <td>UV Protection Round Sunglasses (Free Size)</td>\n",
       "      <td>₹128₹1,59991% off</td>\n",
       "    </tr>\n",
       "    <tr>\n",
       "      <th>18</th>\n",
       "      <td>ROYAL SON</td>\n",
       "      <td>Gradient Retro Square Sunglasses (60)</td>\n",
       "      <td>₹614₹1,99969% off\\nFree delivery</td>\n",
       "    </tr>\n",
       "    <tr>\n",
       "      <th>19</th>\n",
       "      <td>ROZZETTA CRAFT</td>\n",
       "      <td>UV Protection, Gradient Retro Square Sunglasse...</td>\n",
       "      <td>₹281₹1,99985% off</td>\n",
       "    </tr>\n",
       "    <tr>\n",
       "      <th>20</th>\n",
       "      <td>Cruze</td>\n",
       "      <td>UV Protection Aviator Sunglasses (Free Size)</td>\n",
       "      <td>₹380₹1,29570% off</td>\n",
       "    </tr>\n",
       "    <tr>\n",
       "      <th>21</th>\n",
       "      <td>ROZZETTA CRAFT</td>\n",
       "      <td>UV Protection Rectangular Sunglasses (Free Size)</td>\n",
       "      <td>₹253₹1,49983% off</td>\n",
       "    </tr>\n",
       "    <tr>\n",
       "      <th>22</th>\n",
       "      <td>Urbanic</td>\n",
       "      <td>Others Oval Sunglasses (Free Size)</td>\n",
       "      <td>₹399₹99059% off</td>\n",
       "    </tr>\n",
       "    <tr>\n",
       "      <th>23</th>\n",
       "      <td>AISLIN</td>\n",
       "      <td>UV Protection, Gradient Cat-eye Sunglasses (58)</td>\n",
       "      <td>₹409₹1,52573% off</td>\n",
       "    </tr>\n",
       "    <tr>\n",
       "      <th>24</th>\n",
       "      <td>AISLIN</td>\n",
       "      <td>Toughened Glass Lens, UV Protection Aviator Su...</td>\n",
       "      <td>₹848₹3,69977% off\\nFree delivery</td>\n",
       "    </tr>\n",
       "    <tr>\n",
       "      <th>25</th>\n",
       "      <td>Elligator</td>\n",
       "      <td>UV Protection, Riding Glasses Rectangular, Ret...</td>\n",
       "      <td>₹281₹1,49981% off</td>\n",
       "    </tr>\n",
       "    <tr>\n",
       "      <th>26</th>\n",
       "      <td>ROYAL SON</td>\n",
       "      <td>UV Protection Aviator Sunglasses (Free Size)</td>\n",
       "      <td>₹424₹1,29967% off</td>\n",
       "    </tr>\n",
       "    <tr>\n",
       "      <th>27</th>\n",
       "      <td>ROZZETTA CRAFT</td>\n",
       "      <td>UV Protection Aviator Sunglasses (62)</td>\n",
       "      <td>₹599₹2,55576% off\\nFree delivery</td>\n",
       "    </tr>\n",
       "    <tr>\n",
       "      <th>28</th>\n",
       "      <td>Rich Club</td>\n",
       "      <td>Polarized, UV Protection, Riding Glasses Wayfa...</td>\n",
       "      <td>₹225₹99977% off</td>\n",
       "    </tr>\n",
       "    <tr>\n",
       "      <th>29</th>\n",
       "      <td>AISLIN</td>\n",
       "      <td>UV Protection, Gradient Oval Sunglasses (58)</td>\n",
       "      <td>₹396₹1,52574% off</td>\n",
       "    </tr>\n",
       "    <tr>\n",
       "      <th>30</th>\n",
       "      <td>Ray-Ban</td>\n",
       "      <td>UV Protection Wayfarer Sunglasses (51)</td>\n",
       "      <td>₹4,139₹5,59025% off\\nFree delivery</td>\n",
       "    </tr>\n",
       "    <tr>\n",
       "      <th>31</th>\n",
       "      <td>HAMIW COLLECTION</td>\n",
       "      <td>UV Protection Wayfarer, Sports, Shield, Rectan...</td>\n",
       "      <td>₹98₹1,49993% off</td>\n",
       "    </tr>\n",
       "    <tr>\n",
       "      <th>32</th>\n",
       "      <td>PETER JONES</td>\n",
       "      <td>UV Protection Over-sized Sunglasses (58)</td>\n",
       "      <td>₹369₹1,20069% off</td>\n",
       "    </tr>\n",
       "    <tr>\n",
       "      <th>33</th>\n",
       "      <td>Fastrack</td>\n",
       "      <td>Aviator Sunglasses (58)</td>\n",
       "      <td>₹1,349₹1,99932% off\\nFree delivery</td>\n",
       "    </tr>\n",
       "    <tr>\n",
       "      <th>34</th>\n",
       "      <td>AISLIN</td>\n",
       "      <td>UV Protection Oval Sunglasses (60)</td>\n",
       "      <td>₹376₹3,20088% off</td>\n",
       "    </tr>\n",
       "    <tr>\n",
       "      <th>35</th>\n",
       "      <td>Sewell</td>\n",
       "      <td>Polarized Butterfly Sunglasses (Free Size)</td>\n",
       "      <td>₹599₹1,99970% off\\nFree delivery</td>\n",
       "    </tr>\n",
       "    <tr>\n",
       "      <th>36</th>\n",
       "      <td>PIRASO</td>\n",
       "      <td>UV Protection Aviator Sunglasses (50)</td>\n",
       "      <td>₹249₹1,59984% off</td>\n",
       "    </tr>\n",
       "    <tr>\n",
       "      <th>37</th>\n",
       "      <td>Fastrack</td>\n",
       "      <td>Gradient, UV Protection Wayfarer Sunglasses (F...</td>\n",
       "      <td>₹629₹79921% off\\nFree delivery</td>\n",
       "    </tr>\n",
       "    <tr>\n",
       "      <th>38</th>\n",
       "      <td>Fastrack</td>\n",
       "      <td>UV Protection Round Sunglasses (52)</td>\n",
       "      <td>₹989₹1,29923% off\\nFree delivery</td>\n",
       "    </tr>\n",
       "    <tr>\n",
       "      <th>39</th>\n",
       "      <td>AISLIN</td>\n",
       "      <td>Toughened Glass Lens, UV Protection Aviator Su...</td>\n",
       "      <td>₹933₹4,25078% off\\nFree delivery</td>\n",
       "    </tr>\n",
       "  </tbody>\n",
       "</table>\n",
       "</div>"
      ],
      "text/plain": [
       "                   Brand Name  \\\n",
       "0                     Urbanic   \n",
       "1                   ROYAL SON   \n",
       "2   United Colors of Benetton   \n",
       "3              ROZZETTA CRAFT   \n",
       "4                      SUNBEE   \n",
       "5                       NuVew   \n",
       "6              kingsunglasses   \n",
       "7                 SKYZA INDIA   \n",
       "8                        IDEE   \n",
       "9                       NuVew   \n",
       "10  United Colors of Benetton   \n",
       "11                     AISLIN   \n",
       "12                      NuVew   \n",
       "13                       IDEE   \n",
       "14                      NuVew   \n",
       "15             ROZZETTA CRAFT   \n",
       "16                      NuVew   \n",
       "17                  New Specs   \n",
       "18                  ROYAL SON   \n",
       "19             ROZZETTA CRAFT   \n",
       "20                      Cruze   \n",
       "21             ROZZETTA CRAFT   \n",
       "22                    Urbanic   \n",
       "23                     AISLIN   \n",
       "24                     AISLIN   \n",
       "25                  Elligator   \n",
       "26                  ROYAL SON   \n",
       "27             ROZZETTA CRAFT   \n",
       "28                  Rich Club   \n",
       "29                     AISLIN   \n",
       "30                    Ray-Ban   \n",
       "31           HAMIW COLLECTION   \n",
       "32                PETER JONES   \n",
       "33                   Fastrack   \n",
       "34                     AISLIN   \n",
       "35                     Sewell   \n",
       "36                     PIRASO   \n",
       "37                   Fastrack   \n",
       "38                   Fastrack   \n",
       "39                     AISLIN   \n",
       "\n",
       "                                          Discription  \\\n",
       "0          Others Retro Square Sunglasses (Free Size)   \n",
       "1                    Mirrored Aviator Sunglasses (55)   \n",
       "2               Gradient Retro Square Sunglasses (56)   \n",
       "3   UV Protection, Gradient Rectangular Sunglasses...   \n",
       "4   UV Protection, Polarized, Mirrored Retro Squar...   \n",
       "5   UV Protection, Mirrored Wayfarer, Rectangular ...   \n",
       "6          UV Protection Round Sunglasses (Free Size)   \n",
       "7   Polarized, UV Protection Sports Sunglasses (Fr...   \n",
       "8                 UV Protection Round Sunglasses (49)   \n",
       "9     UV Protection, Mirrored Aviator Sunglasses (57)   \n",
       "10  Gradient, Mirrored, UV Protection Aviator Sung...   \n",
       "11  Toughened Glass Lens, UV Protection Wrap-aroun...   \n",
       "12       UV Protection Aviator Sunglasses (Free Size)   \n",
       "13             UV Protection Wayfarer Sunglasses (50)   \n",
       "14              UV Protection Cat-eye Sunglasses (60)   \n",
       "15  Gradient, UV Protection Round Sunglasses (Free...   \n",
       "16    UV Protection, Gradient Cat-eye Sunglasses (59)   \n",
       "17         UV Protection Round Sunglasses (Free Size)   \n",
       "18              Gradient Retro Square Sunglasses (60)   \n",
       "19  UV Protection, Gradient Retro Square Sunglasse...   \n",
       "20       UV Protection Aviator Sunglasses (Free Size)   \n",
       "21   UV Protection Rectangular Sunglasses (Free Size)   \n",
       "22                 Others Oval Sunglasses (Free Size)   \n",
       "23    UV Protection, Gradient Cat-eye Sunglasses (58)   \n",
       "24  Toughened Glass Lens, UV Protection Aviator Su...   \n",
       "25  UV Protection, Riding Glasses Rectangular, Ret...   \n",
       "26       UV Protection Aviator Sunglasses (Free Size)   \n",
       "27              UV Protection Aviator Sunglasses (62)   \n",
       "28  Polarized, UV Protection, Riding Glasses Wayfa...   \n",
       "29       UV Protection, Gradient Oval Sunglasses (58)   \n",
       "30             UV Protection Wayfarer Sunglasses (51)   \n",
       "31  UV Protection Wayfarer, Sports, Shield, Rectan...   \n",
       "32           UV Protection Over-sized Sunglasses (58)   \n",
       "33                            Aviator Sunglasses (58)   \n",
       "34                 UV Protection Oval Sunglasses (60)   \n",
       "35         Polarized Butterfly Sunglasses (Free Size)   \n",
       "36              UV Protection Aviator Sunglasses (50)   \n",
       "37  Gradient, UV Protection Wayfarer Sunglasses (F...   \n",
       "38                UV Protection Round Sunglasses (52)   \n",
       "39  Toughened Glass Lens, UV Protection Aviator Su...   \n",
       "\n",
       "                                 Price  \n",
       "0                    ₹439₹1,09059% off  \n",
       "1                    ₹329₹1,49978% off  \n",
       "2                    ₹757₹3,70079% off  \n",
       "3                    ₹399₹1,99980% off  \n",
       "4                      ₹161₹99983% off  \n",
       "5                    ₹264₹1,04574% off  \n",
       "6                    ₹169₹1,49988% off  \n",
       "7                    ₹409₹1,79977% off  \n",
       "8     ₹869₹2,25061% off\\nFree delivery  \n",
       "9                      ₹145₹75080% off  \n",
       "10    ₹869₹4,10078% off\\nFree delivery  \n",
       "11  ₹1,248₹3,69966% off\\nFree delivery  \n",
       "12                   ₹346₹1,25072% off  \n",
       "13    ₹789₹2,05061% off\\nFree delivery  \n",
       "14                   ₹327₹1,44577% off  \n",
       "15                   ₹376₹1,99581% off  \n",
       "16                   ₹159₹1,65090% off  \n",
       "17                   ₹128₹1,59991% off  \n",
       "18    ₹614₹1,99969% off\\nFree delivery  \n",
       "19                   ₹281₹1,99985% off  \n",
       "20                   ₹380₹1,29570% off  \n",
       "21                   ₹253₹1,49983% off  \n",
       "22                     ₹399₹99059% off  \n",
       "23                   ₹409₹1,52573% off  \n",
       "24    ₹848₹3,69977% off\\nFree delivery  \n",
       "25                   ₹281₹1,49981% off  \n",
       "26                   ₹424₹1,29967% off  \n",
       "27    ₹599₹2,55576% off\\nFree delivery  \n",
       "28                     ₹225₹99977% off  \n",
       "29                   ₹396₹1,52574% off  \n",
       "30  ₹4,139₹5,59025% off\\nFree delivery  \n",
       "31                    ₹98₹1,49993% off  \n",
       "32                   ₹369₹1,20069% off  \n",
       "33  ₹1,349₹1,99932% off\\nFree delivery  \n",
       "34                   ₹376₹3,20088% off  \n",
       "35    ₹599₹1,99970% off\\nFree delivery  \n",
       "36                   ₹249₹1,59984% off  \n",
       "37      ₹629₹79921% off\\nFree delivery  \n",
       "38    ₹989₹1,29923% off\\nFree delivery  \n",
       "39    ₹933₹4,25078% off\\nFree delivery  "
      ]
     },
     "execution_count": 29,
     "metadata": {},
     "output_type": "execute_result"
    }
   ],
   "source": [
    "import pandas as pd\n",
    "df5=pd.DataFrame({\"Brand Name\" :BrandName,\"Discription\":ProductDiscription ,\"Price\":ProductPrice})\n",
    "df5"
   ]
  },
  {
   "cell_type": "code",
   "execution_count": 61,
   "id": "79c0f80f",
   "metadata": {},
   "outputs": [],
   "source": [
    "SunglassesDF=pd.concat([df3,df4,df5])\n"
   ]
  },
  {
   "cell_type": "code",
   "execution_count": 64,
   "id": "b6f5b600",
   "metadata": {},
   "outputs": [],
   "source": [
    "SunglassesDFFinal=SunglassesDF.head(100)"
   ]
  },
  {
   "cell_type": "code",
   "execution_count": 65,
   "id": "c583483a",
   "metadata": {},
   "outputs": [
    {
     "data": {
      "text/html": [
       "<div>\n",
       "<style scoped>\n",
       "    .dataframe tbody tr th:only-of-type {\n",
       "        vertical-align: middle;\n",
       "    }\n",
       "\n",
       "    .dataframe tbody tr th {\n",
       "        vertical-align: top;\n",
       "    }\n",
       "\n",
       "    .dataframe thead th {\n",
       "        text-align: right;\n",
       "    }\n",
       "</style>\n",
       "<table border=\"1\" class=\"dataframe\">\n",
       "  <thead>\n",
       "    <tr style=\"text-align: right;\">\n",
       "      <th></th>\n",
       "      <th>Brand Name</th>\n",
       "      <th>Discription</th>\n",
       "      <th>Price</th>\n",
       "    </tr>\n",
       "  </thead>\n",
       "  <tbody>\n",
       "    <tr>\n",
       "      <th>0</th>\n",
       "      <td>ROZZETTA CRAFT</td>\n",
       "      <td>UV Protection, Gradient Rectangular Sunglasses...</td>\n",
       "      <td>₹399₹1,99980% off</td>\n",
       "    </tr>\n",
       "    <tr>\n",
       "      <th>1</th>\n",
       "      <td>SKYZA INDIA</td>\n",
       "      <td>Polarized, UV Protection Sports Sunglasses (Fr...</td>\n",
       "      <td>₹409₹1,79977% off</td>\n",
       "    </tr>\n",
       "    <tr>\n",
       "      <th>2</th>\n",
       "      <td>SRPM</td>\n",
       "      <td>UV Protection Wayfarer Sunglasses (50)</td>\n",
       "      <td>₹148₹1,29988% off</td>\n",
       "    </tr>\n",
       "    <tr>\n",
       "      <th>3</th>\n",
       "      <td>SUNBEE</td>\n",
       "      <td>UV Protection, Polarized Wayfarer Sunglasses (...</td>\n",
       "      <td>₹193₹1,29985% off</td>\n",
       "    </tr>\n",
       "    <tr>\n",
       "      <th>4</th>\n",
       "      <td>Elligator</td>\n",
       "      <td>UV Protection Round Sunglasses (54)</td>\n",
       "      <td>₹208₹2,49591% off</td>\n",
       "    </tr>\n",
       "    <tr>\n",
       "      <th>...</th>\n",
       "      <td>...</td>\n",
       "      <td>...</td>\n",
       "      <td>...</td>\n",
       "    </tr>\n",
       "    <tr>\n",
       "      <th>15</th>\n",
       "      <td>ROZZETTA CRAFT</td>\n",
       "      <td>Gradient, UV Protection Round Sunglasses (Free...</td>\n",
       "      <td>₹376₹1,99581% off</td>\n",
       "    </tr>\n",
       "    <tr>\n",
       "      <th>16</th>\n",
       "      <td>NuVew</td>\n",
       "      <td>UV Protection, Gradient Cat-eye Sunglasses (59)</td>\n",
       "      <td>₹159₹1,65090% off</td>\n",
       "    </tr>\n",
       "    <tr>\n",
       "      <th>17</th>\n",
       "      <td>New Specs</td>\n",
       "      <td>UV Protection Round Sunglasses (Free Size)</td>\n",
       "      <td>₹128₹1,59991% off</td>\n",
       "    </tr>\n",
       "    <tr>\n",
       "      <th>18</th>\n",
       "      <td>ROYAL SON</td>\n",
       "      <td>Gradient Retro Square Sunglasses (60)</td>\n",
       "      <td>₹614₹1,99969% off\\nFree delivery</td>\n",
       "    </tr>\n",
       "    <tr>\n",
       "      <th>19</th>\n",
       "      <td>ROZZETTA CRAFT</td>\n",
       "      <td>UV Protection, Gradient Retro Square Sunglasse...</td>\n",
       "      <td>₹281₹1,99985% off</td>\n",
       "    </tr>\n",
       "  </tbody>\n",
       "</table>\n",
       "<p>100 rows × 3 columns</p>\n",
       "</div>"
      ],
      "text/plain": [
       "        Brand Name                                        Discription  \\\n",
       "0   ROZZETTA CRAFT  UV Protection, Gradient Rectangular Sunglasses...   \n",
       "1      SKYZA INDIA  Polarized, UV Protection Sports Sunglasses (Fr...   \n",
       "2             SRPM             UV Protection Wayfarer Sunglasses (50)   \n",
       "3           SUNBEE  UV Protection, Polarized Wayfarer Sunglasses (...   \n",
       "4        Elligator                UV Protection Round Sunglasses (54)   \n",
       "..             ...                                                ...   \n",
       "15  ROZZETTA CRAFT  Gradient, UV Protection Round Sunglasses (Free...   \n",
       "16           NuVew    UV Protection, Gradient Cat-eye Sunglasses (59)   \n",
       "17       New Specs         UV Protection Round Sunglasses (Free Size)   \n",
       "18       ROYAL SON              Gradient Retro Square Sunglasses (60)   \n",
       "19  ROZZETTA CRAFT  UV Protection, Gradient Retro Square Sunglasse...   \n",
       "\n",
       "                               Price  \n",
       "0                  ₹399₹1,99980% off  \n",
       "1                  ₹409₹1,79977% off  \n",
       "2                  ₹148₹1,29988% off  \n",
       "3                  ₹193₹1,29985% off  \n",
       "4                  ₹208₹2,49591% off  \n",
       "..                               ...  \n",
       "15                 ₹376₹1,99581% off  \n",
       "16                 ₹159₹1,65090% off  \n",
       "17                 ₹128₹1,59991% off  \n",
       "18  ₹614₹1,99969% off\\nFree delivery  \n",
       "19                 ₹281₹1,99985% off  \n",
       "\n",
       "[100 rows x 3 columns]"
      ]
     },
     "execution_count": 65,
     "metadata": {},
     "output_type": "execute_result"
    }
   ],
   "source": [
    "SunglassesDFFinal"
   ]
  },
  {
   "cell_type": "code",
   "execution_count": 127,
   "id": "57a91d5c",
   "metadata": {},
   "outputs": [],
   "source": [
    "driver = webdriver.Chrome('chromedriver.exe')"
   ]
  },
  {
   "cell_type": "code",
   "execution_count": 141,
   "id": "f836d4b0",
   "metadata": {},
   "outputs": [],
   "source": [
    "url = 'https://www.flipkart.com/apple-iphone-11-black-64-gb-includes-earpods-power-adapter/product-reviews/itm0f37c2240b217?pid=MOBFKCTSVZAXUHGR&lid=LSTMOBFKCTSVZAXUHGR3IXQLM&marketplace=FLIPKART'\n",
    "driver.get(url)"
   ]
  },
  {
   "cell_type": "code",
   "execution_count": 142,
   "id": "a156de79",
   "metadata": {},
   "outputs": [
    {
     "data": {
      "text/plain": [
       "10"
      ]
     },
     "execution_count": 142,
     "metadata": {},
     "output_type": "execute_result"
    }
   ],
   "source": [
    "IphoneRating = driver.find_elements_by_xpath('//div[@class=\"_3LWZlK _1BLPMq\"]')\n",
    "len(IphoneRating)\n",
    "    "
   ]
  },
  {
   "cell_type": "code",
   "execution_count": 143,
   "id": "d237fc94",
   "metadata": {},
   "outputs": [
    {
     "data": {
      "text/plain": [
       "['5', '5', '5', '5', '5', '5', '5', '5', '4', '5']"
      ]
     },
     "execution_count": 143,
     "metadata": {},
     "output_type": "execute_result"
    }
   ],
   "source": [
    "IphoneRatings=[]\n",
    "for i in IphoneRating:\n",
    "     IphoneRatings.append(i.text)\n",
    "        \n",
    "IphoneRatings"
   ]
  },
  {
   "cell_type": "code",
   "execution_count": 144,
   "id": "11a6d05c",
   "metadata": {},
   "outputs": [
    {
     "data": {
      "text/plain": [
       "10"
      ]
     },
     "execution_count": 144,
     "metadata": {},
     "output_type": "execute_result"
    }
   ],
   "source": [
    "Summary = driver.find_elements_by_xpath('//p[@class=\"_2-N8zT\"]')\n",
    "len(Summary)"
   ]
  },
  {
   "cell_type": "code",
   "execution_count": 145,
   "id": "07c2e8c4",
   "metadata": {},
   "outputs": [
    {
     "data": {
      "text/plain": [
       "['Brilliant',\n",
       " 'Simply awesome',\n",
       " 'Best in the market!',\n",
       " 'Perfect product!',\n",
       " 'Fabulous!',\n",
       " 'Worth every penny',\n",
       " 'Great product',\n",
       " 'Highly recommended',\n",
       " 'Good choice',\n",
       " 'Worth every penny']"
      ]
     },
     "execution_count": 145,
     "metadata": {},
     "output_type": "execute_result"
    }
   ],
   "source": [
    "IphoneSummary=[]\n",
    "for i in Summary:\n",
    "     IphoneSummary.append(i.text)\n",
    "        \n",
    "IphoneSummary"
   ]
  },
  {
   "cell_type": "code",
   "execution_count": 146,
   "id": "a916838c",
   "metadata": {},
   "outputs": [
    {
     "data": {
      "text/plain": [
       "10"
      ]
     },
     "execution_count": 146,
     "metadata": {},
     "output_type": "execute_result"
    }
   ],
   "source": [
    "FullSummary = driver.find_elements_by_xpath('//div[@class=\"t-ZTKy\"]')\n",
    "len(FullSummary)"
   ]
  },
  {
   "cell_type": "code",
   "execution_count": 147,
   "id": "e4a91ac4",
   "metadata": {},
   "outputs": [
    {
     "data": {
      "text/plain": [
       "['The Best Phone for the Money\\n\\nThe iPhone 11 offers superb cameras, a more durable design and excellent battery life for an affordable price.\\n\\nCompelling ultra-wide camera\\nNew Night mode is excellent\\nLong battery life',\n",
       " 'Really satisfied with the Product I received... It’s totally genuine and the packaging was also really good so if ur planning to buy just go for it.',\n",
       " 'Great iPhone very snappy experience as apple kind. Upgraded from iPhone 7.\\nPros\\n-Camera top class\\n- Battery top performed\\n-Chipset no need to say as apple kind\\n-Security as you expect from apple\\n- Display super bright industry leading colour\\naccuracy and super responsive\\n-Build quality as expect from apple sturdy\\npremium durable beautiful stylish.\\n-Os most stable os in smartphone industry\\n\\nCons\\n-No 5G\\n-Display is not based on OLED technology\\n-Charger headphones and 1 apple stic...\\nREAD MORE',\n",
       " 'Amazing phone with great cameras and better battery which gives you the best performance. I just love the camera .',\n",
       " 'This is my first iOS phone. I am very happy with this product. Very much satisfied with this. I love this phone.',\n",
       " 'Previously I was using one plus 3t it was a great phone\\nAnd then I decided to upgrade I am stuck between Samsung s10 plus or iPhone 11\\nI have seen the specs and everything were good except the display it’s somewhere between 720-1080 and it’s not even an amoled it’s an LCD display\\nBut I decided to go with iPhone because I have never used an IOS device I have Been an android user from the past 9 years I ordered IPhone 11 (128gb) product red\\nMy experience after using 3 weeks\\n1. The delivery ...\\nREAD MORE',\n",
       " 'Amazing Powerful and Durable Gadget.\\n\\nI’m am very happy with the camera picture quality, Amazing face id unlocked in dark room, Strong battery with perfect screen size as you can carry easily in pocket. This is my third iPhone.\\n\\nI shifted from android Samsung Note series to iPhone because of the strong build quality and peace of mind for next 3-4 years.\\n\\nDon’t think to much just go for it and I suggest you to go for minimum 128gb variant or more 256gb.\\n\\nI’ve attached my puppy pics and no fi...\\nREAD MORE',\n",
       " 'What a camera .....just awesome ..you can feel this iPhone just awesome . Good for gaming also ...try pubg in hd it’s just wow',\n",
       " 'So far it’s been an AMAZING experience coming back to iOS after nearly a decade but it’s not as versatile as android though phone is sturdy dropped it accidentally a couple of times and nothing happened fortunately camera is awesome',\n",
       " 'i11 is worthy to buy, too much happy with the product. Thank u flipkart I received the item on time..loved it..']"
      ]
     },
     "execution_count": 147,
     "metadata": {},
     "output_type": "execute_result"
    }
   ],
   "source": [
    "IphoneFullSummary=[]\n",
    "for i in FullSummary:\n",
    "     IphoneFullSummary.append(i.text)\n",
    "        \n",
    "IphoneFullSummary"
   ]
  },
  {
   "cell_type": "code",
   "execution_count": 148,
   "id": "df4362a4",
   "metadata": {},
   "outputs": [
    {
     "data": {
      "text/html": [
       "<div>\n",
       "<style scoped>\n",
       "    .dataframe tbody tr th:only-of-type {\n",
       "        vertical-align: middle;\n",
       "    }\n",
       "\n",
       "    .dataframe tbody tr th {\n",
       "        vertical-align: top;\n",
       "    }\n",
       "\n",
       "    .dataframe thead th {\n",
       "        text-align: right;\n",
       "    }\n",
       "</style>\n",
       "<table border=\"1\" class=\"dataframe\">\n",
       "  <thead>\n",
       "    <tr style=\"text-align: right;\">\n",
       "      <th></th>\n",
       "      <th>Rating</th>\n",
       "      <th>Review summary</th>\n",
       "      <th>Full review</th>\n",
       "    </tr>\n",
       "  </thead>\n",
       "  <tbody>\n",
       "    <tr>\n",
       "      <th>0</th>\n",
       "      <td>5</td>\n",
       "      <td>Brilliant</td>\n",
       "      <td>The Best Phone for the Money\\n\\nThe iPhone 11 ...</td>\n",
       "    </tr>\n",
       "    <tr>\n",
       "      <th>1</th>\n",
       "      <td>5</td>\n",
       "      <td>Simply awesome</td>\n",
       "      <td>Really satisfied with the Product I received.....</td>\n",
       "    </tr>\n",
       "    <tr>\n",
       "      <th>2</th>\n",
       "      <td>5</td>\n",
       "      <td>Best in the market!</td>\n",
       "      <td>Great iPhone very snappy experience as apple k...</td>\n",
       "    </tr>\n",
       "    <tr>\n",
       "      <th>3</th>\n",
       "      <td>5</td>\n",
       "      <td>Perfect product!</td>\n",
       "      <td>Amazing phone with great cameras and better ba...</td>\n",
       "    </tr>\n",
       "    <tr>\n",
       "      <th>4</th>\n",
       "      <td>5</td>\n",
       "      <td>Fabulous!</td>\n",
       "      <td>This is my first iOS phone. I am very happy wi...</td>\n",
       "    </tr>\n",
       "    <tr>\n",
       "      <th>5</th>\n",
       "      <td>5</td>\n",
       "      <td>Worth every penny</td>\n",
       "      <td>Previously I was using one plus 3t it was a gr...</td>\n",
       "    </tr>\n",
       "    <tr>\n",
       "      <th>6</th>\n",
       "      <td>5</td>\n",
       "      <td>Great product</td>\n",
       "      <td>Amazing Powerful and Durable Gadget.\\n\\nI’m am...</td>\n",
       "    </tr>\n",
       "    <tr>\n",
       "      <th>7</th>\n",
       "      <td>5</td>\n",
       "      <td>Highly recommended</td>\n",
       "      <td>What a camera .....just awesome ..you can feel...</td>\n",
       "    </tr>\n",
       "    <tr>\n",
       "      <th>8</th>\n",
       "      <td>4</td>\n",
       "      <td>Good choice</td>\n",
       "      <td>So far it’s been an AMAZING experience coming ...</td>\n",
       "    </tr>\n",
       "    <tr>\n",
       "      <th>9</th>\n",
       "      <td>5</td>\n",
       "      <td>Worth every penny</td>\n",
       "      <td>i11 is worthy to buy, too much happy with the ...</td>\n",
       "    </tr>\n",
       "  </tbody>\n",
       "</table>\n",
       "</div>"
      ],
      "text/plain": [
       "  Rating       Review summary  \\\n",
       "0      5            Brilliant   \n",
       "1      5       Simply awesome   \n",
       "2      5  Best in the market!   \n",
       "3      5     Perfect product!   \n",
       "4      5            Fabulous!   \n",
       "5      5    Worth every penny   \n",
       "6      5        Great product   \n",
       "7      5   Highly recommended   \n",
       "8      4          Good choice   \n",
       "9      5    Worth every penny   \n",
       "\n",
       "                                         Full review  \n",
       "0  The Best Phone for the Money\\n\\nThe iPhone 11 ...  \n",
       "1  Really satisfied with the Product I received.....  \n",
       "2  Great iPhone very snappy experience as apple k...  \n",
       "3  Amazing phone with great cameras and better ba...  \n",
       "4  This is my first iOS phone. I am very happy wi...  \n",
       "5  Previously I was using one plus 3t it was a gr...  \n",
       "6  Amazing Powerful and Durable Gadget.\\n\\nI’m am...  \n",
       "7  What a camera .....just awesome ..you can feel...  \n",
       "8  So far it’s been an AMAZING experience coming ...  \n",
       "9  i11 is worthy to buy, too much happy with the ...  "
      ]
     },
     "execution_count": 148,
     "metadata": {},
     "output_type": "execute_result"
    }
   ],
   "source": [
    "import pandas as pd\n",
    "IphoneDf1=pd.DataFrame({\"Rating\" :IphoneRatings,\"Review summary\":IphoneSummary ,\"Full review\":IphoneFullSummary})\n",
    "IphoneDf1"
   ]
  },
  {
   "cell_type": "code",
   "execution_count": 149,
   "id": "f6b143d0",
   "metadata": {},
   "outputs": [
    {
     "data": {
      "text/plain": [
       "<selenium.webdriver.remote.webelement.WebElement (session=\"f35399cbad11b92fcbed0a78baf551ab\", element=\"d0c9c186-5cc3-4909-b26b-835117f38898\")>"
      ]
     },
     "execution_count": 149,
     "metadata": {},
     "output_type": "execute_result"
    }
   ],
   "source": [
    "Next_Button=driver.find_element_by_xpath(\"/html/body/div[1]/div/div[3]/div/div/div[2]/div[13]/div/div/nav/a[11]\")\n",
    "Next_Button"
   ]
  },
  {
   "cell_type": "code",
   "execution_count": 150,
   "id": "74807754",
   "metadata": {},
   "outputs": [],
   "source": [
    "Next_Button.click()"
   ]
  },
  {
   "cell_type": "code",
   "execution_count": 151,
   "id": "54394f27",
   "metadata": {},
   "outputs": [
    {
     "data": {
      "text/plain": [
       "10"
      ]
     },
     "execution_count": 151,
     "metadata": {},
     "output_type": "execute_result"
    }
   ],
   "source": [
    "IphoneRating = driver.find_elements_by_xpath('//div[@class=\"_3LWZlK _1BLPMq\"]')\n",
    "len(IphoneRating)"
   ]
  },
  {
   "cell_type": "code",
   "execution_count": 152,
   "id": "62fba9db",
   "metadata": {},
   "outputs": [
    {
     "data": {
      "text/plain": [
       "['5', '5', '5', '5', '5', '5', '5', '5', '5', '5']"
      ]
     },
     "execution_count": 152,
     "metadata": {},
     "output_type": "execute_result"
    }
   ],
   "source": [
    "IphoneRatings=[]\n",
    "for i in IphoneRating:\n",
    "     IphoneRatings.append(i.text)\n",
    "        \n",
    "IphoneRatings"
   ]
  },
  {
   "cell_type": "code",
   "execution_count": 153,
   "id": "90128489",
   "metadata": {},
   "outputs": [
    {
     "data": {
      "text/plain": [
       "10"
      ]
     },
     "execution_count": 153,
     "metadata": {},
     "output_type": "execute_result"
    }
   ],
   "source": [
    "Summary = driver.find_elements_by_xpath('//p[@class=\"_2-N8zT\"]')\n",
    "len(Summary)"
   ]
  },
  {
   "cell_type": "code",
   "execution_count": 154,
   "id": "5dc1c0e1",
   "metadata": {},
   "outputs": [
    {
     "data": {
      "text/plain": [
       "['Highly recommended',\n",
       " 'Perfect product!',\n",
       " 'Perfect product!',\n",
       " 'Highly recommended',\n",
       " 'Perfect product!',\n",
       " 'Worth every penny',\n",
       " 'Classy product',\n",
       " 'Worth every penny',\n",
       " 'Wonderful',\n",
       " 'Terrific']"
      ]
     },
     "execution_count": 154,
     "metadata": {},
     "output_type": "execute_result"
    }
   ],
   "source": [
    "IphoneSummary=[]\n",
    "for i in Summary:\n",
    "     IphoneSummary.append(i.text)\n",
    "\n",
    "IphoneSummary\n"
   ]
  },
  {
   "cell_type": "code",
   "execution_count": 155,
   "id": "d30d5281",
   "metadata": {},
   "outputs": [
    {
     "data": {
      "text/plain": [
       "10"
      ]
     },
     "execution_count": 155,
     "metadata": {},
     "output_type": "execute_result"
    }
   ],
   "source": [
    "FullSummary = driver.find_elements_by_xpath('//div[@class=\"t-ZTKy\"]')\n",
    "len(FullSummary)\n"
   ]
  },
  {
   "cell_type": "code",
   "execution_count": 156,
   "id": "91c56112",
   "metadata": {},
   "outputs": [
    {
     "data": {
      "text/plain": [
       "['iphone 11 is a very good phone to buy only if you can compromise for the display. The display on this is device is pretty good but you can get other options with better displays in this price segment.\\nIf you can survive with an HD+ LCD panel with thicker bezels and a notch up top then this is a very good phone for you.\\nCameras are awesome, battery backup excellent, great performance and a decent premium look. Good job Apple !',\n",
       " 'It’s a must buy who is looking for an upgrade from previous generation of iPhones. If you are using XR then still you can hold on for sometime and upgrade to 2020 model else this phone is a must buy . Camera quality is amazing and wide angle is something to count upon. Performance wise it’s amazing and feels premium while holding in hand. So a big YES for this device. Go for 128 GB variant as the 4K videos will occupy lots of space and the storage can get over very quickly. Try to buy it with...\\nREAD MORE',\n",
       " 'Value for money❤️❤️\\nIts awesome mobile phone in the world ...\\nDisplay was very good and bright ..\\nTrust me freinds you r never regret after Buying..\\nJust go for it....\\nI love this phone and i switch to iphone x to 11',\n",
       " \"It's my first time to use iOS phone and I am loving my upgradation 😍😍 I love the color, I love the assebility of the phone....I need to learn more about its functionality, but as far as I have seen, it's quite easy and it has a lot of functions to work on, specially if you are a content writer or a blogger you get a lot of content creation platforms and they are really amazing.\\n\\nThis phone not only for good quality photography but a lot of other task too.😍💯\",\n",
       " \"Iphone is just awesome.. battery backup is very very nice.. continuously for 10 hours we can use it.camera is just awesome.. display is just fab.i love it alot..i had to wait 15 days for it as i pre ordered it..overalll it's worth the price..these all images are clicked by my iPhone..and i love it.\",\n",
       " 'Best budget Iphone till date ❤️ go for it guys without second thought. Let me explain you guys about Camera, Display, battery, and performance.\\n\\nCamera: at this price range there is no comparison of camera, you’ll love the picture quality as well as video quality. I am a Vlogger I wanted an iPhone with 4k video by front camera and I got this phone and I am more than happy 😃\\n\\nBattery: I use this phone roughly as I am active social media person and I have a youtube channel. so the battery ba...\\nREAD MORE',\n",
       " 'Totally in love with this ❤ the camera quality is amazing just love it 😘😘😘 itsss dammnnnnnn amazing... Must buy iPhone 11 this is my best experience ever ☀👌👌🧡🧡🧡🧡🧡 thanku apple ❤',\n",
       " 'It’s been almost a month since I have been using this phone. I upgraded from an iPhone 8. The main issue with my 8 was battery and this phone is just awesome when it comes to battery. It lasts a day and a half for me with my regular use , internet connected always with 4g\\nCan’t move forward without saying this. Battery of this phone is a life saver when I am traveling or at work when I don’t get the option to charge\\nCamera is superb. Front cam selfies and back cam photos are just awesome.\\n...\\nREAD MORE',\n",
       " 'This is my first ever I phone. Before this I was using my google nexus 5. But moving from android to iOS is a great experience. It’s worth at this price. I will highly recommend it if you want to move to iOS. The best part of this phone is it’s camera and it’s battery life. This two things have won my heart. I loved it. Happy to have it in my hand. Still exploring its features. And can’t forget to mention Flipkart service. Very prompt service and fast delivery.',\n",
       " 'Really worth of money. i just love it. It is the best phone ever.']"
      ]
     },
     "execution_count": 156,
     "metadata": {},
     "output_type": "execute_result"
    }
   ],
   "source": [
    "IphoneFullSummary=[]\n",
    "for i in FullSummary:\n",
    "     IphoneFullSummary.append(i.text)\n",
    "        \n",
    "IphoneFullSummary     \n"
   ]
  },
  {
   "cell_type": "code",
   "execution_count": 157,
   "id": "5b4b7cc9",
   "metadata": {},
   "outputs": [
    {
     "data": {
      "text/html": [
       "<div>\n",
       "<style scoped>\n",
       "    .dataframe tbody tr th:only-of-type {\n",
       "        vertical-align: middle;\n",
       "    }\n",
       "\n",
       "    .dataframe tbody tr th {\n",
       "        vertical-align: top;\n",
       "    }\n",
       "\n",
       "    .dataframe thead th {\n",
       "        text-align: right;\n",
       "    }\n",
       "</style>\n",
       "<table border=\"1\" class=\"dataframe\">\n",
       "  <thead>\n",
       "    <tr style=\"text-align: right;\">\n",
       "      <th></th>\n",
       "      <th>Rating</th>\n",
       "      <th>Review summary</th>\n",
       "      <th>Full review</th>\n",
       "    </tr>\n",
       "  </thead>\n",
       "  <tbody>\n",
       "    <tr>\n",
       "      <th>0</th>\n",
       "      <td>5</td>\n",
       "      <td>Highly recommended</td>\n",
       "      <td>iphone 11 is a very good phone to buy only if ...</td>\n",
       "    </tr>\n",
       "    <tr>\n",
       "      <th>1</th>\n",
       "      <td>5</td>\n",
       "      <td>Perfect product!</td>\n",
       "      <td>It’s a must buy who is looking for an upgrade ...</td>\n",
       "    </tr>\n",
       "    <tr>\n",
       "      <th>2</th>\n",
       "      <td>5</td>\n",
       "      <td>Perfect product!</td>\n",
       "      <td>Value for money❤️❤️\\nIts awesome mobile phone ...</td>\n",
       "    </tr>\n",
       "    <tr>\n",
       "      <th>3</th>\n",
       "      <td>5</td>\n",
       "      <td>Highly recommended</td>\n",
       "      <td>It's my first time to use iOS phone and I am l...</td>\n",
       "    </tr>\n",
       "    <tr>\n",
       "      <th>4</th>\n",
       "      <td>5</td>\n",
       "      <td>Perfect product!</td>\n",
       "      <td>Iphone is just awesome.. battery backup is ver...</td>\n",
       "    </tr>\n",
       "    <tr>\n",
       "      <th>5</th>\n",
       "      <td>5</td>\n",
       "      <td>Worth every penny</td>\n",
       "      <td>Best budget Iphone till date ❤️ go for it guys...</td>\n",
       "    </tr>\n",
       "    <tr>\n",
       "      <th>6</th>\n",
       "      <td>5</td>\n",
       "      <td>Classy product</td>\n",
       "      <td>Totally in love with this ❤ the camera quality...</td>\n",
       "    </tr>\n",
       "    <tr>\n",
       "      <th>7</th>\n",
       "      <td>5</td>\n",
       "      <td>Worth every penny</td>\n",
       "      <td>It’s been almost a month since I have been usi...</td>\n",
       "    </tr>\n",
       "    <tr>\n",
       "      <th>8</th>\n",
       "      <td>5</td>\n",
       "      <td>Wonderful</td>\n",
       "      <td>This is my first ever I phone. Before this I w...</td>\n",
       "    </tr>\n",
       "    <tr>\n",
       "      <th>9</th>\n",
       "      <td>5</td>\n",
       "      <td>Terrific</td>\n",
       "      <td>Really worth of money. i just love it. It is t...</td>\n",
       "    </tr>\n",
       "  </tbody>\n",
       "</table>\n",
       "</div>"
      ],
      "text/plain": [
       "  Rating      Review summary  \\\n",
       "0      5  Highly recommended   \n",
       "1      5    Perfect product!   \n",
       "2      5    Perfect product!   \n",
       "3      5  Highly recommended   \n",
       "4      5    Perfect product!   \n",
       "5      5   Worth every penny   \n",
       "6      5      Classy product   \n",
       "7      5   Worth every penny   \n",
       "8      5           Wonderful   \n",
       "9      5            Terrific   \n",
       "\n",
       "                                         Full review  \n",
       "0  iphone 11 is a very good phone to buy only if ...  \n",
       "1  It’s a must buy who is looking for an upgrade ...  \n",
       "2  Value for money❤️❤️\\nIts awesome mobile phone ...  \n",
       "3  It's my first time to use iOS phone and I am l...  \n",
       "4  Iphone is just awesome.. battery backup is ver...  \n",
       "5  Best budget Iphone till date ❤️ go for it guys...  \n",
       "6  Totally in love with this ❤ the camera quality...  \n",
       "7  It’s been almost a month since I have been usi...  \n",
       "8  This is my first ever I phone. Before this I w...  \n",
       "9  Really worth of money. i just love it. It is t...  "
      ]
     },
     "execution_count": 157,
     "metadata": {},
     "output_type": "execute_result"
    }
   ],
   "source": [
    "import pandas as pd\n",
    "IphoneDf2=pd.DataFrame({\"Rating\" :IphoneRatings,\"Review summary\":IphoneSummary ,\"Full review\":IphoneFullSummary})\n",
    "IphoneDf2"
   ]
  },
  {
   "cell_type": "code",
   "execution_count": 158,
   "id": "03dc5733",
   "metadata": {},
   "outputs": [
    {
     "data": {
      "text/plain": [
       "10"
      ]
     },
     "execution_count": 158,
     "metadata": {},
     "output_type": "execute_result"
    }
   ],
   "source": [
    "IphoneRating = driver.find_elements_by_xpath('//div[@class=\"_3LWZlK _1BLPMq\"]')\n",
    "len(IphoneRating)\n"
   ]
  },
  {
   "cell_type": "code",
   "execution_count": 159,
   "id": "934ccdba",
   "metadata": {},
   "outputs": [
    {
     "data": {
      "text/plain": [
       "<selenium.webdriver.remote.webelement.WebElement (session=\"f35399cbad11b92fcbed0a78baf551ab\", element=\"2a241ad7-5931-42bc-85d8-03a14ea9f4fa\")>"
      ]
     },
     "execution_count": 159,
     "metadata": {},
     "output_type": "execute_result"
    }
   ],
   "source": [
    "Next_Button=driver.find_element_by_xpath(\"/html/body/div[1]/div/div[3]/div/div/div[2]/div[13]/div/div/nav/a[11]\")\n",
    "Next_Button\n"
   ]
  },
  {
   "cell_type": "code",
   "execution_count": 160,
   "id": "1e2c0e0f",
   "metadata": {},
   "outputs": [],
   "source": [
    "Next_Button.click()"
   ]
  },
  {
   "cell_type": "code",
   "execution_count": 103,
   "id": "0cb4e96a",
   "metadata": {},
   "outputs": [
    {
     "data": {
      "text/plain": [
       "9"
      ]
     },
     "execution_count": 103,
     "metadata": {},
     "output_type": "execute_result"
    }
   ],
   "source": [
    "IphoneRating = driver.find_elements_by_xpath('//div[@class=\"_3LWZlK _1BLPMq\"]')\n",
    "len(IphoneRating)\n"
   ]
  },
  {
   "cell_type": "code",
   "execution_count": 97,
   "id": "99d7d20f",
   "metadata": {},
   "outputs": [
    {
     "data": {
      "text/plain": [
       "['5', '5', '5', '5', '4', '5', '5', '5', '5']"
      ]
     },
     "execution_count": 97,
     "metadata": {},
     "output_type": "execute_result"
    }
   ],
   "source": [
    "IphoneRatings=[]\n",
    "for i in IphoneRating:\n",
    "     IphoneRatings.append(i.text)\n",
    "\n",
    "IphoneRatings\n"
   ]
  },
  {
   "cell_type": "code",
   "execution_count": 161,
   "id": "aea3310b",
   "metadata": {},
   "outputs": [
    {
     "data": {
      "text/plain": [
       "10"
      ]
     },
     "execution_count": 161,
     "metadata": {},
     "output_type": "execute_result"
    }
   ],
   "source": [
    "Summary = driver.find_elements_by_xpath('//p[@class=\"_2-N8zT\"]')\n",
    "len(Summary)\n"
   ]
  },
  {
   "cell_type": "code",
   "execution_count": 162,
   "id": "53d580fe",
   "metadata": {},
   "outputs": [
    {
     "data": {
      "text/plain": [
       "['Terrific',\n",
       " 'Highly recommended',\n",
       " 'Must buy!',\n",
       " 'Excellent',\n",
       " 'Just wow!',\n",
       " 'Perfect product!',\n",
       " 'Fabulous!',\n",
       " 'Wonderful',\n",
       " 'Worth every penny',\n",
       " 'Nice product']"
      ]
     },
     "execution_count": 162,
     "metadata": {},
     "output_type": "execute_result"
    }
   ],
   "source": [
    "IphoneSummary=[]\n",
    "for i in Summary:\n",
    "     IphoneSummary.append(i.text)\n",
    "\n",
    "IphoneSummary\n"
   ]
  },
  {
   "cell_type": "code",
   "execution_count": 163,
   "id": "3079a555",
   "metadata": {},
   "outputs": [
    {
     "data": {
      "text/plain": [
       "10"
      ]
     },
     "execution_count": 163,
     "metadata": {},
     "output_type": "execute_result"
    }
   ],
   "source": [
    "FullSummary = driver.find_elements_by_xpath('//div[@class=\"t-ZTKy\"]')\n",
    "len(FullSummary)\n"
   ]
  },
  {
   "cell_type": "code",
   "execution_count": 164,
   "id": "8ca8b5db",
   "metadata": {},
   "outputs": [
    {
     "data": {
      "text/plain": [
       "[\"I got this beast today. And I must say the picture quality of its camera is awesome. Both the cameras works fine.\\n\\nAs for as the processing is concerned, it runs without any lag. You can play and do whatever you want without a glitch.\\n\\nThe battery runs for a day with medium and high workload.\\n\\nThe display is good and the speakers are working fine.\\n\\nThe earphones doesn't have any base and you can use it for calling mostly.\\n\\nThe charging time is approximately for 90 minutes for full charging...\\nREAD MORE\",\n",
       " 'Amazing camera quality as expected, battery also has very good performance. Display, body, and touch experience is the best I’ve ever had. Sound quality of speakers is more than sufficient. Apple is known for it’s customer friendly security services and I can see it how. The A13 processor is the best in its work. So I would definitely recommend it for everyone who are looking for it, just go for it without delay.\\n\\nThe most amazing thing it the delivery. Flipkart has delivered it in the span ...\\nREAD MORE',\n",
       " 'Dear friends... I want to share my experience with you about this amazing I phone 11....this is my first iPhone and special things about this mobile is it has great camera, battery backup and awesome display.... I mean everything is perfect.loved it 👍👍👍',\n",
       " \"It was amazing experience for me. Honestly i am using iPhone first time so I don't have that much past experience about that. But after using 7 days this mobile i want to give some honest feedback.\\n1- Display 9 out of 10\\n2- Camera 9.5 out of 10\\n3- Battery 7 out of 10\\n4- Performance 9.5 out of 10\\n5- Features & Functions 10 out of 10\\n6- Outer looks and colour 10 out of 10\\nRest i think i will understand after using this for few months.\\nI will highly recommend you guys if you have budget then you...\\nREAD MORE\",\n",
       " 'Not mere a phone , Its more than that for fun and enjoy life. Just grab it. Best luck',\n",
       " 'Nice 👌👌👌👌👌👌',\n",
       " 'MD sufiyan rider Owsm\\nMobile nd battery mast h v good',\n",
       " \"Ok, so after almost 3 years I am again back into Apple Ecosystem. Switching from Android to iOS has just one disadvantage imo, and that's you can't take your WhatsApp data restored to iOS. Everything starts fresh, pretty sad. I am so glad that I chose iPhone 11 over 12. With 5G nowhere in India for at least an year will have an added advantage to iPhone 11. Spending extra 25k just for A14 chipset and OLED display is not a clever choice. Anyways, a fantastic phone with everything fit perfectly...\\nREAD MORE\",\n",
       " 'Here is the thing\\n\\nThe only reason why you should buy this phone is for the camera, iOS, and if you have headaches looking at AMOLED display.\\n\\nI’m not an avid gamer but watch a lot of movies on smartphone. However, my migraine attacks increased considerably after using AMOLED Smartphone. That’s why I made a calculated decision to buy iPhone 11. It has the best LCD display and the blacks, though not as natural as an AMOLED, is better than some of the other smartphones.\\n\\nAdding to this the ste...\\nREAD MORE',\n",
       " \"If you are looking for a premium phone under 55k, this is the one for you.Got the iPhone 11 during the Republic day sale. Performance is top notch in this price range. Camera's do a perfect job in taking good quality photos and videos. Battery backup too is satisfactory. Writing this review after using for a week. Any further observations would be updated.\"]"
      ]
     },
     "execution_count": 164,
     "metadata": {},
     "output_type": "execute_result"
    }
   ],
   "source": [
    "IphoneFullSummary=[]\n",
    "for i in FullSummary:\n",
    "     IphoneFullSummary.append(i.text)\n",
    "        \n",
    "IphoneFullSummary     \n"
   ]
  },
  {
   "cell_type": "code",
   "execution_count": 165,
   "id": "c1677e20",
   "metadata": {},
   "outputs": [
    {
     "data": {
      "text/html": [
       "<div>\n",
       "<style scoped>\n",
       "    .dataframe tbody tr th:only-of-type {\n",
       "        vertical-align: middle;\n",
       "    }\n",
       "\n",
       "    .dataframe tbody tr th {\n",
       "        vertical-align: top;\n",
       "    }\n",
       "\n",
       "    .dataframe thead th {\n",
       "        text-align: right;\n",
       "    }\n",
       "</style>\n",
       "<table border=\"1\" class=\"dataframe\">\n",
       "  <thead>\n",
       "    <tr style=\"text-align: right;\">\n",
       "      <th></th>\n",
       "      <th>Rating</th>\n",
       "      <th>Review summary</th>\n",
       "      <th>Full review</th>\n",
       "    </tr>\n",
       "  </thead>\n",
       "  <tbody>\n",
       "    <tr>\n",
       "      <th>0</th>\n",
       "      <td>5</td>\n",
       "      <td>Terrific</td>\n",
       "      <td>I got this beast today. And I must say the pic...</td>\n",
       "    </tr>\n",
       "    <tr>\n",
       "      <th>1</th>\n",
       "      <td>5</td>\n",
       "      <td>Highly recommended</td>\n",
       "      <td>Amazing camera quality as expected, battery al...</td>\n",
       "    </tr>\n",
       "    <tr>\n",
       "      <th>2</th>\n",
       "      <td>5</td>\n",
       "      <td>Must buy!</td>\n",
       "      <td>Dear friends... I want to share my experience ...</td>\n",
       "    </tr>\n",
       "    <tr>\n",
       "      <th>3</th>\n",
       "      <td>5</td>\n",
       "      <td>Excellent</td>\n",
       "      <td>It was amazing experience for me. Honestly i a...</td>\n",
       "    </tr>\n",
       "    <tr>\n",
       "      <th>4</th>\n",
       "      <td>5</td>\n",
       "      <td>Just wow!</td>\n",
       "      <td>Not mere a phone , Its more than that for fun ...</td>\n",
       "    </tr>\n",
       "    <tr>\n",
       "      <th>5</th>\n",
       "      <td>5</td>\n",
       "      <td>Perfect product!</td>\n",
       "      <td>Nice 👌👌👌👌👌👌</td>\n",
       "    </tr>\n",
       "    <tr>\n",
       "      <th>6</th>\n",
       "      <td>5</td>\n",
       "      <td>Fabulous!</td>\n",
       "      <td>MD sufiyan rider Owsm\\nMobile nd battery mast ...</td>\n",
       "    </tr>\n",
       "    <tr>\n",
       "      <th>7</th>\n",
       "      <td>5</td>\n",
       "      <td>Wonderful</td>\n",
       "      <td>Ok, so after almost 3 years I am again back in...</td>\n",
       "    </tr>\n",
       "    <tr>\n",
       "      <th>8</th>\n",
       "      <td>5</td>\n",
       "      <td>Worth every penny</td>\n",
       "      <td>Here is the thing\\n\\nThe only reason why you s...</td>\n",
       "    </tr>\n",
       "    <tr>\n",
       "      <th>9</th>\n",
       "      <td>5</td>\n",
       "      <td>Nice product</td>\n",
       "      <td>If you are looking for a premium phone under 5...</td>\n",
       "    </tr>\n",
       "  </tbody>\n",
       "</table>\n",
       "</div>"
      ],
      "text/plain": [
       "  Rating      Review summary  \\\n",
       "0      5            Terrific   \n",
       "1      5  Highly recommended   \n",
       "2      5           Must buy!   \n",
       "3      5           Excellent   \n",
       "4      5           Just wow!   \n",
       "5      5    Perfect product!   \n",
       "6      5           Fabulous!   \n",
       "7      5           Wonderful   \n",
       "8      5   Worth every penny   \n",
       "9      5        Nice product   \n",
       "\n",
       "                                         Full review  \n",
       "0  I got this beast today. And I must say the pic...  \n",
       "1  Amazing camera quality as expected, battery al...  \n",
       "2  Dear friends... I want to share my experience ...  \n",
       "3  It was amazing experience for me. Honestly i a...  \n",
       "4  Not mere a phone , Its more than that for fun ...  \n",
       "5                                        Nice 👌👌👌👌👌👌  \n",
       "6  MD sufiyan rider Owsm\\nMobile nd battery mast ...  \n",
       "7  Ok, so after almost 3 years I am again back in...  \n",
       "8  Here is the thing\\n\\nThe only reason why you s...  \n",
       "9  If you are looking for a premium phone under 5...  "
      ]
     },
     "execution_count": 165,
     "metadata": {},
     "output_type": "execute_result"
    }
   ],
   "source": [
    "import pandas as pd\n",
    "IphoneDf3=pd.DataFrame({\"Rating\" :IphoneRatings,\"Review summary\":IphoneSummary ,\"Full review\":IphoneFullSummary})\n",
    "IphoneDf3"
   ]
  },
  {
   "cell_type": "code",
   "execution_count": 170,
   "id": "294d3783",
   "metadata": {},
   "outputs": [
    {
     "data": {
      "text/plain": [
       "<selenium.webdriver.remote.webelement.WebElement (session=\"f35399cbad11b92fcbed0a78baf551ab\", element=\"9e0b66f6-365f-4d21-881a-bd8d008d7551\")>"
      ]
     },
     "execution_count": 170,
     "metadata": {},
     "output_type": "execute_result"
    }
   ],
   "source": [
    "Next_Button=driver.find_element_by_xpath(\"/html/body/div[1]/div/div[3]/div/div/div[2]/div[13]/div/div/nav/a[11]\")\n",
    "Next_Button"
   ]
  },
  {
   "cell_type": "code",
   "execution_count": 171,
   "id": "956804c3",
   "metadata": {},
   "outputs": [],
   "source": [
    "Next_Button.click()"
   ]
  },
  {
   "cell_type": "code",
   "execution_count": 172,
   "id": "a9807d75",
   "metadata": {},
   "outputs": [
    {
     "data": {
      "text/plain": [
       "10"
      ]
     },
     "execution_count": 172,
     "metadata": {},
     "output_type": "execute_result"
    }
   ],
   "source": [
    "IphoneRating = driver.find_elements_by_xpath('//div[@class=\"_3LWZlK _1BLPMq\"]')\n",
    "len(IphoneRating)\n"
   ]
  },
  {
   "cell_type": "code",
   "execution_count": 173,
   "id": "12fa9b94",
   "metadata": {},
   "outputs": [
    {
     "data": {
      "text/plain": [
       "['4', '3', '5', '5', '3', '4', '5', '5', '4', '5']"
      ]
     },
     "execution_count": 173,
     "metadata": {},
     "output_type": "execute_result"
    }
   ],
   "source": [
    "IphoneRatings=[]\n",
    "for i in IphoneRating:\n",
    "     IphoneRatings.append(i.text)\n",
    "\n",
    "IphoneRatings\n"
   ]
  },
  {
   "cell_type": "code",
   "execution_count": 174,
   "id": "15620ea2",
   "metadata": {},
   "outputs": [
    {
     "data": {
      "text/plain": [
       "10"
      ]
     },
     "execution_count": 174,
     "metadata": {},
     "output_type": "execute_result"
    }
   ],
   "source": [
    "Summary = driver.find_elements_by_xpath('//p[@class=\"_2-N8zT\"]')\n",
    "len(Summary)\n"
   ]
  },
  {
   "cell_type": "code",
   "execution_count": 175,
   "id": "1ce77e90",
   "metadata": {},
   "outputs": [
    {
     "data": {
      "text/plain": [
       "['Wonderful',\n",
       " 'Does the job',\n",
       " 'Terrific',\n",
       " 'Fabulous!',\n",
       " 'Just okay',\n",
       " 'Delightful',\n",
       " 'Mind-blowing purchase',\n",
       " 'Terrific',\n",
       " 'Good quality product',\n",
       " 'Simply awesome']"
      ]
     },
     "execution_count": 175,
     "metadata": {},
     "output_type": "execute_result"
    }
   ],
   "source": [
    "IphoneSummary=[]\n",
    "for i in Summary:\n",
    "     IphoneSummary.append(i.text)\n",
    "\n",
    "IphoneSummary\n"
   ]
  },
  {
   "cell_type": "code",
   "execution_count": 176,
   "id": "449572fc",
   "metadata": {},
   "outputs": [
    {
     "data": {
      "text/plain": [
       "10"
      ]
     },
     "execution_count": 176,
     "metadata": {},
     "output_type": "execute_result"
    }
   ],
   "source": [
    "FullSummary = driver.find_elements_by_xpath('//div[@class=\"t-ZTKy\"]')\n",
    "len(FullSummary)\n"
   ]
  },
  {
   "cell_type": "code",
   "execution_count": 177,
   "id": "5fcca10a",
   "metadata": {},
   "outputs": [
    {
     "data": {
      "text/plain": [
       "[\"If I consider it just as a smartphone, it's pretty expensive. Have to admit that I payed a lot of money just for the brand. I understand people use apple products for years and if we consider the time span the phone is also worth for the money. But, there are also phones available under 10k and runs for years. Yes, it is true.\\nBuy, this phone only if you want to show others how much you earn, otherwise it's nothing but just a smartphone like others are.\",\n",
       " 'The phone is awesome undoubtedly and worth the purchase .\\n\\nI had preordered it from Flipkart, but this time I am little disappointed with the packaging from Flipkart . I had preordered iPhone 7 Plus too but that time the packaging was excellent but didn’t get the same experience this time .... hence rating it a little low. Flipkart should have packed it better as it’s worth is much more .... Expecting betterment next time ...',\n",
       " 'Switched from Android to Iphone. great experience till now. Night photography feature is Awesome. Scope of improvement in front camera. Fantastic & seamless gaming experience.',\n",
       " 'Just love it... I rated battery 1 star because, when I turned it on it was only 3% 🥺🥺😭. Now I need to wait until the charger comes. But ye, overall I just love this phone♥️♥️♥️♥️♥️♥️♥️♥️♥️♥️♥️♥️♥️♥️ My first ever iPhone😄 My daddy gifted me as a birthday gift, so it will be my mark to return something special more than this♥️ I only want to thank is to my dad.... Thank you Apple for your wonderful product😘🍎❤️😇',\n",
       " \"iPhone 11 is not better than Samsung s20 at the same price\\nIf you need to buy a phone under 65000/ pls go for Samsung S20, this is better choice for you. I'm not satisfied\",\n",
       " 'Received product before the delivery date performance is very good value for money no problem till now camera is also good but the screen is lcd which is not good and irritate some time so you have to compromise the screen Flipkart services is good and nice',\n",
       " 'The best phone I have ever owned!\\n\\nCamera: Rear camera is one of the best in the industry. The front camera is7/10. My Poco f1 with Google Camera mod took better selfies.\\n\\nPerformance: If you are moving from an android device, the performance is unreal. The sync between hardware and software is unreal! There is virtually no lag at all. All games run on it smooth AF! Bluetooth, WiFi performance is superb as well.\\n\\nBattery Life: Getting close to 7-7.5 of screen on time. Very good in comparison...\\nREAD MORE',\n",
       " \"Excellent phone. Got it for 29k after exchange and bank offer. Totally value for money at that price. Loved the product red colour.\\niOS is smooth and no lags at all. Shifted from android though I have used iOS earlier and totally loving iOS.\\nGot an original sealed box piece so go ahead and order without worrying. Also received the iOS 14.5.1 after turning on the phone immediately.\\nFor people who are worried that there is no 5G in this phone don't hesitate to buy it. 5G is going to take tim...\\nREAD MORE\",\n",
       " 'It is a very good phone but price is very high. May be in case of exchange we may get more. But need to bare this much amount initially.\\n\\nRegarding phone, it is okay. Not upto the mark. We can get good android phones under this price. And really painful to buy charger and earphones, this is really con in iphones. Some bluetooth earphones won’t be supported fully like same Bluetooth earphones working fine with android and working with IOS but less sounds compare to android.\\n\\nPros:\\nPhone look...\\nREAD MORE',\n",
       " \"Hmmm., my first iphone and i love it .\\nI thought the battery will be really bad cuz it's so low , but surprisingly it's awesome . Camera are superb .\\nI had oppo f11 pro before buying this , except display everything on iphone 11 is way more good than my oppo one .\\nJust want this phone to last 3 year minimum without much lag.\"]"
      ]
     },
     "execution_count": 177,
     "metadata": {},
     "output_type": "execute_result"
    }
   ],
   "source": [
    "IphoneFullSummary=[]\n",
    "for i in FullSummary:\n",
    "     IphoneFullSummary.append(i.text)\n",
    "        \n",
    "IphoneFullSummary\n"
   ]
  },
  {
   "cell_type": "code",
   "execution_count": 178,
   "id": "adecb9f0",
   "metadata": {},
   "outputs": [
    {
     "data": {
      "text/html": [
       "<div>\n",
       "<style scoped>\n",
       "    .dataframe tbody tr th:only-of-type {\n",
       "        vertical-align: middle;\n",
       "    }\n",
       "\n",
       "    .dataframe tbody tr th {\n",
       "        vertical-align: top;\n",
       "    }\n",
       "\n",
       "    .dataframe thead th {\n",
       "        text-align: right;\n",
       "    }\n",
       "</style>\n",
       "<table border=\"1\" class=\"dataframe\">\n",
       "  <thead>\n",
       "    <tr style=\"text-align: right;\">\n",
       "      <th></th>\n",
       "      <th>Rating</th>\n",
       "      <th>Review summary</th>\n",
       "      <th>Full review</th>\n",
       "    </tr>\n",
       "  </thead>\n",
       "  <tbody>\n",
       "    <tr>\n",
       "      <th>0</th>\n",
       "      <td>4</td>\n",
       "      <td>Wonderful</td>\n",
       "      <td>If I consider it just as a smartphone, it's pr...</td>\n",
       "    </tr>\n",
       "    <tr>\n",
       "      <th>1</th>\n",
       "      <td>3</td>\n",
       "      <td>Does the job</td>\n",
       "      <td>The phone is awesome undoubtedly and worth the...</td>\n",
       "    </tr>\n",
       "    <tr>\n",
       "      <th>2</th>\n",
       "      <td>5</td>\n",
       "      <td>Terrific</td>\n",
       "      <td>Switched from Android to Iphone. great experie...</td>\n",
       "    </tr>\n",
       "    <tr>\n",
       "      <th>3</th>\n",
       "      <td>5</td>\n",
       "      <td>Fabulous!</td>\n",
       "      <td>Just love it... I rated battery 1 star because...</td>\n",
       "    </tr>\n",
       "    <tr>\n",
       "      <th>4</th>\n",
       "      <td>3</td>\n",
       "      <td>Just okay</td>\n",
       "      <td>iPhone 11 is not better than Samsung s20 at th...</td>\n",
       "    </tr>\n",
       "    <tr>\n",
       "      <th>5</th>\n",
       "      <td>4</td>\n",
       "      <td>Delightful</td>\n",
       "      <td>Received product before the delivery date perf...</td>\n",
       "    </tr>\n",
       "    <tr>\n",
       "      <th>6</th>\n",
       "      <td>5</td>\n",
       "      <td>Mind-blowing purchase</td>\n",
       "      <td>The best phone I have ever owned!\\n\\nCamera: R...</td>\n",
       "    </tr>\n",
       "    <tr>\n",
       "      <th>7</th>\n",
       "      <td>5</td>\n",
       "      <td>Terrific</td>\n",
       "      <td>Excellent phone. Got it for 29k after exchange...</td>\n",
       "    </tr>\n",
       "    <tr>\n",
       "      <th>8</th>\n",
       "      <td>4</td>\n",
       "      <td>Good quality product</td>\n",
       "      <td>It is a very good phone but price is very high...</td>\n",
       "    </tr>\n",
       "    <tr>\n",
       "      <th>9</th>\n",
       "      <td>5</td>\n",
       "      <td>Simply awesome</td>\n",
       "      <td>Hmmm., my first iphone and i love it .\\nI thou...</td>\n",
       "    </tr>\n",
       "  </tbody>\n",
       "</table>\n",
       "</div>"
      ],
      "text/plain": [
       "  Rating         Review summary  \\\n",
       "0      4              Wonderful   \n",
       "1      3           Does the job   \n",
       "2      5               Terrific   \n",
       "3      5              Fabulous!   \n",
       "4      3              Just okay   \n",
       "5      4             Delightful   \n",
       "6      5  Mind-blowing purchase   \n",
       "7      5               Terrific   \n",
       "8      4   Good quality product   \n",
       "9      5         Simply awesome   \n",
       "\n",
       "                                         Full review  \n",
       "0  If I consider it just as a smartphone, it's pr...  \n",
       "1  The phone is awesome undoubtedly and worth the...  \n",
       "2  Switched from Android to Iphone. great experie...  \n",
       "3  Just love it... I rated battery 1 star because...  \n",
       "4  iPhone 11 is not better than Samsung s20 at th...  \n",
       "5  Received product before the delivery date perf...  \n",
       "6  The best phone I have ever owned!\\n\\nCamera: R...  \n",
       "7  Excellent phone. Got it for 29k after exchange...  \n",
       "8  It is a very good phone but price is very high...  \n",
       "9  Hmmm., my first iphone and i love it .\\nI thou...  "
      ]
     },
     "execution_count": 178,
     "metadata": {},
     "output_type": "execute_result"
    }
   ],
   "source": [
    "import pandas as pd\n",
    "IphoneDf4=pd.DataFrame({\"Rating\" :IphoneRatings,\"Review summary\":IphoneSummary ,\"Full review\":IphoneFullSummary})\n",
    "IphoneDf4"
   ]
  },
  {
   "cell_type": "code",
   "execution_count": 180,
   "id": "636dceb5",
   "metadata": {},
   "outputs": [
    {
     "data": {
      "text/plain": [
       "<selenium.webdriver.remote.webelement.WebElement (session=\"f35399cbad11b92fcbed0a78baf551ab\", element=\"234c0afc-8555-4ec8-9474-7337bb4f9206\")>"
      ]
     },
     "execution_count": 180,
     "metadata": {},
     "output_type": "execute_result"
    }
   ],
   "source": [
    "Next_Button=driver.find_element_by_xpath(\"/html/body/div[1]/div/div[3]/div/div/div[2]/div[13]/div/div/nav/a[11]\")\n",
    "Next_Button"
   ]
  },
  {
   "cell_type": "code",
   "execution_count": 181,
   "id": "7c04e988",
   "metadata": {},
   "outputs": [],
   "source": [
    "Next_Button.click()"
   ]
  },
  {
   "cell_type": "code",
   "execution_count": 182,
   "id": "67a1449e",
   "metadata": {},
   "outputs": [
    {
     "data": {
      "text/plain": [
       "10"
      ]
     },
     "execution_count": 182,
     "metadata": {},
     "output_type": "execute_result"
    }
   ],
   "source": [
    "IphoneRating = driver.find_elements_by_xpath('//div[@class=\"_3LWZlK _1BLPMq\"]')\n",
    "len(IphoneRating)\n"
   ]
  },
  {
   "cell_type": "code",
   "execution_count": 183,
   "id": "3a668eb5",
   "metadata": {},
   "outputs": [
    {
     "data": {
      "text/plain": [
       "['4', '4', '5', '4', '4', '5', '5', '5', '5', '5']"
      ]
     },
     "execution_count": 183,
     "metadata": {},
     "output_type": "execute_result"
    }
   ],
   "source": [
    "IphoneRatings=[]\n",
    "for i in IphoneRating:\n",
    "     IphoneRatings.append(i.text)\n",
    "\n",
    "IphoneRatings\n"
   ]
  },
  {
   "cell_type": "code",
   "execution_count": 184,
   "id": "bf95b581",
   "metadata": {},
   "outputs": [
    {
     "data": {
      "text/plain": [
       "10"
      ]
     },
     "execution_count": 184,
     "metadata": {},
     "output_type": "execute_result"
    }
   ],
   "source": [
    "Summary = driver.find_elements_by_xpath('//p[@class=\"_2-N8zT\"]')\n",
    "len(Summary)\n"
   ]
  },
  {
   "cell_type": "code",
   "execution_count": 185,
   "id": "a01511c9",
   "metadata": {},
   "outputs": [
    {
     "data": {
      "text/plain": [
       "['Worth the money',\n",
       " 'Wonderful',\n",
       " 'Perfect product!',\n",
       " 'Good choice',\n",
       " 'Pretty good',\n",
       " 'Excellent',\n",
       " 'Super!',\n",
       " 'Best in the market!',\n",
       " 'Fabulous!',\n",
       " 'Wonderful']"
      ]
     },
     "execution_count": 185,
     "metadata": {},
     "output_type": "execute_result"
    }
   ],
   "source": [
    "IphoneSummary=[]\n",
    "for i in Summary:\n",
    "     IphoneSummary.append(i.text)\n",
    "\n",
    "IphoneSummary\n"
   ]
  },
  {
   "cell_type": "code",
   "execution_count": 186,
   "id": "f7ab6075",
   "metadata": {},
   "outputs": [
    {
     "data": {
      "text/plain": [
       "10"
      ]
     },
     "execution_count": 186,
     "metadata": {},
     "output_type": "execute_result"
    }
   ],
   "source": [
    "FullSummary = driver.find_elements_by_xpath('//div[@class=\"t-ZTKy\"]')\n",
    "len(FullSummary)\n"
   ]
  },
  {
   "cell_type": "code",
   "execution_count": 187,
   "id": "abeedf85",
   "metadata": {},
   "outputs": [
    {
     "data": {
      "text/plain": [
       "['Awesome product!\\nBattery: awesome\\nDisplay: awesome\\nPerformance:awesome\\nSound quality: awesome\\nCamera: awesome in light-but Low light camera performance is not very good',\n",
       " 'I just loved the phone .... as I was waiting for phone cover this couldn’t able to review the phone..... camera quality is superb plus the features of phone... good phone all must buy.....',\n",
       " 'Nice phone to buy with such offers its worth it if u can afford it just go for it',\n",
       " 'One of my Fav Brand Apple and the Iphone 11 was a cherry on top so no comments for quality and performance but Flipkart please packing this product good way and extra safety this is my feedback for ur service.',\n",
       " 'Good product. Bought on a good deal. Been around a week since started using.\\nDisplay is a little dull as compared to other iPhone models.\\nSometimes gets heated up while charging with Apple 18W fast charger.\\nGames like COD are running smooth.\\nBattery is decent enough to give you a day’s time between 2 recharges.',\n",
       " \"The best phone I've ever bought with excellent performance, fantastic display & best camera with good improvements & high security. Don't think much,its just one time investment just go for it. Its total worth!\",\n",
       " 'Amazing performance... Very happy with purchase and delivery was super fast so Thanks to Flipkart for wonderful experience',\n",
       " 'I’m am very happy with the camera picture quality, Amazing face id unlocked in a dark room, Strong battery with the perfect screen size as you can carry easily in a pocket',\n",
       " 'I have been using android from last 9 years and this is my first iPhone and they are good camera multitasking games even display is great though an lcd panel but colours are rich and vibrant.\\n\\nOne liner - A premium device with all features. 🙂',\n",
       " 'Works seamlessly, I get an avg 1.5 days battery life with moderate usage.\\nCan’t really notice the low resolution LCD of this phone until you compare it with an AMOLed screen.\\nUsually heats up 10 to 30% when doing high intensive tasks. Camera is no doubt at par with the flagship phones with good low light captures compared to iPhone 8.\\nOverall iPhone 11 is better choice unless you want top notch camera and screen.']"
      ]
     },
     "execution_count": 187,
     "metadata": {},
     "output_type": "execute_result"
    }
   ],
   "source": [
    "IphoneFullSummary=[]\n",
    "for i in FullSummary:\n",
    "     IphoneFullSummary.append(i.text)\n",
    "        \n",
    "IphoneFullSummary     \n"
   ]
  },
  {
   "cell_type": "code",
   "execution_count": 188,
   "id": "a51a8382",
   "metadata": {},
   "outputs": [
    {
     "data": {
      "text/html": [
       "<div>\n",
       "<style scoped>\n",
       "    .dataframe tbody tr th:only-of-type {\n",
       "        vertical-align: middle;\n",
       "    }\n",
       "\n",
       "    .dataframe tbody tr th {\n",
       "        vertical-align: top;\n",
       "    }\n",
       "\n",
       "    .dataframe thead th {\n",
       "        text-align: right;\n",
       "    }\n",
       "</style>\n",
       "<table border=\"1\" class=\"dataframe\">\n",
       "  <thead>\n",
       "    <tr style=\"text-align: right;\">\n",
       "      <th></th>\n",
       "      <th>Rating</th>\n",
       "      <th>Review summary</th>\n",
       "      <th>Full review</th>\n",
       "    </tr>\n",
       "  </thead>\n",
       "  <tbody>\n",
       "    <tr>\n",
       "      <th>0</th>\n",
       "      <td>4</td>\n",
       "      <td>Worth the money</td>\n",
       "      <td>Awesome product!\\nBattery: awesome\\nDisplay: a...</td>\n",
       "    </tr>\n",
       "    <tr>\n",
       "      <th>1</th>\n",
       "      <td>4</td>\n",
       "      <td>Wonderful</td>\n",
       "      <td>I just loved the phone .... as I was waiting f...</td>\n",
       "    </tr>\n",
       "    <tr>\n",
       "      <th>2</th>\n",
       "      <td>5</td>\n",
       "      <td>Perfect product!</td>\n",
       "      <td>Nice phone to buy with such offers its worth i...</td>\n",
       "    </tr>\n",
       "    <tr>\n",
       "      <th>3</th>\n",
       "      <td>4</td>\n",
       "      <td>Good choice</td>\n",
       "      <td>One of my Fav Brand Apple and the Iphone 11 wa...</td>\n",
       "    </tr>\n",
       "    <tr>\n",
       "      <th>4</th>\n",
       "      <td>4</td>\n",
       "      <td>Pretty good</td>\n",
       "      <td>Good product. Bought on a good deal. Been arou...</td>\n",
       "    </tr>\n",
       "    <tr>\n",
       "      <th>5</th>\n",
       "      <td>5</td>\n",
       "      <td>Excellent</td>\n",
       "      <td>The best phone I've ever bought with excellent...</td>\n",
       "    </tr>\n",
       "    <tr>\n",
       "      <th>6</th>\n",
       "      <td>5</td>\n",
       "      <td>Super!</td>\n",
       "      <td>Amazing performance... Very happy with purchas...</td>\n",
       "    </tr>\n",
       "    <tr>\n",
       "      <th>7</th>\n",
       "      <td>5</td>\n",
       "      <td>Best in the market!</td>\n",
       "      <td>I’m am very happy with the camera picture qual...</td>\n",
       "    </tr>\n",
       "    <tr>\n",
       "      <th>8</th>\n",
       "      <td>5</td>\n",
       "      <td>Fabulous!</td>\n",
       "      <td>I have been using android from last 9 years an...</td>\n",
       "    </tr>\n",
       "    <tr>\n",
       "      <th>9</th>\n",
       "      <td>5</td>\n",
       "      <td>Wonderful</td>\n",
       "      <td>Works seamlessly, I get an avg 1.5 days batter...</td>\n",
       "    </tr>\n",
       "  </tbody>\n",
       "</table>\n",
       "</div>"
      ],
      "text/plain": [
       "  Rating       Review summary  \\\n",
       "0      4      Worth the money   \n",
       "1      4            Wonderful   \n",
       "2      5     Perfect product!   \n",
       "3      4          Good choice   \n",
       "4      4          Pretty good   \n",
       "5      5            Excellent   \n",
       "6      5               Super!   \n",
       "7      5  Best in the market!   \n",
       "8      5            Fabulous!   \n",
       "9      5            Wonderful   \n",
       "\n",
       "                                         Full review  \n",
       "0  Awesome product!\\nBattery: awesome\\nDisplay: a...  \n",
       "1  I just loved the phone .... as I was waiting f...  \n",
       "2  Nice phone to buy with such offers its worth i...  \n",
       "3  One of my Fav Brand Apple and the Iphone 11 wa...  \n",
       "4  Good product. Bought on a good deal. Been arou...  \n",
       "5  The best phone I've ever bought with excellent...  \n",
       "6  Amazing performance... Very happy with purchas...  \n",
       "7  I’m am very happy with the camera picture qual...  \n",
       "8  I have been using android from last 9 years an...  \n",
       "9  Works seamlessly, I get an avg 1.5 days batter...  "
      ]
     },
     "execution_count": 188,
     "metadata": {},
     "output_type": "execute_result"
    }
   ],
   "source": [
    "import pandas as pd\n",
    "IphoneDf5=pd.DataFrame({\"Rating\" :IphoneRatings,\"Review summary\":IphoneSummary ,\"Full review\":IphoneFullSummary})\n",
    "IphoneDf5\n"
   ]
  },
  {
   "cell_type": "code",
   "execution_count": 190,
   "id": "a8c7550f",
   "metadata": {},
   "outputs": [
    {
     "data": {
      "text/plain": [
       "<selenium.webdriver.remote.webelement.WebElement (session=\"f35399cbad11b92fcbed0a78baf551ab\", element=\"1e538b4a-62a5-4620-931d-7d326f9b6f9c\")>"
      ]
     },
     "execution_count": 190,
     "metadata": {},
     "output_type": "execute_result"
    }
   ],
   "source": [
    "Next_Button=driver.find_element_by_xpath(\"/html/body/div[1]/div/div[3]/div/div/div[2]/div[13]/div/div/nav/a[11]\")\n",
    "Next_Button"
   ]
  },
  {
   "cell_type": "code",
   "execution_count": 191,
   "id": "720f9500",
   "metadata": {},
   "outputs": [],
   "source": [
    "Next_Button.click()"
   ]
  },
  {
   "cell_type": "code",
   "execution_count": 192,
   "id": "94f041bf",
   "metadata": {},
   "outputs": [
    {
     "data": {
      "text/plain": [
       "10"
      ]
     },
     "execution_count": 192,
     "metadata": {},
     "output_type": "execute_result"
    }
   ],
   "source": [
    "IphoneRating = driver.find_elements_by_xpath('//div[@class=\"_3LWZlK _1BLPMq\"]')\n",
    "len(IphoneRating)\n"
   ]
  },
  {
   "cell_type": "code",
   "execution_count": 193,
   "id": "e91c236a",
   "metadata": {},
   "outputs": [
    {
     "data": {
      "text/plain": [
       "['5', '4', '4', '3', '4', '5', '5', '4', '3', '4']"
      ]
     },
     "execution_count": 193,
     "metadata": {},
     "output_type": "execute_result"
    }
   ],
   "source": [
    "IphoneRatings=[]\n",
    "for i in IphoneRating:\n",
    "     IphoneRatings.append(i.text)\n",
    "\n",
    "IphoneRatings\n"
   ]
  },
  {
   "cell_type": "code",
   "execution_count": 194,
   "id": "4ec206dd",
   "metadata": {},
   "outputs": [
    {
     "data": {
      "text/plain": [
       "10"
      ]
     },
     "execution_count": 194,
     "metadata": {},
     "output_type": "execute_result"
    }
   ],
   "source": [
    "Summary = driver.find_elements_by_xpath('//p[@class=\"_2-N8zT\"]')\n",
    "len(Summary)\n"
   ]
  },
  {
   "cell_type": "code",
   "execution_count": 195,
   "id": "08787936",
   "metadata": {},
   "outputs": [
    {
     "data": {
      "text/plain": [
       "['Awesome',\n",
       " 'Worth the money',\n",
       " 'Worth the money',\n",
       " 'Nice',\n",
       " 'Value-for-money',\n",
       " 'Must buy!',\n",
       " 'Just wow!',\n",
       " 'Nice product',\n",
       " 'Good',\n",
       " 'Delightful']"
      ]
     },
     "execution_count": 195,
     "metadata": {},
     "output_type": "execute_result"
    }
   ],
   "source": [
    "IphoneSummary=[]\n",
    "for i in Summary:\n",
    "     IphoneSummary.append(i.text)\n",
    "\n",
    "IphoneSummary\n"
   ]
  },
  {
   "cell_type": "code",
   "execution_count": 196,
   "id": "10c5d021",
   "metadata": {},
   "outputs": [
    {
     "data": {
      "text/plain": [
       "10"
      ]
     },
     "execution_count": 196,
     "metadata": {},
     "output_type": "execute_result"
    }
   ],
   "source": [
    "FullSummary = driver.find_elements_by_xpath('//div[@class=\"t-ZTKy\"]')\n",
    "len(FullSummary)\n"
   ]
  },
  {
   "cell_type": "code",
   "execution_count": 197,
   "id": "744fe766",
   "metadata": {},
   "outputs": [
    {
     "data": {
      "text/plain": [
       "['The best phone ever iphones no one can match a iphone. There phones are truly intelligent phones thats why they called iphones. The look feel and depth of everything make your soul filled with joy and complete satisfaction. I love my iphone 11 in yellow color unique and amazing. Iphones are beast no phone ever in the history or in the future will match and compete with iphones they have there own competition. ios rocks!! Secure and advance. Battery life omg superb performance like the fast a...\\nREAD MORE',\n",
       " 'Good product ,\\nBut it’s somehow overpriced because :\\n1- if you compare image from iPhone 11 12 megapixel with Samsung galaxy 64 megapixel, there are only minor differences in the image quality\\n\\n2- battery backup is good but not better than my old Samsung galaxy\\n\\n3- performance is good by if you compare it with 8 gb ram you can’t feel the differences\\n\\n4- same with the display if you compare it with super amoled 90 GHz Samsung or oneplus , the smoothness is quite similar.\\n\\nSo overall a very go...\\nREAD MORE',\n",
       " \"apple is a good product. Camera is good. battery life is ok not good but ok and performance is very high. Display wasn't so good but it's ok and about accessories in the box no charger ok. but i think without earphones device is not completed and speakers sound quality is just a little lower than my galaxy s20 plus. settings vary hard to manage and accounts also very hard to login and use. please make it easy to use not hard.\",\n",
       " 'Very bad experience with iPhone phone getting heat while charging and touch is not upto the mark and battery backup is also not good . Display is quite good bt touch sampling rate is not good.. so please go with Android one plus or any other in this segment phone .. not a value for money phone. Go with Android which gives good performance Better than iPhone. Waste of money',\n",
       " 'Reviewing after 10 days\\nCamera:- In this price segment best camera phone for Video as well as photo. This mobile not for the selfie lover due lack of beautification option.\\nDisplay :- LCD display not justify its price. Quality not upto the mark. Light yellowish tint observed on display even after colour correction.\\nBattery :- Battery back up good, It last full day.\\nProfessor :- No doubt about Iphone processor. It is best A13 bionic chip better than SD 865.\\nOS:- Little bit difficult to unders...\\nREAD MORE',\n",
       " 'Was scared to purchase this online but it was as it is, working really well and even comes with warranty. Authentic one and looks super sleek and nice',\n",
       " 'Has some limitations as compared to android but it is stable and is overall a balanced package. I liked it. Thanks to seller, received a genuine product.',\n",
       " 'Overalll a good phone i am a regular android need a chnge so switched over to iphone,not much user friendly but quality wise the best phone u can get.camera looks awesome in daylight night mode quite not gud compared to other phones at this price range.but overall a better phone to buy .the finishing u can never get in android .',\n",
       " \"Don't know if it's only with my unit or every iPhone 11 is like this... I really didn't enjoy the battery backup.. like I just played cod for barely 1.5 hour and the battery went from 79% to 22%.. otherwise the phone is doing great.\",\n",
       " \"1 week of use I must say this is the best although it could be better if they provided Earpods too as an Android user I didn't have one and have to bought extra. Better buy at offers and sales it would be good for budget.\"]"
      ]
     },
     "execution_count": 197,
     "metadata": {},
     "output_type": "execute_result"
    }
   ],
   "source": [
    "IphoneFullSummary=[]\n",
    "for i in FullSummary:\n",
    "     IphoneFullSummary.append(i.text)\n",
    "        \n",
    "IphoneFullSummary     \n"
   ]
  },
  {
   "cell_type": "code",
   "execution_count": 198,
   "id": "2e4fad74",
   "metadata": {},
   "outputs": [
    {
     "data": {
      "text/html": [
       "<div>\n",
       "<style scoped>\n",
       "    .dataframe tbody tr th:only-of-type {\n",
       "        vertical-align: middle;\n",
       "    }\n",
       "\n",
       "    .dataframe tbody tr th {\n",
       "        vertical-align: top;\n",
       "    }\n",
       "\n",
       "    .dataframe thead th {\n",
       "        text-align: right;\n",
       "    }\n",
       "</style>\n",
       "<table border=\"1\" class=\"dataframe\">\n",
       "  <thead>\n",
       "    <tr style=\"text-align: right;\">\n",
       "      <th></th>\n",
       "      <th>Rating</th>\n",
       "      <th>Review summary</th>\n",
       "      <th>Full review</th>\n",
       "    </tr>\n",
       "  </thead>\n",
       "  <tbody>\n",
       "    <tr>\n",
       "      <th>0</th>\n",
       "      <td>5</td>\n",
       "      <td>Awesome</td>\n",
       "      <td>The best phone ever iphones no one can match a...</td>\n",
       "    </tr>\n",
       "    <tr>\n",
       "      <th>1</th>\n",
       "      <td>4</td>\n",
       "      <td>Worth the money</td>\n",
       "      <td>Good product ,\\nBut it’s somehow overpriced be...</td>\n",
       "    </tr>\n",
       "    <tr>\n",
       "      <th>2</th>\n",
       "      <td>4</td>\n",
       "      <td>Worth the money</td>\n",
       "      <td>apple is a good product. Camera is good. batte...</td>\n",
       "    </tr>\n",
       "    <tr>\n",
       "      <th>3</th>\n",
       "      <td>3</td>\n",
       "      <td>Nice</td>\n",
       "      <td>Very bad experience with iPhone phone getting ...</td>\n",
       "    </tr>\n",
       "    <tr>\n",
       "      <th>4</th>\n",
       "      <td>4</td>\n",
       "      <td>Value-for-money</td>\n",
       "      <td>Reviewing after 10 days\\nCamera:- In this pric...</td>\n",
       "    </tr>\n",
       "    <tr>\n",
       "      <th>5</th>\n",
       "      <td>5</td>\n",
       "      <td>Must buy!</td>\n",
       "      <td>Was scared to purchase this online but it was ...</td>\n",
       "    </tr>\n",
       "    <tr>\n",
       "      <th>6</th>\n",
       "      <td>5</td>\n",
       "      <td>Just wow!</td>\n",
       "      <td>Has some limitations as compared to android bu...</td>\n",
       "    </tr>\n",
       "    <tr>\n",
       "      <th>7</th>\n",
       "      <td>4</td>\n",
       "      <td>Nice product</td>\n",
       "      <td>Overalll a good phone i am a regular android n...</td>\n",
       "    </tr>\n",
       "    <tr>\n",
       "      <th>8</th>\n",
       "      <td>3</td>\n",
       "      <td>Good</td>\n",
       "      <td>Don't know if it's only with my unit or every ...</td>\n",
       "    </tr>\n",
       "    <tr>\n",
       "      <th>9</th>\n",
       "      <td>4</td>\n",
       "      <td>Delightful</td>\n",
       "      <td>1 week of use I must say this is the best alth...</td>\n",
       "    </tr>\n",
       "  </tbody>\n",
       "</table>\n",
       "</div>"
      ],
      "text/plain": [
       "  Rating   Review summary                                        Full review\n",
       "0      5          Awesome  The best phone ever iphones no one can match a...\n",
       "1      4  Worth the money  Good product ,\\nBut it’s somehow overpriced be...\n",
       "2      4  Worth the money  apple is a good product. Camera is good. batte...\n",
       "3      3             Nice  Very bad experience with iPhone phone getting ...\n",
       "4      4  Value-for-money  Reviewing after 10 days\\nCamera:- In this pric...\n",
       "5      5        Must buy!  Was scared to purchase this online but it was ...\n",
       "6      5        Just wow!  Has some limitations as compared to android bu...\n",
       "7      4     Nice product  Overalll a good phone i am a regular android n...\n",
       "8      3             Good  Don't know if it's only with my unit or every ...\n",
       "9      4       Delightful  1 week of use I must say this is the best alth..."
      ]
     },
     "execution_count": 198,
     "metadata": {},
     "output_type": "execute_result"
    }
   ],
   "source": [
    "import pandas as pd\n",
    "IphoneDf6=pd.DataFrame({\"Rating\" :IphoneRatings,\"Review summary\":IphoneSummary ,\"Full review\":IphoneFullSummary})\n",
    "IphoneDf6\n"
   ]
  },
  {
   "cell_type": "code",
   "execution_count": 199,
   "id": "04a8e07d",
   "metadata": {},
   "outputs": [
    {
     "data": {
      "text/plain": [
       "<selenium.webdriver.remote.webelement.WebElement (session=\"f35399cbad11b92fcbed0a78baf551ab\", element=\"6d26823d-9add-45dc-b035-79f997104e9d\")>"
      ]
     },
     "execution_count": 199,
     "metadata": {},
     "output_type": "execute_result"
    }
   ],
   "source": [
    "Next_Button=driver.find_element_by_xpath(\"/html/body/div[1]/div/div[3]/div/div/div[2]/div[13]/div/div/nav/a[11]\")\n",
    "Next_Button\n"
   ]
  },
  {
   "cell_type": "code",
   "execution_count": 200,
   "id": "8e82c4c9",
   "metadata": {},
   "outputs": [],
   "source": [
    "Next_Button.click()"
   ]
  },
  {
   "cell_type": "code",
   "execution_count": 201,
   "id": "663222b8",
   "metadata": {},
   "outputs": [
    {
     "data": {
      "text/plain": [
       "10"
      ]
     },
     "execution_count": 201,
     "metadata": {},
     "output_type": "execute_result"
    }
   ],
   "source": [
    "IphoneRating = driver.find_elements_by_xpath('//div[@class=\"_3LWZlK _1BLPMq\"]')\n",
    "len(IphoneRating)\n"
   ]
  },
  {
   "cell_type": "code",
   "execution_count": 202,
   "id": "fed79e42",
   "metadata": {},
   "outputs": [
    {
     "data": {
      "text/plain": [
       "['5', '5', '5', '5', '5', '5', '5', '5', '5', '5']"
      ]
     },
     "execution_count": 202,
     "metadata": {},
     "output_type": "execute_result"
    }
   ],
   "source": [
    "IphoneRatings=[]\n",
    "for i in IphoneRating:\n",
    "     IphoneRatings.append(i.text)\n",
    "\n",
    "IphoneRatings\n"
   ]
  },
  {
   "cell_type": "code",
   "execution_count": 203,
   "id": "d493b473",
   "metadata": {},
   "outputs": [
    {
     "data": {
      "text/plain": [
       "10"
      ]
     },
     "execution_count": 203,
     "metadata": {},
     "output_type": "execute_result"
    }
   ],
   "source": [
    "Summary = driver.find_elements_by_xpath('//p[@class=\"_2-N8zT\"]')\n",
    "len(Summary)\n"
   ]
  },
  {
   "cell_type": "code",
   "execution_count": 204,
   "id": "eb965f4e",
   "metadata": {},
   "outputs": [
    {
     "data": {
      "text/plain": [
       "['Fabulous!',\n",
       " 'Just wow!',\n",
       " 'Highly recommended',\n",
       " 'Best in the market!',\n",
       " 'Best in the market!',\n",
       " 'Awesome',\n",
       " 'Terrific',\n",
       " 'Simply awesome',\n",
       " 'Best in the market!',\n",
       " 'Worth every penny']"
      ]
     },
     "execution_count": 204,
     "metadata": {},
     "output_type": "execute_result"
    }
   ],
   "source": [
    "IphoneSummary=[]\n",
    "for i in Summary:\n",
    "     IphoneSummary.append(i.text)\n",
    "\n",
    "IphoneSummary\n"
   ]
  },
  {
   "cell_type": "code",
   "execution_count": 205,
   "id": "258c2c8a",
   "metadata": {},
   "outputs": [
    {
     "data": {
      "text/plain": [
       "10"
      ]
     },
     "execution_count": 205,
     "metadata": {},
     "output_type": "execute_result"
    }
   ],
   "source": [
    "FullSummary = driver.find_elements_by_xpath('//div[@class=\"t-ZTKy\"]')\n",
    "len(FullSummary)\n"
   ]
  },
  {
   "cell_type": "code",
   "execution_count": 206,
   "id": "775e9b60",
   "metadata": {},
   "outputs": [
    {
     "data": {
      "text/plain": [
       "['Simply wow the camera, battery backup, gaming performance, display quality and most of the value for money.... I would recommend this phone to any one who would like to move to the iPhone world. ✌️',\n",
       " 'The phone is really super trust me\\nI used apple since iphone 4s and i could say their product is really fantastic beside you can choose note 10 also but for IOS lover iphone 11 will be better,\".',\n",
       " 'upgraded from iPhone 7 and was introduced to a great performance right out of the box .Worth every penny spend on the premium phone . Great camera especially the night mode',\n",
       " 'Wow wonderful gift for the special day from special one. And obvious that Apple phone is always be a wonderful mobile. Looks stunning. Falling in love with its colour and features',\n",
       " 'Great phone, using from last 4 months. No issues till now, good battery backup for 1 day with good usage. Loving this upgrade from iPhone 7, worth the package.',\n",
       " 'So good look comfortable iPhone 11 I am so very happy my life first time iPhone used camera is 👌 sound quality is clear sounds',\n",
       " 'Simply Awesome\\n\\nI have upgraded from iPhone 7 to iPhone 11.\\n\\n3110 mah Battery is good. I am not a heavy gamer. For official purpose, this is better than 12 mini.\\n\\nTotally impressed with battery performance.',\n",
       " \"Incredible phone with a excellent battery and a better experience.\\nThose who are concerned about its screen quality.Trust me this is one of the best IPS panal.\\nPreviously I used OnePlus 5t which had a full hd AMOLED display,but I didn't notice a huge difference.\\nIf a get a fabulous deal then just go for it.\",\n",
       " 'Very Good Product Value For Money Really 😍',\n",
       " 'PUBG REVIEW\\n\\nI bought this device for pubg,to play custom tournaments,and earn money..A13 chip is amazing..no lag in customs matches on mobile network..i play on airtel net.sim network..80-90 ms...\\n\\nOne thing is battery consumption is 15% per match..xr takes 10% per match..so i hope apple fix this..\\n\\nSometime during matches it heats a little..then cool down automatic..so heating issue is not a problem..\\n\\nTouch response is way better than android lcd..\\n\\nFor gaming it is really beast..but if yo...\\nREAD MORE']"
      ]
     },
     "execution_count": 206,
     "metadata": {},
     "output_type": "execute_result"
    }
   ],
   "source": [
    "IphoneFullSummary=[]\n",
    "for i in FullSummary:\n",
    "     IphoneFullSummary.append(i.text)\n",
    "        \n",
    "IphoneFullSummary     \n"
   ]
  },
  {
   "cell_type": "code",
   "execution_count": 207,
   "id": "0b27ed5c",
   "metadata": {},
   "outputs": [
    {
     "data": {
      "text/html": [
       "<div>\n",
       "<style scoped>\n",
       "    .dataframe tbody tr th:only-of-type {\n",
       "        vertical-align: middle;\n",
       "    }\n",
       "\n",
       "    .dataframe tbody tr th {\n",
       "        vertical-align: top;\n",
       "    }\n",
       "\n",
       "    .dataframe thead th {\n",
       "        text-align: right;\n",
       "    }\n",
       "</style>\n",
       "<table border=\"1\" class=\"dataframe\">\n",
       "  <thead>\n",
       "    <tr style=\"text-align: right;\">\n",
       "      <th></th>\n",
       "      <th>Rating</th>\n",
       "      <th>Review summary</th>\n",
       "      <th>Full review</th>\n",
       "    </tr>\n",
       "  </thead>\n",
       "  <tbody>\n",
       "    <tr>\n",
       "      <th>0</th>\n",
       "      <td>5</td>\n",
       "      <td>Fabulous!</td>\n",
       "      <td>Simply wow the camera, battery backup, gaming ...</td>\n",
       "    </tr>\n",
       "    <tr>\n",
       "      <th>1</th>\n",
       "      <td>5</td>\n",
       "      <td>Just wow!</td>\n",
       "      <td>The phone is really super trust me\\nI used app...</td>\n",
       "    </tr>\n",
       "    <tr>\n",
       "      <th>2</th>\n",
       "      <td>5</td>\n",
       "      <td>Highly recommended</td>\n",
       "      <td>upgraded from iPhone 7 and was introduced to a...</td>\n",
       "    </tr>\n",
       "    <tr>\n",
       "      <th>3</th>\n",
       "      <td>5</td>\n",
       "      <td>Best in the market!</td>\n",
       "      <td>Wow wonderful gift for the special day from sp...</td>\n",
       "    </tr>\n",
       "    <tr>\n",
       "      <th>4</th>\n",
       "      <td>5</td>\n",
       "      <td>Best in the market!</td>\n",
       "      <td>Great phone, using from last 4 months. No issu...</td>\n",
       "    </tr>\n",
       "    <tr>\n",
       "      <th>5</th>\n",
       "      <td>5</td>\n",
       "      <td>Awesome</td>\n",
       "      <td>So good look comfortable iPhone 11 I am so ver...</td>\n",
       "    </tr>\n",
       "    <tr>\n",
       "      <th>6</th>\n",
       "      <td>5</td>\n",
       "      <td>Terrific</td>\n",
       "      <td>Simply Awesome\\n\\nI have upgraded from iPhone ...</td>\n",
       "    </tr>\n",
       "    <tr>\n",
       "      <th>7</th>\n",
       "      <td>5</td>\n",
       "      <td>Simply awesome</td>\n",
       "      <td>Incredible phone with a excellent battery and ...</td>\n",
       "    </tr>\n",
       "    <tr>\n",
       "      <th>8</th>\n",
       "      <td>5</td>\n",
       "      <td>Best in the market!</td>\n",
       "      <td>Very Good Product Value For Money Really 😍</td>\n",
       "    </tr>\n",
       "    <tr>\n",
       "      <th>9</th>\n",
       "      <td>5</td>\n",
       "      <td>Worth every penny</td>\n",
       "      <td>PUBG REVIEW\\n\\nI bought this device for pubg,t...</td>\n",
       "    </tr>\n",
       "  </tbody>\n",
       "</table>\n",
       "</div>"
      ],
      "text/plain": [
       "  Rating       Review summary  \\\n",
       "0      5            Fabulous!   \n",
       "1      5            Just wow!   \n",
       "2      5   Highly recommended   \n",
       "3      5  Best in the market!   \n",
       "4      5  Best in the market!   \n",
       "5      5              Awesome   \n",
       "6      5             Terrific   \n",
       "7      5       Simply awesome   \n",
       "8      5  Best in the market!   \n",
       "9      5    Worth every penny   \n",
       "\n",
       "                                         Full review  \n",
       "0  Simply wow the camera, battery backup, gaming ...  \n",
       "1  The phone is really super trust me\\nI used app...  \n",
       "2  upgraded from iPhone 7 and was introduced to a...  \n",
       "3  Wow wonderful gift for the special day from sp...  \n",
       "4  Great phone, using from last 4 months. No issu...  \n",
       "5  So good look comfortable iPhone 11 I am so ver...  \n",
       "6  Simply Awesome\\n\\nI have upgraded from iPhone ...  \n",
       "7  Incredible phone with a excellent battery and ...  \n",
       "8         Very Good Product Value For Money Really 😍  \n",
       "9  PUBG REVIEW\\n\\nI bought this device for pubg,t...  "
      ]
     },
     "execution_count": 207,
     "metadata": {},
     "output_type": "execute_result"
    }
   ],
   "source": [
    "import pandas as pd\n",
    "IphoneDf7=pd.DataFrame({\"Rating\" :IphoneRatings,\"Review summary\":IphoneSummary ,\"Full review\":IphoneFullSummary})\n",
    "IphoneDf7\n"
   ]
  },
  {
   "cell_type": "code",
   "execution_count": 208,
   "id": "42effb44",
   "metadata": {},
   "outputs": [
    {
     "data": {
      "text/plain": [
       "<selenium.webdriver.remote.webelement.WebElement (session=\"f35399cbad11b92fcbed0a78baf551ab\", element=\"cc6f5858-07f6-4617-ae27-c2cefbec65f7\")>"
      ]
     },
     "execution_count": 208,
     "metadata": {},
     "output_type": "execute_result"
    }
   ],
   "source": [
    "Next_Button=driver.find_element_by_xpath(\"/html/body/div[1]/div/div[3]/div/div/div[2]/div[13]/div/div/nav/a[11]\")\n",
    "Next_Button\n"
   ]
  },
  {
   "cell_type": "code",
   "execution_count": 209,
   "id": "b22a3b09",
   "metadata": {},
   "outputs": [],
   "source": [
    "\n",
    "Next_Button.click()\n"
   ]
  },
  {
   "cell_type": "code",
   "execution_count": 210,
   "id": "53ac2906",
   "metadata": {},
   "outputs": [
    {
     "data": {
      "text/plain": [
       "10"
      ]
     },
     "execution_count": 210,
     "metadata": {},
     "output_type": "execute_result"
    }
   ],
   "source": [
    "IphoneRating = driver.find_elements_by_xpath('//div[@class=\"_3LWZlK _1BLPMq\"]')\n",
    "len(IphoneRating)\n"
   ]
  },
  {
   "cell_type": "code",
   "execution_count": 211,
   "id": "8805fb12",
   "metadata": {},
   "outputs": [
    {
     "data": {
      "text/plain": [
       "['3', '4', '5', '5', '5', '5', '5', '5', '4', '5']"
      ]
     },
     "execution_count": 211,
     "metadata": {},
     "output_type": "execute_result"
    }
   ],
   "source": [
    "IphoneRatings=[]\n",
    "for i in IphoneRating:\n",
    "     IphoneRatings.append(i.text)\n",
    "\n",
    "IphoneRatings\n"
   ]
  },
  {
   "cell_type": "code",
   "execution_count": 212,
   "id": "d6134005",
   "metadata": {},
   "outputs": [
    {
     "data": {
      "text/plain": [
       "10"
      ]
     },
     "execution_count": 212,
     "metadata": {},
     "output_type": "execute_result"
    }
   ],
   "source": [
    "Summary = driver.find_elements_by_xpath('//p[@class=\"_2-N8zT\"]')\n",
    "len(Summary)\n"
   ]
  },
  {
   "cell_type": "code",
   "execution_count": 213,
   "id": "12bbc98b",
   "metadata": {},
   "outputs": [
    {
     "data": {
      "text/plain": [
       "['Good',\n",
       " 'Worth the money',\n",
       " 'Perfect product!',\n",
       " 'Best in the market!',\n",
       " 'Brilliant',\n",
       " 'Terrific purchase',\n",
       " 'Wonderful',\n",
       " 'Awesome',\n",
       " 'Wonderful',\n",
       " 'Fabulous!']"
      ]
     },
     "execution_count": 213,
     "metadata": {},
     "output_type": "execute_result"
    }
   ],
   "source": [
    "IphoneSummary=[]\n",
    "for i in Summary:\n",
    "     IphoneSummary.append(i.text)\n",
    "\n",
    "IphoneSummary\n"
   ]
  },
  {
   "cell_type": "code",
   "execution_count": 214,
   "id": "5bb00bcb",
   "metadata": {},
   "outputs": [
    {
     "data": {
      "text/plain": [
       "10"
      ]
     },
     "execution_count": 214,
     "metadata": {},
     "output_type": "execute_result"
    }
   ],
   "source": [
    "FullSummary = driver.find_elements_by_xpath('//div[@class=\"t-ZTKy\"]')\n",
    "len(FullSummary)\n"
   ]
  },
  {
   "cell_type": "code",
   "execution_count": 215,
   "id": "b8a22951",
   "metadata": {},
   "outputs": [
    {
     "data": {
      "text/plain": [
       "['only the name worth it with d price.',\n",
       " 'Battery heats every once in a while. Also, while Apple claims that the battery lasts 1 hour more than iphone XR, I personally have tried testing and the hard fact is that it doesnt. Phone’s performance and camera is great.\\n\\nJust that battery life js not very great. Also, no fast charger comes in the box. Charging the phone takes more than 2.5 hours.',\n",
       " 'V Good all',\n",
       " 'first iphone from android.\\nwhat can I say, iphone 11 says it all.\\nearlier I used to abuse iphone users by saying show off, but after using it .. it’s completely worth it..\\np.s: there is still little pain in lower abdomen 😜',\n",
       " 'Awesome camera❤️ and gud battery backup',\n",
       " 'Awesome Thanks Flipkart',\n",
       " 'loved it',\n",
       " 'Everything is accept the charging Speed is fantastic... bought it for 58k',\n",
       " 'camera is very good.',\n",
       " 'Very good']"
      ]
     },
     "execution_count": 215,
     "metadata": {},
     "output_type": "execute_result"
    }
   ],
   "source": [
    "IphoneFullSummary=[]\n",
    "for i in FullSummary:\n",
    "     IphoneFullSummary.append(i.text)\n",
    "        \n",
    "IphoneFullSummary     \n"
   ]
  },
  {
   "cell_type": "code",
   "execution_count": 216,
   "id": "81ca6ca1",
   "metadata": {},
   "outputs": [
    {
     "data": {
      "text/html": [
       "<div>\n",
       "<style scoped>\n",
       "    .dataframe tbody tr th:only-of-type {\n",
       "        vertical-align: middle;\n",
       "    }\n",
       "\n",
       "    .dataframe tbody tr th {\n",
       "        vertical-align: top;\n",
       "    }\n",
       "\n",
       "    .dataframe thead th {\n",
       "        text-align: right;\n",
       "    }\n",
       "</style>\n",
       "<table border=\"1\" class=\"dataframe\">\n",
       "  <thead>\n",
       "    <tr style=\"text-align: right;\">\n",
       "      <th></th>\n",
       "      <th>Rating</th>\n",
       "      <th>Review summary</th>\n",
       "      <th>Full review</th>\n",
       "    </tr>\n",
       "  </thead>\n",
       "  <tbody>\n",
       "    <tr>\n",
       "      <th>0</th>\n",
       "      <td>3</td>\n",
       "      <td>Good</td>\n",
       "      <td>only the name worth it with d price.</td>\n",
       "    </tr>\n",
       "    <tr>\n",
       "      <th>1</th>\n",
       "      <td>4</td>\n",
       "      <td>Worth the money</td>\n",
       "      <td>Battery heats every once in a while. Also, whi...</td>\n",
       "    </tr>\n",
       "    <tr>\n",
       "      <th>2</th>\n",
       "      <td>5</td>\n",
       "      <td>Perfect product!</td>\n",
       "      <td>V Good all</td>\n",
       "    </tr>\n",
       "    <tr>\n",
       "      <th>3</th>\n",
       "      <td>5</td>\n",
       "      <td>Best in the market!</td>\n",
       "      <td>first iphone from android.\\nwhat can I say, ip...</td>\n",
       "    </tr>\n",
       "    <tr>\n",
       "      <th>4</th>\n",
       "      <td>5</td>\n",
       "      <td>Brilliant</td>\n",
       "      <td>Awesome camera❤️ and gud battery backup</td>\n",
       "    </tr>\n",
       "    <tr>\n",
       "      <th>5</th>\n",
       "      <td>5</td>\n",
       "      <td>Terrific purchase</td>\n",
       "      <td>Awesome Thanks Flipkart</td>\n",
       "    </tr>\n",
       "    <tr>\n",
       "      <th>6</th>\n",
       "      <td>5</td>\n",
       "      <td>Wonderful</td>\n",
       "      <td>loved it</td>\n",
       "    </tr>\n",
       "    <tr>\n",
       "      <th>7</th>\n",
       "      <td>5</td>\n",
       "      <td>Awesome</td>\n",
       "      <td>Everything is accept the charging Speed is fan...</td>\n",
       "    </tr>\n",
       "    <tr>\n",
       "      <th>8</th>\n",
       "      <td>4</td>\n",
       "      <td>Wonderful</td>\n",
       "      <td>camera is very good.</td>\n",
       "    </tr>\n",
       "    <tr>\n",
       "      <th>9</th>\n",
       "      <td>5</td>\n",
       "      <td>Fabulous!</td>\n",
       "      <td>Very good</td>\n",
       "    </tr>\n",
       "  </tbody>\n",
       "</table>\n",
       "</div>"
      ],
      "text/plain": [
       "  Rating       Review summary  \\\n",
       "0      3                 Good   \n",
       "1      4      Worth the money   \n",
       "2      5     Perfect product!   \n",
       "3      5  Best in the market!   \n",
       "4      5            Brilliant   \n",
       "5      5    Terrific purchase   \n",
       "6      5            Wonderful   \n",
       "7      5              Awesome   \n",
       "8      4            Wonderful   \n",
       "9      5            Fabulous!   \n",
       "\n",
       "                                         Full review  \n",
       "0               only the name worth it with d price.  \n",
       "1  Battery heats every once in a while. Also, whi...  \n",
       "2                                         V Good all  \n",
       "3  first iphone from android.\\nwhat can I say, ip...  \n",
       "4            Awesome camera❤️ and gud battery backup  \n",
       "5                            Awesome Thanks Flipkart  \n",
       "6                                           loved it  \n",
       "7  Everything is accept the charging Speed is fan...  \n",
       "8                               camera is very good.  \n",
       "9                                          Very good  "
      ]
     },
     "execution_count": 216,
     "metadata": {},
     "output_type": "execute_result"
    }
   ],
   "source": [
    "import pandas as pd\n",
    "IphoneDf8=pd.DataFrame({\"Rating\" :IphoneRatings,\"Review summary\":IphoneSummary ,\"Full review\":IphoneFullSummary})\n",
    "IphoneDf8\n"
   ]
  },
  {
   "cell_type": "code",
   "execution_count": 217,
   "id": "4263154d",
   "metadata": {},
   "outputs": [
    {
     "data": {
      "text/plain": [
       "<selenium.webdriver.remote.webelement.WebElement (session=\"f35399cbad11b92fcbed0a78baf551ab\", element=\"4d6d7aa6-85cd-46f8-8b1a-d6e89babac08\")>"
      ]
     },
     "execution_count": 217,
     "metadata": {},
     "output_type": "execute_result"
    }
   ],
   "source": [
    "Next_Button=driver.find_element_by_xpath(\"/html/body/div[1]/div/div[3]/div/div/div[2]/div[13]/div/div/nav/a[11]\")\n",
    "Next_Button\n"
   ]
  },
  {
   "cell_type": "code",
   "execution_count": 218,
   "id": "1fadc7cb",
   "metadata": {},
   "outputs": [],
   "source": [
    "Next_Button.click()"
   ]
  },
  {
   "cell_type": "code",
   "execution_count": 219,
   "id": "34ea1635",
   "metadata": {},
   "outputs": [
    {
     "data": {
      "text/plain": [
       "10"
      ]
     },
     "execution_count": 219,
     "metadata": {},
     "output_type": "execute_result"
    }
   ],
   "source": [
    "IphoneRating = driver.find_elements_by_xpath('//div[@class=\"_3LWZlK _1BLPMq\"]')\n",
    "len(IphoneRating)\n"
   ]
  },
  {
   "cell_type": "code",
   "execution_count": 220,
   "id": "a127477d",
   "metadata": {},
   "outputs": [
    {
     "data": {
      "text/plain": [
       "['5', '5', '5', '5', '5', '5', '5', '5', '5', '4']"
      ]
     },
     "execution_count": 220,
     "metadata": {},
     "output_type": "execute_result"
    }
   ],
   "source": [
    "IphoneRatings=[]\n",
    "for i in IphoneRating:\n",
    "     IphoneRatings.append(i.text)\n",
    "\n",
    "IphoneRatings\n"
   ]
  },
  {
   "cell_type": "code",
   "execution_count": 221,
   "id": "db6a42da",
   "metadata": {},
   "outputs": [
    {
     "data": {
      "text/plain": [
       "10"
      ]
     },
     "execution_count": 221,
     "metadata": {},
     "output_type": "execute_result"
    }
   ],
   "source": [
    "Summary = driver.find_elements_by_xpath('//p[@class=\"_2-N8zT\"]')\n",
    "len(Summary)\n"
   ]
  },
  {
   "cell_type": "code",
   "execution_count": 222,
   "id": "6aca937c",
   "metadata": {},
   "outputs": [
    {
     "data": {
      "text/plain": [
       "['Fabulous!',\n",
       " 'Terrific purchase',\n",
       " 'Worth every penny',\n",
       " 'Excellent',\n",
       " 'NOICE',\n",
       " 'Mind-blowing purchase',\n",
       " 'Wonderful',\n",
       " 'Classy product',\n",
       " 'Best in the market!',\n",
       " 'Really Nice']"
      ]
     },
     "execution_count": 222,
     "metadata": {},
     "output_type": "execute_result"
    }
   ],
   "source": [
    "IphoneSummary=[]\n",
    "for i in Summary:\n",
    "     IphoneSummary.append(i.text)\n",
    "\n",
    "IphoneSummary\n"
   ]
  },
  {
   "cell_type": "code",
   "execution_count": 223,
   "id": "033c7a75",
   "metadata": {},
   "outputs": [
    {
     "data": {
      "text/plain": [
       "10"
      ]
     },
     "execution_count": 223,
     "metadata": {},
     "output_type": "execute_result"
    }
   ],
   "source": [
    "FullSummary = driver.find_elements_by_xpath('//div[@class=\"t-ZTKy\"]')\n",
    "len(FullSummary)\n"
   ]
  },
  {
   "cell_type": "code",
   "execution_count": 224,
   "id": "94e7c685",
   "metadata": {},
   "outputs": [
    {
     "data": {
      "text/plain": [
       "['Just awesome. No comparison with other phones. Night mode is perfect, Battery backup is perfect. Upgrade from X to 11.',\n",
       " 'No word to say ..simply Awesome. Love it😘😘😘😘',\n",
       " 'Just amazing..battery is so powerful...camera is crystal clear..i loved iphone',\n",
       " 'Whoever has my kidney, May God Bless You!!!',\n",
       " 'Love this phone but heating issue now i use it to heat my roti\\n\\nJust loving the heat coming from the phone\\nits very useful in winter\\nxD Noice',\n",
       " 'Classy',\n",
       " 'Awesome camera.',\n",
       " \"Really it's a premium mobile.\",\n",
       " 'Jus one word “Awesome”',\n",
       " \"With the iPhone 11, that's even more true than before. It's still the people's iPhone. It has faster performance, an ultra wide camera, night mode, an hour longer battery life,\"]"
      ]
     },
     "execution_count": 224,
     "metadata": {},
     "output_type": "execute_result"
    }
   ],
   "source": [
    "IphoneFullSummary=[]\n",
    "for i in FullSummary:\n",
    "     IphoneFullSummary.append(i.text)\n",
    "        \n",
    "IphoneFullSummary     \n"
   ]
  },
  {
   "cell_type": "code",
   "execution_count": 225,
   "id": "146d0fa1",
   "metadata": {},
   "outputs": [
    {
     "data": {
      "text/html": [
       "<div>\n",
       "<style scoped>\n",
       "    .dataframe tbody tr th:only-of-type {\n",
       "        vertical-align: middle;\n",
       "    }\n",
       "\n",
       "    .dataframe tbody tr th {\n",
       "        vertical-align: top;\n",
       "    }\n",
       "\n",
       "    .dataframe thead th {\n",
       "        text-align: right;\n",
       "    }\n",
       "</style>\n",
       "<table border=\"1\" class=\"dataframe\">\n",
       "  <thead>\n",
       "    <tr style=\"text-align: right;\">\n",
       "      <th></th>\n",
       "      <th>Rating</th>\n",
       "      <th>Review summary</th>\n",
       "      <th>Full review</th>\n",
       "    </tr>\n",
       "  </thead>\n",
       "  <tbody>\n",
       "    <tr>\n",
       "      <th>0</th>\n",
       "      <td>5</td>\n",
       "      <td>Fabulous!</td>\n",
       "      <td>Just awesome. No comparison with other phones....</td>\n",
       "    </tr>\n",
       "    <tr>\n",
       "      <th>1</th>\n",
       "      <td>5</td>\n",
       "      <td>Terrific purchase</td>\n",
       "      <td>No word to say ..simply Awesome. Love it😘😘😘😘</td>\n",
       "    </tr>\n",
       "    <tr>\n",
       "      <th>2</th>\n",
       "      <td>5</td>\n",
       "      <td>Worth every penny</td>\n",
       "      <td>Just amazing..battery is so powerful...camera ...</td>\n",
       "    </tr>\n",
       "    <tr>\n",
       "      <th>3</th>\n",
       "      <td>5</td>\n",
       "      <td>Excellent</td>\n",
       "      <td>Whoever has my kidney, May God Bless You!!!</td>\n",
       "    </tr>\n",
       "    <tr>\n",
       "      <th>4</th>\n",
       "      <td>5</td>\n",
       "      <td>NOICE</td>\n",
       "      <td>Love this phone but heating issue now i use it...</td>\n",
       "    </tr>\n",
       "    <tr>\n",
       "      <th>5</th>\n",
       "      <td>5</td>\n",
       "      <td>Mind-blowing purchase</td>\n",
       "      <td>Classy</td>\n",
       "    </tr>\n",
       "    <tr>\n",
       "      <th>6</th>\n",
       "      <td>5</td>\n",
       "      <td>Wonderful</td>\n",
       "      <td>Awesome camera.</td>\n",
       "    </tr>\n",
       "    <tr>\n",
       "      <th>7</th>\n",
       "      <td>5</td>\n",
       "      <td>Classy product</td>\n",
       "      <td>Really it's a premium mobile.</td>\n",
       "    </tr>\n",
       "    <tr>\n",
       "      <th>8</th>\n",
       "      <td>5</td>\n",
       "      <td>Best in the market!</td>\n",
       "      <td>Jus one word “Awesome”</td>\n",
       "    </tr>\n",
       "    <tr>\n",
       "      <th>9</th>\n",
       "      <td>4</td>\n",
       "      <td>Really Nice</td>\n",
       "      <td>With the iPhone 11, that's even more true than...</td>\n",
       "    </tr>\n",
       "  </tbody>\n",
       "</table>\n",
       "</div>"
      ],
      "text/plain": [
       "  Rating         Review summary  \\\n",
       "0      5              Fabulous!   \n",
       "1      5      Terrific purchase   \n",
       "2      5      Worth every penny   \n",
       "3      5              Excellent   \n",
       "4      5                  NOICE   \n",
       "5      5  Mind-blowing purchase   \n",
       "6      5              Wonderful   \n",
       "7      5         Classy product   \n",
       "8      5    Best in the market!   \n",
       "9      4            Really Nice   \n",
       "\n",
       "                                         Full review  \n",
       "0  Just awesome. No comparison with other phones....  \n",
       "1       No word to say ..simply Awesome. Love it😘😘😘😘  \n",
       "2  Just amazing..battery is so powerful...camera ...  \n",
       "3        Whoever has my kidney, May God Bless You!!!  \n",
       "4  Love this phone but heating issue now i use it...  \n",
       "5                                             Classy  \n",
       "6                                    Awesome camera.  \n",
       "7                      Really it's a premium mobile.  \n",
       "8                             Jus one word “Awesome”  \n",
       "9  With the iPhone 11, that's even more true than...  "
      ]
     },
     "execution_count": 225,
     "metadata": {},
     "output_type": "execute_result"
    }
   ],
   "source": [
    "import pandas as pd\n",
    "IphoneDf9=pd.DataFrame({\"Rating\" :IphoneRatings,\"Review summary\":IphoneSummary ,\"Full review\":IphoneFullSummary})\n",
    "IphoneDf9\n"
   ]
  },
  {
   "cell_type": "code",
   "execution_count": 226,
   "id": "7d8e0279",
   "metadata": {},
   "outputs": [
    {
     "data": {
      "text/plain": [
       "<selenium.webdriver.remote.webelement.WebElement (session=\"f35399cbad11b92fcbed0a78baf551ab\", element=\"eafb27c0-128b-4339-83f4-a970eca62ee8\")>"
      ]
     },
     "execution_count": 226,
     "metadata": {},
     "output_type": "execute_result"
    }
   ],
   "source": [
    "Next_Button=driver.find_element_by_xpath(\"/html/body/div[1]/div/div[3]/div/div/div[2]/div[13]/div/div/nav/a[11]\")\n",
    "Next_Button\n"
   ]
  },
  {
   "cell_type": "code",
   "execution_count": 227,
   "id": "da152341",
   "metadata": {},
   "outputs": [],
   "source": [
    " Next_Button.click()"
   ]
  },
  {
   "cell_type": "code",
   "execution_count": 228,
   "id": "611e5ee2",
   "metadata": {},
   "outputs": [
    {
     "data": {
      "text/plain": [
       "10"
      ]
     },
     "execution_count": 228,
     "metadata": {},
     "output_type": "execute_result"
    }
   ],
   "source": [
    "IphoneRating = driver.find_elements_by_xpath('//div[@class=\"_3LWZlK _1BLPMq\"]')\n",
    "len(IphoneRating)\n"
   ]
  },
  {
   "cell_type": "code",
   "execution_count": 229,
   "id": "05906857",
   "metadata": {},
   "outputs": [
    {
     "data": {
      "text/plain": [
       "['5', '5', '5', '5', '5', '5', '5', '3', '5', '5']"
      ]
     },
     "execution_count": 229,
     "metadata": {},
     "output_type": "execute_result"
    }
   ],
   "source": [
    "IphoneRatings=[]\n",
    "for i in IphoneRating:\n",
    "     IphoneRatings.append(i.text)\n",
    "\n",
    "IphoneRatings\n"
   ]
  },
  {
   "cell_type": "code",
   "execution_count": 230,
   "id": "7b9dc768",
   "metadata": {},
   "outputs": [
    {
     "data": {
      "text/plain": [
       "10"
      ]
     },
     "execution_count": 230,
     "metadata": {},
     "output_type": "execute_result"
    }
   ],
   "source": [
    "Summary = driver.find_elements_by_xpath('//p[@class=\"_2-N8zT\"]')\n",
    "len(Summary)\n"
   ]
  },
  {
   "cell_type": "code",
   "execution_count": 231,
   "id": "fbda7a38",
   "metadata": {},
   "outputs": [
    {
     "data": {
      "text/plain": [
       "['Must buy!',\n",
       " 'Classy product',\n",
       " 'Highly recommended',\n",
       " 'Highly recommended',\n",
       " 'Perfect product!',\n",
       " 'Mind-blowing purchase',\n",
       " 'Highly recommended',\n",
       " 'Nice',\n",
       " 'Simply awesome',\n",
       " 'Excellent']"
      ]
     },
     "execution_count": 231,
     "metadata": {},
     "output_type": "execute_result"
    }
   ],
   "source": [
    "IphoneSummary=[]\n",
    "for i in Summary:\n",
    "     IphoneSummary.append(i.text)\n",
    "\n",
    "IphoneSummary\n"
   ]
  },
  {
   "cell_type": "code",
   "execution_count": 232,
   "id": "7ebcf154",
   "metadata": {},
   "outputs": [
    {
     "data": {
      "text/plain": [
       "10"
      ]
     },
     "execution_count": 232,
     "metadata": {},
     "output_type": "execute_result"
    }
   ],
   "source": [
    "FullSummary = driver.find_elements_by_xpath('//div[@class=\"t-ZTKy\"]')\n",
    "len(FullSummary)\n"
   ]
  },
  {
   "cell_type": "code",
   "execution_count": 233,
   "id": "3ec25418",
   "metadata": {},
   "outputs": [
    {
     "data": {
      "text/plain": [
       "['2nd picture describes its night mode with out using flash light the place was totally dark',\n",
       " 'Superb',\n",
       " 'Very nice',\n",
       " 'Got if for 43000/- I Flipkart. In market it was 49000/-. Thanks Flipkart.',\n",
       " 'Original product for apple and security seal pack for flipcart but some item missing fir apple head phone and charger I Requested apple please add Headphones and charger',\n",
       " 'Loved it ❤️!!!',\n",
       " 'Power packed performance. Great cameras. Top class phone.',\n",
       " 'NICE, Could have been better if Charger & earphones had also been bundled as there as many 1st time users who migrate to iPhone from Android.\\nCharger socket is a must.',\n",
       " 'Now word it’s just osm',\n",
       " 'Iphone 11 proforming is Exelent..']"
      ]
     },
     "execution_count": 233,
     "metadata": {},
     "output_type": "execute_result"
    }
   ],
   "source": [
    "IphoneFullSummary=[]\n",
    "for i in FullSummary:\n",
    "     IphoneFullSummary.append(i.text)\n",
    "        \n",
    "IphoneFullSummary     \n"
   ]
  },
  {
   "cell_type": "code",
   "execution_count": 234,
   "id": "249271ae",
   "metadata": {},
   "outputs": [
    {
     "data": {
      "text/html": [
       "<div>\n",
       "<style scoped>\n",
       "    .dataframe tbody tr th:only-of-type {\n",
       "        vertical-align: middle;\n",
       "    }\n",
       "\n",
       "    .dataframe tbody tr th {\n",
       "        vertical-align: top;\n",
       "    }\n",
       "\n",
       "    .dataframe thead th {\n",
       "        text-align: right;\n",
       "    }\n",
       "</style>\n",
       "<table border=\"1\" class=\"dataframe\">\n",
       "  <thead>\n",
       "    <tr style=\"text-align: right;\">\n",
       "      <th></th>\n",
       "      <th>Rating</th>\n",
       "      <th>Review summary</th>\n",
       "      <th>Full review</th>\n",
       "    </tr>\n",
       "  </thead>\n",
       "  <tbody>\n",
       "    <tr>\n",
       "      <th>0</th>\n",
       "      <td>5</td>\n",
       "      <td>Must buy!</td>\n",
       "      <td>2nd picture describes its night mode with out ...</td>\n",
       "    </tr>\n",
       "    <tr>\n",
       "      <th>1</th>\n",
       "      <td>5</td>\n",
       "      <td>Classy product</td>\n",
       "      <td>Superb</td>\n",
       "    </tr>\n",
       "    <tr>\n",
       "      <th>2</th>\n",
       "      <td>5</td>\n",
       "      <td>Highly recommended</td>\n",
       "      <td>Very nice</td>\n",
       "    </tr>\n",
       "    <tr>\n",
       "      <th>3</th>\n",
       "      <td>5</td>\n",
       "      <td>Highly recommended</td>\n",
       "      <td>Got if for 43000/- I Flipkart. In market it wa...</td>\n",
       "    </tr>\n",
       "    <tr>\n",
       "      <th>4</th>\n",
       "      <td>5</td>\n",
       "      <td>Perfect product!</td>\n",
       "      <td>Original product for apple and security seal p...</td>\n",
       "    </tr>\n",
       "    <tr>\n",
       "      <th>5</th>\n",
       "      <td>5</td>\n",
       "      <td>Mind-blowing purchase</td>\n",
       "      <td>Loved it ❤️!!!</td>\n",
       "    </tr>\n",
       "    <tr>\n",
       "      <th>6</th>\n",
       "      <td>5</td>\n",
       "      <td>Highly recommended</td>\n",
       "      <td>Power packed performance. Great cameras. Top c...</td>\n",
       "    </tr>\n",
       "    <tr>\n",
       "      <th>7</th>\n",
       "      <td>3</td>\n",
       "      <td>Nice</td>\n",
       "      <td>NICE, Could have been better if Charger &amp; earp...</td>\n",
       "    </tr>\n",
       "    <tr>\n",
       "      <th>8</th>\n",
       "      <td>5</td>\n",
       "      <td>Simply awesome</td>\n",
       "      <td>Now word it’s just osm</td>\n",
       "    </tr>\n",
       "    <tr>\n",
       "      <th>9</th>\n",
       "      <td>5</td>\n",
       "      <td>Excellent</td>\n",
       "      <td>Iphone 11 proforming is Exelent..</td>\n",
       "    </tr>\n",
       "  </tbody>\n",
       "</table>\n",
       "</div>"
      ],
      "text/plain": [
       "  Rating         Review summary  \\\n",
       "0      5              Must buy!   \n",
       "1      5         Classy product   \n",
       "2      5     Highly recommended   \n",
       "3      5     Highly recommended   \n",
       "4      5       Perfect product!   \n",
       "5      5  Mind-blowing purchase   \n",
       "6      5     Highly recommended   \n",
       "7      3                   Nice   \n",
       "8      5         Simply awesome   \n",
       "9      5              Excellent   \n",
       "\n",
       "                                         Full review  \n",
       "0  2nd picture describes its night mode with out ...  \n",
       "1                                             Superb  \n",
       "2                                          Very nice  \n",
       "3  Got if for 43000/- I Flipkart. In market it wa...  \n",
       "4  Original product for apple and security seal p...  \n",
       "5                                     Loved it ❤️!!!  \n",
       "6  Power packed performance. Great cameras. Top c...  \n",
       "7  NICE, Could have been better if Charger & earp...  \n",
       "8                             Now word it’s just osm  \n",
       "9                  Iphone 11 proforming is Exelent..  "
      ]
     },
     "execution_count": 234,
     "metadata": {},
     "output_type": "execute_result"
    }
   ],
   "source": [
    "import pandas as pd\n",
    "IphoneDf10=pd.DataFrame({\"Rating\" :IphoneRatings,\"Review summary\":IphoneSummary ,\"Full review\":IphoneFullSummary})\n",
    "IphoneDf10\n"
   ]
  },
  {
   "cell_type": "code",
   "execution_count": 238,
   "id": "1a6ab14d",
   "metadata": {},
   "outputs": [
    {
     "data": {
      "text/html": [
       "<div>\n",
       "<style scoped>\n",
       "    .dataframe tbody tr th:only-of-type {\n",
       "        vertical-align: middle;\n",
       "    }\n",
       "\n",
       "    .dataframe tbody tr th {\n",
       "        vertical-align: top;\n",
       "    }\n",
       "\n",
       "    .dataframe thead th {\n",
       "        text-align: right;\n",
       "    }\n",
       "</style>\n",
       "<table border=\"1\" class=\"dataframe\">\n",
       "  <thead>\n",
       "    <tr style=\"text-align: right;\">\n",
       "      <th></th>\n",
       "      <th>Rating</th>\n",
       "      <th>Review summary</th>\n",
       "      <th>Full review</th>\n",
       "    </tr>\n",
       "  </thead>\n",
       "  <tbody>\n",
       "    <tr>\n",
       "      <th>0</th>\n",
       "      <td>5</td>\n",
       "      <td>Brilliant</td>\n",
       "      <td>The Best Phone for the Money\\n\\nThe iPhone 11 ...</td>\n",
       "    </tr>\n",
       "    <tr>\n",
       "      <th>1</th>\n",
       "      <td>5</td>\n",
       "      <td>Simply awesome</td>\n",
       "      <td>Really satisfied with the Product I received.....</td>\n",
       "    </tr>\n",
       "    <tr>\n",
       "      <th>2</th>\n",
       "      <td>5</td>\n",
       "      <td>Best in the market!</td>\n",
       "      <td>Great iPhone very snappy experience as apple k...</td>\n",
       "    </tr>\n",
       "    <tr>\n",
       "      <th>3</th>\n",
       "      <td>5</td>\n",
       "      <td>Perfect product!</td>\n",
       "      <td>Amazing phone with great cameras and better ba...</td>\n",
       "    </tr>\n",
       "    <tr>\n",
       "      <th>4</th>\n",
       "      <td>5</td>\n",
       "      <td>Fabulous!</td>\n",
       "      <td>This is my first iOS phone. I am very happy wi...</td>\n",
       "    </tr>\n",
       "    <tr>\n",
       "      <th>...</th>\n",
       "      <td>...</td>\n",
       "      <td>...</td>\n",
       "      <td>...</td>\n",
       "    </tr>\n",
       "    <tr>\n",
       "      <th>5</th>\n",
       "      <td>5</td>\n",
       "      <td>Mind-blowing purchase</td>\n",
       "      <td>Loved it ❤️!!!</td>\n",
       "    </tr>\n",
       "    <tr>\n",
       "      <th>6</th>\n",
       "      <td>5</td>\n",
       "      <td>Highly recommended</td>\n",
       "      <td>Power packed performance. Great cameras. Top c...</td>\n",
       "    </tr>\n",
       "    <tr>\n",
       "      <th>7</th>\n",
       "      <td>3</td>\n",
       "      <td>Nice</td>\n",
       "      <td>NICE, Could have been better if Charger &amp; earp...</td>\n",
       "    </tr>\n",
       "    <tr>\n",
       "      <th>8</th>\n",
       "      <td>5</td>\n",
       "      <td>Simply awesome</td>\n",
       "      <td>Now word it’s just osm</td>\n",
       "    </tr>\n",
       "    <tr>\n",
       "      <th>9</th>\n",
       "      <td>5</td>\n",
       "      <td>Excellent</td>\n",
       "      <td>Iphone 11 proforming is Exelent..</td>\n",
       "    </tr>\n",
       "  </tbody>\n",
       "</table>\n",
       "<p>100 rows × 3 columns</p>\n",
       "</div>"
      ],
      "text/plain": [
       "   Rating         Review summary  \\\n",
       "0       5              Brilliant   \n",
       "1       5         Simply awesome   \n",
       "2       5    Best in the market!   \n",
       "3       5       Perfect product!   \n",
       "4       5              Fabulous!   \n",
       "..    ...                    ...   \n",
       "5       5  Mind-blowing purchase   \n",
       "6       5     Highly recommended   \n",
       "7       3                   Nice   \n",
       "8       5         Simply awesome   \n",
       "9       5              Excellent   \n",
       "\n",
       "                                          Full review  \n",
       "0   The Best Phone for the Money\\n\\nThe iPhone 11 ...  \n",
       "1   Really satisfied with the Product I received.....  \n",
       "2   Great iPhone very snappy experience as apple k...  \n",
       "3   Amazing phone with great cameras and better ba...  \n",
       "4   This is my first iOS phone. I am very happy wi...  \n",
       "..                                                ...  \n",
       "5                                      Loved it ❤️!!!  \n",
       "6   Power packed performance. Great cameras. Top c...  \n",
       "7   NICE, Could have been better if Charger & earp...  \n",
       "8                              Now word it’s just osm  \n",
       "9                   Iphone 11 proforming is Exelent..  \n",
       "\n",
       "[100 rows x 3 columns]"
      ]
     },
     "execution_count": 238,
     "metadata": {},
     "output_type": "execute_result"
    }
   ],
   "source": [
    "IphoneDfFinal=pd.concat([IphoneDf1,IphoneDf2,IphoneDf3,IphoneDf4,IphoneDf5,IphoneDf6,IphoneDf7,IphoneDf8,IphoneDf9,IphoneDf10])\n",
    "IphoneDfFinal"
   ]
  },
  {
   "cell_type": "markdown",
   "id": "120eb8d8",
   "metadata": {},
   "source": [
    "# Q6: Scrape data for first 100 sneakers you find when you visit flipkart.com andsearch for “sneakers” in the search field.\n"
   ]
  },
  {
   "cell_type": "code",
   "execution_count": 378,
   "id": "8a01a1bd",
   "metadata": {},
   "outputs": [],
   "source": [
    "driver = webdriver.Chrome('chromedriver.exe')"
   ]
  },
  {
   "cell_type": "code",
   "execution_count": 379,
   "id": "3f5b36ea",
   "metadata": {},
   "outputs": [],
   "source": [
    "url = 'https://www.flipkart.com/'\n",
    "driver.get(url)"
   ]
  },
  {
   "cell_type": "code",
   "execution_count": 380,
   "id": "1efa58ed",
   "metadata": {},
   "outputs": [
    {
     "data": {
      "text/plain": [
       "<selenium.webdriver.remote.webelement.WebElement (session=\"13c8cee5bae12872ceff2fc162482346\", element=\"70f5ed1b-d4ce-4b4c-9d3d-9d887b3500f3\")>"
      ]
     },
     "execution_count": 380,
     "metadata": {},
     "output_type": "execute_result"
    }
   ],
   "source": [
    "search_Product=driver.find_element_by_xpath('/html/body/div[1]/div/div[1]/div[1]/div[2]/div[2]/form/div/div/input')\n",
    "search_Product"
   ]
  },
  {
   "cell_type": "code",
   "execution_count": 381,
   "id": "be23c4f3",
   "metadata": {},
   "outputs": [],
   "source": [
    "search_Product.send_keys(\"sneakers\") "
   ]
  },
  {
   "cell_type": "code",
   "execution_count": 394,
   "id": "872851b2",
   "metadata": {},
   "outputs": [
    {
     "data": {
      "text/plain": [
       "40"
      ]
     },
     "execution_count": 394,
     "metadata": {},
     "output_type": "execute_result"
    }
   ],
   "source": [
    "BrandName = driver.find_elements_by_xpath('//div[@class=\"_2WkVRV\"]')\n",
    "len(BrandName)"
   ]
  },
  {
   "cell_type": "code",
   "execution_count": 395,
   "id": "d9eb04fc",
   "metadata": {},
   "outputs": [
    {
     "data": {
      "text/plain": [
       "['RapidBox',\n",
       " 'Jimnastic shoes',\n",
       " 'Kzaara',\n",
       " 'luxury fashion',\n",
       " 'Chevit',\n",
       " 'URBANBOX',\n",
       " 'BRUTON',\n",
       " 'FLYING MACHINE',\n",
       " 'KWIK FIT',\n",
       " 'World Wear Footwear',\n",
       " 'Kraasa',\n",
       " 'CLYMB',\n",
       " 'BRUTON',\n",
       " 'corsac',\n",
       " 'Shoes Bank',\n",
       " 'HRX by Hrithik Roshan',\n",
       " 'SWIGGY',\n",
       " 'Elevarse',\n",
       " 'D-SNEAKERZ',\n",
       " 'FLYING MACHINE',\n",
       " 'World Wear Footwear',\n",
       " 'BRUTON',\n",
       " 'BRUTON',\n",
       " 'RapidBox',\n",
       " 'CAMPUS',\n",
       " 'CLYMB',\n",
       " 'Labbin',\n",
       " 'LIFEBIA',\n",
       " 'Rzisbo']"
      ]
     },
     "execution_count": 395,
     "metadata": {},
     "output_type": "execute_result"
    }
   ],
   "source": [
    "Brand=[]\n",
    "for i in BrandName[0:29]:\n",
    "     Brand.append(i.text)\n",
    "        \n",
    "Brand[0:36]     \n"
   ]
  },
  {
   "cell_type": "code",
   "execution_count": 396,
   "id": "a7cfa720",
   "metadata": {},
   "outputs": [
    {
     "data": {
      "text/plain": [
       "30"
      ]
     },
     "execution_count": 396,
     "metadata": {},
     "output_type": "execute_result"
    }
   ],
   "source": [
    "ProductD = driver.find_elements_by_xpath('//a[@class=\"IRpwTa\"]')\n",
    "len(ProductD)"
   ]
  },
  {
   "cell_type": "code",
   "execution_count": 397,
   "id": "1880c430",
   "metadata": {},
   "outputs": [
    {
     "data": {
      "text/plain": [
       "['Sneakers For Men',\n",
       " 'Luxury Fashionable casual sneaker shoes Sneakers For Me...',\n",
       " 'Super Stylish & Trendy Combo Pack of 02 Pairs Sneakers ...',\n",
       " 'Modern Trendy Sneakers Shoes Sneakers For Men',\n",
       " 'MARWICK Sneakers For Men',\n",
       " 'Kwik FIT casual sneaker shoes and partywear shoes Casua...',\n",
       " '5011-Latest Collection Stylish Casual Loafer Sneakers S...',\n",
       " 'Series 7 Sneakers For Men',\n",
       " \"Perfect Sports Shoes for Men's Running ,Cycling & Trekk...\",\n",
       " 'Modern & Trendy Collection Combo Pack of 02 Shoes for M...',\n",
       " \"White Sneaker For Men's/Boy's Sneakers For Men\",\n",
       " 'Men White Solid Sneakers Sneakers For Men',\n",
       " 'casual sneakers shoes For Mens Multicolor Combo(MR)-179...',\n",
       " 'Sneakers For Men',\n",
       " \"Casual , Partywear Sneakers Shoes For Men's And Boys Wh...\",\n",
       " 'Sneakers For Men',\n",
       " 'Sneakers For Men',\n",
       " 'Combo Pack Of 4 Casual Shoes Loafer Shoes Sneakers For ...',\n",
       " 'Sneaker Sneakers For Men',\n",
       " 'Sneakers For Men',\n",
       " 'Sneakers For Men',\n",
       " 'Sneakers For Men',\n",
       " 'Sneakers For Men',\n",
       " \"white Casual shoes,Sneakers for men's Sneakers For Men\",\n",
       " 'Luxury Fashionable casual sneaker shoes Sneakers For Me...',\n",
       " 'Sneakers For Men',\n",
       " 'Lattest Sneakers Shoe Sneakers For Men',\n",
       " 'Casual Sneakrs For Men Sneakers For Men',\n",
       " 'casual sneaker shoes for men kardam&sons Sneakers For M...']"
      ]
     },
     "execution_count": 397,
     "metadata": {},
     "output_type": "execute_result"
    }
   ],
   "source": [
    "Discription=[]\n",
    "for i in ProductD[0:29]:\n",
    "     Discription.append(i.text)\n",
    "        \n",
    "Discription[0:36]      "
   ]
  },
  {
   "cell_type": "code",
   "execution_count": 398,
   "id": "9f2f21d2",
   "metadata": {},
   "outputs": [
    {
     "data": {
      "text/plain": [
       "40"
      ]
     },
     "execution_count": 398,
     "metadata": {},
     "output_type": "execute_result"
    }
   ],
   "source": [
    "ProductPrice = driver.find_elements_by_xpath('//div[@class=\"_30jeq3\"]')\n",
    "len(ProductPrice)\n",
    "\n",
    "#_30jeq3"
   ]
  },
  {
   "cell_type": "code",
   "execution_count": 399,
   "id": "c553ca87",
   "metadata": {},
   "outputs": [
    {
     "data": {
      "text/plain": [
       "['₹580',\n",
       " '₹347',\n",
       " '₹209',\n",
       " '₹399',\n",
       " '₹469',\n",
       " '₹148',\n",
       " '₹209',\n",
       " '₹1,249',\n",
       " '₹349',\n",
       " '₹149',\n",
       " '₹394',\n",
       " '₹199',\n",
       " '₹421',\n",
       " '₹449',\n",
       " '₹348',\n",
       " '₹2,349',\n",
       " '₹485',\n",
       " '₹349',\n",
       " '₹249',\n",
       " '₹1,145',\n",
       " '₹190',\n",
       " '₹449',\n",
       " '₹249',\n",
       " '₹590',\n",
       " '₹999',\n",
       " '₹534',\n",
       " '₹424',\n",
       " '₹349',\n",
       " '₹499']"
      ]
     },
     "execution_count": 399,
     "metadata": {},
     "output_type": "execute_result"
    }
   ],
   "source": [
    "Price=[]\n",
    "for i in ProductPrice[0:29]:\n",
    "     Price.append(i.text)\n",
    "        \n",
    "Price "
   ]
  },
  {
   "cell_type": "code",
   "execution_count": 400,
   "id": "255e3a62",
   "metadata": {},
   "outputs": [
    {
     "data": {
      "text/plain": [
       "40"
      ]
     },
     "execution_count": 400,
     "metadata": {},
     "output_type": "execute_result"
    }
   ],
   "source": [
    "ProductDiscount = driver.find_elements_by_xpath('//div[@class=\"_3Ay6Sb\"]')\n",
    "len(ProductDiscount)"
   ]
  },
  {
   "cell_type": "code",
   "execution_count": 401,
   "id": "1661da74",
   "metadata": {},
   "outputs": [
    {
     "data": {
      "text/plain": [
       "['41% off',\n",
       " '76% off',\n",
       " '79% off',\n",
       " '69% off',\n",
       " '70% off',\n",
       " '85% off',\n",
       " '83% off',\n",
       " '50% off',\n",
       " '82% off',\n",
       " '70% off',\n",
       " '60% off',\n",
       " '80% off',\n",
       " '83% off',\n",
       " '70% off',\n",
       " '65% off',\n",
       " '44% off',\n",
       " '51% off',\n",
       " '65% off',\n",
       " '62% off',\n",
       " '50% off',\n",
       " '61% off',\n",
       " '87% off',\n",
       " '80% off',\n",
       " '40% off',\n",
       " '47% off',\n",
       " '64% off',\n",
       " '57% off',\n",
       " '65% off',\n",
       " '50% off']"
      ]
     },
     "execution_count": 401,
     "metadata": {},
     "output_type": "execute_result"
    }
   ],
   "source": [
    "Discount=[]\n",
    "for i in ProductDiscount[0:29]:\n",
    "     Discount.append(i.text)\n",
    "        \n",
    "Discount[0:36]     "
   ]
  },
  {
   "cell_type": "code",
   "execution_count": 402,
   "id": "c21e9cb9",
   "metadata": {},
   "outputs": [
    {
     "data": {
      "text/html": [
       "<div>\n",
       "<style scoped>\n",
       "    .dataframe tbody tr th:only-of-type {\n",
       "        vertical-align: middle;\n",
       "    }\n",
       "\n",
       "    .dataframe tbody tr th {\n",
       "        vertical-align: top;\n",
       "    }\n",
       "\n",
       "    .dataframe thead th {\n",
       "        text-align: right;\n",
       "    }\n",
       "</style>\n",
       "<table border=\"1\" class=\"dataframe\">\n",
       "  <thead>\n",
       "    <tr style=\"text-align: right;\">\n",
       "      <th></th>\n",
       "      <th>Brand Name</th>\n",
       "      <th>Discription</th>\n",
       "      <th>Prices</th>\n",
       "      <th>Discounts</th>\n",
       "    </tr>\n",
       "  </thead>\n",
       "  <tbody>\n",
       "    <tr>\n",
       "      <th>0</th>\n",
       "      <td>RapidBox</td>\n",
       "      <td>Sneakers For Men</td>\n",
       "      <td>₹580</td>\n",
       "      <td>41% off</td>\n",
       "    </tr>\n",
       "    <tr>\n",
       "      <th>1</th>\n",
       "      <td>Jimnastic shoes</td>\n",
       "      <td>Luxury Fashionable casual sneaker shoes Sneake...</td>\n",
       "      <td>₹347</td>\n",
       "      <td>76% off</td>\n",
       "    </tr>\n",
       "    <tr>\n",
       "      <th>2</th>\n",
       "      <td>Kzaara</td>\n",
       "      <td>Super Stylish &amp; Trendy Combo Pack of 02 Pairs ...</td>\n",
       "      <td>₹209</td>\n",
       "      <td>79% off</td>\n",
       "    </tr>\n",
       "    <tr>\n",
       "      <th>3</th>\n",
       "      <td>luxury fashion</td>\n",
       "      <td>Modern Trendy Sneakers Shoes Sneakers For Men</td>\n",
       "      <td>₹399</td>\n",
       "      <td>69% off</td>\n",
       "    </tr>\n",
       "    <tr>\n",
       "      <th>4</th>\n",
       "      <td>Chevit</td>\n",
       "      <td>MARWICK Sneakers For Men</td>\n",
       "      <td>₹469</td>\n",
       "      <td>70% off</td>\n",
       "    </tr>\n",
       "    <tr>\n",
       "      <th>5</th>\n",
       "      <td>URBANBOX</td>\n",
       "      <td>Kwik FIT casual sneaker shoes and partywear sh...</td>\n",
       "      <td>₹148</td>\n",
       "      <td>85% off</td>\n",
       "    </tr>\n",
       "    <tr>\n",
       "      <th>6</th>\n",
       "      <td>BRUTON</td>\n",
       "      <td>5011-Latest Collection Stylish Casual Loafer S...</td>\n",
       "      <td>₹209</td>\n",
       "      <td>83% off</td>\n",
       "    </tr>\n",
       "    <tr>\n",
       "      <th>7</th>\n",
       "      <td>FLYING MACHINE</td>\n",
       "      <td>Series 7 Sneakers For Men</td>\n",
       "      <td>₹1,249</td>\n",
       "      <td>50% off</td>\n",
       "    </tr>\n",
       "    <tr>\n",
       "      <th>8</th>\n",
       "      <td>KWIK FIT</td>\n",
       "      <td>Perfect Sports Shoes for Men's Running ,Cyclin...</td>\n",
       "      <td>₹349</td>\n",
       "      <td>82% off</td>\n",
       "    </tr>\n",
       "    <tr>\n",
       "      <th>9</th>\n",
       "      <td>World Wear Footwear</td>\n",
       "      <td>Modern &amp; Trendy Collection Combo Pack of 02 Sh...</td>\n",
       "      <td>₹149</td>\n",
       "      <td>70% off</td>\n",
       "    </tr>\n",
       "    <tr>\n",
       "      <th>10</th>\n",
       "      <td>Kraasa</td>\n",
       "      <td>White Sneaker For Men's/Boy's Sneakers For Men</td>\n",
       "      <td>₹394</td>\n",
       "      <td>60% off</td>\n",
       "    </tr>\n",
       "    <tr>\n",
       "      <th>11</th>\n",
       "      <td>CLYMB</td>\n",
       "      <td>Men White Solid Sneakers Sneakers For Men</td>\n",
       "      <td>₹199</td>\n",
       "      <td>80% off</td>\n",
       "    </tr>\n",
       "    <tr>\n",
       "      <th>12</th>\n",
       "      <td>BRUTON</td>\n",
       "      <td>casual sneakers shoes For Mens Multicolor Comb...</td>\n",
       "      <td>₹421</td>\n",
       "      <td>83% off</td>\n",
       "    </tr>\n",
       "    <tr>\n",
       "      <th>13</th>\n",
       "      <td>corsac</td>\n",
       "      <td>Sneakers For Men</td>\n",
       "      <td>₹449</td>\n",
       "      <td>70% off</td>\n",
       "    </tr>\n",
       "    <tr>\n",
       "      <th>14</th>\n",
       "      <td>Shoes Bank</td>\n",
       "      <td>Casual , Partywear Sneakers Shoes For Men's An...</td>\n",
       "      <td>₹348</td>\n",
       "      <td>65% off</td>\n",
       "    </tr>\n",
       "    <tr>\n",
       "      <th>15</th>\n",
       "      <td>HRX by Hrithik Roshan</td>\n",
       "      <td>Sneakers For Men</td>\n",
       "      <td>₹2,349</td>\n",
       "      <td>44% off</td>\n",
       "    </tr>\n",
       "    <tr>\n",
       "      <th>16</th>\n",
       "      <td>SWIGGY</td>\n",
       "      <td>Sneakers For Men</td>\n",
       "      <td>₹485</td>\n",
       "      <td>51% off</td>\n",
       "    </tr>\n",
       "    <tr>\n",
       "      <th>17</th>\n",
       "      <td>Elevarse</td>\n",
       "      <td>Combo Pack Of 4 Casual Shoes Loafer Shoes Snea...</td>\n",
       "      <td>₹349</td>\n",
       "      <td>65% off</td>\n",
       "    </tr>\n",
       "    <tr>\n",
       "      <th>18</th>\n",
       "      <td>D-SNEAKERZ</td>\n",
       "      <td>Sneaker Sneakers For Men</td>\n",
       "      <td>₹249</td>\n",
       "      <td>62% off</td>\n",
       "    </tr>\n",
       "    <tr>\n",
       "      <th>19</th>\n",
       "      <td>FLYING MACHINE</td>\n",
       "      <td>Sneakers For Men</td>\n",
       "      <td>₹1,145</td>\n",
       "      <td>50% off</td>\n",
       "    </tr>\n",
       "    <tr>\n",
       "      <th>20</th>\n",
       "      <td>World Wear Footwear</td>\n",
       "      <td>Sneakers For Men</td>\n",
       "      <td>₹190</td>\n",
       "      <td>61% off</td>\n",
       "    </tr>\n",
       "    <tr>\n",
       "      <th>21</th>\n",
       "      <td>BRUTON</td>\n",
       "      <td>Sneakers For Men</td>\n",
       "      <td>₹449</td>\n",
       "      <td>87% off</td>\n",
       "    </tr>\n",
       "    <tr>\n",
       "      <th>22</th>\n",
       "      <td>BRUTON</td>\n",
       "      <td>Sneakers For Men</td>\n",
       "      <td>₹249</td>\n",
       "      <td>80% off</td>\n",
       "    </tr>\n",
       "    <tr>\n",
       "      <th>23</th>\n",
       "      <td>RapidBox</td>\n",
       "      <td>white Casual shoes,Sneakers for men's Sneakers...</td>\n",
       "      <td>₹590</td>\n",
       "      <td>40% off</td>\n",
       "    </tr>\n",
       "    <tr>\n",
       "      <th>24</th>\n",
       "      <td>CAMPUS</td>\n",
       "      <td>Luxury Fashionable casual sneaker shoes Sneake...</td>\n",
       "      <td>₹999</td>\n",
       "      <td>47% off</td>\n",
       "    </tr>\n",
       "    <tr>\n",
       "      <th>25</th>\n",
       "      <td>CLYMB</td>\n",
       "      <td>Sneakers For Men</td>\n",
       "      <td>₹534</td>\n",
       "      <td>64% off</td>\n",
       "    </tr>\n",
       "    <tr>\n",
       "      <th>26</th>\n",
       "      <td>Labbin</td>\n",
       "      <td>Lattest Sneakers Shoe Sneakers For Men</td>\n",
       "      <td>₹424</td>\n",
       "      <td>57% off</td>\n",
       "    </tr>\n",
       "    <tr>\n",
       "      <th>27</th>\n",
       "      <td>LIFEBIA</td>\n",
       "      <td>Casual Sneakrs For Men Sneakers For Men</td>\n",
       "      <td>₹349</td>\n",
       "      <td>65% off</td>\n",
       "    </tr>\n",
       "    <tr>\n",
       "      <th>28</th>\n",
       "      <td>Rzisbo</td>\n",
       "      <td>casual sneaker shoes for men kardam&amp;sons Sneak...</td>\n",
       "      <td>₹499</td>\n",
       "      <td>50% off</td>\n",
       "    </tr>\n",
       "  </tbody>\n",
       "</table>\n",
       "</div>"
      ],
      "text/plain": [
       "               Brand Name                                        Discription  \\\n",
       "0                RapidBox                                   Sneakers For Men   \n",
       "1         Jimnastic shoes  Luxury Fashionable casual sneaker shoes Sneake...   \n",
       "2                  Kzaara  Super Stylish & Trendy Combo Pack of 02 Pairs ...   \n",
       "3          luxury fashion      Modern Trendy Sneakers Shoes Sneakers For Men   \n",
       "4                  Chevit                           MARWICK Sneakers For Men   \n",
       "5                URBANBOX  Kwik FIT casual sneaker shoes and partywear sh...   \n",
       "6                  BRUTON  5011-Latest Collection Stylish Casual Loafer S...   \n",
       "7          FLYING MACHINE                          Series 7 Sneakers For Men   \n",
       "8                KWIK FIT  Perfect Sports Shoes for Men's Running ,Cyclin...   \n",
       "9     World Wear Footwear  Modern & Trendy Collection Combo Pack of 02 Sh...   \n",
       "10                 Kraasa     White Sneaker For Men's/Boy's Sneakers For Men   \n",
       "11                  CLYMB          Men White Solid Sneakers Sneakers For Men   \n",
       "12                 BRUTON  casual sneakers shoes For Mens Multicolor Comb...   \n",
       "13                 corsac                                   Sneakers For Men   \n",
       "14             Shoes Bank  Casual , Partywear Sneakers Shoes For Men's An...   \n",
       "15  HRX by Hrithik Roshan                                   Sneakers For Men   \n",
       "16                 SWIGGY                                   Sneakers For Men   \n",
       "17               Elevarse  Combo Pack Of 4 Casual Shoes Loafer Shoes Snea...   \n",
       "18             D-SNEAKERZ                           Sneaker Sneakers For Men   \n",
       "19         FLYING MACHINE                                   Sneakers For Men   \n",
       "20    World Wear Footwear                                   Sneakers For Men   \n",
       "21                 BRUTON                                   Sneakers For Men   \n",
       "22                 BRUTON                                   Sneakers For Men   \n",
       "23               RapidBox  white Casual shoes,Sneakers for men's Sneakers...   \n",
       "24                 CAMPUS  Luxury Fashionable casual sneaker shoes Sneake...   \n",
       "25                  CLYMB                                   Sneakers For Men   \n",
       "26                 Labbin             Lattest Sneakers Shoe Sneakers For Men   \n",
       "27                LIFEBIA            Casual Sneakrs For Men Sneakers For Men   \n",
       "28                 Rzisbo  casual sneaker shoes for men kardam&sons Sneak...   \n",
       "\n",
       "    Prices Discounts  \n",
       "0     ₹580   41% off  \n",
       "1     ₹347   76% off  \n",
       "2     ₹209   79% off  \n",
       "3     ₹399   69% off  \n",
       "4     ₹469   70% off  \n",
       "5     ₹148   85% off  \n",
       "6     ₹209   83% off  \n",
       "7   ₹1,249   50% off  \n",
       "8     ₹349   82% off  \n",
       "9     ₹149   70% off  \n",
       "10    ₹394   60% off  \n",
       "11    ₹199   80% off  \n",
       "12    ₹421   83% off  \n",
       "13    ₹449   70% off  \n",
       "14    ₹348   65% off  \n",
       "15  ₹2,349   44% off  \n",
       "16    ₹485   51% off  \n",
       "17    ₹349   65% off  \n",
       "18    ₹249   62% off  \n",
       "19  ₹1,145   50% off  \n",
       "20    ₹190   61% off  \n",
       "21    ₹449   87% off  \n",
       "22    ₹249   80% off  \n",
       "23    ₹590   40% off  \n",
       "24    ₹999   47% off  \n",
       "25    ₹534   64% off  \n",
       "26    ₹424   57% off  \n",
       "27    ₹349   65% off  \n",
       "28    ₹499   50% off  "
      ]
     },
     "execution_count": 402,
     "metadata": {},
     "output_type": "execute_result"
    }
   ],
   "source": [
    "import pandas as pd\n",
    "SneakersDF=pd.DataFrame({\"Brand Name\" :Brand,\"Discription\":Discription,\"Prices\":Price,\"Discounts\":Discount})\n",
    "\n",
    "SneakersDF\n"
   ]
  },
  {
   "cell_type": "code",
   "execution_count": 403,
   "id": "1f30fbad",
   "metadata": {},
   "outputs": [
    {
     "data": {
      "text/plain": [
       "<selenium.webdriver.remote.webelement.WebElement (session=\"13c8cee5bae12872ceff2fc162482346\", element=\"b0efcade-b969-4444-9e8b-3c13ea297f04\")>"
      ]
     },
     "execution_count": 403,
     "metadata": {},
     "output_type": "execute_result"
    }
   ],
   "source": [
    "Next_Button=driver.find_element_by_xpath('/html/body/div[1]/div/div[3]/div[1]/div[2]/div[12]/div/div/nav/a[11]')\n",
    "Next_Button"
   ]
  },
  {
   "cell_type": "code",
   "execution_count": 404,
   "id": "141e561b",
   "metadata": {},
   "outputs": [],
   "source": [
    "Next_Button.click() "
   ]
  },
  {
   "cell_type": "code",
   "execution_count": 405,
   "id": "14ae9f7b",
   "metadata": {},
   "outputs": [
    {
     "data": {
      "text/plain": [
       "40"
      ]
     },
     "execution_count": 405,
     "metadata": {},
     "output_type": "execute_result"
    }
   ],
   "source": [
    "BrandName = driver.find_elements_by_xpath('//div[@class=\"_2WkVRV\"]')\n",
    "len(BrandName)"
   ]
  },
  {
   "cell_type": "code",
   "execution_count": 411,
   "id": "02f2d8b0",
   "metadata": {},
   "outputs": [
    {
     "data": {
      "text/plain": [
       "['World Wear Footwear',\n",
       " 'aadi',\n",
       " 'Stefano Rads',\n",
       " 'HRX by Hrithik Roshan',\n",
       " 'Kraasa',\n",
       " 'RapidBox',\n",
       " 'BRUTON',\n",
       " 'AMICO',\n",
       " 'Zorth',\n",
       " 'Numenzo',\n",
       " 'D-SNEAKERZ',\n",
       " 'AMICO',\n",
       " 'Airland',\n",
       " 'Echor',\n",
       " 'Robbie jones',\n",
       " 'KNIGHT WALKERS',\n",
       " 'Noztile',\n",
       " 'Zsyto',\n",
       " 'PUMA',\n",
       " 'SHANE Internation',\n",
       " 'Chevit',\n",
       " 'CLYMB',\n",
       " 'Kraasa',\n",
       " 'HRX by Hrithik Roshan',\n",
       " 'Ktiz',\n",
       " 'BAUCHHAAR',\n",
       " 'Magnolia',\n",
       " 'Chevit',\n",
       " 'BIRDE',\n",
       " 'T-ROCK',\n",
       " 'ASTEROID']"
      ]
     },
     "execution_count": 411,
     "metadata": {},
     "output_type": "execute_result"
    }
   ],
   "source": [
    "Brand=[]\n",
    "for i in BrandName[0:31]:\n",
    "     Brand.append(i.text)\n",
    "        \n",
    "Brand[0:36]    "
   ]
  },
  {
   "cell_type": "code",
   "execution_count": 412,
   "id": "c34203e0",
   "metadata": {},
   "outputs": [
    {
     "data": {
      "text/plain": [
       "32"
      ]
     },
     "execution_count": 412,
     "metadata": {},
     "output_type": "execute_result"
    }
   ],
   "source": [
    "ProductD = driver.find_elements_by_xpath('//a[@class=\"IRpwTa\"]')\n",
    "len(ProductD)"
   ]
  },
  {
   "cell_type": "code",
   "execution_count": 413,
   "id": "0652ad1b",
   "metadata": {},
   "outputs": [
    {
     "data": {
      "text/plain": [
       "['Men 5014 Latest Collection Stylish Casual Sports Loafer...',\n",
       " 'Sneakers For Men',\n",
       " 'Men White Printed Sneakers Sneakers For Men',\n",
       " 'Shark-41 Sneakers For Men',\n",
       " 'Combo Pack Of 2 Latest Stylish Casual Shoes for Men Lac...',\n",
       " 'Sneakers For Men',\n",
       " 'Sneakers For Men',\n",
       " '411 Casual Sneakers For Men',\n",
       " \"Casual , Partywear Sneakers Shoes For Men's And Boys Wh...\",\n",
       " 'Sneakers For Men',\n",
       " 'sneaker men red 1258 - 6 Sneakers For Men',\n",
       " \"Men's Sneakers Fashion Lightweight Running Shoes Tennis...\",\n",
       " 'Sneakers For Men',\n",
       " 'Sneakers For Men',\n",
       " 'Sneakers For Men',\n",
       " 'Rigel Sneakers For Men',\n",
       " \"Perfect Sports Shoes for Men's Running ,Cycling & Trekk...\",\n",
       " 'Shark-41 Sneakers For Men',\n",
       " 'Men Black Urban Street Athleisure Shoes Sneakers For Me...',\n",
       " 'Sneakers For Men',\n",
       " 'sports shoes for men | Latest Stylish Casual sneakers f...',\n",
       " 'Sneakers For Men',\n",
       " 'Sports Running Shoes Sneakers For Men',\n",
       " 'Stylish White Casual Sneakers shoes Men and Boys Sneake...',\n",
       " 'Stylish Comfortable Lightweight, Breathable Casual Shoe...',\n",
       " 'Sneakers For Men',\n",
       " 'Skypy-31 Walking Shoes,Training Shoes,Sneakers,Loafers,...',\n",
       " 'New Fashion Outdoor Trendy Lightweight Casual,Canvas St...',\n",
       " 'Sneakers For Men',\n",
       " 'Sneakers For Men',\n",
       " 'Sneakers For Men']"
      ]
     },
     "execution_count": 413,
     "metadata": {},
     "output_type": "execute_result"
    }
   ],
   "source": [
    "Discription=[]\n",
    "for i in ProductD[0:31]:\n",
    "     Discription.append(i.text)\n",
    "        \n",
    "Discription[0:36]      "
   ]
  },
  {
   "cell_type": "code",
   "execution_count": 414,
   "id": "6e9b9447",
   "metadata": {},
   "outputs": [
    {
     "data": {
      "text/plain": [
       "40"
      ]
     },
     "execution_count": 414,
     "metadata": {},
     "output_type": "execute_result"
    }
   ],
   "source": [
    "ProductPrice = driver.find_elements_by_xpath('//div[@class=\"_30jeq3\"]')\n",
    "len(ProductPrice)\n"
   ]
  },
  {
   "cell_type": "code",
   "execution_count": 415,
   "id": "791f551e",
   "metadata": {},
   "outputs": [
    {
     "data": {
      "text/plain": [
       "['₹209',\n",
       " '₹269',\n",
       " '₹190',\n",
       " '₹2,049',\n",
       " '₹394',\n",
       " '₹630',\n",
       " '₹449',\n",
       " '₹474',\n",
       " '₹397',\n",
       " '₹424',\n",
       " '₹334',\n",
       " '₹449',\n",
       " '₹148',\n",
       " '₹424',\n",
       " '₹424',\n",
       " '₹598',\n",
       " '₹349',\n",
       " '₹261',\n",
       " '₹1,377',\n",
       " '₹4,249',\n",
       " '₹209',\n",
       " '₹199',\n",
       " '₹394',\n",
       " '₹1,849',\n",
       " '₹438',\n",
       " '₹349',\n",
       " '₹327',\n",
       " '₹423',\n",
       " '₹249',\n",
       " '₹349',\n",
       " '₹424']"
      ]
     },
     "execution_count": 415,
     "metadata": {},
     "output_type": "execute_result"
    }
   ],
   "source": [
    "Price=[]\n",
    "for i in ProductPrice[0:31]:\n",
    "     Price.append(i.text)\n",
    "        \n",
    "Price "
   ]
  },
  {
   "cell_type": "code",
   "execution_count": 416,
   "id": "aef94f88",
   "metadata": {},
   "outputs": [
    {
     "data": {
      "text/plain": [
       "40"
      ]
     },
     "execution_count": 416,
     "metadata": {},
     "output_type": "execute_result"
    }
   ],
   "source": [
    "ProductDiscount = driver.find_elements_by_xpath('//div[@class=\"_3Ay6Sb\"]')\n",
    "len(ProductDiscount)"
   ]
  },
  {
   "cell_type": "code",
   "execution_count": 417,
   "id": "35eede71",
   "metadata": {},
   "outputs": [
    {
     "data": {
      "text/plain": [
       "['58% off',\n",
       " '73% off',\n",
       " '72% off',\n",
       " '46% off',\n",
       " '60% off',\n",
       " '36% off',\n",
       " '82% off',\n",
       " '52% off',\n",
       " '60% off',\n",
       " '78% off',\n",
       " '66% off',\n",
       " '70% off',\n",
       " '70% off',\n",
       " '57% off',\n",
       " '57% off',\n",
       " '60% off',\n",
       " '82% off',\n",
       " '79% off',\n",
       " '50% off',\n",
       " '46% off',\n",
       " '73% off',\n",
       " '80% off',\n",
       " '60% off',\n",
       " '47% off',\n",
       " '56% off',\n",
       " '65% off',\n",
       " '67% off',\n",
       " '57% off',\n",
       " '50% off',\n",
       " '65% off',\n",
       " '78% off']"
      ]
     },
     "execution_count": 417,
     "metadata": {},
     "output_type": "execute_result"
    }
   ],
   "source": [
    "Discount=[]\n",
    "for i in ProductDiscount[0:31]:\n",
    "     Discount.append(i.text)\n",
    "        \n",
    "Discount[0:36]   "
   ]
  },
  {
   "cell_type": "code",
   "execution_count": 418,
   "id": "6ef87040",
   "metadata": {},
   "outputs": [
    {
     "data": {
      "text/html": [
       "<div>\n",
       "<style scoped>\n",
       "    .dataframe tbody tr th:only-of-type {\n",
       "        vertical-align: middle;\n",
       "    }\n",
       "\n",
       "    .dataframe tbody tr th {\n",
       "        vertical-align: top;\n",
       "    }\n",
       "\n",
       "    .dataframe thead th {\n",
       "        text-align: right;\n",
       "    }\n",
       "</style>\n",
       "<table border=\"1\" class=\"dataframe\">\n",
       "  <thead>\n",
       "    <tr style=\"text-align: right;\">\n",
       "      <th></th>\n",
       "      <th>Brand Name</th>\n",
       "      <th>Discription</th>\n",
       "      <th>Prices</th>\n",
       "      <th>Discounts</th>\n",
       "    </tr>\n",
       "  </thead>\n",
       "  <tbody>\n",
       "    <tr>\n",
       "      <th>0</th>\n",
       "      <td>World Wear Footwear</td>\n",
       "      <td>Men 5014 Latest Collection Stylish Casual Spor...</td>\n",
       "      <td>₹209</td>\n",
       "      <td>58% off</td>\n",
       "    </tr>\n",
       "    <tr>\n",
       "      <th>1</th>\n",
       "      <td>aadi</td>\n",
       "      <td>Sneakers For Men</td>\n",
       "      <td>₹269</td>\n",
       "      <td>73% off</td>\n",
       "    </tr>\n",
       "    <tr>\n",
       "      <th>2</th>\n",
       "      <td>Stefano Rads</td>\n",
       "      <td>Men White Printed Sneakers Sneakers For Men</td>\n",
       "      <td>₹190</td>\n",
       "      <td>72% off</td>\n",
       "    </tr>\n",
       "    <tr>\n",
       "      <th>3</th>\n",
       "      <td>HRX by Hrithik Roshan</td>\n",
       "      <td>Shark-41 Sneakers For Men</td>\n",
       "      <td>₹2,049</td>\n",
       "      <td>46% off</td>\n",
       "    </tr>\n",
       "    <tr>\n",
       "      <th>4</th>\n",
       "      <td>Kraasa</td>\n",
       "      <td>Combo Pack Of 2 Latest Stylish Casual Shoes fo...</td>\n",
       "      <td>₹394</td>\n",
       "      <td>60% off</td>\n",
       "    </tr>\n",
       "    <tr>\n",
       "      <th>5</th>\n",
       "      <td>RapidBox</td>\n",
       "      <td>Sneakers For Men</td>\n",
       "      <td>₹630</td>\n",
       "      <td>36% off</td>\n",
       "    </tr>\n",
       "    <tr>\n",
       "      <th>6</th>\n",
       "      <td>BRUTON</td>\n",
       "      <td>Sneakers For Men</td>\n",
       "      <td>₹449</td>\n",
       "      <td>82% off</td>\n",
       "    </tr>\n",
       "    <tr>\n",
       "      <th>7</th>\n",
       "      <td>AMICO</td>\n",
       "      <td>411 Casual Sneakers For Men</td>\n",
       "      <td>₹474</td>\n",
       "      <td>52% off</td>\n",
       "    </tr>\n",
       "    <tr>\n",
       "      <th>8</th>\n",
       "      <td>Zorth</td>\n",
       "      <td>Casual , Partywear Sneakers Shoes For Men's An...</td>\n",
       "      <td>₹397</td>\n",
       "      <td>60% off</td>\n",
       "    </tr>\n",
       "    <tr>\n",
       "      <th>9</th>\n",
       "      <td>Numenzo</td>\n",
       "      <td>Sneakers For Men</td>\n",
       "      <td>₹424</td>\n",
       "      <td>78% off</td>\n",
       "    </tr>\n",
       "    <tr>\n",
       "      <th>10</th>\n",
       "      <td>D-SNEAKERZ</td>\n",
       "      <td>sneaker men red 1258 - 6 Sneakers For Men</td>\n",
       "      <td>₹334</td>\n",
       "      <td>66% off</td>\n",
       "    </tr>\n",
       "    <tr>\n",
       "      <th>11</th>\n",
       "      <td>AMICO</td>\n",
       "      <td>Men's Sneakers Fashion Lightweight Running Sho...</td>\n",
       "      <td>₹449</td>\n",
       "      <td>70% off</td>\n",
       "    </tr>\n",
       "    <tr>\n",
       "      <th>12</th>\n",
       "      <td>Airland</td>\n",
       "      <td>Sneakers For Men</td>\n",
       "      <td>₹148</td>\n",
       "      <td>70% off</td>\n",
       "    </tr>\n",
       "    <tr>\n",
       "      <th>13</th>\n",
       "      <td>Echor</td>\n",
       "      <td>Sneakers For Men</td>\n",
       "      <td>₹424</td>\n",
       "      <td>57% off</td>\n",
       "    </tr>\n",
       "    <tr>\n",
       "      <th>14</th>\n",
       "      <td>Robbie jones</td>\n",
       "      <td>Sneakers For Men</td>\n",
       "      <td>₹424</td>\n",
       "      <td>57% off</td>\n",
       "    </tr>\n",
       "    <tr>\n",
       "      <th>15</th>\n",
       "      <td>KNIGHT WALKERS</td>\n",
       "      <td>Rigel Sneakers For Men</td>\n",
       "      <td>₹598</td>\n",
       "      <td>60% off</td>\n",
       "    </tr>\n",
       "    <tr>\n",
       "      <th>16</th>\n",
       "      <td>Noztile</td>\n",
       "      <td>Perfect Sports Shoes for Men's Running ,Cyclin...</td>\n",
       "      <td>₹349</td>\n",
       "      <td>82% off</td>\n",
       "    </tr>\n",
       "    <tr>\n",
       "      <th>17</th>\n",
       "      <td>Zsyto</td>\n",
       "      <td>Shark-41 Sneakers For Men</td>\n",
       "      <td>₹261</td>\n",
       "      <td>79% off</td>\n",
       "    </tr>\n",
       "    <tr>\n",
       "      <th>18</th>\n",
       "      <td>PUMA</td>\n",
       "      <td>Men Black Urban Street Athleisure Shoes Sneake...</td>\n",
       "      <td>₹1,377</td>\n",
       "      <td>50% off</td>\n",
       "    </tr>\n",
       "    <tr>\n",
       "      <th>19</th>\n",
       "      <td>SHANE Internation</td>\n",
       "      <td>Sneakers For Men</td>\n",
       "      <td>₹4,249</td>\n",
       "      <td>46% off</td>\n",
       "    </tr>\n",
       "    <tr>\n",
       "      <th>20</th>\n",
       "      <td>Chevit</td>\n",
       "      <td>sports shoes for men | Latest Stylish Casual s...</td>\n",
       "      <td>₹209</td>\n",
       "      <td>73% off</td>\n",
       "    </tr>\n",
       "    <tr>\n",
       "      <th>21</th>\n",
       "      <td>CLYMB</td>\n",
       "      <td>Sneakers For Men</td>\n",
       "      <td>₹199</td>\n",
       "      <td>80% off</td>\n",
       "    </tr>\n",
       "    <tr>\n",
       "      <th>22</th>\n",
       "      <td>Kraasa</td>\n",
       "      <td>Sports Running Shoes Sneakers For Men</td>\n",
       "      <td>₹394</td>\n",
       "      <td>60% off</td>\n",
       "    </tr>\n",
       "    <tr>\n",
       "      <th>23</th>\n",
       "      <td>HRX by Hrithik Roshan</td>\n",
       "      <td>Stylish White Casual Sneakers shoes Men and Bo...</td>\n",
       "      <td>₹1,849</td>\n",
       "      <td>47% off</td>\n",
       "    </tr>\n",
       "    <tr>\n",
       "      <th>24</th>\n",
       "      <td>Ktiz</td>\n",
       "      <td>Stylish Comfortable Lightweight, Breathable Ca...</td>\n",
       "      <td>₹438</td>\n",
       "      <td>56% off</td>\n",
       "    </tr>\n",
       "    <tr>\n",
       "      <th>25</th>\n",
       "      <td>BAUCHHAAR</td>\n",
       "      <td>Sneakers For Men</td>\n",
       "      <td>₹349</td>\n",
       "      <td>65% off</td>\n",
       "    </tr>\n",
       "    <tr>\n",
       "      <th>26</th>\n",
       "      <td>Magnolia</td>\n",
       "      <td>Skypy-31 Walking Shoes,Training Shoes,Sneakers...</td>\n",
       "      <td>₹327</td>\n",
       "      <td>67% off</td>\n",
       "    </tr>\n",
       "    <tr>\n",
       "      <th>27</th>\n",
       "      <td>Chevit</td>\n",
       "      <td>New Fashion Outdoor Trendy Lightweight Casual,...</td>\n",
       "      <td>₹423</td>\n",
       "      <td>57% off</td>\n",
       "    </tr>\n",
       "    <tr>\n",
       "      <th>28</th>\n",
       "      <td>BIRDE</td>\n",
       "      <td>Sneakers For Men</td>\n",
       "      <td>₹249</td>\n",
       "      <td>50% off</td>\n",
       "    </tr>\n",
       "    <tr>\n",
       "      <th>29</th>\n",
       "      <td>T-ROCK</td>\n",
       "      <td>Sneakers For Men</td>\n",
       "      <td>₹349</td>\n",
       "      <td>65% off</td>\n",
       "    </tr>\n",
       "    <tr>\n",
       "      <th>30</th>\n",
       "      <td>ASTEROID</td>\n",
       "      <td>Sneakers For Men</td>\n",
       "      <td>₹424</td>\n",
       "      <td>78% off</td>\n",
       "    </tr>\n",
       "  </tbody>\n",
       "</table>\n",
       "</div>"
      ],
      "text/plain": [
       "               Brand Name                                        Discription  \\\n",
       "0     World Wear Footwear  Men 5014 Latest Collection Stylish Casual Spor...   \n",
       "1                    aadi                                   Sneakers For Men   \n",
       "2            Stefano Rads        Men White Printed Sneakers Sneakers For Men   \n",
       "3   HRX by Hrithik Roshan                          Shark-41 Sneakers For Men   \n",
       "4                  Kraasa  Combo Pack Of 2 Latest Stylish Casual Shoes fo...   \n",
       "5                RapidBox                                   Sneakers For Men   \n",
       "6                  BRUTON                                   Sneakers For Men   \n",
       "7                   AMICO                        411 Casual Sneakers For Men   \n",
       "8                   Zorth  Casual , Partywear Sneakers Shoes For Men's An...   \n",
       "9                 Numenzo                                   Sneakers For Men   \n",
       "10             D-SNEAKERZ          sneaker men red 1258 - 6 Sneakers For Men   \n",
       "11                  AMICO  Men's Sneakers Fashion Lightweight Running Sho...   \n",
       "12                Airland                                   Sneakers For Men   \n",
       "13                  Echor                                   Sneakers For Men   \n",
       "14           Robbie jones                                   Sneakers For Men   \n",
       "15         KNIGHT WALKERS                             Rigel Sneakers For Men   \n",
       "16                Noztile  Perfect Sports Shoes for Men's Running ,Cyclin...   \n",
       "17                  Zsyto                          Shark-41 Sneakers For Men   \n",
       "18                   PUMA  Men Black Urban Street Athleisure Shoes Sneake...   \n",
       "19      SHANE Internation                                   Sneakers For Men   \n",
       "20                 Chevit  sports shoes for men | Latest Stylish Casual s...   \n",
       "21                  CLYMB                                   Sneakers For Men   \n",
       "22                 Kraasa              Sports Running Shoes Sneakers For Men   \n",
       "23  HRX by Hrithik Roshan  Stylish White Casual Sneakers shoes Men and Bo...   \n",
       "24                   Ktiz  Stylish Comfortable Lightweight, Breathable Ca...   \n",
       "25              BAUCHHAAR                                   Sneakers For Men   \n",
       "26               Magnolia  Skypy-31 Walking Shoes,Training Shoes,Sneakers...   \n",
       "27                 Chevit  New Fashion Outdoor Trendy Lightweight Casual,...   \n",
       "28                  BIRDE                                   Sneakers For Men   \n",
       "29                 T-ROCK                                   Sneakers For Men   \n",
       "30               ASTEROID                                   Sneakers For Men   \n",
       "\n",
       "    Prices Discounts  \n",
       "0     ₹209   58% off  \n",
       "1     ₹269   73% off  \n",
       "2     ₹190   72% off  \n",
       "3   ₹2,049   46% off  \n",
       "4     ₹394   60% off  \n",
       "5     ₹630   36% off  \n",
       "6     ₹449   82% off  \n",
       "7     ₹474   52% off  \n",
       "8     ₹397   60% off  \n",
       "9     ₹424   78% off  \n",
       "10    ₹334   66% off  \n",
       "11    ₹449   70% off  \n",
       "12    ₹148   70% off  \n",
       "13    ₹424   57% off  \n",
       "14    ₹424   57% off  \n",
       "15    ₹598   60% off  \n",
       "16    ₹349   82% off  \n",
       "17    ₹261   79% off  \n",
       "18  ₹1,377   50% off  \n",
       "19  ₹4,249   46% off  \n",
       "20    ₹209   73% off  \n",
       "21    ₹199   80% off  \n",
       "22    ₹394   60% off  \n",
       "23  ₹1,849   47% off  \n",
       "24    ₹438   56% off  \n",
       "25    ₹349   65% off  \n",
       "26    ₹327   67% off  \n",
       "27    ₹423   57% off  \n",
       "28    ₹249   50% off  \n",
       "29    ₹349   65% off  \n",
       "30    ₹424   78% off  "
      ]
     },
     "execution_count": 418,
     "metadata": {},
     "output_type": "execute_result"
    }
   ],
   "source": [
    "import pandas as pd\n",
    "SneakersDF1=pd.DataFrame({\"Brand Name\" :Brand,\"Discription\":Discription,\"Prices\":Price,\"Discounts\":Discount})\n",
    "\n",
    "SneakersDF1"
   ]
  },
  {
   "cell_type": "code",
   "execution_count": 419,
   "id": "3d6e44a9",
   "metadata": {},
   "outputs": [
    {
     "data": {
      "text/plain": [
       "<selenium.webdriver.remote.webelement.WebElement (session=\"13c8cee5bae12872ceff2fc162482346\", element=\"145881a8-d9eb-42ba-b28b-c094041237f3\")>"
      ]
     },
     "execution_count": 419,
     "metadata": {},
     "output_type": "execute_result"
    }
   ],
   "source": [
    "Next_Button=driver.find_element_by_xpath('/html/body/div[1]/div/div[3]/div[1]/div[2]/div[12]/div/div/nav/a[11]')\n",
    "Next_Button"
   ]
  },
  {
   "cell_type": "code",
   "execution_count": 420,
   "id": "909f7db7",
   "metadata": {},
   "outputs": [],
   "source": [
    "Next_Button.click()"
   ]
  },
  {
   "cell_type": "code",
   "execution_count": 421,
   "id": "26817c39",
   "metadata": {},
   "outputs": [
    {
     "data": {
      "text/plain": [
       "40"
      ]
     },
     "execution_count": 421,
     "metadata": {},
     "output_type": "execute_result"
    }
   ],
   "source": [
    "BrandName = driver.find_elements_by_xpath('//div[@class=\"_2WkVRV\"]')\n",
    "len(BrandName)"
   ]
  },
  {
   "cell_type": "code",
   "execution_count": 424,
   "id": "744baabe",
   "metadata": {},
   "outputs": [
    {
     "data": {
      "text/plain": [
       "['Strollin',\n",
       " 'PUMA',\n",
       " 'Robbie jones',\n",
       " 'Style Tone',\n",
       " 'ASIAN',\n",
       " 'BRUTON',\n",
       " 'EZDEZARIO',\n",
       " 'Noztile',\n",
       " 'Bond Street By Red Tape',\n",
       " 'Bond Street By Red Tape',\n",
       " 'U.S. POLO ASSN.',\n",
       " 'Cipramo',\n",
       " 'Strollin',\n",
       " 'PUMA',\n",
       " 'JACK & JONES',\n",
       " 'Nilatin',\n",
       " 'PUMA',\n",
       " 'Dizzler',\n",
       " 'OUTALYFE',\n",
       " 'BRUTON',\n",
       " 'K STYLE',\n",
       " 'Zixer',\n",
       " 'bacca bucci',\n",
       " 'SWIGGY',\n",
       " 'PUMA',\n",
       " 'PUMA',\n",
       " 'BRUTON',\n",
       " 'bluemaker',\n",
       " 'PUMA',\n",
       " 'hzisbo',\n",
       " 'Shoes villa']"
      ]
     },
     "execution_count": 424,
     "metadata": {},
     "output_type": "execute_result"
    }
   ],
   "source": [
    "Brand=[]\n",
    "for i in BrandName[0:31]:\n",
    "     Brand.append(i.text)\n",
    "        \n",
    "Brand"
   ]
  },
  {
   "cell_type": "code",
   "execution_count": 425,
   "id": "b55683e6",
   "metadata": {},
   "outputs": [
    {
     "data": {
      "text/plain": [
       "32"
      ]
     },
     "execution_count": 425,
     "metadata": {},
     "output_type": "execute_result"
    }
   ],
   "source": [
    "Discription = driver.find_elements_by_xpath('//a[@class=\"IRpwTa\"]')\n",
    "len(Discription)"
   ]
  },
  {
   "cell_type": "code",
   "execution_count": 426,
   "id": "332d1fad",
   "metadata": {},
   "outputs": [
    {
     "data": {
      "text/plain": [
       "['Sneakers For Men',\n",
       " 'Mirage Sport Remix Sneakers For Men',\n",
       " 'Sneakers For Men',\n",
       " 'Skypy-31 Walking Shoes,Training Shoes,Sneakers,Loafers,...',\n",
       " 'Sneakers For Men',\n",
       " 'Casual Shoes for Men Sneakers For Men',\n",
       " 'Sneakers For Men',\n",
       " 'Sneakers For Men',\n",
       " 'Sneakers For Men',\n",
       " 'KENRIDGE Sneakers For Men',\n",
       " 'Sneakers For Men',\n",
       " 'Seawalk Sneakers For Men',\n",
       " 'Sneakers For Men',\n",
       " 'Sneakers For Men',\n",
       " 'X-Ray Square Celestial Sneakers For Men',\n",
       " 'Stylish Party Wear Fashionable Lightweight New arrival ...',\n",
       " 'Combo Pack Of 3 Latest Casual Shoes Sneakers For Men',\n",
       " \"Men's Ultraforce Mid-top Athletic-Inspired Retro Fashio...\",\n",
       " 'Casual Shoes , Snekers Shoes,Lace-Up PVC Shoes For Men ...',\n",
       " 'Dexster Slip On Sneakers For Men',\n",
       " 'C-Skate Vulc Sneakers For Men',\n",
       " 'Modern & Trendy Collection Combo Pack of 02 Shoes for M...',\n",
       " 'casual for men Sneakers For Men',\n",
       " 'X-Ray 2 Square Sneakers For Men',\n",
       " 'Sneakers For Men',\n",
       " 'Ultralight Latest Collection Sports Running Shoes For M...',\n",
       " 'Sneakers For Men',\n",
       " 'Sneakers For Men',\n",
       " 'Sneakers For Men',\n",
       " 'Ferrari X-Ray Speed Sneakers For Men',\n",
       " 'Stylish Party Wear Fashionable Lightweight New arrival ...']"
      ]
     },
     "execution_count": 426,
     "metadata": {},
     "output_type": "execute_result"
    }
   ],
   "source": [
    "PDiscription=[]\n",
    "for i in Discription[0:31]:\n",
    "     PDiscription.append(i.text)\n",
    "        \n",
    "PDiscription"
   ]
  },
  {
   "cell_type": "code",
   "execution_count": 427,
   "id": "60a60d39",
   "metadata": {},
   "outputs": [
    {
     "data": {
      "text/plain": [
       "40"
      ]
     },
     "execution_count": 427,
     "metadata": {},
     "output_type": "execute_result"
    }
   ],
   "source": [
    "ProductPrice = driver.find_elements_by_xpath('//div[@class=\"_30jeq3\"]')\n",
    "len(ProductPrice)"
   ]
  },
  {
   "cell_type": "code",
   "execution_count": 428,
   "id": "1c709f0a",
   "metadata": {},
   "outputs": [
    {
     "data": {
      "text/plain": [
       "['₹449',\n",
       " '₹3,370',\n",
       " '₹424',\n",
       " '₹419',\n",
       " '₹548',\n",
       " '₹229',\n",
       " '₹349',\n",
       " '₹349',\n",
       " '₹999',\n",
       " '₹824',\n",
       " '₹2,159',\n",
       " '₹749',\n",
       " '₹399',\n",
       " '₹1,549',\n",
       " '₹699',\n",
       " '₹599',\n",
       " '₹2,958',\n",
       " '₹445',\n",
       " '₹415',\n",
       " '₹397',\n",
       " '₹349',\n",
       " '₹549',\n",
       " '₹1,022',\n",
       " '₹209',\n",
       " '₹1,560',\n",
       " '₹2,024',\n",
       " '₹374',\n",
       " '₹424',\n",
       " '₹3,127',\n",
       " '₹449',\n",
       " '₹449']"
      ]
     },
     "execution_count": 428,
     "metadata": {},
     "output_type": "execute_result"
    }
   ],
   "source": [
    "Price=[]\n",
    "for i in ProductPrice[0:31]:\n",
    "     Price.append(i.text)\n",
    "        \n",
    "Price "
   ]
  },
  {
   "cell_type": "code",
   "execution_count": 429,
   "id": "77a37bcb",
   "metadata": {},
   "outputs": [
    {
     "data": {
      "text/plain": [
       "40"
      ]
     },
     "execution_count": 429,
     "metadata": {},
     "output_type": "execute_result"
    }
   ],
   "source": [
    "ProductDiscount = driver.find_elements_by_xpath('//div[@class=\"_3Ay6Sb\"]')\n",
    "len(ProductDiscount)"
   ]
  },
  {
   "cell_type": "code",
   "execution_count": 430,
   "id": "3837cac6",
   "metadata": {},
   "outputs": [
    {
     "data": {
      "text/plain": [
       "['70% off',\n",
       " '62% off',\n",
       " '57% off',\n",
       " '58% off',\n",
       " '31% off',\n",
       " '82% off',\n",
       " '65% off',\n",
       " '82% off',\n",
       " '76% off',\n",
       " '76% off',\n",
       " '36% off',\n",
       " '25% off',\n",
       " '60% off',\n",
       " '61% off',\n",
       " '76% off',\n",
       " '80% off',\n",
       " '63% off',\n",
       " '38% off',\n",
       " '68% off',\n",
       " '86% off',\n",
       " '76% off',\n",
       " '57% off',\n",
       " '59% off',\n",
       " '58% off',\n",
       " '60% off',\n",
       " '55% off',\n",
       " '85% off',\n",
       " '57% off',\n",
       " '55% off',\n",
       " '55% off',\n",
       " '77% off']"
      ]
     },
     "execution_count": 430,
     "metadata": {},
     "output_type": "execute_result"
    }
   ],
   "source": [
    "Discount=[]\n",
    "for i in ProductDiscount[0:31]:\n",
    "     Discount.append(i.text)\n",
    "        \n",
    "Discount[0:36] "
   ]
  },
  {
   "cell_type": "code",
   "execution_count": 431,
   "id": "a5637c39",
   "metadata": {},
   "outputs": [
    {
     "data": {
      "text/html": [
       "<div>\n",
       "<style scoped>\n",
       "    .dataframe tbody tr th:only-of-type {\n",
       "        vertical-align: middle;\n",
       "    }\n",
       "\n",
       "    .dataframe tbody tr th {\n",
       "        vertical-align: top;\n",
       "    }\n",
       "\n",
       "    .dataframe thead th {\n",
       "        text-align: right;\n",
       "    }\n",
       "</style>\n",
       "<table border=\"1\" class=\"dataframe\">\n",
       "  <thead>\n",
       "    <tr style=\"text-align: right;\">\n",
       "      <th></th>\n",
       "      <th>Brand Name</th>\n",
       "      <th>Discription</th>\n",
       "      <th>Prices</th>\n",
       "      <th>Discounts</th>\n",
       "    </tr>\n",
       "  </thead>\n",
       "  <tbody>\n",
       "    <tr>\n",
       "      <th>0</th>\n",
       "      <td>Strollin</td>\n",
       "      <td>Sneakers For Men</td>\n",
       "      <td>₹449</td>\n",
       "      <td>70% off</td>\n",
       "    </tr>\n",
       "    <tr>\n",
       "      <th>1</th>\n",
       "      <td>PUMA</td>\n",
       "      <td>Mirage Sport Remix Sneakers For Men</td>\n",
       "      <td>₹3,370</td>\n",
       "      <td>62% off</td>\n",
       "    </tr>\n",
       "    <tr>\n",
       "      <th>2</th>\n",
       "      <td>Robbie jones</td>\n",
       "      <td>Sneakers For Men</td>\n",
       "      <td>₹424</td>\n",
       "      <td>57% off</td>\n",
       "    </tr>\n",
       "    <tr>\n",
       "      <th>3</th>\n",
       "      <td>Style Tone</td>\n",
       "      <td>Skypy-31 Walking Shoes,Training Shoes,Sneakers...</td>\n",
       "      <td>₹419</td>\n",
       "      <td>58% off</td>\n",
       "    </tr>\n",
       "    <tr>\n",
       "      <th>4</th>\n",
       "      <td>ASIAN</td>\n",
       "      <td>Sneakers For Men</td>\n",
       "      <td>₹548</td>\n",
       "      <td>31% off</td>\n",
       "    </tr>\n",
       "    <tr>\n",
       "      <th>5</th>\n",
       "      <td>BRUTON</td>\n",
       "      <td>Casual Shoes for Men Sneakers For Men</td>\n",
       "      <td>₹229</td>\n",
       "      <td>82% off</td>\n",
       "    </tr>\n",
       "    <tr>\n",
       "      <th>6</th>\n",
       "      <td>EZDEZARIO</td>\n",
       "      <td>Sneakers For Men</td>\n",
       "      <td>₹349</td>\n",
       "      <td>65% off</td>\n",
       "    </tr>\n",
       "    <tr>\n",
       "      <th>7</th>\n",
       "      <td>Noztile</td>\n",
       "      <td>Sneakers For Men</td>\n",
       "      <td>₹349</td>\n",
       "      <td>82% off</td>\n",
       "    </tr>\n",
       "    <tr>\n",
       "      <th>8</th>\n",
       "      <td>Bond Street By Red Tape</td>\n",
       "      <td>Sneakers For Men</td>\n",
       "      <td>₹999</td>\n",
       "      <td>76% off</td>\n",
       "    </tr>\n",
       "    <tr>\n",
       "      <th>9</th>\n",
       "      <td>Bond Street By Red Tape</td>\n",
       "      <td>KENRIDGE Sneakers For Men</td>\n",
       "      <td>₹824</td>\n",
       "      <td>76% off</td>\n",
       "    </tr>\n",
       "    <tr>\n",
       "      <th>10</th>\n",
       "      <td>U.S. POLO ASSN.</td>\n",
       "      <td>Sneakers For Men</td>\n",
       "      <td>₹2,159</td>\n",
       "      <td>36% off</td>\n",
       "    </tr>\n",
       "    <tr>\n",
       "      <th>11</th>\n",
       "      <td>Cipramo</td>\n",
       "      <td>Seawalk Sneakers For Men</td>\n",
       "      <td>₹749</td>\n",
       "      <td>25% off</td>\n",
       "    </tr>\n",
       "    <tr>\n",
       "      <th>12</th>\n",
       "      <td>Strollin</td>\n",
       "      <td>Sneakers For Men</td>\n",
       "      <td>₹399</td>\n",
       "      <td>60% off</td>\n",
       "    </tr>\n",
       "    <tr>\n",
       "      <th>13</th>\n",
       "      <td>PUMA</td>\n",
       "      <td>Sneakers For Men</td>\n",
       "      <td>₹1,549</td>\n",
       "      <td>61% off</td>\n",
       "    </tr>\n",
       "    <tr>\n",
       "      <th>14</th>\n",
       "      <td>JACK &amp; JONES</td>\n",
       "      <td>X-Ray Square Celestial Sneakers For Men</td>\n",
       "      <td>₹699</td>\n",
       "      <td>76% off</td>\n",
       "    </tr>\n",
       "    <tr>\n",
       "      <th>15</th>\n",
       "      <td>Nilatin</td>\n",
       "      <td>Stylish Party Wear Fashionable Lightweight New...</td>\n",
       "      <td>₹599</td>\n",
       "      <td>80% off</td>\n",
       "    </tr>\n",
       "    <tr>\n",
       "      <th>16</th>\n",
       "      <td>PUMA</td>\n",
       "      <td>Combo Pack Of 3 Latest Casual Shoes Sneakers F...</td>\n",
       "      <td>₹2,958</td>\n",
       "      <td>63% off</td>\n",
       "    </tr>\n",
       "    <tr>\n",
       "      <th>17</th>\n",
       "      <td>Dizzler</td>\n",
       "      <td>Men's Ultraforce Mid-top Athletic-Inspired Ret...</td>\n",
       "      <td>₹445</td>\n",
       "      <td>38% off</td>\n",
       "    </tr>\n",
       "    <tr>\n",
       "      <th>18</th>\n",
       "      <td>OUTALYFE</td>\n",
       "      <td>Casual Shoes , Snekers Shoes,Lace-Up PVC Shoes...</td>\n",
       "      <td>₹415</td>\n",
       "      <td>68% off</td>\n",
       "    </tr>\n",
       "    <tr>\n",
       "      <th>19</th>\n",
       "      <td>BRUTON</td>\n",
       "      <td>Dexster Slip On Sneakers For Men</td>\n",
       "      <td>₹397</td>\n",
       "      <td>86% off</td>\n",
       "    </tr>\n",
       "    <tr>\n",
       "      <th>20</th>\n",
       "      <td>K STYLE</td>\n",
       "      <td>C-Skate Vulc Sneakers For Men</td>\n",
       "      <td>₹349</td>\n",
       "      <td>76% off</td>\n",
       "    </tr>\n",
       "    <tr>\n",
       "      <th>21</th>\n",
       "      <td>Zixer</td>\n",
       "      <td>Modern &amp; Trendy Collection Combo Pack of 02 Sh...</td>\n",
       "      <td>₹549</td>\n",
       "      <td>57% off</td>\n",
       "    </tr>\n",
       "    <tr>\n",
       "      <th>22</th>\n",
       "      <td>bacca bucci</td>\n",
       "      <td>casual for men Sneakers For Men</td>\n",
       "      <td>₹1,022</td>\n",
       "      <td>59% off</td>\n",
       "    </tr>\n",
       "    <tr>\n",
       "      <th>23</th>\n",
       "      <td>SWIGGY</td>\n",
       "      <td>X-Ray 2 Square Sneakers For Men</td>\n",
       "      <td>₹209</td>\n",
       "      <td>58% off</td>\n",
       "    </tr>\n",
       "    <tr>\n",
       "      <th>24</th>\n",
       "      <td>PUMA</td>\n",
       "      <td>Sneakers For Men</td>\n",
       "      <td>₹1,560</td>\n",
       "      <td>60% off</td>\n",
       "    </tr>\n",
       "    <tr>\n",
       "      <th>25</th>\n",
       "      <td>PUMA</td>\n",
       "      <td>Ultralight Latest Collection Sports Running Sh...</td>\n",
       "      <td>₹2,024</td>\n",
       "      <td>55% off</td>\n",
       "    </tr>\n",
       "    <tr>\n",
       "      <th>26</th>\n",
       "      <td>BRUTON</td>\n",
       "      <td>Sneakers For Men</td>\n",
       "      <td>₹374</td>\n",
       "      <td>85% off</td>\n",
       "    </tr>\n",
       "    <tr>\n",
       "      <th>27</th>\n",
       "      <td>bluemaker</td>\n",
       "      <td>Sneakers For Men</td>\n",
       "      <td>₹424</td>\n",
       "      <td>57% off</td>\n",
       "    </tr>\n",
       "    <tr>\n",
       "      <th>28</th>\n",
       "      <td>PUMA</td>\n",
       "      <td>Sneakers For Men</td>\n",
       "      <td>₹3,127</td>\n",
       "      <td>55% off</td>\n",
       "    </tr>\n",
       "    <tr>\n",
       "      <th>29</th>\n",
       "      <td>hzisbo</td>\n",
       "      <td>Ferrari X-Ray Speed Sneakers For Men</td>\n",
       "      <td>₹449</td>\n",
       "      <td>55% off</td>\n",
       "    </tr>\n",
       "    <tr>\n",
       "      <th>30</th>\n",
       "      <td>Shoes villa</td>\n",
       "      <td>Stylish Party Wear Fashionable Lightweight New...</td>\n",
       "      <td>₹449</td>\n",
       "      <td>77% off</td>\n",
       "    </tr>\n",
       "  </tbody>\n",
       "</table>\n",
       "</div>"
      ],
      "text/plain": [
       "                 Brand Name  \\\n",
       "0                  Strollin   \n",
       "1                      PUMA   \n",
       "2              Robbie jones   \n",
       "3                Style Tone   \n",
       "4                     ASIAN   \n",
       "5                    BRUTON   \n",
       "6                 EZDEZARIO   \n",
       "7                   Noztile   \n",
       "8   Bond Street By Red Tape   \n",
       "9   Bond Street By Red Tape   \n",
       "10          U.S. POLO ASSN.   \n",
       "11                  Cipramo   \n",
       "12                 Strollin   \n",
       "13                     PUMA   \n",
       "14             JACK & JONES   \n",
       "15                  Nilatin   \n",
       "16                     PUMA   \n",
       "17                  Dizzler   \n",
       "18                 OUTALYFE   \n",
       "19                   BRUTON   \n",
       "20                  K STYLE   \n",
       "21                    Zixer   \n",
       "22              bacca bucci   \n",
       "23                   SWIGGY   \n",
       "24                     PUMA   \n",
       "25                     PUMA   \n",
       "26                   BRUTON   \n",
       "27                bluemaker   \n",
       "28                     PUMA   \n",
       "29                   hzisbo   \n",
       "30              Shoes villa   \n",
       "\n",
       "                                          Discription  Prices Discounts  \n",
       "0                                    Sneakers For Men    ₹449   70% off  \n",
       "1                 Mirage Sport Remix Sneakers For Men  ₹3,370   62% off  \n",
       "2                                    Sneakers For Men    ₹424   57% off  \n",
       "3   Skypy-31 Walking Shoes,Training Shoes,Sneakers...    ₹419   58% off  \n",
       "4                                    Sneakers For Men    ₹548   31% off  \n",
       "5               Casual Shoes for Men Sneakers For Men    ₹229   82% off  \n",
       "6                                    Sneakers For Men    ₹349   65% off  \n",
       "7                                    Sneakers For Men    ₹349   82% off  \n",
       "8                                    Sneakers For Men    ₹999   76% off  \n",
       "9                           KENRIDGE Sneakers For Men    ₹824   76% off  \n",
       "10                                   Sneakers For Men  ₹2,159   36% off  \n",
       "11                           Seawalk Sneakers For Men    ₹749   25% off  \n",
       "12                                   Sneakers For Men    ₹399   60% off  \n",
       "13                                   Sneakers For Men  ₹1,549   61% off  \n",
       "14            X-Ray Square Celestial Sneakers For Men    ₹699   76% off  \n",
       "15  Stylish Party Wear Fashionable Lightweight New...    ₹599   80% off  \n",
       "16  Combo Pack Of 3 Latest Casual Shoes Sneakers F...  ₹2,958   63% off  \n",
       "17  Men's Ultraforce Mid-top Athletic-Inspired Ret...    ₹445   38% off  \n",
       "18  Casual Shoes , Snekers Shoes,Lace-Up PVC Shoes...    ₹415   68% off  \n",
       "19                   Dexster Slip On Sneakers For Men    ₹397   86% off  \n",
       "20                      C-Skate Vulc Sneakers For Men    ₹349   76% off  \n",
       "21  Modern & Trendy Collection Combo Pack of 02 Sh...    ₹549   57% off  \n",
       "22                    casual for men Sneakers For Men  ₹1,022   59% off  \n",
       "23                    X-Ray 2 Square Sneakers For Men    ₹209   58% off  \n",
       "24                                   Sneakers For Men  ₹1,560   60% off  \n",
       "25  Ultralight Latest Collection Sports Running Sh...  ₹2,024   55% off  \n",
       "26                                   Sneakers For Men    ₹374   85% off  \n",
       "27                                   Sneakers For Men    ₹424   57% off  \n",
       "28                                   Sneakers For Men  ₹3,127   55% off  \n",
       "29               Ferrari X-Ray Speed Sneakers For Men    ₹449   55% off  \n",
       "30  Stylish Party Wear Fashionable Lightweight New...    ₹449   77% off  "
      ]
     },
     "execution_count": 431,
     "metadata": {},
     "output_type": "execute_result"
    }
   ],
   "source": [
    "SneakersDF2=pd.DataFrame({\"Brand Name\" :Brand,\"Discription\":PDiscription,\"Prices\":Price,\"Discounts\":Discount})\n",
    "\n",
    "SneakersDF2"
   ]
  },
  {
   "cell_type": "code",
   "execution_count": 432,
   "id": "09a85fbc",
   "metadata": {},
   "outputs": [
    {
     "data": {
      "text/plain": [
       "<selenium.webdriver.remote.webelement.WebElement (session=\"13c8cee5bae12872ceff2fc162482346\", element=\"de2a284e-fdbb-4460-ba2b-35c44a86be4b\")>"
      ]
     },
     "execution_count": 432,
     "metadata": {},
     "output_type": "execute_result"
    }
   ],
   "source": [
    "Next_Button=driver.find_element_by_xpath('/html/body/div[1]/div/div[3]/div[1]/div[2]/div[12]/div/div/nav/a[11]')\n",
    "Next_Button"
   ]
  },
  {
   "cell_type": "code",
   "execution_count": 433,
   "id": "a553c95e",
   "metadata": {},
   "outputs": [],
   "source": [
    "Next_Button.click()"
   ]
  },
  {
   "cell_type": "code",
   "execution_count": 434,
   "id": "6d24ac29",
   "metadata": {},
   "outputs": [
    {
     "data": {
      "text/plain": [
       "40"
      ]
     },
     "execution_count": 434,
     "metadata": {},
     "output_type": "execute_result"
    }
   ],
   "source": [
    "BrandName = driver.find_elements_by_xpath('//div[@class=\"_2WkVRV\"]')\n",
    "len(BrandName)"
   ]
  },
  {
   "cell_type": "code",
   "execution_count": 444,
   "id": "2c3788bc",
   "metadata": {},
   "outputs": [
    {
     "data": {
      "text/plain": [
       "['BRUTON',\n",
       " 'U.S. POLO ASSN.',\n",
       " 'Zixer',\n",
       " 'Cipramo',\n",
       " 'Super Matteress',\n",
       " 'PUMA',\n",
       " 'SLAZENGER',\n",
       " 'OZJI',\n",
       " 'RapidBox',\n",
       " 'PUMA',\n",
       " 'Roadster',\n",
       " 'FEWROK',\n",
       " 'STF STRONG',\n",
       " 'FILA',\n",
       " 'REEBOK CLASSICS',\n",
       " 'Cipramo',\n",
       " 'Cross Finger',\n",
       " 'MAFLO',\n",
       " 'PUMA',\n",
       " 'ASTEROID',\n",
       " 'Hot & Knot',\n",
       " 'Roadster',\n",
       " 'HOCKWOOD']"
      ]
     },
     "execution_count": 444,
     "metadata": {},
     "output_type": "execute_result"
    }
   ],
   "source": [
    "Brand=[]\n",
    "for i in BrandName[0:23]:\n",
    "     Brand.append(i.text)\n",
    "        \n",
    "Brand"
   ]
  },
  {
   "cell_type": "code",
   "execution_count": 445,
   "id": "56942ac3",
   "metadata": {},
   "outputs": [
    {
     "data": {
      "text/plain": [
       "24"
      ]
     },
     "execution_count": 445,
     "metadata": {},
     "output_type": "execute_result"
    }
   ],
   "source": [
    "ProductD = driver.find_elements_by_xpath('//a[@class=\"IRpwTa\"]')\n",
    "len(ProductD)"
   ]
  },
  {
   "cell_type": "code",
   "execution_count": 446,
   "id": "e2703be0",
   "metadata": {},
   "outputs": [
    {
     "data": {
      "text/plain": [
       "['Trendy Fashion Sports Combo Pack Of 3 Pairs Outdoor Run...',\n",
       " 'TREGGER Sneakers For Men',\n",
       " 'Men High Top Fashion Sneakers/sports/Ankle casual Shoes...',\n",
       " 'Ferrari Track Racer Sneakers For Men',\n",
       " 'Sneakers For Men',\n",
       " 'Sneakers For Men',\n",
       " 'Serve Pro Lite Sneakers For Men',\n",
       " 'Men Blue Solid Sneakers Sneakers For Men',\n",
       " 'Sneakers For Men',\n",
       " 'CL LTHR Sneakers For Men',\n",
       " 'Quarter block Sneakers For Men',\n",
       " 'High Top Casual Party Wear Boot Stylish Sneakers For Me...',\n",
       " 'Roadster Men Coffee Brown Solid Sneakers Sneakers For M...',\n",
       " 'Stylish & Trendy Shoe For Men Sneakers Sneakers For Men',\n",
       " 'Ferrari X-Ray Speed Sneakers For Men',\n",
       " 'SM-162 Sneakers For Men',\n",
       " 'Casual Sneakers White Shoes For Men Sneakers For Men',\n",
       " 'Sneakers For Men',\n",
       " 'Modern & Trendy Collection Combo Pack of 02 Shoes for M...',\n",
       " 'Men High Top Fashion Sneakers/sports/Ankle casual Shoes...',\n",
       " 'Stylish Comfortable Lightweight, Breathable Casual Shoe...',\n",
       " 'Sneakers For Men',\n",
       " 'Combo Pack Of 2 Casual Sneakers For Men']"
      ]
     },
     "execution_count": 446,
     "metadata": {},
     "output_type": "execute_result"
    }
   ],
   "source": [
    "Discription=[]\n",
    "for i in ProductD[0:23]:\n",
    "     Discription.append(i.text)\n",
    "        \n",
    "Discription"
   ]
  },
  {
   "cell_type": "code",
   "execution_count": 447,
   "id": "461742b6",
   "metadata": {},
   "outputs": [
    {
     "data": {
      "text/plain": [
       "40"
      ]
     },
     "execution_count": 447,
     "metadata": {},
     "output_type": "execute_result"
    }
   ],
   "source": [
    "ProductPrice = driver.find_elements_by_xpath('//div[@class=\"_30jeq3\"]')\n",
    "len(ProductPrice)"
   ]
  },
  {
   "cell_type": "code",
   "execution_count": 448,
   "id": "6905c9a8",
   "metadata": {},
   "outputs": [
    {
     "data": {
      "text/plain": [
       "['₹431',\n",
       " '₹2,529',\n",
       " '₹649',\n",
       " '₹749',\n",
       " '₹149',\n",
       " '₹3,329',\n",
       " '₹929',\n",
       " '₹397',\n",
       " '₹630',\n",
       " '₹3,042',\n",
       " '₹1,314',\n",
       " '₹399',\n",
       " '₹201',\n",
       " '₹997',\n",
       " '₹3,068',\n",
       " '₹749',\n",
       " '₹424',\n",
       " '₹549',\n",
       " '₹1,769',\n",
       " '₹549',\n",
       " '₹539',\n",
       " '₹1,208',\n",
       " '₹699']"
      ]
     },
     "execution_count": 448,
     "metadata": {},
     "output_type": "execute_result"
    }
   ],
   "source": [
    "Price=[]\n",
    "for i in ProductPrice[0:23]:\n",
    "     Price.append(i.text)\n",
    "        \n",
    "Price "
   ]
  },
  {
   "cell_type": "code",
   "execution_count": 449,
   "id": "2b2edd73",
   "metadata": {},
   "outputs": [
    {
     "data": {
      "text/plain": [
       "40"
      ]
     },
     "execution_count": 449,
     "metadata": {},
     "output_type": "execute_result"
    }
   ],
   "source": [
    "ProductDiscount = driver.find_elements_by_xpath('//div[@class=\"_3Ay6Sb\"]')\n",
    "len(ProductDiscount)"
   ]
  },
  {
   "cell_type": "code",
   "execution_count": 450,
   "id": "0e071091",
   "metadata": {},
   "outputs": [
    {
     "data": {
      "text/plain": [
       "['85% off',\n",
       " '41% off',\n",
       " '67% off',\n",
       " '25% off',\n",
       " '70% off',\n",
       " '48% off',\n",
       " '66% off',\n",
       " '60% off',\n",
       " '36% off',\n",
       " '32% off',\n",
       " '53% off',\n",
       " '60% off',\n",
       " '79% off',\n",
       " '66% off',\n",
       " '48% off',\n",
       " '25% off',\n",
       " '57% off',\n",
       " '57% off',\n",
       " '49% off',\n",
       " '72% off',\n",
       " '46% off',\n",
       " '59% off',\n",
       " '30% off']"
      ]
     },
     "execution_count": 450,
     "metadata": {},
     "output_type": "execute_result"
    }
   ],
   "source": [
    "Discount=[]\n",
    "for i in ProductDiscount[0:23]:\n",
    "     Discount.append(i.text)\n",
    "        \n",
    "Discount[0:36] "
   ]
  },
  {
   "cell_type": "code",
   "execution_count": 452,
   "id": "999a3365",
   "metadata": {},
   "outputs": [
    {
     "data": {
      "text/html": [
       "<div>\n",
       "<style scoped>\n",
       "    .dataframe tbody tr th:only-of-type {\n",
       "        vertical-align: middle;\n",
       "    }\n",
       "\n",
       "    .dataframe tbody tr th {\n",
       "        vertical-align: top;\n",
       "    }\n",
       "\n",
       "    .dataframe thead th {\n",
       "        text-align: right;\n",
       "    }\n",
       "</style>\n",
       "<table border=\"1\" class=\"dataframe\">\n",
       "  <thead>\n",
       "    <tr style=\"text-align: right;\">\n",
       "      <th></th>\n",
       "      <th>Brand Name</th>\n",
       "      <th>Discription</th>\n",
       "      <th>Prices</th>\n",
       "      <th>Discounts</th>\n",
       "    </tr>\n",
       "  </thead>\n",
       "  <tbody>\n",
       "    <tr>\n",
       "      <th>0</th>\n",
       "      <td>BRUTON</td>\n",
       "      <td>Trendy Fashion Sports Combo Pack Of 3 Pairs Ou...</td>\n",
       "      <td>₹431</td>\n",
       "      <td>85% off</td>\n",
       "    </tr>\n",
       "    <tr>\n",
       "      <th>1</th>\n",
       "      <td>U.S. POLO ASSN.</td>\n",
       "      <td>TREGGER Sneakers For Men</td>\n",
       "      <td>₹2,529</td>\n",
       "      <td>41% off</td>\n",
       "    </tr>\n",
       "    <tr>\n",
       "      <th>2</th>\n",
       "      <td>Zixer</td>\n",
       "      <td>Men High Top Fashion Sneakers/sports/Ankle cas...</td>\n",
       "      <td>₹649</td>\n",
       "      <td>67% off</td>\n",
       "    </tr>\n",
       "    <tr>\n",
       "      <th>3</th>\n",
       "      <td>Cipramo</td>\n",
       "      <td>Ferrari Track Racer Sneakers For Men</td>\n",
       "      <td>₹749</td>\n",
       "      <td>25% off</td>\n",
       "    </tr>\n",
       "    <tr>\n",
       "      <th>4</th>\n",
       "      <td>Super Matteress</td>\n",
       "      <td>Sneakers For Men</td>\n",
       "      <td>₹149</td>\n",
       "      <td>70% off</td>\n",
       "    </tr>\n",
       "    <tr>\n",
       "      <th>5</th>\n",
       "      <td>PUMA</td>\n",
       "      <td>Sneakers For Men</td>\n",
       "      <td>₹3,329</td>\n",
       "      <td>48% off</td>\n",
       "    </tr>\n",
       "    <tr>\n",
       "      <th>6</th>\n",
       "      <td>SLAZENGER</td>\n",
       "      <td>Serve Pro Lite Sneakers For Men</td>\n",
       "      <td>₹929</td>\n",
       "      <td>66% off</td>\n",
       "    </tr>\n",
       "    <tr>\n",
       "      <th>7</th>\n",
       "      <td>OZJI</td>\n",
       "      <td>Men Blue Solid Sneakers Sneakers For Men</td>\n",
       "      <td>₹397</td>\n",
       "      <td>60% off</td>\n",
       "    </tr>\n",
       "    <tr>\n",
       "      <th>8</th>\n",
       "      <td>RapidBox</td>\n",
       "      <td>Sneakers For Men</td>\n",
       "      <td>₹630</td>\n",
       "      <td>36% off</td>\n",
       "    </tr>\n",
       "    <tr>\n",
       "      <th>9</th>\n",
       "      <td>PUMA</td>\n",
       "      <td>CL LTHR Sneakers For Men</td>\n",
       "      <td>₹3,042</td>\n",
       "      <td>32% off</td>\n",
       "    </tr>\n",
       "    <tr>\n",
       "      <th>10</th>\n",
       "      <td>Roadster</td>\n",
       "      <td>Quarter block Sneakers For Men</td>\n",
       "      <td>₹1,314</td>\n",
       "      <td>53% off</td>\n",
       "    </tr>\n",
       "    <tr>\n",
       "      <th>11</th>\n",
       "      <td>FEWROK</td>\n",
       "      <td>High Top Casual Party Wear Boot Stylish Sneake...</td>\n",
       "      <td>₹399</td>\n",
       "      <td>60% off</td>\n",
       "    </tr>\n",
       "    <tr>\n",
       "      <th>12</th>\n",
       "      <td>STF STRONG</td>\n",
       "      <td>Roadster Men Coffee Brown Solid Sneakers Sneak...</td>\n",
       "      <td>₹201</td>\n",
       "      <td>79% off</td>\n",
       "    </tr>\n",
       "    <tr>\n",
       "      <th>13</th>\n",
       "      <td>FILA</td>\n",
       "      <td>Stylish &amp; Trendy Shoe For Men Sneakers Sneaker...</td>\n",
       "      <td>₹997</td>\n",
       "      <td>66% off</td>\n",
       "    </tr>\n",
       "    <tr>\n",
       "      <th>14</th>\n",
       "      <td>REEBOK CLASSICS</td>\n",
       "      <td>Ferrari X-Ray Speed Sneakers For Men</td>\n",
       "      <td>₹3,068</td>\n",
       "      <td>48% off</td>\n",
       "    </tr>\n",
       "    <tr>\n",
       "      <th>15</th>\n",
       "      <td>Cipramo</td>\n",
       "      <td>SM-162 Sneakers For Men</td>\n",
       "      <td>₹749</td>\n",
       "      <td>25% off</td>\n",
       "    </tr>\n",
       "    <tr>\n",
       "      <th>16</th>\n",
       "      <td>Cross Finger</td>\n",
       "      <td>Casual Sneakers White Shoes For Men Sneakers F...</td>\n",
       "      <td>₹424</td>\n",
       "      <td>57% off</td>\n",
       "    </tr>\n",
       "    <tr>\n",
       "      <th>17</th>\n",
       "      <td>MAFLO</td>\n",
       "      <td>Sneakers For Men</td>\n",
       "      <td>₹549</td>\n",
       "      <td>57% off</td>\n",
       "    </tr>\n",
       "    <tr>\n",
       "      <th>18</th>\n",
       "      <td>PUMA</td>\n",
       "      <td>Modern &amp; Trendy Collection Combo Pack of 02 Sh...</td>\n",
       "      <td>₹1,769</td>\n",
       "      <td>49% off</td>\n",
       "    </tr>\n",
       "    <tr>\n",
       "      <th>19</th>\n",
       "      <td>ASTEROID</td>\n",
       "      <td>Men High Top Fashion Sneakers/sports/Ankle cas...</td>\n",
       "      <td>₹549</td>\n",
       "      <td>72% off</td>\n",
       "    </tr>\n",
       "    <tr>\n",
       "      <th>20</th>\n",
       "      <td>Hot &amp; Knot</td>\n",
       "      <td>Stylish Comfortable Lightweight, Breathable Ca...</td>\n",
       "      <td>₹539</td>\n",
       "      <td>46% off</td>\n",
       "    </tr>\n",
       "    <tr>\n",
       "      <th>21</th>\n",
       "      <td>Roadster</td>\n",
       "      <td>Sneakers For Men</td>\n",
       "      <td>₹1,208</td>\n",
       "      <td>59% off</td>\n",
       "    </tr>\n",
       "    <tr>\n",
       "      <th>22</th>\n",
       "      <td>HOCKWOOD</td>\n",
       "      <td>Combo Pack Of 2 Casual Sneakers For Men</td>\n",
       "      <td>₹699</td>\n",
       "      <td>30% off</td>\n",
       "    </tr>\n",
       "  </tbody>\n",
       "</table>\n",
       "</div>"
      ],
      "text/plain": [
       "         Brand Name                                        Discription  \\\n",
       "0            BRUTON  Trendy Fashion Sports Combo Pack Of 3 Pairs Ou...   \n",
       "1   U.S. POLO ASSN.                           TREGGER Sneakers For Men   \n",
       "2             Zixer  Men High Top Fashion Sneakers/sports/Ankle cas...   \n",
       "3           Cipramo               Ferrari Track Racer Sneakers For Men   \n",
       "4   Super Matteress                                   Sneakers For Men   \n",
       "5              PUMA                                   Sneakers For Men   \n",
       "6         SLAZENGER                    Serve Pro Lite Sneakers For Men   \n",
       "7              OZJI           Men Blue Solid Sneakers Sneakers For Men   \n",
       "8          RapidBox                                   Sneakers For Men   \n",
       "9              PUMA                           CL LTHR Sneakers For Men   \n",
       "10         Roadster                     Quarter block Sneakers For Men   \n",
       "11           FEWROK  High Top Casual Party Wear Boot Stylish Sneake...   \n",
       "12       STF STRONG  Roadster Men Coffee Brown Solid Sneakers Sneak...   \n",
       "13             FILA  Stylish & Trendy Shoe For Men Sneakers Sneaker...   \n",
       "14  REEBOK CLASSICS               Ferrari X-Ray Speed Sneakers For Men   \n",
       "15          Cipramo                            SM-162 Sneakers For Men   \n",
       "16     Cross Finger  Casual Sneakers White Shoes For Men Sneakers F...   \n",
       "17            MAFLO                                   Sneakers For Men   \n",
       "18             PUMA  Modern & Trendy Collection Combo Pack of 02 Sh...   \n",
       "19         ASTEROID  Men High Top Fashion Sneakers/sports/Ankle cas...   \n",
       "20       Hot & Knot  Stylish Comfortable Lightweight, Breathable Ca...   \n",
       "21         Roadster                                   Sneakers For Men   \n",
       "22         HOCKWOOD            Combo Pack Of 2 Casual Sneakers For Men   \n",
       "\n",
       "    Prices Discounts  \n",
       "0     ₹431   85% off  \n",
       "1   ₹2,529   41% off  \n",
       "2     ₹649   67% off  \n",
       "3     ₹749   25% off  \n",
       "4     ₹149   70% off  \n",
       "5   ₹3,329   48% off  \n",
       "6     ₹929   66% off  \n",
       "7     ₹397   60% off  \n",
       "8     ₹630   36% off  \n",
       "9   ₹3,042   32% off  \n",
       "10  ₹1,314   53% off  \n",
       "11    ₹399   60% off  \n",
       "12    ₹201   79% off  \n",
       "13    ₹997   66% off  \n",
       "14  ₹3,068   48% off  \n",
       "15    ₹749   25% off  \n",
       "16    ₹424   57% off  \n",
       "17    ₹549   57% off  \n",
       "18  ₹1,769   49% off  \n",
       "19    ₹549   72% off  \n",
       "20    ₹539   46% off  \n",
       "21  ₹1,208   59% off  \n",
       "22    ₹699   30% off  "
      ]
     },
     "execution_count": 452,
     "metadata": {},
     "output_type": "execute_result"
    }
   ],
   "source": [
    "SneakersDF3=pd.DataFrame({\"Brand Name\" :Brand,\"Discription\":Discription,\"Prices\":Price,\"Discounts\":Discount})\n",
    "\n",
    "SneakersDF3"
   ]
  },
  {
   "cell_type": "code",
   "execution_count": 453,
   "id": "42f21db2",
   "metadata": {},
   "outputs": [
    {
     "data": {
      "text/plain": [
       "<selenium.webdriver.remote.webelement.WebElement (session=\"13c8cee5bae12872ceff2fc162482346\", element=\"5ca0649c-d598-4a02-bf53-e35883dad891\")>"
      ]
     },
     "execution_count": 453,
     "metadata": {},
     "output_type": "execute_result"
    }
   ],
   "source": [
    "Next_Button=driver.find_element_by_xpath('/html/body/div[1]/div/div[3]/div[1]/div[2]/div[12]/div/div/nav/a[11]')\n",
    "Next_Button"
   ]
  },
  {
   "cell_type": "code",
   "execution_count": 454,
   "id": "5baf1d8b",
   "metadata": {},
   "outputs": [],
   "source": [
    "Next_Button.click()"
   ]
  },
  {
   "cell_type": "code",
   "execution_count": 455,
   "id": "e3614584",
   "metadata": {},
   "outputs": [
    {
     "data": {
      "text/plain": [
       "40"
      ]
     },
     "execution_count": 455,
     "metadata": {},
     "output_type": "execute_result"
    }
   ],
   "source": [
    "BrandName = driver.find_elements_by_xpath('//div[@class=\"_2WkVRV\"]')\n",
    "len(BrandName)"
   ]
  },
  {
   "cell_type": "code",
   "execution_count": 456,
   "id": "a21a0947",
   "metadata": {},
   "outputs": [
    {
     "data": {
      "text/plain": [
       "['RED TAPE',\n",
       " 'PUMA',\n",
       " 'U.S. POLO ASSN.',\n",
       " 'KNIGHT WALKERS',\n",
       " 'PROVOGUE',\n",
       " 'WHITEHUB',\n",
       " 'HRX by Hrithik Roshan',\n",
       " 'RapidBox',\n",
       " 'SPARX',\n",
       " 'U.S. POLO ASSN.',\n",
       " 'Jack Diamond',\n",
       " 'Jimnastic shoes',\n",
       " 'BRUTON',\n",
       " 'HIGHLANDER',\n",
       " 'SneakerVilla',\n",
       " 'FLYING MACHINE',\n",
       " 'bacca bucci',\n",
       " 'Crazyly',\n",
       " 'RED TAPE',\n",
       " 'AMICO',\n",
       " 'bacca bucci',\n",
       " 'ADIDAS ORIGINALS',\n",
       " 'LastStep']"
      ]
     },
     "execution_count": 456,
     "metadata": {},
     "output_type": "execute_result"
    }
   ],
   "source": [
    "Brand=[]\n",
    "for i in BrandName[0:23]:\n",
    "     Brand.append(i.text)\n",
    "        \n",
    "Brand[0:36] "
   ]
  },
  {
   "cell_type": "code",
   "execution_count": 457,
   "id": "c18f3156",
   "metadata": {},
   "outputs": [
    {
     "data": {
      "text/plain": [
       "26"
      ]
     },
     "execution_count": 457,
     "metadata": {},
     "output_type": "execute_result"
    }
   ],
   "source": [
    "ProductD = driver.find_elements_by_xpath('//a[@class=\"IRpwTa\"]')\n",
    "len(ProductD)"
   ]
  },
  {
   "cell_type": "code",
   "execution_count": 458,
   "id": "1cd6696f",
   "metadata": {},
   "outputs": [
    {
     "data": {
      "text/plain": [
       "['Sneakers For Men',\n",
       " 'Turino FSL Sneakers For Men',\n",
       " 'Sneakers For Men',\n",
       " 'Sneakers For Men',\n",
       " 'Sneakers For Men',\n",
       " 'Men Grey Woven Design Sneakers Sneakers For Men',\n",
       " 'SM-439 Sneakers For Men',\n",
       " 'Sneakers For Men',\n",
       " 'Combo Pack Of 2 Casual Sneakers For Men',\n",
       " 'MARWICK Sneakers For Men',\n",
       " 'Platform Chunky Trainer/Sneakers -BOOM Mid Top Shoes fo...',\n",
       " 'Sneakers For Men',\n",
       " 'Comfy Mid-Top Casual Chunky Streetwear Fashion Sneakers...',\n",
       " 'X_Plr Sneakers For Men',\n",
       " 'Men White Solid Sneakers Sneakers For Men',\n",
       " 'Sneakers For Men',\n",
       " 'Mesh Sneakers For Men',\n",
       " 'Sneakers For Men',\n",
       " 'Sneakers For Men',\n",
       " 'Sneakers For Men',\n",
       " 'JFWTED CANVAS VULC Sneakers For Men',\n",
       " 'casual sneakers and shoes For Mens Multicolor Combo(MR)...',\n",
       " 'JAX SNEAKER Sneakers For Men']"
      ]
     },
     "execution_count": 458,
     "metadata": {},
     "output_type": "execute_result"
    }
   ],
   "source": [
    "Discription=[]\n",
    "for i in ProductD[0:23]:\n",
    "     Discription.append(i.text)\n",
    "        \n",
    "Discription"
   ]
  },
  {
   "cell_type": "code",
   "execution_count": 459,
   "id": "85d2a6ea",
   "metadata": {},
   "outputs": [
    {
     "data": {
      "text/plain": [
       "40"
      ]
     },
     "execution_count": 459,
     "metadata": {},
     "output_type": "execute_result"
    }
   ],
   "source": [
    "ProductPrice = driver.find_elements_by_xpath('//div[@class=\"_30jeq3\"]')\n",
    "len(ProductPrice)"
   ]
  },
  {
   "cell_type": "code",
   "execution_count": 460,
   "id": "e14067f0",
   "metadata": {},
   "outputs": [
    {
     "data": {
      "text/plain": [
       "['₹1,074',\n",
       " '₹2,061',\n",
       " '₹2,649',\n",
       " '₹598',\n",
       " '₹429',\n",
       " '₹399',\n",
       " '₹2,249',\n",
       " '₹580',\n",
       " '₹589',\n",
       " '₹1,229',\n",
       " '₹659',\n",
       " '₹347',\n",
       " '₹271',\n",
       " '₹945',\n",
       " '₹529',\n",
       " '₹1,249',\n",
       " '₹1,111',\n",
       " '₹499',\n",
       " '₹1,048',\n",
       " '₹474',\n",
       " '₹1,469',\n",
       " '₹2,456',\n",
       " '₹449']"
      ]
     },
     "execution_count": 460,
     "metadata": {},
     "output_type": "execute_result"
    }
   ],
   "source": [
    "price=[]\n",
    "for i in ProductPrice[0:23]:\n",
    "     price.append(i.text)\n",
    "        \n",
    "price[0:36] "
   ]
  },
  {
   "cell_type": "code",
   "execution_count": 463,
   "id": "0c02cfce",
   "metadata": {},
   "outputs": [
    {
     "data": {
      "text/plain": [
       "40"
      ]
     },
     "execution_count": 463,
     "metadata": {},
     "output_type": "execute_result"
    }
   ],
   "source": [
    "ProductDis = driver.find_elements_by_xpath('//div[@class=\"_3Ay6Sb\"]')\n",
    "len(ProductDis)"
   ]
  },
  {
   "cell_type": "code",
   "execution_count": 464,
   "id": "29297195",
   "metadata": {},
   "outputs": [
    {
     "data": {
      "text/plain": [
       "['76% off',\n",
       " '57% off',\n",
       " '41% off',\n",
       " '60% off',\n",
       " '80% off',\n",
       " '60% off',\n",
       " '46% off',\n",
       " '41% off',\n",
       " '15% off',\n",
       " '69% off',\n",
       " '34% off',\n",
       " '76% off',\n",
       " '86% off',\n",
       " '52% off',\n",
       " '55% off',\n",
       " '50% off',\n",
       " '62% off',\n",
       " '70% off',\n",
       " '75% off',\n",
       " '52% off',\n",
       " '58% off',\n",
       " '67% off',\n",
       " '70% off']"
      ]
     },
     "execution_count": 464,
     "metadata": {},
     "output_type": "execute_result"
    }
   ],
   "source": [
    "Discount=[]\n",
    "for i in ProductDis[0:23]:\n",
    "     Discount.append(i.text)\n",
    "        \n",
    "Discount[0:36] "
   ]
  },
  {
   "cell_type": "code",
   "execution_count": 467,
   "id": "05204ccd",
   "metadata": {},
   "outputs": [
    {
     "data": {
      "text/html": [
       "<div>\n",
       "<style scoped>\n",
       "    .dataframe tbody tr th:only-of-type {\n",
       "        vertical-align: middle;\n",
       "    }\n",
       "\n",
       "    .dataframe tbody tr th {\n",
       "        vertical-align: top;\n",
       "    }\n",
       "\n",
       "    .dataframe thead th {\n",
       "        text-align: right;\n",
       "    }\n",
       "</style>\n",
       "<table border=\"1\" class=\"dataframe\">\n",
       "  <thead>\n",
       "    <tr style=\"text-align: right;\">\n",
       "      <th></th>\n",
       "      <th>Brand Name</th>\n",
       "      <th>Discription</th>\n",
       "      <th>Prices</th>\n",
       "      <th>Discounts</th>\n",
       "    </tr>\n",
       "  </thead>\n",
       "  <tbody>\n",
       "    <tr>\n",
       "      <th>0</th>\n",
       "      <td>RED TAPE</td>\n",
       "      <td>Sneakers For Men</td>\n",
       "      <td>₹1,074</td>\n",
       "      <td>76% off</td>\n",
       "    </tr>\n",
       "    <tr>\n",
       "      <th>1</th>\n",
       "      <td>PUMA</td>\n",
       "      <td>Turino FSL Sneakers For Men</td>\n",
       "      <td>₹2,061</td>\n",
       "      <td>57% off</td>\n",
       "    </tr>\n",
       "    <tr>\n",
       "      <th>2</th>\n",
       "      <td>U.S. POLO ASSN.</td>\n",
       "      <td>Sneakers For Men</td>\n",
       "      <td>₹2,649</td>\n",
       "      <td>41% off</td>\n",
       "    </tr>\n",
       "    <tr>\n",
       "      <th>3</th>\n",
       "      <td>KNIGHT WALKERS</td>\n",
       "      <td>Sneakers For Men</td>\n",
       "      <td>₹598</td>\n",
       "      <td>60% off</td>\n",
       "    </tr>\n",
       "    <tr>\n",
       "      <th>4</th>\n",
       "      <td>PROVOGUE</td>\n",
       "      <td>Sneakers For Men</td>\n",
       "      <td>₹429</td>\n",
       "      <td>80% off</td>\n",
       "    </tr>\n",
       "    <tr>\n",
       "      <th>5</th>\n",
       "      <td>WHITEHUB</td>\n",
       "      <td>Men Grey Woven Design Sneakers Sneakers For Men</td>\n",
       "      <td>₹399</td>\n",
       "      <td>60% off</td>\n",
       "    </tr>\n",
       "    <tr>\n",
       "      <th>6</th>\n",
       "      <td>HRX by Hrithik Roshan</td>\n",
       "      <td>SM-439 Sneakers For Men</td>\n",
       "      <td>₹2,249</td>\n",
       "      <td>46% off</td>\n",
       "    </tr>\n",
       "    <tr>\n",
       "      <th>7</th>\n",
       "      <td>RapidBox</td>\n",
       "      <td>Sneakers For Men</td>\n",
       "      <td>₹580</td>\n",
       "      <td>41% off</td>\n",
       "    </tr>\n",
       "    <tr>\n",
       "      <th>8</th>\n",
       "      <td>SPARX</td>\n",
       "      <td>Combo Pack Of 2 Casual Sneakers For Men</td>\n",
       "      <td>₹589</td>\n",
       "      <td>15% off</td>\n",
       "    </tr>\n",
       "    <tr>\n",
       "      <th>9</th>\n",
       "      <td>U.S. POLO ASSN.</td>\n",
       "      <td>MARWICK Sneakers For Men</td>\n",
       "      <td>₹1,229</td>\n",
       "      <td>69% off</td>\n",
       "    </tr>\n",
       "    <tr>\n",
       "      <th>10</th>\n",
       "      <td>Jack Diamond</td>\n",
       "      <td>Platform Chunky Trainer/Sneakers -BOOM Mid Top...</td>\n",
       "      <td>₹659</td>\n",
       "      <td>34% off</td>\n",
       "    </tr>\n",
       "    <tr>\n",
       "      <th>11</th>\n",
       "      <td>Jimnastic shoes</td>\n",
       "      <td>Sneakers For Men</td>\n",
       "      <td>₹347</td>\n",
       "      <td>76% off</td>\n",
       "    </tr>\n",
       "    <tr>\n",
       "      <th>12</th>\n",
       "      <td>BRUTON</td>\n",
       "      <td>Comfy Mid-Top Casual Chunky Streetwear Fashion...</td>\n",
       "      <td>₹271</td>\n",
       "      <td>86% off</td>\n",
       "    </tr>\n",
       "    <tr>\n",
       "      <th>13</th>\n",
       "      <td>HIGHLANDER</td>\n",
       "      <td>X_Plr Sneakers For Men</td>\n",
       "      <td>₹945</td>\n",
       "      <td>52% off</td>\n",
       "    </tr>\n",
       "    <tr>\n",
       "      <th>14</th>\n",
       "      <td>SneakerVilla</td>\n",
       "      <td>Men White Solid Sneakers Sneakers For Men</td>\n",
       "      <td>₹529</td>\n",
       "      <td>55% off</td>\n",
       "    </tr>\n",
       "    <tr>\n",
       "      <th>15</th>\n",
       "      <td>FLYING MACHINE</td>\n",
       "      <td>Sneakers For Men</td>\n",
       "      <td>₹1,249</td>\n",
       "      <td>50% off</td>\n",
       "    </tr>\n",
       "    <tr>\n",
       "      <th>16</th>\n",
       "      <td>bacca bucci</td>\n",
       "      <td>Mesh Sneakers For Men</td>\n",
       "      <td>₹1,111</td>\n",
       "      <td>62% off</td>\n",
       "    </tr>\n",
       "    <tr>\n",
       "      <th>17</th>\n",
       "      <td>Crazyly</td>\n",
       "      <td>Sneakers For Men</td>\n",
       "      <td>₹499</td>\n",
       "      <td>70% off</td>\n",
       "    </tr>\n",
       "    <tr>\n",
       "      <th>18</th>\n",
       "      <td>RED TAPE</td>\n",
       "      <td>Sneakers For Men</td>\n",
       "      <td>₹1,048</td>\n",
       "      <td>75% off</td>\n",
       "    </tr>\n",
       "    <tr>\n",
       "      <th>19</th>\n",
       "      <td>AMICO</td>\n",
       "      <td>Sneakers For Men</td>\n",
       "      <td>₹474</td>\n",
       "      <td>52% off</td>\n",
       "    </tr>\n",
       "    <tr>\n",
       "      <th>20</th>\n",
       "      <td>bacca bucci</td>\n",
       "      <td>JFWTED CANVAS VULC Sneakers For Men</td>\n",
       "      <td>₹1,469</td>\n",
       "      <td>58% off</td>\n",
       "    </tr>\n",
       "    <tr>\n",
       "      <th>21</th>\n",
       "      <td>ADIDAS ORIGINALS</td>\n",
       "      <td>casual sneakers and shoes For Mens Multicolor ...</td>\n",
       "      <td>₹2,456</td>\n",
       "      <td>67% off</td>\n",
       "    </tr>\n",
       "    <tr>\n",
       "      <th>22</th>\n",
       "      <td>LastStep</td>\n",
       "      <td>JAX SNEAKER Sneakers For Men</td>\n",
       "      <td>₹449</td>\n",
       "      <td>70% off</td>\n",
       "    </tr>\n",
       "  </tbody>\n",
       "</table>\n",
       "</div>"
      ],
      "text/plain": [
       "               Brand Name                                        Discription  \\\n",
       "0                RED TAPE                                   Sneakers For Men   \n",
       "1                    PUMA                        Turino FSL Sneakers For Men   \n",
       "2         U.S. POLO ASSN.                                   Sneakers For Men   \n",
       "3          KNIGHT WALKERS                                   Sneakers For Men   \n",
       "4                PROVOGUE                                   Sneakers For Men   \n",
       "5                WHITEHUB    Men Grey Woven Design Sneakers Sneakers For Men   \n",
       "6   HRX by Hrithik Roshan                            SM-439 Sneakers For Men   \n",
       "7                RapidBox                                   Sneakers For Men   \n",
       "8                   SPARX            Combo Pack Of 2 Casual Sneakers For Men   \n",
       "9         U.S. POLO ASSN.                           MARWICK Sneakers For Men   \n",
       "10           Jack Diamond  Platform Chunky Trainer/Sneakers -BOOM Mid Top...   \n",
       "11        Jimnastic shoes                                   Sneakers For Men   \n",
       "12                 BRUTON  Comfy Mid-Top Casual Chunky Streetwear Fashion...   \n",
       "13             HIGHLANDER                             X_Plr Sneakers For Men   \n",
       "14           SneakerVilla          Men White Solid Sneakers Sneakers For Men   \n",
       "15         FLYING MACHINE                                   Sneakers For Men   \n",
       "16            bacca bucci                              Mesh Sneakers For Men   \n",
       "17                Crazyly                                   Sneakers For Men   \n",
       "18               RED TAPE                                   Sneakers For Men   \n",
       "19                  AMICO                                   Sneakers For Men   \n",
       "20            bacca bucci                JFWTED CANVAS VULC Sneakers For Men   \n",
       "21       ADIDAS ORIGINALS  casual sneakers and shoes For Mens Multicolor ...   \n",
       "22               LastStep                       JAX SNEAKER Sneakers For Men   \n",
       "\n",
       "    Prices Discounts  \n",
       "0   ₹1,074   76% off  \n",
       "1   ₹2,061   57% off  \n",
       "2   ₹2,649   41% off  \n",
       "3     ₹598   60% off  \n",
       "4     ₹429   80% off  \n",
       "5     ₹399   60% off  \n",
       "6   ₹2,249   46% off  \n",
       "7     ₹580   41% off  \n",
       "8     ₹589   15% off  \n",
       "9   ₹1,229   69% off  \n",
       "10    ₹659   34% off  \n",
       "11    ₹347   76% off  \n",
       "12    ₹271   86% off  \n",
       "13    ₹945   52% off  \n",
       "14    ₹529   55% off  \n",
       "15  ₹1,249   50% off  \n",
       "16  ₹1,111   62% off  \n",
       "17    ₹499   70% off  \n",
       "18  ₹1,048   75% off  \n",
       "19    ₹474   52% off  \n",
       "20  ₹1,469   58% off  \n",
       "21  ₹2,456   67% off  \n",
       "22    ₹449   70% off  "
      ]
     },
     "execution_count": 467,
     "metadata": {},
     "output_type": "execute_result"
    }
   ],
   "source": [
    "SneakersDF4=pd.DataFrame({\"Brand Name\" :Brand,\"Discription\":Discription,\"Prices\":price,\"Discounts\":Discount})\n",
    "\n",
    "SneakersDF4"
   ]
  },
  {
   "cell_type": "code",
   "execution_count": 469,
   "id": "5427b23e",
   "metadata": {},
   "outputs": [
    {
     "data": {
      "text/html": [
       "<div>\n",
       "<style scoped>\n",
       "    .dataframe tbody tr th:only-of-type {\n",
       "        vertical-align: middle;\n",
       "    }\n",
       "\n",
       "    .dataframe tbody tr th {\n",
       "        vertical-align: top;\n",
       "    }\n",
       "\n",
       "    .dataframe thead th {\n",
       "        text-align: right;\n",
       "    }\n",
       "</style>\n",
       "<table border=\"1\" class=\"dataframe\">\n",
       "  <thead>\n",
       "    <tr style=\"text-align: right;\">\n",
       "      <th></th>\n",
       "      <th>Brand Name</th>\n",
       "      <th>Discription</th>\n",
       "      <th>Prices</th>\n",
       "      <th>Discounts</th>\n",
       "    </tr>\n",
       "  </thead>\n",
       "  <tbody>\n",
       "    <tr>\n",
       "      <th>0</th>\n",
       "      <td>World Wear Footwear</td>\n",
       "      <td>Men 5014 Latest Collection Stylish Casual Spor...</td>\n",
       "      <td>₹209</td>\n",
       "      <td>58% off</td>\n",
       "    </tr>\n",
       "    <tr>\n",
       "      <th>1</th>\n",
       "      <td>aadi</td>\n",
       "      <td>Sneakers For Men</td>\n",
       "      <td>₹269</td>\n",
       "      <td>73% off</td>\n",
       "    </tr>\n",
       "    <tr>\n",
       "      <th>2</th>\n",
       "      <td>Stefano Rads</td>\n",
       "      <td>Men White Printed Sneakers Sneakers For Men</td>\n",
       "      <td>₹190</td>\n",
       "      <td>72% off</td>\n",
       "    </tr>\n",
       "    <tr>\n",
       "      <th>3</th>\n",
       "      <td>HRX by Hrithik Roshan</td>\n",
       "      <td>Shark-41 Sneakers For Men</td>\n",
       "      <td>₹2,049</td>\n",
       "      <td>46% off</td>\n",
       "    </tr>\n",
       "    <tr>\n",
       "      <th>4</th>\n",
       "      <td>Kraasa</td>\n",
       "      <td>Combo Pack Of 2 Latest Stylish Casual Shoes fo...</td>\n",
       "      <td>₹394</td>\n",
       "      <td>60% off</td>\n",
       "    </tr>\n",
       "    <tr>\n",
       "      <th>...</th>\n",
       "      <td>...</td>\n",
       "      <td>...</td>\n",
       "      <td>...</td>\n",
       "      <td>...</td>\n",
       "    </tr>\n",
       "    <tr>\n",
       "      <th>18</th>\n",
       "      <td>RED TAPE</td>\n",
       "      <td>Sneakers For Men</td>\n",
       "      <td>₹1,048</td>\n",
       "      <td>75% off</td>\n",
       "    </tr>\n",
       "    <tr>\n",
       "      <th>19</th>\n",
       "      <td>AMICO</td>\n",
       "      <td>Sneakers For Men</td>\n",
       "      <td>₹474</td>\n",
       "      <td>52% off</td>\n",
       "    </tr>\n",
       "    <tr>\n",
       "      <th>20</th>\n",
       "      <td>bacca bucci</td>\n",
       "      <td>JFWTED CANVAS VULC Sneakers For Men</td>\n",
       "      <td>₹1,469</td>\n",
       "      <td>58% off</td>\n",
       "    </tr>\n",
       "    <tr>\n",
       "      <th>21</th>\n",
       "      <td>ADIDAS ORIGINALS</td>\n",
       "      <td>casual sneakers and shoes For Mens Multicolor ...</td>\n",
       "      <td>₹2,456</td>\n",
       "      <td>67% off</td>\n",
       "    </tr>\n",
       "    <tr>\n",
       "      <th>22</th>\n",
       "      <td>LastStep</td>\n",
       "      <td>JAX SNEAKER Sneakers For Men</td>\n",
       "      <td>₹449</td>\n",
       "      <td>70% off</td>\n",
       "    </tr>\n",
       "  </tbody>\n",
       "</table>\n",
       "<p>108 rows × 4 columns</p>\n",
       "</div>"
      ],
      "text/plain": [
       "               Brand Name                                        Discription  \\\n",
       "0     World Wear Footwear  Men 5014 Latest Collection Stylish Casual Spor...   \n",
       "1                    aadi                                   Sneakers For Men   \n",
       "2            Stefano Rads        Men White Printed Sneakers Sneakers For Men   \n",
       "3   HRX by Hrithik Roshan                          Shark-41 Sneakers For Men   \n",
       "4                  Kraasa  Combo Pack Of 2 Latest Stylish Casual Shoes fo...   \n",
       "..                    ...                                                ...   \n",
       "18               RED TAPE                                   Sneakers For Men   \n",
       "19                  AMICO                                   Sneakers For Men   \n",
       "20            bacca bucci                JFWTED CANVAS VULC Sneakers For Men   \n",
       "21       ADIDAS ORIGINALS  casual sneakers and shoes For Mens Multicolor ...   \n",
       "22               LastStep                       JAX SNEAKER Sneakers For Men   \n",
       "\n",
       "    Prices Discounts  \n",
       "0     ₹209   58% off  \n",
       "1     ₹269   73% off  \n",
       "2     ₹190   72% off  \n",
       "3   ₹2,049   46% off  \n",
       "4     ₹394   60% off  \n",
       "..     ...       ...  \n",
       "18  ₹1,048   75% off  \n",
       "19    ₹474   52% off  \n",
       "20  ₹1,469   58% off  \n",
       "21  ₹2,456   67% off  \n",
       "22    ₹449   70% off  \n",
       "\n",
       "[108 rows x 4 columns]"
      ]
     },
     "execution_count": 469,
     "metadata": {},
     "output_type": "execute_result"
    }
   ],
   "source": [
    "SneakersFineDF=pd.concat([SneakersDF1,SneakersDF2,SneakersDF3,SneakersDF4])\n",
    "\n",
    "SneakersFineDF"
   ]
  },
  {
   "cell_type": "markdown",
   "id": "56f0cee0",
   "metadata": {},
   "source": [
    "# Q7: Go to the link - https://www.myntra.com/shoes Set Price filter to “Rs. 7149 to Rs. 14099 ” , Color filter to “Black”, as shown inthe below image"
   ]
  },
  {
   "cell_type": "code",
   "execution_count": 10,
   "id": "83c68fed",
   "metadata": {},
   "outputs": [],
   "source": [
    "driver = webdriver.Chrome('chromedriver.exe')"
   ]
  },
  {
   "cell_type": "code",
   "execution_count": 11,
   "id": "dc68123e",
   "metadata": {},
   "outputs": [],
   "source": [
    "url = 'https://www.myntra.com/shoes/'\n",
    "driver.get(url)"
   ]
  },
  {
   "cell_type": "code",
   "execution_count": 12,
   "id": "cc220b5e",
   "metadata": {},
   "outputs": [
    {
     "data": {
      "text/plain": [
       "<selenium.webdriver.remote.webelement.WebElement (session=\"5409e5bc2799772c0f86cbacb8afba7c\", element=\"befaaaaf-6d2e-4338-aff0-369ba6224645\")>"
      ]
     },
     "execution_count": 12,
     "metadata": {},
     "output_type": "execute_result"
    }
   ],
   "source": [
    "searchBlack=driver.find_element_by_xpath(\"/html/body/div[2]/div/div[1]/main/div[3]/div[1]/section/div/div[6]/ul/li[1]/label/div\")\n",
    "searchBlack"
   ]
  },
  {
   "cell_type": "code",
   "execution_count": null,
   "id": "908786ff",
   "metadata": {},
   "outputs": [],
   "source": []
  },
  {
   "cell_type": "code",
   "execution_count": 13,
   "id": "09257283",
   "metadata": {},
   "outputs": [],
   "source": [
    "searchBlack.click()"
   ]
  },
  {
   "cell_type": "code",
   "execution_count": 14,
   "id": "6300cce4",
   "metadata": {},
   "outputs": [
    {
     "data": {
      "text/plain": [
       "<selenium.webdriver.remote.webelement.WebElement (session=\"5409e5bc2799772c0f86cbacb8afba7c\", element=\"d6bd9d6d-fcc1-45e7-aac0-c03164331e53\")>"
      ]
     },
     "execution_count": 14,
     "metadata": {},
     "output_type": "execute_result"
    }
   ],
   "source": [
    "searchRange=driver.find_element_by_xpath(\"/html/body/div[2]/div/div[1]/main/div[3]/div[1]/section/div/div[5]/ul/li[2]/label/div\")\n",
    "searchRange"
   ]
  },
  {
   "cell_type": "code",
   "execution_count": 16,
   "id": "a584f24f",
   "metadata": {},
   "outputs": [],
   "source": [
    "searchRange.click()"
   ]
  },
  {
   "cell_type": "code",
   "execution_count": 17,
   "id": "618639d9",
   "metadata": {},
   "outputs": [
    {
     "data": {
      "text/plain": [
       "50"
      ]
     },
     "execution_count": 17,
     "metadata": {},
     "output_type": "execute_result"
    }
   ],
   "source": [
    "ProductBrand = driver.find_elements_by_xpath('//h3[@class=\"product-brand\"]')\n",
    "len(ProductBrand)"
   ]
  },
  {
   "cell_type": "code",
   "execution_count": 19,
   "id": "e504e600",
   "metadata": {},
   "outputs": [
    {
     "data": {
      "text/plain": [
       "['ALDO',\n",
       " 'Nike',\n",
       " 'Puma',\n",
       " 'ALDO',\n",
       " 'ALDO',\n",
       " 'Puma',\n",
       " 'Puma',\n",
       " 'Nike',\n",
       " 'Hush Puppies',\n",
       " 'Hush Puppies',\n",
       " 'Hush Puppies',\n",
       " 'Puma',\n",
       " 'Puma',\n",
       " 'Hush Puppies',\n",
       " 'ASICS',\n",
       " 'Clarks',\n",
       " 'Puma',\n",
       " 'Tommy Hilfiger',\n",
       " 'Columbia',\n",
       " 'Hush Puppies',\n",
       " 'Clarks',\n",
       " 'J.FONTINI',\n",
       " 'RARE RABBIT',\n",
       " 'DAVINCHI',\n",
       " 'ALDO',\n",
       " 'TRIBAN By Decathlon',\n",
       " 'Columbia',\n",
       " 'Saint G',\n",
       " 'Clarks',\n",
       " 'Saint G',\n",
       " 'Geox',\n",
       " 'Geox',\n",
       " 'J.FONTINI',\n",
       " 'Geox',\n",
       " 'Hush Puppies',\n",
       " 'ALDO',\n",
       " 'DAVINCHI',\n",
       " 'DAVINCHI',\n",
       " 'Saint G',\n",
       " 'Geox',\n",
       " 'Saint G',\n",
       " 'Saint G',\n",
       " 'Cole Haan',\n",
       " 'Geox',\n",
       " 'Sole To Soul',\n",
       " 'Sole To Soul',\n",
       " 'ROSSO BRUNELLO',\n",
       " 'Sole To Soul',\n",
       " 'FILA',\n",
       " 'Sole To Soul']"
      ]
     },
     "execution_count": 19,
     "metadata": {},
     "output_type": "execute_result"
    }
   ],
   "source": [
    "Brand=[]\n",
    "for i in ProductBrand:\n",
    "     Brand.append(i.text)\n",
    "        \n",
    "Brand"
   ]
  },
  {
   "cell_type": "code",
   "execution_count": 25,
   "id": "7f55a743",
   "metadata": {},
   "outputs": [
    {
     "data": {
      "text/plain": [
       "50"
      ]
     },
     "execution_count": 25,
     "metadata": {},
     "output_type": "execute_result"
    }
   ],
   "source": [
    "ProductPrice = driver.find_elements_by_xpath('//div[@class=\"product-price\"]')\n",
    "len(ProductPrice)\n"
   ]
  },
  {
   "cell_type": "code",
   "execution_count": 26,
   "id": "6977e9ff",
   "metadata": {},
   "outputs": [
    {
     "data": {
      "text/plain": [
       "['Rs. 9099Rs. 12999(30% OFF)',\n",
       " 'Rs. 7995',\n",
       " 'Rs. 9999',\n",
       " 'Rs. 12999',\n",
       " 'Rs. 13999',\n",
       " 'Rs. 12999',\n",
       " 'Rs. 12999',\n",
       " 'Rs. 10995',\n",
       " 'Rs. 7649Rs. 8999(15% OFF)',\n",
       " 'Rs. 8499Rs. 9999(15% OFF)',\n",
       " 'Rs. 8499Rs. 9999(15% OFF)',\n",
       " 'Rs. 9099Rs. 12999(30% OFF)',\n",
       " 'Rs. 7999',\n",
       " 'Rs. 8499Rs. 9999(15% OFF)',\n",
       " 'Rs. 7999',\n",
       " 'Rs. 9999',\n",
       " 'Rs. 7149Rs. 10999(35% OFF)',\n",
       " 'Rs. 8599',\n",
       " 'Rs. 12999',\n",
       " 'Rs. 8499Rs. 9999(15% OFF)',\n",
       " 'Rs. 7999',\n",
       " 'Rs. 8990',\n",
       " 'Rs. 8099Rs. 9999(19% OFF)',\n",
       " 'Rs. 8990',\n",
       " 'Rs. 7999',\n",
       " 'Rs. 8029Rs. 10999(27% OFF)',\n",
       " 'Rs. 7999',\n",
       " 'Rs. 7480Rs. 8500(12% OFF)',\n",
       " 'Rs. 7499',\n",
       " 'Rs. 10500Rs. 10900(Rs. 400 OFF)',\n",
       " 'Rs. 9999',\n",
       " 'Rs. 9990',\n",
       " 'Rs. 8490',\n",
       " 'Rs. 9990',\n",
       " 'Rs. 7999',\n",
       " 'Rs. 8399Rs. 11999(30% OFF)',\n",
       " 'Rs. 8990',\n",
       " 'Rs. 8990',\n",
       " 'Rs. 9265Rs. 10900(15% OFF)',\n",
       " 'Rs. 8999',\n",
       " 'Rs. 8925Rs. 10500(15% OFF)',\n",
       " 'Rs. 8415Rs. 9900(15% OFF)',\n",
       " 'Rs. 10999',\n",
       " 'Rs. 7999',\n",
       " 'Rs. 8900',\n",
       " 'Rs. 7900',\n",
       " 'Rs. 8499',\n",
       " 'Rs. 9500',\n",
       " 'Rs. 8499',\n",
       " 'Rs. 8900']"
      ]
     },
     "execution_count": 26,
     "metadata": {},
     "output_type": "execute_result"
    }
   ],
   "source": [
    "Price=[]\n",
    "for i in ProductPrice:\n",
    "     Price.append(i.text)\n",
    "        \n",
    "Price"
   ]
  },
  {
   "cell_type": "code",
   "execution_count": 28,
   "id": "1506ab87",
   "metadata": {},
   "outputs": [
    {
     "data": {
      "text/plain": [
       "50"
      ]
     },
     "execution_count": 28,
     "metadata": {},
     "output_type": "execute_result"
    }
   ],
   "source": [
    "ProductDisc = driver.find_elements_by_xpath('//h4[@class=\"product-product\"]')\n",
    "len(ProductDisc)\n"
   ]
  },
  {
   "cell_type": "code",
   "execution_count": 30,
   "id": "c6532457",
   "metadata": {},
   "outputs": [
    {
     "data": {
      "text/plain": [
       "['Men Printed Sneakers',\n",
       " 'Men Winflo 7 Running Shoes',\n",
       " 'Electrify Nitro Running Shoes',\n",
       " 'Men Leather Driving Shoes',\n",
       " 'Men Woven Design Sneakers',\n",
       " 'Men Jamming 2.0 Running Shoes',\n",
       " 'Eternity Nitro Running Shoes',\n",
       " 'Men Air Max Dawn Sneakers',\n",
       " 'Men Solid Leather Formal Slip-Ons',\n",
       " 'Men Solid Leather Formal Slip-Ons',\n",
       " 'Men Formal Derbys',\n",
       " 'Women Eternity NITRO Shoes',\n",
       " 'Men Training or Gym Shoes',\n",
       " 'Men Solid Leather Formal Derbys',\n",
       " 'Women Running Shoes',\n",
       " 'Men Solid Formal Leather Derbys',\n",
       " 'Women Velocity NITRO Runners',\n",
       " 'Men Cleated Leather Sneakers',\n",
       " 'Men FACET OUTDRY Trekking Shoe',\n",
       " 'Men Solid Formal Slip-Ons',\n",
       " 'Men Solid Leather Formal Loafers',\n",
       " 'Men Solid Loafers',\n",
       " 'Men Leather Flat Boots',\n",
       " 'Men Textured Formal Leather Loafers',\n",
       " 'Wedge Sandals',\n",
       " 'Unisex Training or Gym Shoes',\n",
       " 'Women REDMOND V2 TrekkingShoe',\n",
       " 'Women Leather Block Heels',\n",
       " 'Men Leather Derbys',\n",
       " 'Men Mid-Top Chelsea Boots',\n",
       " 'Men Leather Loafers',\n",
       " 'Men Striped Leather Sneakers',\n",
       " 'Men Black Leather Loafers',\n",
       " 'Men Formal Derbys',\n",
       " 'Men Perforations Leather Slip-On Sneakers',\n",
       " 'Leather Slim Heels',\n",
       " 'Men Formal Leather Slip-Ons',\n",
       " 'Ustraa black',\n",
       " 'Leather Block Heeled Boots',\n",
       " 'Women Leather Pumps',\n",
       " 'Suede Party High-Top Block Heeled Boots',\n",
       " 'Striped Suede Flatform Heeled Boots',\n",
       " 'Women Leather Sneakers',\n",
       " 'Women Solid Leather Pumps',\n",
       " 'Suede High-Top Block Heeled Boots',\n",
       " 'High-Top Block Heeled Boots',\n",
       " 'Printed PU Kitten Sandals',\n",
       " 'Suede High-Top Block Heeled Boots',\n",
       " 'Women Leather Sneakers',\n",
       " 'High-Top Comfort Heeled Boots']"
      ]
     },
     "execution_count": 30,
     "metadata": {},
     "output_type": "execute_result"
    }
   ],
   "source": [
    "Discription=[]\n",
    "for i in ProductDisc:\n",
    "    Discription.append(i.text)\n",
    "    \n",
    "Discription"
   ]
  },
  {
   "cell_type": "code",
   "execution_count": 31,
   "id": "104a070d",
   "metadata": {},
   "outputs": [
    {
     "data": {
      "text/html": [
       "<div>\n",
       "<style scoped>\n",
       "    .dataframe tbody tr th:only-of-type {\n",
       "        vertical-align: middle;\n",
       "    }\n",
       "\n",
       "    .dataframe tbody tr th {\n",
       "        vertical-align: top;\n",
       "    }\n",
       "\n",
       "    .dataframe thead th {\n",
       "        text-align: right;\n",
       "    }\n",
       "</style>\n",
       "<table border=\"1\" class=\"dataframe\">\n",
       "  <thead>\n",
       "    <tr style=\"text-align: right;\">\n",
       "      <th></th>\n",
       "      <th>Brand Name</th>\n",
       "      <th>Discription</th>\n",
       "      <th>Prices</th>\n",
       "    </tr>\n",
       "  </thead>\n",
       "  <tbody>\n",
       "    <tr>\n",
       "      <th>0</th>\n",
       "      <td>ALDO</td>\n",
       "      <td>Men Printed Sneakers</td>\n",
       "      <td>Rs. 9099Rs. 12999(30% OFF)</td>\n",
       "    </tr>\n",
       "    <tr>\n",
       "      <th>1</th>\n",
       "      <td>Nike</td>\n",
       "      <td>Men Winflo 7 Running Shoes</td>\n",
       "      <td>Rs. 7995</td>\n",
       "    </tr>\n",
       "    <tr>\n",
       "      <th>2</th>\n",
       "      <td>Puma</td>\n",
       "      <td>Electrify Nitro Running Shoes</td>\n",
       "      <td>Rs. 9999</td>\n",
       "    </tr>\n",
       "    <tr>\n",
       "      <th>3</th>\n",
       "      <td>ALDO</td>\n",
       "      <td>Men Leather Driving Shoes</td>\n",
       "      <td>Rs. 12999</td>\n",
       "    </tr>\n",
       "    <tr>\n",
       "      <th>4</th>\n",
       "      <td>ALDO</td>\n",
       "      <td>Men Woven Design Sneakers</td>\n",
       "      <td>Rs. 13999</td>\n",
       "    </tr>\n",
       "    <tr>\n",
       "      <th>5</th>\n",
       "      <td>Puma</td>\n",
       "      <td>Men Jamming 2.0 Running Shoes</td>\n",
       "      <td>Rs. 12999</td>\n",
       "    </tr>\n",
       "    <tr>\n",
       "      <th>6</th>\n",
       "      <td>Puma</td>\n",
       "      <td>Eternity Nitro Running Shoes</td>\n",
       "      <td>Rs. 12999</td>\n",
       "    </tr>\n",
       "    <tr>\n",
       "      <th>7</th>\n",
       "      <td>Nike</td>\n",
       "      <td>Men Air Max Dawn Sneakers</td>\n",
       "      <td>Rs. 10995</td>\n",
       "    </tr>\n",
       "    <tr>\n",
       "      <th>8</th>\n",
       "      <td>Hush Puppies</td>\n",
       "      <td>Men Solid Leather Formal Slip-Ons</td>\n",
       "      <td>Rs. 7649Rs. 8999(15% OFF)</td>\n",
       "    </tr>\n",
       "    <tr>\n",
       "      <th>9</th>\n",
       "      <td>Hush Puppies</td>\n",
       "      <td>Men Solid Leather Formal Slip-Ons</td>\n",
       "      <td>Rs. 8499Rs. 9999(15% OFF)</td>\n",
       "    </tr>\n",
       "    <tr>\n",
       "      <th>10</th>\n",
       "      <td>Hush Puppies</td>\n",
       "      <td>Men Formal Derbys</td>\n",
       "      <td>Rs. 8499Rs. 9999(15% OFF)</td>\n",
       "    </tr>\n",
       "    <tr>\n",
       "      <th>11</th>\n",
       "      <td>Puma</td>\n",
       "      <td>Women Eternity NITRO Shoes</td>\n",
       "      <td>Rs. 9099Rs. 12999(30% OFF)</td>\n",
       "    </tr>\n",
       "    <tr>\n",
       "      <th>12</th>\n",
       "      <td>Puma</td>\n",
       "      <td>Men Training or Gym Shoes</td>\n",
       "      <td>Rs. 7999</td>\n",
       "    </tr>\n",
       "    <tr>\n",
       "      <th>13</th>\n",
       "      <td>Hush Puppies</td>\n",
       "      <td>Men Solid Leather Formal Derbys</td>\n",
       "      <td>Rs. 8499Rs. 9999(15% OFF)</td>\n",
       "    </tr>\n",
       "    <tr>\n",
       "      <th>14</th>\n",
       "      <td>ASICS</td>\n",
       "      <td>Women Running Shoes</td>\n",
       "      <td>Rs. 7999</td>\n",
       "    </tr>\n",
       "    <tr>\n",
       "      <th>15</th>\n",
       "      <td>Clarks</td>\n",
       "      <td>Men Solid Formal Leather Derbys</td>\n",
       "      <td>Rs. 9999</td>\n",
       "    </tr>\n",
       "    <tr>\n",
       "      <th>16</th>\n",
       "      <td>Puma</td>\n",
       "      <td>Women Velocity NITRO Runners</td>\n",
       "      <td>Rs. 7149Rs. 10999(35% OFF)</td>\n",
       "    </tr>\n",
       "    <tr>\n",
       "      <th>17</th>\n",
       "      <td>Tommy Hilfiger</td>\n",
       "      <td>Men Cleated Leather Sneakers</td>\n",
       "      <td>Rs. 8599</td>\n",
       "    </tr>\n",
       "    <tr>\n",
       "      <th>18</th>\n",
       "      <td>Columbia</td>\n",
       "      <td>Men FACET OUTDRY Trekking Shoe</td>\n",
       "      <td>Rs. 12999</td>\n",
       "    </tr>\n",
       "    <tr>\n",
       "      <th>19</th>\n",
       "      <td>Hush Puppies</td>\n",
       "      <td>Men Solid Formal Slip-Ons</td>\n",
       "      <td>Rs. 8499Rs. 9999(15% OFF)</td>\n",
       "    </tr>\n",
       "    <tr>\n",
       "      <th>20</th>\n",
       "      <td>Clarks</td>\n",
       "      <td>Men Solid Leather Formal Loafers</td>\n",
       "      <td>Rs. 7999</td>\n",
       "    </tr>\n",
       "    <tr>\n",
       "      <th>21</th>\n",
       "      <td>J.FONTINI</td>\n",
       "      <td>Men Solid Loafers</td>\n",
       "      <td>Rs. 8990</td>\n",
       "    </tr>\n",
       "    <tr>\n",
       "      <th>22</th>\n",
       "      <td>RARE RABBIT</td>\n",
       "      <td>Men Leather Flat Boots</td>\n",
       "      <td>Rs. 8099Rs. 9999(19% OFF)</td>\n",
       "    </tr>\n",
       "    <tr>\n",
       "      <th>23</th>\n",
       "      <td>DAVINCHI</td>\n",
       "      <td>Men Textured Formal Leather Loafers</td>\n",
       "      <td>Rs. 8990</td>\n",
       "    </tr>\n",
       "    <tr>\n",
       "      <th>24</th>\n",
       "      <td>ALDO</td>\n",
       "      <td>Wedge Sandals</td>\n",
       "      <td>Rs. 7999</td>\n",
       "    </tr>\n",
       "    <tr>\n",
       "      <th>25</th>\n",
       "      <td>TRIBAN By Decathlon</td>\n",
       "      <td>Unisex Training or Gym Shoes</td>\n",
       "      <td>Rs. 8029Rs. 10999(27% OFF)</td>\n",
       "    </tr>\n",
       "    <tr>\n",
       "      <th>26</th>\n",
       "      <td>Columbia</td>\n",
       "      <td>Women REDMOND V2 TrekkingShoe</td>\n",
       "      <td>Rs. 7999</td>\n",
       "    </tr>\n",
       "    <tr>\n",
       "      <th>27</th>\n",
       "      <td>Saint G</td>\n",
       "      <td>Women Leather Block Heels</td>\n",
       "      <td>Rs. 7480Rs. 8500(12% OFF)</td>\n",
       "    </tr>\n",
       "    <tr>\n",
       "      <th>28</th>\n",
       "      <td>Clarks</td>\n",
       "      <td>Men Leather Derbys</td>\n",
       "      <td>Rs. 7499</td>\n",
       "    </tr>\n",
       "    <tr>\n",
       "      <th>29</th>\n",
       "      <td>Saint G</td>\n",
       "      <td>Men Mid-Top Chelsea Boots</td>\n",
       "      <td>Rs. 10500Rs. 10900(Rs. 400 OFF)</td>\n",
       "    </tr>\n",
       "    <tr>\n",
       "      <th>30</th>\n",
       "      <td>Geox</td>\n",
       "      <td>Men Leather Loafers</td>\n",
       "      <td>Rs. 9999</td>\n",
       "    </tr>\n",
       "    <tr>\n",
       "      <th>31</th>\n",
       "      <td>Geox</td>\n",
       "      <td>Men Striped Leather Sneakers</td>\n",
       "      <td>Rs. 9990</td>\n",
       "    </tr>\n",
       "    <tr>\n",
       "      <th>32</th>\n",
       "      <td>J.FONTINI</td>\n",
       "      <td>Men Black Leather Loafers</td>\n",
       "      <td>Rs. 8490</td>\n",
       "    </tr>\n",
       "    <tr>\n",
       "      <th>33</th>\n",
       "      <td>Geox</td>\n",
       "      <td>Men Formal Derbys</td>\n",
       "      <td>Rs. 9990</td>\n",
       "    </tr>\n",
       "    <tr>\n",
       "      <th>34</th>\n",
       "      <td>Hush Puppies</td>\n",
       "      <td>Men Perforations Leather Slip-On Sneakers</td>\n",
       "      <td>Rs. 7999</td>\n",
       "    </tr>\n",
       "    <tr>\n",
       "      <th>35</th>\n",
       "      <td>ALDO</td>\n",
       "      <td>Leather Slim Heels</td>\n",
       "      <td>Rs. 8399Rs. 11999(30% OFF)</td>\n",
       "    </tr>\n",
       "    <tr>\n",
       "      <th>36</th>\n",
       "      <td>DAVINCHI</td>\n",
       "      <td>Men Formal Leather Slip-Ons</td>\n",
       "      <td>Rs. 8990</td>\n",
       "    </tr>\n",
       "    <tr>\n",
       "      <th>37</th>\n",
       "      <td>DAVINCHI</td>\n",
       "      <td>Ustraa black</td>\n",
       "      <td>Rs. 8990</td>\n",
       "    </tr>\n",
       "    <tr>\n",
       "      <th>38</th>\n",
       "      <td>Saint G</td>\n",
       "      <td>Leather Block Heeled Boots</td>\n",
       "      <td>Rs. 9265Rs. 10900(15% OFF)</td>\n",
       "    </tr>\n",
       "    <tr>\n",
       "      <th>39</th>\n",
       "      <td>Geox</td>\n",
       "      <td>Women Leather Pumps</td>\n",
       "      <td>Rs. 8999</td>\n",
       "    </tr>\n",
       "    <tr>\n",
       "      <th>40</th>\n",
       "      <td>Saint G</td>\n",
       "      <td>Suede Party High-Top Block Heeled Boots</td>\n",
       "      <td>Rs. 8925Rs. 10500(15% OFF)</td>\n",
       "    </tr>\n",
       "    <tr>\n",
       "      <th>41</th>\n",
       "      <td>Saint G</td>\n",
       "      <td>Striped Suede Flatform Heeled Boots</td>\n",
       "      <td>Rs. 8415Rs. 9900(15% OFF)</td>\n",
       "    </tr>\n",
       "    <tr>\n",
       "      <th>42</th>\n",
       "      <td>Cole Haan</td>\n",
       "      <td>Women Leather Sneakers</td>\n",
       "      <td>Rs. 10999</td>\n",
       "    </tr>\n",
       "    <tr>\n",
       "      <th>43</th>\n",
       "      <td>Geox</td>\n",
       "      <td>Women Solid Leather Pumps</td>\n",
       "      <td>Rs. 7999</td>\n",
       "    </tr>\n",
       "    <tr>\n",
       "      <th>44</th>\n",
       "      <td>Sole To Soul</td>\n",
       "      <td>Suede High-Top Block Heeled Boots</td>\n",
       "      <td>Rs. 8900</td>\n",
       "    </tr>\n",
       "    <tr>\n",
       "      <th>45</th>\n",
       "      <td>Sole To Soul</td>\n",
       "      <td>High-Top Block Heeled Boots</td>\n",
       "      <td>Rs. 7900</td>\n",
       "    </tr>\n",
       "    <tr>\n",
       "      <th>46</th>\n",
       "      <td>ROSSO BRUNELLO</td>\n",
       "      <td>Printed PU Kitten Sandals</td>\n",
       "      <td>Rs. 8499</td>\n",
       "    </tr>\n",
       "    <tr>\n",
       "      <th>47</th>\n",
       "      <td>Sole To Soul</td>\n",
       "      <td>Suede High-Top Block Heeled Boots</td>\n",
       "      <td>Rs. 9500</td>\n",
       "    </tr>\n",
       "    <tr>\n",
       "      <th>48</th>\n",
       "      <td>FILA</td>\n",
       "      <td>Women Leather Sneakers</td>\n",
       "      <td>Rs. 8499</td>\n",
       "    </tr>\n",
       "    <tr>\n",
       "      <th>49</th>\n",
       "      <td>Sole To Soul</td>\n",
       "      <td>High-Top Comfort Heeled Boots</td>\n",
       "      <td>Rs. 8900</td>\n",
       "    </tr>\n",
       "  </tbody>\n",
       "</table>\n",
       "</div>"
      ],
      "text/plain": [
       "             Brand Name                                Discription  \\\n",
       "0                  ALDO                       Men Printed Sneakers   \n",
       "1                  Nike                 Men Winflo 7 Running Shoes   \n",
       "2                  Puma              Electrify Nitro Running Shoes   \n",
       "3                  ALDO                  Men Leather Driving Shoes   \n",
       "4                  ALDO                  Men Woven Design Sneakers   \n",
       "5                  Puma              Men Jamming 2.0 Running Shoes   \n",
       "6                  Puma               Eternity Nitro Running Shoes   \n",
       "7                  Nike                  Men Air Max Dawn Sneakers   \n",
       "8          Hush Puppies          Men Solid Leather Formal Slip-Ons   \n",
       "9          Hush Puppies          Men Solid Leather Formal Slip-Ons   \n",
       "10         Hush Puppies                          Men Formal Derbys   \n",
       "11                 Puma                 Women Eternity NITRO Shoes   \n",
       "12                 Puma                  Men Training or Gym Shoes   \n",
       "13         Hush Puppies            Men Solid Leather Formal Derbys   \n",
       "14                ASICS                        Women Running Shoes   \n",
       "15               Clarks            Men Solid Formal Leather Derbys   \n",
       "16                 Puma               Women Velocity NITRO Runners   \n",
       "17       Tommy Hilfiger               Men Cleated Leather Sneakers   \n",
       "18             Columbia             Men FACET OUTDRY Trekking Shoe   \n",
       "19         Hush Puppies                  Men Solid Formal Slip-Ons   \n",
       "20               Clarks           Men Solid Leather Formal Loafers   \n",
       "21            J.FONTINI                          Men Solid Loafers   \n",
       "22          RARE RABBIT                     Men Leather Flat Boots   \n",
       "23             DAVINCHI        Men Textured Formal Leather Loafers   \n",
       "24                 ALDO                              Wedge Sandals   \n",
       "25  TRIBAN By Decathlon               Unisex Training or Gym Shoes   \n",
       "26             Columbia              Women REDMOND V2 TrekkingShoe   \n",
       "27              Saint G                  Women Leather Block Heels   \n",
       "28               Clarks                         Men Leather Derbys   \n",
       "29              Saint G                  Men Mid-Top Chelsea Boots   \n",
       "30                 Geox                        Men Leather Loafers   \n",
       "31                 Geox               Men Striped Leather Sneakers   \n",
       "32            J.FONTINI                  Men Black Leather Loafers   \n",
       "33                 Geox                          Men Formal Derbys   \n",
       "34         Hush Puppies  Men Perforations Leather Slip-On Sneakers   \n",
       "35                 ALDO                         Leather Slim Heels   \n",
       "36             DAVINCHI                Men Formal Leather Slip-Ons   \n",
       "37             DAVINCHI                               Ustraa black   \n",
       "38              Saint G                 Leather Block Heeled Boots   \n",
       "39                 Geox                        Women Leather Pumps   \n",
       "40              Saint G    Suede Party High-Top Block Heeled Boots   \n",
       "41              Saint G        Striped Suede Flatform Heeled Boots   \n",
       "42            Cole Haan                     Women Leather Sneakers   \n",
       "43                 Geox                  Women Solid Leather Pumps   \n",
       "44         Sole To Soul          Suede High-Top Block Heeled Boots   \n",
       "45         Sole To Soul                High-Top Block Heeled Boots   \n",
       "46       ROSSO BRUNELLO                  Printed PU Kitten Sandals   \n",
       "47         Sole To Soul          Suede High-Top Block Heeled Boots   \n",
       "48                 FILA                     Women Leather Sneakers   \n",
       "49         Sole To Soul              High-Top Comfort Heeled Boots   \n",
       "\n",
       "                             Prices  \n",
       "0        Rs. 9099Rs. 12999(30% OFF)  \n",
       "1                          Rs. 7995  \n",
       "2                          Rs. 9999  \n",
       "3                         Rs. 12999  \n",
       "4                         Rs. 13999  \n",
       "5                         Rs. 12999  \n",
       "6                         Rs. 12999  \n",
       "7                         Rs. 10995  \n",
       "8         Rs. 7649Rs. 8999(15% OFF)  \n",
       "9         Rs. 8499Rs. 9999(15% OFF)  \n",
       "10        Rs. 8499Rs. 9999(15% OFF)  \n",
       "11       Rs. 9099Rs. 12999(30% OFF)  \n",
       "12                         Rs. 7999  \n",
       "13        Rs. 8499Rs. 9999(15% OFF)  \n",
       "14                         Rs. 7999  \n",
       "15                         Rs. 9999  \n",
       "16       Rs. 7149Rs. 10999(35% OFF)  \n",
       "17                         Rs. 8599  \n",
       "18                        Rs. 12999  \n",
       "19        Rs. 8499Rs. 9999(15% OFF)  \n",
       "20                         Rs. 7999  \n",
       "21                         Rs. 8990  \n",
       "22        Rs. 8099Rs. 9999(19% OFF)  \n",
       "23                         Rs. 8990  \n",
       "24                         Rs. 7999  \n",
       "25       Rs. 8029Rs. 10999(27% OFF)  \n",
       "26                         Rs. 7999  \n",
       "27        Rs. 7480Rs. 8500(12% OFF)  \n",
       "28                         Rs. 7499  \n",
       "29  Rs. 10500Rs. 10900(Rs. 400 OFF)  \n",
       "30                         Rs. 9999  \n",
       "31                         Rs. 9990  \n",
       "32                         Rs. 8490  \n",
       "33                         Rs. 9990  \n",
       "34                         Rs. 7999  \n",
       "35       Rs. 8399Rs. 11999(30% OFF)  \n",
       "36                         Rs. 8990  \n",
       "37                         Rs. 8990  \n",
       "38       Rs. 9265Rs. 10900(15% OFF)  \n",
       "39                         Rs. 8999  \n",
       "40       Rs. 8925Rs. 10500(15% OFF)  \n",
       "41        Rs. 8415Rs. 9900(15% OFF)  \n",
       "42                        Rs. 10999  \n",
       "43                         Rs. 7999  \n",
       "44                         Rs. 8900  \n",
       "45                         Rs. 7900  \n",
       "46                         Rs. 8499  \n",
       "47                         Rs. 9500  \n",
       "48                         Rs. 8499  \n",
       "49                         Rs. 8900  "
      ]
     },
     "execution_count": 31,
     "metadata": {},
     "output_type": "execute_result"
    }
   ],
   "source": [
    "import pandas as pd\n",
    "MyntraShoeDF1=pd.DataFrame({\"Brand Name\" :Brand,\"Discription\":Discription,\"Prices\":Price})\n",
    "\n",
    "MyntraShoeDF1"
   ]
  },
  {
   "cell_type": "code",
   "execution_count": 33,
   "id": "96a9384d",
   "metadata": {},
   "outputs": [
    {
     "data": {
      "text/plain": [
       "<selenium.webdriver.remote.webelement.WebElement (session=\"5409e5bc2799772c0f86cbacb8afba7c\", element=\"00c02037-7344-4802-93f9-0f2d1f1b132a\")>"
      ]
     },
     "execution_count": 33,
     "metadata": {},
     "output_type": "execute_result"
    }
   ],
   "source": [
    "searchNext=driver.find_element_by_xpath(\"/html/body/div[2]/div/div[1]/main/div[3]/div[2]/div/div[2]/section/div[2]/ul/li[12]/a\")\n",
    "searchNext"
   ]
  },
  {
   "cell_type": "code",
   "execution_count": 34,
   "id": "676ba05b",
   "metadata": {},
   "outputs": [],
   "source": [
    "searchNext.click()"
   ]
  },
  {
   "cell_type": "code",
   "execution_count": 35,
   "id": "35dbbd1e",
   "metadata": {},
   "outputs": [
    {
     "data": {
      "text/plain": [
       "50"
      ]
     },
     "execution_count": 35,
     "metadata": {},
     "output_type": "execute_result"
    }
   ],
   "source": [
    "ProductBrand = driver.find_elements_by_xpath('//h3[@class=\"product-brand\"]')\n",
    "len(ProductBrand)"
   ]
  },
  {
   "cell_type": "code",
   "execution_count": 36,
   "id": "fa866bb3",
   "metadata": {},
   "outputs": [
    {
     "data": {
      "text/plain": [
       "['Sole To Soul',\n",
       " 'ROSSO BRUNELLO',\n",
       " 'Clarks',\n",
       " 'Clarks',\n",
       " 'New Balance',\n",
       " 'Columbia',\n",
       " 'Columbia',\n",
       " 'Bugatti',\n",
       " 'Churchill & Company',\n",
       " 'Bugatti',\n",
       " 'Bugatti',\n",
       " 'Geox',\n",
       " 'Cole Haan',\n",
       " 'Cole Haan',\n",
       " 'J.FONTINI',\n",
       " 'J.FONTINI',\n",
       " 'Cobblerz',\n",
       " 'Saint G',\n",
       " 'Xtep',\n",
       " 'Geox',\n",
       " 'Heel & Buckle London',\n",
       " 'Cole Haan',\n",
       " 'Cole Haan',\n",
       " 'Geox',\n",
       " 'Cole Haan',\n",
       " 'Royal Enfield',\n",
       " 'ASICS',\n",
       " 'Saint G',\n",
       " 'J.FONTINI',\n",
       " 'Saint G',\n",
       " 'Saint G',\n",
       " 'Saint G',\n",
       " 'Sole To Soul',\n",
       " 'J.FONTINI',\n",
       " 'Bugatti',\n",
       " 'Pavers England',\n",
       " 'Saint G',\n",
       " 'Saint G',\n",
       " 'Saint G',\n",
       " 'DAVINCHI',\n",
       " 'Saint G',\n",
       " 'Saint G',\n",
       " 'J.FONTINI',\n",
       " 'Saint G',\n",
       " 'J.FONTINI',\n",
       " 'Saint G',\n",
       " 'Saint G',\n",
       " 'DAVINCHI',\n",
       " 'DAVINCHI',\n",
       " 'Saint G']"
      ]
     },
     "execution_count": 36,
     "metadata": {},
     "output_type": "execute_result"
    }
   ],
   "source": [
    "Brand=[]\n",
    "for i in ProductBrand:\n",
    "     Brand.append(i.text)\n",
    "        \n",
    "Brand"
   ]
  },
  {
   "cell_type": "code",
   "execution_count": 37,
   "id": "df463a13",
   "metadata": {},
   "outputs": [
    {
     "data": {
      "text/plain": [
       "50"
      ]
     },
     "execution_count": 37,
     "metadata": {},
     "output_type": "execute_result"
    }
   ],
   "source": [
    "ProductPrice = driver.find_elements_by_xpath('//div[@class=\"product-price\"]')\n",
    "len(ProductPrice)\n"
   ]
  },
  {
   "cell_type": "code",
   "execution_count": 38,
   "id": "6c06f198",
   "metadata": {},
   "outputs": [
    {
     "data": {
      "text/plain": [
       "['Rs. 8900',\n",
       " 'Rs. 7999',\n",
       " 'Rs. 7999',\n",
       " 'Rs. 9999',\n",
       " 'Rs. 7149Rs. 12999(45% OFF)',\n",
       " 'Rs. 9999',\n",
       " 'Rs. 9999',\n",
       " 'Rs. 8999',\n",
       " 'Rs. 7999',\n",
       " 'Rs. 7199Rs. 8999(20% OFF)',\n",
       " 'Rs. 9499',\n",
       " 'Rs. 9499',\n",
       " 'Rs. 12999',\n",
       " 'Rs. 11999',\n",
       " 'Rs. 7990',\n",
       " 'Rs. 8490',\n",
       " 'Rs. 8999Rs. 9999(Rs. 1000 OFF)',\n",
       " 'Rs. 7216Rs. 8200(12% OFF)',\n",
       " 'Rs. 7699',\n",
       " 'Rs. 10990',\n",
       " 'Rs. 7990',\n",
       " 'Rs. 11999',\n",
       " 'Rs. 12999',\n",
       " 'Rs. 8999',\n",
       " 'Rs. 13999',\n",
       " 'Rs. 8500',\n",
       " 'Rs. 9999',\n",
       " 'Rs. 12325Rs. 14500(15% OFF)',\n",
       " 'Rs. 7490',\n",
       " 'Rs. 12325Rs. 14500(15% OFF)',\n",
       " 'Rs. 11815Rs. 13900(15% OFF)',\n",
       " 'Rs. 14025Rs. 16500(15% OFF)',\n",
       " 'Rs. 7690',\n",
       " 'Rs. 7490',\n",
       " 'Rs. 7699Rs. 10999(30% OFF)',\n",
       " 'Rs. 7499',\n",
       " 'Rs. 8415Rs. 9900(15% OFF)',\n",
       " 'Rs. 14025Rs. 16500(15% OFF)',\n",
       " 'Rs. 12665Rs. 14900(15% OFF)',\n",
       " 'Rs. 7990',\n",
       " 'Rs. 8415Rs. 9900(15% OFF)',\n",
       " 'Rs. 9265Rs. 10900(15% OFF)',\n",
       " 'Rs. 9990',\n",
       " 'Rs. 11815Rs. 13900(15% OFF)',\n",
       " 'Rs. 8990',\n",
       " 'Rs. 10625Rs. 12500(15% OFF)',\n",
       " 'Rs. 11475Rs. 13500(15% OFF)',\n",
       " 'Rs. 8990',\n",
       " 'Rs. 9990',\n",
       " 'Rs. 8925Rs. 10500(15% OFF)']"
      ]
     },
     "execution_count": 38,
     "metadata": {},
     "output_type": "execute_result"
    }
   ],
   "source": [
    "Price=[]\n",
    "for i in ProductPrice:\n",
    "     Price.append(i.text)\n",
    "        \n",
    "Price"
   ]
  },
  {
   "cell_type": "code",
   "execution_count": 39,
   "id": "4936f8f7",
   "metadata": {},
   "outputs": [
    {
     "data": {
      "text/plain": [
       "50"
      ]
     },
     "execution_count": 39,
     "metadata": {},
     "output_type": "execute_result"
    }
   ],
   "source": [
    "ProductDisc = driver.find_elements_by_xpath('//h4[@class=\"product-product\"]')\n",
    "len(ProductDisc)"
   ]
  },
  {
   "cell_type": "code",
   "execution_count": 40,
   "id": "3a1490a5",
   "metadata": {},
   "outputs": [
    {
     "data": {
      "text/plain": [
       "['High-Top Comfort Heeled Boots',\n",
       " 'PU Block Pumps with Buckles',\n",
       " 'Leather Slip-On Ballerinas',\n",
       " 'Women Solid Leather Ballerina',\n",
       " 'Women Woven Running Shoes',\n",
       " 'PEAKFREAK XCRSN Trekking Shoe',\n",
       " 'PEAKFREAK OUTDRY Trekking Shoe',\n",
       " 'Men Solid Formal Oxfords',\n",
       " 'Men Solid Leather Formal Monks',\n",
       " 'Men Walking Shoes',\n",
       " 'Men Solid Leather Formal Derbys',\n",
       " 'Men Leather Driving Shoes',\n",
       " 'Men Wingtip Oxford Sneakers',\n",
       " 'Men GENERATION ZEROGRAND STITCHLITE',\n",
       " 'Men Textured Leather Loafers',\n",
       " 'Men Textured Leather Loafers',\n",
       " 'Men Textured Leather Formal Derbys',\n",
       " 'Women Leather Mules',\n",
       " 'Men Running Shoes',\n",
       " 'Women Solid Leather Pumps',\n",
       " 'Men Formal Leather Derby',\n",
       " 'Women Open Toe Flats',\n",
       " 'Women Sneakers',\n",
       " 'Women Solid Leather Ballerinas',\n",
       " 'Women Solid Leather Ballerinas',\n",
       " 'Cabo WP Riding Boots',\n",
       " 'Men Colourblocked PU Sneakers',\n",
       " 'Women Leather Heeled Boots',\n",
       " 'Men Leather Formal Loafers',\n",
       " 'Women Leather Heeled Boots',\n",
       " 'Women Leather Heeled Boots',\n",
       " 'Women Leather Heeled Boots',\n",
       " 'Platform Peep Toes with Buckles',\n",
       " 'Men Leather Formal Loafers',\n",
       " 'Block Heeled Boots',\n",
       " 'Men Leather Driving Shoes',\n",
       " 'Leather Kitten Heeled Boots',\n",
       " 'Leather High-Top Block Heeled Boots',\n",
       " 'Leather Wedge Heeled Boots with Buckles',\n",
       " 'Solid Slip On Shoes',\n",
       " 'Printed Flatform Heeled Boots with Buckles',\n",
       " 'Leather Platform Heeled Boots',\n",
       " 'Men Solid Leather Formal Loafers',\n",
       " 'Leather Block Heeled Boots with Bows',\n",
       " 'Men Textured Leather Formal Loafers',\n",
       " 'Leather High-Top Heeled Boots',\n",
       " 'Suede High-Top Flatform Heeled Boots',\n",
       " 'Men Textured Formal Leather Loafers',\n",
       " 'Men Solid Leather Formal Derbys',\n",
       " 'Leather Boots with Buckles']"
      ]
     },
     "execution_count": 40,
     "metadata": {},
     "output_type": "execute_result"
    }
   ],
   "source": [
    "Discription=[]\n",
    "for i in ProductDisc:\n",
    "    Discription.append(i.text)\n",
    "    \n",
    "Discription"
   ]
  },
  {
   "cell_type": "code",
   "execution_count": 41,
   "id": "292d32a8",
   "metadata": {},
   "outputs": [
    {
     "data": {
      "text/html": [
       "<div>\n",
       "<style scoped>\n",
       "    .dataframe tbody tr th:only-of-type {\n",
       "        vertical-align: middle;\n",
       "    }\n",
       "\n",
       "    .dataframe tbody tr th {\n",
       "        vertical-align: top;\n",
       "    }\n",
       "\n",
       "    .dataframe thead th {\n",
       "        text-align: right;\n",
       "    }\n",
       "</style>\n",
       "<table border=\"1\" class=\"dataframe\">\n",
       "  <thead>\n",
       "    <tr style=\"text-align: right;\">\n",
       "      <th></th>\n",
       "      <th>Brand Name</th>\n",
       "      <th>Discription</th>\n",
       "      <th>Prices</th>\n",
       "    </tr>\n",
       "  </thead>\n",
       "  <tbody>\n",
       "    <tr>\n",
       "      <th>0</th>\n",
       "      <td>Sole To Soul</td>\n",
       "      <td>High-Top Comfort Heeled Boots</td>\n",
       "      <td>Rs. 8900</td>\n",
       "    </tr>\n",
       "    <tr>\n",
       "      <th>1</th>\n",
       "      <td>ROSSO BRUNELLO</td>\n",
       "      <td>PU Block Pumps with Buckles</td>\n",
       "      <td>Rs. 7999</td>\n",
       "    </tr>\n",
       "    <tr>\n",
       "      <th>2</th>\n",
       "      <td>Clarks</td>\n",
       "      <td>Leather Slip-On Ballerinas</td>\n",
       "      <td>Rs. 7999</td>\n",
       "    </tr>\n",
       "    <tr>\n",
       "      <th>3</th>\n",
       "      <td>Clarks</td>\n",
       "      <td>Women Solid Leather Ballerina</td>\n",
       "      <td>Rs. 9999</td>\n",
       "    </tr>\n",
       "    <tr>\n",
       "      <th>4</th>\n",
       "      <td>New Balance</td>\n",
       "      <td>Women Woven Running Shoes</td>\n",
       "      <td>Rs. 7149Rs. 12999(45% OFF)</td>\n",
       "    </tr>\n",
       "    <tr>\n",
       "      <th>5</th>\n",
       "      <td>Columbia</td>\n",
       "      <td>PEAKFREAK XCRSN Trekking Shoe</td>\n",
       "      <td>Rs. 9999</td>\n",
       "    </tr>\n",
       "    <tr>\n",
       "      <th>6</th>\n",
       "      <td>Columbia</td>\n",
       "      <td>PEAKFREAK OUTDRY Trekking Shoe</td>\n",
       "      <td>Rs. 9999</td>\n",
       "    </tr>\n",
       "    <tr>\n",
       "      <th>7</th>\n",
       "      <td>Bugatti</td>\n",
       "      <td>Men Solid Formal Oxfords</td>\n",
       "      <td>Rs. 8999</td>\n",
       "    </tr>\n",
       "    <tr>\n",
       "      <th>8</th>\n",
       "      <td>Churchill &amp; Company</td>\n",
       "      <td>Men Solid Leather Formal Monks</td>\n",
       "      <td>Rs. 7999</td>\n",
       "    </tr>\n",
       "    <tr>\n",
       "      <th>9</th>\n",
       "      <td>Bugatti</td>\n",
       "      <td>Men Walking Shoes</td>\n",
       "      <td>Rs. 7199Rs. 8999(20% OFF)</td>\n",
       "    </tr>\n",
       "    <tr>\n",
       "      <th>10</th>\n",
       "      <td>Bugatti</td>\n",
       "      <td>Men Solid Leather Formal Derbys</td>\n",
       "      <td>Rs. 9499</td>\n",
       "    </tr>\n",
       "    <tr>\n",
       "      <th>11</th>\n",
       "      <td>Geox</td>\n",
       "      <td>Men Leather Driving Shoes</td>\n",
       "      <td>Rs. 9499</td>\n",
       "    </tr>\n",
       "    <tr>\n",
       "      <th>12</th>\n",
       "      <td>Cole Haan</td>\n",
       "      <td>Men Wingtip Oxford Sneakers</td>\n",
       "      <td>Rs. 12999</td>\n",
       "    </tr>\n",
       "    <tr>\n",
       "      <th>13</th>\n",
       "      <td>Cole Haan</td>\n",
       "      <td>Men GENERATION ZEROGRAND STITCHLITE</td>\n",
       "      <td>Rs. 11999</td>\n",
       "    </tr>\n",
       "    <tr>\n",
       "      <th>14</th>\n",
       "      <td>J.FONTINI</td>\n",
       "      <td>Men Textured Leather Loafers</td>\n",
       "      <td>Rs. 7990</td>\n",
       "    </tr>\n",
       "    <tr>\n",
       "      <th>15</th>\n",
       "      <td>J.FONTINI</td>\n",
       "      <td>Men Textured Leather Loafers</td>\n",
       "      <td>Rs. 8490</td>\n",
       "    </tr>\n",
       "    <tr>\n",
       "      <th>16</th>\n",
       "      <td>Cobblerz</td>\n",
       "      <td>Men Textured Leather Formal Derbys</td>\n",
       "      <td>Rs. 8999Rs. 9999(Rs. 1000 OFF)</td>\n",
       "    </tr>\n",
       "    <tr>\n",
       "      <th>17</th>\n",
       "      <td>Saint G</td>\n",
       "      <td>Women Leather Mules</td>\n",
       "      <td>Rs. 7216Rs. 8200(12% OFF)</td>\n",
       "    </tr>\n",
       "    <tr>\n",
       "      <th>18</th>\n",
       "      <td>Xtep</td>\n",
       "      <td>Men Running Shoes</td>\n",
       "      <td>Rs. 7699</td>\n",
       "    </tr>\n",
       "    <tr>\n",
       "      <th>19</th>\n",
       "      <td>Geox</td>\n",
       "      <td>Women Solid Leather Pumps</td>\n",
       "      <td>Rs. 10990</td>\n",
       "    </tr>\n",
       "    <tr>\n",
       "      <th>20</th>\n",
       "      <td>Heel &amp; Buckle London</td>\n",
       "      <td>Men Formal Leather Derby</td>\n",
       "      <td>Rs. 7990</td>\n",
       "    </tr>\n",
       "    <tr>\n",
       "      <th>21</th>\n",
       "      <td>Cole Haan</td>\n",
       "      <td>Women Open Toe Flats</td>\n",
       "      <td>Rs. 11999</td>\n",
       "    </tr>\n",
       "    <tr>\n",
       "      <th>22</th>\n",
       "      <td>Cole Haan</td>\n",
       "      <td>Women Sneakers</td>\n",
       "      <td>Rs. 12999</td>\n",
       "    </tr>\n",
       "    <tr>\n",
       "      <th>23</th>\n",
       "      <td>Geox</td>\n",
       "      <td>Women Solid Leather Ballerinas</td>\n",
       "      <td>Rs. 8999</td>\n",
       "    </tr>\n",
       "    <tr>\n",
       "      <th>24</th>\n",
       "      <td>Cole Haan</td>\n",
       "      <td>Women Solid Leather Ballerinas</td>\n",
       "      <td>Rs. 13999</td>\n",
       "    </tr>\n",
       "    <tr>\n",
       "      <th>25</th>\n",
       "      <td>Royal Enfield</td>\n",
       "      <td>Cabo WP Riding Boots</td>\n",
       "      <td>Rs. 8500</td>\n",
       "    </tr>\n",
       "    <tr>\n",
       "      <th>26</th>\n",
       "      <td>ASICS</td>\n",
       "      <td>Men Colourblocked PU Sneakers</td>\n",
       "      <td>Rs. 9999</td>\n",
       "    </tr>\n",
       "    <tr>\n",
       "      <th>27</th>\n",
       "      <td>Saint G</td>\n",
       "      <td>Women Leather Heeled Boots</td>\n",
       "      <td>Rs. 12325Rs. 14500(15% OFF)</td>\n",
       "    </tr>\n",
       "    <tr>\n",
       "      <th>28</th>\n",
       "      <td>J.FONTINI</td>\n",
       "      <td>Men Leather Formal Loafers</td>\n",
       "      <td>Rs. 7490</td>\n",
       "    </tr>\n",
       "    <tr>\n",
       "      <th>29</th>\n",
       "      <td>Saint G</td>\n",
       "      <td>Women Leather Heeled Boots</td>\n",
       "      <td>Rs. 12325Rs. 14500(15% OFF)</td>\n",
       "    </tr>\n",
       "    <tr>\n",
       "      <th>30</th>\n",
       "      <td>Saint G</td>\n",
       "      <td>Women Leather Heeled Boots</td>\n",
       "      <td>Rs. 11815Rs. 13900(15% OFF)</td>\n",
       "    </tr>\n",
       "    <tr>\n",
       "      <th>31</th>\n",
       "      <td>Saint G</td>\n",
       "      <td>Women Leather Heeled Boots</td>\n",
       "      <td>Rs. 14025Rs. 16500(15% OFF)</td>\n",
       "    </tr>\n",
       "    <tr>\n",
       "      <th>32</th>\n",
       "      <td>Sole To Soul</td>\n",
       "      <td>Platform Peep Toes with Buckles</td>\n",
       "      <td>Rs. 7690</td>\n",
       "    </tr>\n",
       "    <tr>\n",
       "      <th>33</th>\n",
       "      <td>J.FONTINI</td>\n",
       "      <td>Men Leather Formal Loafers</td>\n",
       "      <td>Rs. 7490</td>\n",
       "    </tr>\n",
       "    <tr>\n",
       "      <th>34</th>\n",
       "      <td>Bugatti</td>\n",
       "      <td>Block Heeled Boots</td>\n",
       "      <td>Rs. 7699Rs. 10999(30% OFF)</td>\n",
       "    </tr>\n",
       "    <tr>\n",
       "      <th>35</th>\n",
       "      <td>Pavers England</td>\n",
       "      <td>Men Leather Driving Shoes</td>\n",
       "      <td>Rs. 7499</td>\n",
       "    </tr>\n",
       "    <tr>\n",
       "      <th>36</th>\n",
       "      <td>Saint G</td>\n",
       "      <td>Leather Kitten Heeled Boots</td>\n",
       "      <td>Rs. 8415Rs. 9900(15% OFF)</td>\n",
       "    </tr>\n",
       "    <tr>\n",
       "      <th>37</th>\n",
       "      <td>Saint G</td>\n",
       "      <td>Leather High-Top Block Heeled Boots</td>\n",
       "      <td>Rs. 14025Rs. 16500(15% OFF)</td>\n",
       "    </tr>\n",
       "    <tr>\n",
       "      <th>38</th>\n",
       "      <td>Saint G</td>\n",
       "      <td>Leather Wedge Heeled Boots with Buckles</td>\n",
       "      <td>Rs. 12665Rs. 14900(15% OFF)</td>\n",
       "    </tr>\n",
       "    <tr>\n",
       "      <th>39</th>\n",
       "      <td>DAVINCHI</td>\n",
       "      <td>Solid Slip On Shoes</td>\n",
       "      <td>Rs. 7990</td>\n",
       "    </tr>\n",
       "    <tr>\n",
       "      <th>40</th>\n",
       "      <td>Saint G</td>\n",
       "      <td>Printed Flatform Heeled Boots with Buckles</td>\n",
       "      <td>Rs. 8415Rs. 9900(15% OFF)</td>\n",
       "    </tr>\n",
       "    <tr>\n",
       "      <th>41</th>\n",
       "      <td>Saint G</td>\n",
       "      <td>Leather Platform Heeled Boots</td>\n",
       "      <td>Rs. 9265Rs. 10900(15% OFF)</td>\n",
       "    </tr>\n",
       "    <tr>\n",
       "      <th>42</th>\n",
       "      <td>J.FONTINI</td>\n",
       "      <td>Men Solid Leather Formal Loafers</td>\n",
       "      <td>Rs. 9990</td>\n",
       "    </tr>\n",
       "    <tr>\n",
       "      <th>43</th>\n",
       "      <td>Saint G</td>\n",
       "      <td>Leather Block Heeled Boots with Bows</td>\n",
       "      <td>Rs. 11815Rs. 13900(15% OFF)</td>\n",
       "    </tr>\n",
       "    <tr>\n",
       "      <th>44</th>\n",
       "      <td>J.FONTINI</td>\n",
       "      <td>Men Textured Leather Formal Loafers</td>\n",
       "      <td>Rs. 8990</td>\n",
       "    </tr>\n",
       "    <tr>\n",
       "      <th>45</th>\n",
       "      <td>Saint G</td>\n",
       "      <td>Leather High-Top Heeled Boots</td>\n",
       "      <td>Rs. 10625Rs. 12500(15% OFF)</td>\n",
       "    </tr>\n",
       "    <tr>\n",
       "      <th>46</th>\n",
       "      <td>Saint G</td>\n",
       "      <td>Suede High-Top Flatform Heeled Boots</td>\n",
       "      <td>Rs. 11475Rs. 13500(15% OFF)</td>\n",
       "    </tr>\n",
       "    <tr>\n",
       "      <th>47</th>\n",
       "      <td>DAVINCHI</td>\n",
       "      <td>Men Textured Formal Leather Loafers</td>\n",
       "      <td>Rs. 8990</td>\n",
       "    </tr>\n",
       "    <tr>\n",
       "      <th>48</th>\n",
       "      <td>DAVINCHI</td>\n",
       "      <td>Men Solid Leather Formal Derbys</td>\n",
       "      <td>Rs. 9990</td>\n",
       "    </tr>\n",
       "    <tr>\n",
       "      <th>49</th>\n",
       "      <td>Saint G</td>\n",
       "      <td>Leather Boots with Buckles</td>\n",
       "      <td>Rs. 8925Rs. 10500(15% OFF)</td>\n",
       "    </tr>\n",
       "  </tbody>\n",
       "</table>\n",
       "</div>"
      ],
      "text/plain": [
       "              Brand Name                                 Discription  \\\n",
       "0           Sole To Soul               High-Top Comfort Heeled Boots   \n",
       "1         ROSSO BRUNELLO                 PU Block Pumps with Buckles   \n",
       "2                 Clarks                  Leather Slip-On Ballerinas   \n",
       "3                 Clarks               Women Solid Leather Ballerina   \n",
       "4            New Balance                   Women Woven Running Shoes   \n",
       "5               Columbia               PEAKFREAK XCRSN Trekking Shoe   \n",
       "6               Columbia              PEAKFREAK OUTDRY Trekking Shoe   \n",
       "7                Bugatti                    Men Solid Formal Oxfords   \n",
       "8    Churchill & Company              Men Solid Leather Formal Monks   \n",
       "9                Bugatti                           Men Walking Shoes   \n",
       "10               Bugatti             Men Solid Leather Formal Derbys   \n",
       "11                  Geox                   Men Leather Driving Shoes   \n",
       "12             Cole Haan                 Men Wingtip Oxford Sneakers   \n",
       "13             Cole Haan         Men GENERATION ZEROGRAND STITCHLITE   \n",
       "14             J.FONTINI                Men Textured Leather Loafers   \n",
       "15             J.FONTINI                Men Textured Leather Loafers   \n",
       "16              Cobblerz          Men Textured Leather Formal Derbys   \n",
       "17               Saint G                         Women Leather Mules   \n",
       "18                  Xtep                           Men Running Shoes   \n",
       "19                  Geox                   Women Solid Leather Pumps   \n",
       "20  Heel & Buckle London                    Men Formal Leather Derby   \n",
       "21             Cole Haan                        Women Open Toe Flats   \n",
       "22             Cole Haan                              Women Sneakers   \n",
       "23                  Geox              Women Solid Leather Ballerinas   \n",
       "24             Cole Haan              Women Solid Leather Ballerinas   \n",
       "25         Royal Enfield                        Cabo WP Riding Boots   \n",
       "26                 ASICS               Men Colourblocked PU Sneakers   \n",
       "27               Saint G                  Women Leather Heeled Boots   \n",
       "28             J.FONTINI                  Men Leather Formal Loafers   \n",
       "29               Saint G                  Women Leather Heeled Boots   \n",
       "30               Saint G                  Women Leather Heeled Boots   \n",
       "31               Saint G                  Women Leather Heeled Boots   \n",
       "32          Sole To Soul             Platform Peep Toes with Buckles   \n",
       "33             J.FONTINI                  Men Leather Formal Loafers   \n",
       "34               Bugatti                          Block Heeled Boots   \n",
       "35        Pavers England                   Men Leather Driving Shoes   \n",
       "36               Saint G                 Leather Kitten Heeled Boots   \n",
       "37               Saint G         Leather High-Top Block Heeled Boots   \n",
       "38               Saint G     Leather Wedge Heeled Boots with Buckles   \n",
       "39              DAVINCHI                         Solid Slip On Shoes   \n",
       "40               Saint G  Printed Flatform Heeled Boots with Buckles   \n",
       "41               Saint G               Leather Platform Heeled Boots   \n",
       "42             J.FONTINI            Men Solid Leather Formal Loafers   \n",
       "43               Saint G        Leather Block Heeled Boots with Bows   \n",
       "44             J.FONTINI         Men Textured Leather Formal Loafers   \n",
       "45               Saint G               Leather High-Top Heeled Boots   \n",
       "46               Saint G        Suede High-Top Flatform Heeled Boots   \n",
       "47              DAVINCHI         Men Textured Formal Leather Loafers   \n",
       "48              DAVINCHI             Men Solid Leather Formal Derbys   \n",
       "49               Saint G                  Leather Boots with Buckles   \n",
       "\n",
       "                            Prices  \n",
       "0                         Rs. 8900  \n",
       "1                         Rs. 7999  \n",
       "2                         Rs. 7999  \n",
       "3                         Rs. 9999  \n",
       "4       Rs. 7149Rs. 12999(45% OFF)  \n",
       "5                         Rs. 9999  \n",
       "6                         Rs. 9999  \n",
       "7                         Rs. 8999  \n",
       "8                         Rs. 7999  \n",
       "9        Rs. 7199Rs. 8999(20% OFF)  \n",
       "10                        Rs. 9499  \n",
       "11                        Rs. 9499  \n",
       "12                       Rs. 12999  \n",
       "13                       Rs. 11999  \n",
       "14                        Rs. 7990  \n",
       "15                        Rs. 8490  \n",
       "16  Rs. 8999Rs. 9999(Rs. 1000 OFF)  \n",
       "17       Rs. 7216Rs. 8200(12% OFF)  \n",
       "18                        Rs. 7699  \n",
       "19                       Rs. 10990  \n",
       "20                        Rs. 7990  \n",
       "21                       Rs. 11999  \n",
       "22                       Rs. 12999  \n",
       "23                        Rs. 8999  \n",
       "24                       Rs. 13999  \n",
       "25                        Rs. 8500  \n",
       "26                        Rs. 9999  \n",
       "27     Rs. 12325Rs. 14500(15% OFF)  \n",
       "28                        Rs. 7490  \n",
       "29     Rs. 12325Rs. 14500(15% OFF)  \n",
       "30     Rs. 11815Rs. 13900(15% OFF)  \n",
       "31     Rs. 14025Rs. 16500(15% OFF)  \n",
       "32                        Rs. 7690  \n",
       "33                        Rs. 7490  \n",
       "34      Rs. 7699Rs. 10999(30% OFF)  \n",
       "35                        Rs. 7499  \n",
       "36       Rs. 8415Rs. 9900(15% OFF)  \n",
       "37     Rs. 14025Rs. 16500(15% OFF)  \n",
       "38     Rs. 12665Rs. 14900(15% OFF)  \n",
       "39                        Rs. 7990  \n",
       "40       Rs. 8415Rs. 9900(15% OFF)  \n",
       "41      Rs. 9265Rs. 10900(15% OFF)  \n",
       "42                        Rs. 9990  \n",
       "43     Rs. 11815Rs. 13900(15% OFF)  \n",
       "44                        Rs. 8990  \n",
       "45     Rs. 10625Rs. 12500(15% OFF)  \n",
       "46     Rs. 11475Rs. 13500(15% OFF)  \n",
       "47                        Rs. 8990  \n",
       "48                        Rs. 9990  \n",
       "49      Rs. 8925Rs. 10500(15% OFF)  "
      ]
     },
     "execution_count": 41,
     "metadata": {},
     "output_type": "execute_result"
    }
   ],
   "source": [
    "import pandas as pd\n",
    "MyntraShoeDF2=pd.DataFrame({\"Brand Name\" :Brand,\"Discription\":Discription,\"Prices\":Price})\n",
    "\n",
    "MyntraShoeDF2"
   ]
  },
  {
   "cell_type": "code",
   "execution_count": 44,
   "id": "ac6dc876",
   "metadata": {},
   "outputs": [
    {
     "data": {
      "text/html": [
       "<div>\n",
       "<style scoped>\n",
       "    .dataframe tbody tr th:only-of-type {\n",
       "        vertical-align: middle;\n",
       "    }\n",
       "\n",
       "    .dataframe tbody tr th {\n",
       "        vertical-align: top;\n",
       "    }\n",
       "\n",
       "    .dataframe thead th {\n",
       "        text-align: right;\n",
       "    }\n",
       "</style>\n",
       "<table border=\"1\" class=\"dataframe\">\n",
       "  <thead>\n",
       "    <tr style=\"text-align: right;\">\n",
       "      <th></th>\n",
       "      <th>Brand Name</th>\n",
       "      <th>Discription</th>\n",
       "      <th>Prices</th>\n",
       "    </tr>\n",
       "  </thead>\n",
       "  <tbody>\n",
       "    <tr>\n",
       "      <th>0</th>\n",
       "      <td>ALDO</td>\n",
       "      <td>Men Printed Sneakers</td>\n",
       "      <td>Rs. 9099Rs. 12999(30% OFF)</td>\n",
       "    </tr>\n",
       "    <tr>\n",
       "      <th>1</th>\n",
       "      <td>Nike</td>\n",
       "      <td>Men Winflo 7 Running Shoes</td>\n",
       "      <td>Rs. 7995</td>\n",
       "    </tr>\n",
       "    <tr>\n",
       "      <th>2</th>\n",
       "      <td>Puma</td>\n",
       "      <td>Electrify Nitro Running Shoes</td>\n",
       "      <td>Rs. 9999</td>\n",
       "    </tr>\n",
       "    <tr>\n",
       "      <th>3</th>\n",
       "      <td>ALDO</td>\n",
       "      <td>Men Leather Driving Shoes</td>\n",
       "      <td>Rs. 12999</td>\n",
       "    </tr>\n",
       "    <tr>\n",
       "      <th>4</th>\n",
       "      <td>ALDO</td>\n",
       "      <td>Men Woven Design Sneakers</td>\n",
       "      <td>Rs. 13999</td>\n",
       "    </tr>\n",
       "    <tr>\n",
       "      <th>...</th>\n",
       "      <td>...</td>\n",
       "      <td>...</td>\n",
       "      <td>...</td>\n",
       "    </tr>\n",
       "    <tr>\n",
       "      <th>45</th>\n",
       "      <td>Saint G</td>\n",
       "      <td>Leather High-Top Heeled Boots</td>\n",
       "      <td>Rs. 10625Rs. 12500(15% OFF)</td>\n",
       "    </tr>\n",
       "    <tr>\n",
       "      <th>46</th>\n",
       "      <td>Saint G</td>\n",
       "      <td>Suede High-Top Flatform Heeled Boots</td>\n",
       "      <td>Rs. 11475Rs. 13500(15% OFF)</td>\n",
       "    </tr>\n",
       "    <tr>\n",
       "      <th>47</th>\n",
       "      <td>DAVINCHI</td>\n",
       "      <td>Men Textured Formal Leather Loafers</td>\n",
       "      <td>Rs. 8990</td>\n",
       "    </tr>\n",
       "    <tr>\n",
       "      <th>48</th>\n",
       "      <td>DAVINCHI</td>\n",
       "      <td>Men Solid Leather Formal Derbys</td>\n",
       "      <td>Rs. 9990</td>\n",
       "    </tr>\n",
       "    <tr>\n",
       "      <th>49</th>\n",
       "      <td>Saint G</td>\n",
       "      <td>Leather Boots with Buckles</td>\n",
       "      <td>Rs. 8925Rs. 10500(15% OFF)</td>\n",
       "    </tr>\n",
       "  </tbody>\n",
       "</table>\n",
       "<p>100 rows × 3 columns</p>\n",
       "</div>"
      ],
      "text/plain": [
       "   Brand Name                           Discription  \\\n",
       "0        ALDO                  Men Printed Sneakers   \n",
       "1        Nike            Men Winflo 7 Running Shoes   \n",
       "2        Puma         Electrify Nitro Running Shoes   \n",
       "3        ALDO             Men Leather Driving Shoes   \n",
       "4        ALDO             Men Woven Design Sneakers   \n",
       "..        ...                                   ...   \n",
       "45    Saint G         Leather High-Top Heeled Boots   \n",
       "46    Saint G  Suede High-Top Flatform Heeled Boots   \n",
       "47   DAVINCHI   Men Textured Formal Leather Loafers   \n",
       "48   DAVINCHI       Men Solid Leather Formal Derbys   \n",
       "49    Saint G            Leather Boots with Buckles   \n",
       "\n",
       "                         Prices  \n",
       "0    Rs. 9099Rs. 12999(30% OFF)  \n",
       "1                      Rs. 7995  \n",
       "2                      Rs. 9999  \n",
       "3                     Rs. 12999  \n",
       "4                     Rs. 13999  \n",
       "..                          ...  \n",
       "45  Rs. 10625Rs. 12500(15% OFF)  \n",
       "46  Rs. 11475Rs. 13500(15% OFF)  \n",
       "47                     Rs. 8990  \n",
       "48                     Rs. 9990  \n",
       "49   Rs. 8925Rs. 10500(15% OFF)  \n",
       "\n",
       "[100 rows x 3 columns]"
      ]
     },
     "execution_count": 44,
     "metadata": {},
     "output_type": "execute_result"
    }
   ],
   "source": [
    "MyntraShoeDF=pd.concat([MyntraShoeDF1,MyntraShoeDF2])\n",
    "MyntraShoeDF"
   ]
  },
  {
   "cell_type": "markdown",
   "id": "b5fb2d99",
   "metadata": {},
   "source": [
    "# Q8: Go to webpage https://www.amazon.in/ Enter “Laptop” in the search field and then click the search icon.Then set CPU Type filter to “Intel Core i7” and “Intel Core i9” as shown in the below image:"
   ]
  },
  {
   "cell_type": "code",
   "execution_count": 44,
   "id": "4472bcf7",
   "metadata": {},
   "outputs": [],
   "source": [
    "driver = webdriver.Chrome('chromedriver.exe')"
   ]
  },
  {
   "cell_type": "code",
   "execution_count": 45,
   "id": "ef600d6d",
   "metadata": {},
   "outputs": [],
   "source": [
    "url = 'https://www.amazon.in/'\n",
    "driver.get(url)"
   ]
  },
  {
   "cell_type": "code",
   "execution_count": 46,
   "id": "fb7bc490",
   "metadata": {},
   "outputs": [
    {
     "data": {
      "text/plain": [
       "<selenium.webdriver.remote.webelement.WebElement (session=\"e2909fc255ab2e91cc3a64a152ad84f6\", element=\"dbc454f3-b6ce-4b59-bb40-ff581b0746d3\")>"
      ]
     },
     "execution_count": 46,
     "metadata": {},
     "output_type": "execute_result"
    }
   ],
   "source": [
    "search_Product=driver.find_element_by_xpath('/html/body/div[1]/header/div/div[1]/div[2]/div/form/div[2]/div[1]/input')\n",
    "search_Product"
   ]
  },
  {
   "cell_type": "code",
   "execution_count": 47,
   "id": "95f0ba92",
   "metadata": {},
   "outputs": [],
   "source": [
    "search_Product.send_keys(\"Laptop\")"
   ]
  },
  {
   "cell_type": "code",
   "execution_count": 48,
   "id": "de907416",
   "metadata": {},
   "outputs": [
    {
     "data": {
      "text/plain": [
       "<selenium.webdriver.remote.webelement.WebElement (session=\"e2909fc255ab2e91cc3a64a152ad84f6\", element=\"be9561be-2be1-4e71-9f4b-33d2cd627f54\")>"
      ]
     },
     "execution_count": 48,
     "metadata": {},
     "output_type": "execute_result"
    }
   ],
   "source": [
    "search_Button=driver.find_element_by_xpath(\"/html/body/div[1]/header/div/div[1]/div[2]/div/form/div[3]/div/span/input\")\n",
    "search_Button"
   ]
  },
  {
   "cell_type": "code",
   "execution_count": 49,
   "id": "9ebbd6e7",
   "metadata": {},
   "outputs": [],
   "source": [
    "search_Button.click()"
   ]
  },
  {
   "cell_type": "code",
   "execution_count": 50,
   "id": "3c97cf29",
   "metadata": {},
   "outputs": [
    {
     "data": {
      "text/plain": [
       "<selenium.webdriver.remote.webelement.WebElement (session=\"e2909fc255ab2e91cc3a64a152ad84f6\", element=\"a93c9642-5fc5-497f-a1e3-237196d77cb4\")>"
      ]
     },
     "execution_count": 50,
     "metadata": {},
     "output_type": "execute_result"
    }
   ],
   "source": [
    "Filter_Product=driver.find_element_by_xpath('/html/body/div[1]/div[2]/div[1]/div[2]/div/div[3]/span/div[1]/div/div/div[5]/ul[4]/li[11]/span/a/div/label/i')\n",
    "Filter_Product"
   ]
  },
  {
   "cell_type": "code",
   "execution_count": 51,
   "id": "4150fa4e",
   "metadata": {},
   "outputs": [],
   "source": [
    "Filter_Product.click()"
   ]
  },
  {
   "cell_type": "code",
   "execution_count": 52,
   "id": "1be856e5",
   "metadata": {},
   "outputs": [
    {
     "data": {
      "text/plain": [
       "30"
      ]
     },
     "execution_count": 52,
     "metadata": {},
     "output_type": "execute_result"
    }
   ],
   "source": [
    "LaptopName = driver.find_elements_by_xpath('//h2[@class=\"a-size-mini a-spacing-none a-color-base s-line-clamp-2\"]')\n",
    "len(LaptopName)"
   ]
  },
  {
   "cell_type": "code",
   "execution_count": 53,
   "id": "fa52cfeb",
   "metadata": {},
   "outputs": [
    {
     "data": {
      "text/plain": [
       "['Lenovo IdeaPad Slim 3 10th Gen Intel Core i3 15.6 HD Thin and Light Laptop (8GB/1TB HDD/Windows 11/MS Office 2021/2Yr Warranty/Platinum Grey/1.7Kg), 81WB01E9IN',\n",
       " 'HP 14s 11th Gen Intel Core i3- 8GB RAM/256GB SSD 14 inch(35.6cm) FHD,Micro-Edge,Anti-Glare,IPS Display/UHD Graphics/ Win 11/ MS Office/ Alexa Built-in/ 1.46kg/ Natural Silver - 14s-dy2506TU',\n",
       " 'HP 15s 11th Gen Intel Core i3 15.6 inches Laptop (8GB RAM/512GB SSD , HD,Anti-Glare Display/UHD Graphics/Windows 11 Home/Alexa-Built in/MS Office/Natural Silver/1.75 Kg,-15s-dy3501TU)',\n",
       " 'Dell New Inspiron 3511 Laptop Intel i3-1115G4, 8GB DDR4, 1TB, Win 11 + MSO\\'21, Integrated Graphics, 15.6\" (39.61 cms) Anti Glare FHD Display, Carbon Black (D560646WIN9B), 1.8Kgs',\n",
       " 'Lenovo IdeaPad Slim 3 10th Gen Intel Core i3 15.6 HD Thin and Light Laptop (8GB/1TB HDD/Windows 11/MS Office 2021/2Yr Warranty/Platinum Grey/1.7Kg), 81WB01E9IN',\n",
       " 'Lenovo IdeaPad Slim 3 10th Gen Intel Core i3 15.6\"(39.62cm) FHD Thin & Light Laptop (8GB/256GB SSD/UHD Graphics/Windows 11/MS Office 2021/Platinum Grey/1.7Kg), 81WB01EFIN',\n",
       " 'Lenovo IdeaPad 3 10th Gen Intel Core i3 15.6 HD Thin and Light Laptop (8GB/1TB HDD/Windows 11/MS Office 2021/2Yr Warranty/Platinum Grey/1.7Kg), 81WB01BCIN',\n",
       " 'ASUS VivoBook 14 (2021), 14-inch (35.56 cms) FHD, Intel Core i3-1005G1 10th Gen, Thin and Light Laptop (8GB/512GB SSD + 32GB Optane/Integrated Graphics/Office 2021/Win 11/Silver/1.6 Kg) X415JA-EK562WS',\n",
       " 'Dell New Vostro 3401 Laptop Intel i3-1115G4, 8GB DDR4, 256GB SSD, Win 10 + MS Office, Integrated Graphics, 14\" (35.56Cms) FHD Display, Dune Color (D552201WIN9DE), 1.59kg']"
      ]
     },
     "execution_count": 53,
     "metadata": {},
     "output_type": "execute_result"
    }
   ],
   "source": [
    "LapName=[]\n",
    "for i in LaptopName[0:9]:\n",
    "     LapName.append(i.text)\n",
    "        \n",
    "LapName"
   ]
  },
  {
   "cell_type": "code",
   "execution_count": 54,
   "id": "3add64cc",
   "metadata": {},
   "outputs": [
    {
     "data": {
      "text/plain": [
       "28"
      ]
     },
     "execution_count": 54,
     "metadata": {},
     "output_type": "execute_result"
    }
   ],
   "source": [
    "ProductRating = driver.find_elements_by_xpath('//span[@class=\"a-size-base s-underline-text\"]')\n",
    "len(ProductRating)"
   ]
  },
  {
   "cell_type": "code",
   "execution_count": 55,
   "id": "4322654f",
   "metadata": {},
   "outputs": [
    {
     "data": {
      "text/plain": [
       "['297', '1,787', '225', '548', '297', '68', '158', '407', '103']"
      ]
     },
     "execution_count": 55,
     "metadata": {},
     "output_type": "execute_result"
    }
   ],
   "source": [
    "LaptopRating=[]\n",
    "for i in ProductRating[0:9]:\n",
    "     LaptopRating.append(i.text)\n",
    "        \n",
    "LaptopRating"
   ]
  },
  {
   "cell_type": "code",
   "execution_count": 56,
   "id": "ad4e4ae4",
   "metadata": {},
   "outputs": [
    {
     "data": {
      "text/plain": [
       "30"
      ]
     },
     "execution_count": 56,
     "metadata": {},
     "output_type": "execute_result"
    }
   ],
   "source": [
    "ProductPrice = driver.find_elements_by_xpath('//span[@class=\"a-price-whole\"]')\n",
    "len(ProductPrice)"
   ]
  },
  {
   "cell_type": "code",
   "execution_count": 57,
   "id": "096017be",
   "metadata": {},
   "outputs": [
    {
     "data": {
      "text/plain": [
       "['36,990',\n",
       " '39,990',\n",
       " '42,490',\n",
       " '36,990',\n",
       " '36,990',\n",
       " '37,490',\n",
       " '36,990',\n",
       " '38,990',\n",
       " '40,490']"
      ]
     },
     "execution_count": 57,
     "metadata": {},
     "output_type": "execute_result"
    }
   ],
   "source": [
    "Price=[]\n",
    "for i in ProductPrice[0:9]:\n",
    "     Price.append(i.text)\n",
    "        \n",
    "Price"
   ]
  },
  {
   "cell_type": "code",
   "execution_count": 58,
   "id": "4e1bb0a4",
   "metadata": {},
   "outputs": [
    {
     "data": {
      "text/html": [
       "<div>\n",
       "<style scoped>\n",
       "    .dataframe tbody tr th:only-of-type {\n",
       "        vertical-align: middle;\n",
       "    }\n",
       "\n",
       "    .dataframe tbody tr th {\n",
       "        vertical-align: top;\n",
       "    }\n",
       "\n",
       "    .dataframe thead th {\n",
       "        text-align: right;\n",
       "    }\n",
       "</style>\n",
       "<table border=\"1\" class=\"dataframe\">\n",
       "  <thead>\n",
       "    <tr style=\"text-align: right;\">\n",
       "      <th></th>\n",
       "      <th>Laptop Name()</th>\n",
       "      <th>Rating</th>\n",
       "      <th>Laptop Price</th>\n",
       "      <th>Processor</th>\n",
       "    </tr>\n",
       "  </thead>\n",
       "  <tbody>\n",
       "    <tr>\n",
       "      <th>0</th>\n",
       "      <td>Lenovo IdeaPad Slim 3 10th Gen Intel Core i3 1...</td>\n",
       "      <td>297</td>\n",
       "      <td>36,990</td>\n",
       "      <td>“Intel Core i7</td>\n",
       "    </tr>\n",
       "    <tr>\n",
       "      <th>1</th>\n",
       "      <td>HP 14s 11th Gen Intel Core i3- 8GB RAM/256GB S...</td>\n",
       "      <td>1,787</td>\n",
       "      <td>39,990</td>\n",
       "      <td>“Intel Core i7</td>\n",
       "    </tr>\n",
       "    <tr>\n",
       "      <th>2</th>\n",
       "      <td>HP 15s 11th Gen Intel Core i3 15.6 inches Lapt...</td>\n",
       "      <td>225</td>\n",
       "      <td>42,490</td>\n",
       "      <td>“Intel Core i7</td>\n",
       "    </tr>\n",
       "    <tr>\n",
       "      <th>3</th>\n",
       "      <td>Dell New Inspiron 3511 Laptop Intel i3-1115G4,...</td>\n",
       "      <td>548</td>\n",
       "      <td>36,990</td>\n",
       "      <td>“Intel Core i7</td>\n",
       "    </tr>\n",
       "    <tr>\n",
       "      <th>4</th>\n",
       "      <td>Lenovo IdeaPad Slim 3 10th Gen Intel Core i3 1...</td>\n",
       "      <td>297</td>\n",
       "      <td>36,990</td>\n",
       "      <td>“Intel Core i7</td>\n",
       "    </tr>\n",
       "    <tr>\n",
       "      <th>5</th>\n",
       "      <td>Lenovo IdeaPad Slim 3 10th Gen Intel Core i3 1...</td>\n",
       "      <td>68</td>\n",
       "      <td>37,490</td>\n",
       "      <td>“Intel Core i7</td>\n",
       "    </tr>\n",
       "    <tr>\n",
       "      <th>6</th>\n",
       "      <td>Lenovo IdeaPad 3 10th Gen Intel Core i3 15.6 H...</td>\n",
       "      <td>158</td>\n",
       "      <td>36,990</td>\n",
       "      <td>“Intel Core i7</td>\n",
       "    </tr>\n",
       "    <tr>\n",
       "      <th>7</th>\n",
       "      <td>ASUS VivoBook 14 (2021), 14-inch (35.56 cms) F...</td>\n",
       "      <td>407</td>\n",
       "      <td>38,990</td>\n",
       "      <td>“Intel Core i7</td>\n",
       "    </tr>\n",
       "    <tr>\n",
       "      <th>8</th>\n",
       "      <td>Dell New Vostro 3401 Laptop Intel i3-1115G4, 8...</td>\n",
       "      <td>103</td>\n",
       "      <td>40,490</td>\n",
       "      <td>“Intel Core i7</td>\n",
       "    </tr>\n",
       "  </tbody>\n",
       "</table>\n",
       "</div>"
      ],
      "text/plain": [
       "                                       Laptop Name() Rating Laptop Price  \\\n",
       "0  Lenovo IdeaPad Slim 3 10th Gen Intel Core i3 1...    297       36,990   \n",
       "1  HP 14s 11th Gen Intel Core i3- 8GB RAM/256GB S...  1,787       39,990   \n",
       "2  HP 15s 11th Gen Intel Core i3 15.6 inches Lapt...    225       42,490   \n",
       "3  Dell New Inspiron 3511 Laptop Intel i3-1115G4,...    548       36,990   \n",
       "4  Lenovo IdeaPad Slim 3 10th Gen Intel Core i3 1...    297       36,990   \n",
       "5  Lenovo IdeaPad Slim 3 10th Gen Intel Core i3 1...     68       37,490   \n",
       "6  Lenovo IdeaPad 3 10th Gen Intel Core i3 15.6 H...    158       36,990   \n",
       "7  ASUS VivoBook 14 (2021), 14-inch (35.56 cms) F...    407       38,990   \n",
       "8  Dell New Vostro 3401 Laptop Intel i3-1115G4, 8...    103       40,490   \n",
       "\n",
       "        Processor  \n",
       "0  “Intel Core i7  \n",
       "1  “Intel Core i7  \n",
       "2  “Intel Core i7  \n",
       "3  “Intel Core i7  \n",
       "4  “Intel Core i7  \n",
       "5  “Intel Core i7  \n",
       "6  “Intel Core i7  \n",
       "7  “Intel Core i7  \n",
       "8  “Intel Core i7  "
      ]
     },
     "execution_count": 58,
     "metadata": {},
     "output_type": "execute_result"
    }
   ],
   "source": [
    "import pandas as pd\n",
    "LaptopDf1=pd.DataFrame({\"Laptop Name()\" :LapName,\"Rating\":LaptopRating,\"Laptop Price\":Price,\"Processor\":\"“Intel Core i7\"})\n",
    "\n",
    "LaptopDf1"
   ]
  },
  {
   "cell_type": "code",
   "execution_count": 61,
   "id": "cc8957e0",
   "metadata": {},
   "outputs": [
    {
     "data": {
      "text/plain": [
       "30"
      ]
     },
     "execution_count": 61,
     "metadata": {},
     "output_type": "execute_result"
    }
   ],
   "source": [
    "LaptopName = driver.find_elements_by_xpath('//h2[@class=\"a-size-mini a-spacing-none a-color-base s-line-clamp-2\"]')\n",
    "len(LaptopName)"
   ]
  },
  {
   "cell_type": "code",
   "execution_count": 62,
   "id": "82e36a90",
   "metadata": {},
   "outputs": [
    {
     "data": {
      "text/plain": [
       "['Lenovo IdeaPad Slim 3 10th Gen Intel Core i3 15.6 HD Thin and Light Laptop (8GB/1TB HDD/Windows 11/MS Office 2021/2Yr Warranty/Platinum Grey/1.7Kg), 81WB01E9IN',\n",
       " 'HP 14s 11th Gen Intel Core i3- 8GB RAM/256GB SSD 14 inch(35.6cm) FHD,Micro-Edge,Anti-Glare,IPS Display/UHD Graphics/ Win 11/ MS Office/ Alexa Built-in/ 1.46kg/ Natural Silver - 14s-dy2506TU',\n",
       " 'HP 15s 11th Gen Intel Core i3 15.6 inches Laptop (8GB RAM/512GB SSD , HD,Anti-Glare Display/UHD Graphics/Windows 11 Home/Alexa-Built in/MS Office/Natural Silver/1.75 Kg,-15s-dy3501TU)',\n",
       " 'Dell New Inspiron 3511 Laptop Intel i3-1115G4, 8GB DDR4, 1TB, Win 11 + MSO\\'21, Integrated Graphics, 15.6\" (39.61 cms) Anti Glare FHD Display, Carbon Black (D560646WIN9B), 1.8Kgs',\n",
       " 'Lenovo IdeaPad Slim 3 10th Gen Intel Core i3 15.6 HD Thin and Light Laptop (8GB/1TB HDD/Windows 11/MS Office 2021/2Yr Warranty/Platinum Grey/1.7Kg), 81WB01E9IN',\n",
       " 'Lenovo IdeaPad Slim 3 10th Gen Intel Core i3 15.6\"(39.62cm) FHD Thin & Light Laptop (8GB/256GB SSD/UHD Graphics/Windows 11/MS Office 2021/Platinum Grey/1.7Kg), 81WB01EFIN',\n",
       " 'Lenovo IdeaPad 3 10th Gen Intel Core i3 15.6 HD Thin and Light Laptop (8GB/1TB HDD/Windows 11/MS Office 2021/2Yr Warranty/Platinum Grey/1.7Kg), 81WB01BCIN',\n",
       " 'ASUS VivoBook 14 (2021), 14-inch (35.56 cms) FHD, Intel Core i3-1005G1 10th Gen, Thin and Light Laptop (8GB/512GB SSD + 32GB Optane/Integrated Graphics/Office 2021/Win 11/Silver/1.6 Kg) X415JA-EK562WS',\n",
       " 'Dell New Vostro 3401 Laptop Intel i3-1115G4, 8GB DDR4, 256GB SSD, Win 10 + MS Office, Integrated Graphics, 14\" (35.56Cms) FHD Display, Dune Color (D552201WIN9DE), 1.59kg']"
      ]
     },
     "execution_count": 62,
     "metadata": {},
     "output_type": "execute_result"
    }
   ],
   "source": [
    "LapName=[]\n",
    "for i in LaptopName[0:9]:\n",
    "     LapName.append(i.text)\n",
    "        \n",
    "LapName"
   ]
  },
  {
   "cell_type": "code",
   "execution_count": 63,
   "id": "42feaab3",
   "metadata": {},
   "outputs": [
    {
     "data": {
      "text/plain": [
       "28"
      ]
     },
     "execution_count": 63,
     "metadata": {},
     "output_type": "execute_result"
    }
   ],
   "source": [
    "ProductRating = driver.find_elements_by_xpath('//span[@class=\"a-size-base s-underline-text\"]')\n",
    "len(ProductRating)"
   ]
  },
  {
   "cell_type": "code",
   "execution_count": 64,
   "id": "4608d463",
   "metadata": {},
   "outputs": [
    {
     "data": {
      "text/plain": [
       "['297', '1,787', '225', '548', '297', '68', '158', '407', '103']"
      ]
     },
     "execution_count": 64,
     "metadata": {},
     "output_type": "execute_result"
    }
   ],
   "source": [
    "LaptopRating=[]\n",
    "for i in ProductRating[0:9]:\n",
    "     LaptopRating.append(i.text)\n",
    "        \n",
    "LaptopRating"
   ]
  },
  {
   "cell_type": "code",
   "execution_count": 65,
   "id": "e282d06a",
   "metadata": {},
   "outputs": [
    {
     "data": {
      "text/plain": [
       "30"
      ]
     },
     "execution_count": 65,
     "metadata": {},
     "output_type": "execute_result"
    }
   ],
   "source": [
    "ProductPrice = driver.find_elements_by_xpath('//span[@class=\"a-price-whole\"]')\n",
    "len(ProductPrice)"
   ]
  },
  {
   "cell_type": "code",
   "execution_count": 66,
   "id": "d92e81d7",
   "metadata": {},
   "outputs": [
    {
     "data": {
      "text/plain": [
       "['36,990',\n",
       " '39,990',\n",
       " '42,490',\n",
       " '36,990',\n",
       " '36,990',\n",
       " '37,490',\n",
       " '36,990',\n",
       " '38,990',\n",
       " '40,490']"
      ]
     },
     "execution_count": 66,
     "metadata": {},
     "output_type": "execute_result"
    }
   ],
   "source": [
    "Price=[]\n",
    "for i in ProductPrice[0:9]:\n",
    "     Price.append(i.text)\n",
    "        \n",
    "Price"
   ]
  },
  {
   "cell_type": "code",
   "execution_count": 67,
   "id": "289dce06",
   "metadata": {},
   "outputs": [
    {
     "data": {
      "text/html": [
       "<div>\n",
       "<style scoped>\n",
       "    .dataframe tbody tr th:only-of-type {\n",
       "        vertical-align: middle;\n",
       "    }\n",
       "\n",
       "    .dataframe tbody tr th {\n",
       "        vertical-align: top;\n",
       "    }\n",
       "\n",
       "    .dataframe thead th {\n",
       "        text-align: right;\n",
       "    }\n",
       "</style>\n",
       "<table border=\"1\" class=\"dataframe\">\n",
       "  <thead>\n",
       "    <tr style=\"text-align: right;\">\n",
       "      <th></th>\n",
       "      <th>Laptop Name()</th>\n",
       "      <th>Rating</th>\n",
       "      <th>Laptop Price</th>\n",
       "      <th>Processor</th>\n",
       "    </tr>\n",
       "  </thead>\n",
       "  <tbody>\n",
       "    <tr>\n",
       "      <th>0</th>\n",
       "      <td>Lenovo IdeaPad Slim 3 10th Gen Intel Core i3 1...</td>\n",
       "      <td>297</td>\n",
       "      <td>36,990</td>\n",
       "      <td>“Intel Core i9</td>\n",
       "    </tr>\n",
       "    <tr>\n",
       "      <th>1</th>\n",
       "      <td>HP 14s 11th Gen Intel Core i3- 8GB RAM/256GB S...</td>\n",
       "      <td>1,787</td>\n",
       "      <td>39,990</td>\n",
       "      <td>“Intel Core i9</td>\n",
       "    </tr>\n",
       "    <tr>\n",
       "      <th>2</th>\n",
       "      <td>HP 15s 11th Gen Intel Core i3 15.6 inches Lapt...</td>\n",
       "      <td>225</td>\n",
       "      <td>42,490</td>\n",
       "      <td>“Intel Core i9</td>\n",
       "    </tr>\n",
       "    <tr>\n",
       "      <th>3</th>\n",
       "      <td>Dell New Inspiron 3511 Laptop Intel i3-1115G4,...</td>\n",
       "      <td>548</td>\n",
       "      <td>36,990</td>\n",
       "      <td>“Intel Core i9</td>\n",
       "    </tr>\n",
       "    <tr>\n",
       "      <th>4</th>\n",
       "      <td>Lenovo IdeaPad Slim 3 10th Gen Intel Core i3 1...</td>\n",
       "      <td>297</td>\n",
       "      <td>36,990</td>\n",
       "      <td>“Intel Core i9</td>\n",
       "    </tr>\n",
       "    <tr>\n",
       "      <th>5</th>\n",
       "      <td>Lenovo IdeaPad Slim 3 10th Gen Intel Core i3 1...</td>\n",
       "      <td>68</td>\n",
       "      <td>37,490</td>\n",
       "      <td>“Intel Core i9</td>\n",
       "    </tr>\n",
       "    <tr>\n",
       "      <th>6</th>\n",
       "      <td>Lenovo IdeaPad 3 10th Gen Intel Core i3 15.6 H...</td>\n",
       "      <td>158</td>\n",
       "      <td>36,990</td>\n",
       "      <td>“Intel Core i9</td>\n",
       "    </tr>\n",
       "    <tr>\n",
       "      <th>7</th>\n",
       "      <td>ASUS VivoBook 14 (2021), 14-inch (35.56 cms) F...</td>\n",
       "      <td>407</td>\n",
       "      <td>38,990</td>\n",
       "      <td>“Intel Core i9</td>\n",
       "    </tr>\n",
       "    <tr>\n",
       "      <th>8</th>\n",
       "      <td>Dell New Vostro 3401 Laptop Intel i3-1115G4, 8...</td>\n",
       "      <td>103</td>\n",
       "      <td>40,490</td>\n",
       "      <td>“Intel Core i9</td>\n",
       "    </tr>\n",
       "  </tbody>\n",
       "</table>\n",
       "</div>"
      ],
      "text/plain": [
       "                                       Laptop Name() Rating Laptop Price  \\\n",
       "0  Lenovo IdeaPad Slim 3 10th Gen Intel Core i3 1...    297       36,990   \n",
       "1  HP 14s 11th Gen Intel Core i3- 8GB RAM/256GB S...  1,787       39,990   \n",
       "2  HP 15s 11th Gen Intel Core i3 15.6 inches Lapt...    225       42,490   \n",
       "3  Dell New Inspiron 3511 Laptop Intel i3-1115G4,...    548       36,990   \n",
       "4  Lenovo IdeaPad Slim 3 10th Gen Intel Core i3 1...    297       36,990   \n",
       "5  Lenovo IdeaPad Slim 3 10th Gen Intel Core i3 1...     68       37,490   \n",
       "6  Lenovo IdeaPad 3 10th Gen Intel Core i3 15.6 H...    158       36,990   \n",
       "7  ASUS VivoBook 14 (2021), 14-inch (35.56 cms) F...    407       38,990   \n",
       "8  Dell New Vostro 3401 Laptop Intel i3-1115G4, 8...    103       40,490   \n",
       "\n",
       "        Processor  \n",
       "0  “Intel Core i9  \n",
       "1  “Intel Core i9  \n",
       "2  “Intel Core i9  \n",
       "3  “Intel Core i9  \n",
       "4  “Intel Core i9  \n",
       "5  “Intel Core i9  \n",
       "6  “Intel Core i9  \n",
       "7  “Intel Core i9  \n",
       "8  “Intel Core i9  "
      ]
     },
     "execution_count": 67,
     "metadata": {},
     "output_type": "execute_result"
    }
   ],
   "source": [
    "import pandas as pd\n",
    "LaptopDf2=pd.DataFrame({\"Laptop Name()\" :LapName,\"Rating\":LaptopRating,\"Laptop Price\":Price,\"Processor\":\"“Intel Core i9\"})\n",
    "\n",
    "LaptopDf2"
   ]
  },
  {
   "cell_type": "code",
   "execution_count": 69,
   "id": "84d57b3a",
   "metadata": {},
   "outputs": [],
   "source": [
    "LaptopDfFinal= pd.concat([LaptopDf1,LaptopDf2])"
   ]
  },
  {
   "cell_type": "code",
   "execution_count": 70,
   "id": "688ba551",
   "metadata": {},
   "outputs": [
    {
     "data": {
      "text/html": [
       "<div>\n",
       "<style scoped>\n",
       "    .dataframe tbody tr th:only-of-type {\n",
       "        vertical-align: middle;\n",
       "    }\n",
       "\n",
       "    .dataframe tbody tr th {\n",
       "        vertical-align: top;\n",
       "    }\n",
       "\n",
       "    .dataframe thead th {\n",
       "        text-align: right;\n",
       "    }\n",
       "</style>\n",
       "<table border=\"1\" class=\"dataframe\">\n",
       "  <thead>\n",
       "    <tr style=\"text-align: right;\">\n",
       "      <th></th>\n",
       "      <th>Laptop Name()</th>\n",
       "      <th>Rating</th>\n",
       "      <th>Laptop Price</th>\n",
       "      <th>Processor</th>\n",
       "    </tr>\n",
       "  </thead>\n",
       "  <tbody>\n",
       "    <tr>\n",
       "      <th>0</th>\n",
       "      <td>Lenovo IdeaPad Slim 3 10th Gen Intel Core i3 1...</td>\n",
       "      <td>297</td>\n",
       "      <td>36,990</td>\n",
       "      <td>“Intel Core i7</td>\n",
       "    </tr>\n",
       "    <tr>\n",
       "      <th>1</th>\n",
       "      <td>HP 14s 11th Gen Intel Core i3- 8GB RAM/256GB S...</td>\n",
       "      <td>1,787</td>\n",
       "      <td>39,990</td>\n",
       "      <td>“Intel Core i7</td>\n",
       "    </tr>\n",
       "    <tr>\n",
       "      <th>2</th>\n",
       "      <td>HP 15s 11th Gen Intel Core i3 15.6 inches Lapt...</td>\n",
       "      <td>225</td>\n",
       "      <td>42,490</td>\n",
       "      <td>“Intel Core i7</td>\n",
       "    </tr>\n",
       "    <tr>\n",
       "      <th>3</th>\n",
       "      <td>Dell New Inspiron 3511 Laptop Intel i3-1115G4,...</td>\n",
       "      <td>548</td>\n",
       "      <td>36,990</td>\n",
       "      <td>“Intel Core i7</td>\n",
       "    </tr>\n",
       "    <tr>\n",
       "      <th>4</th>\n",
       "      <td>Lenovo IdeaPad Slim 3 10th Gen Intel Core i3 1...</td>\n",
       "      <td>297</td>\n",
       "      <td>36,990</td>\n",
       "      <td>“Intel Core i7</td>\n",
       "    </tr>\n",
       "    <tr>\n",
       "      <th>5</th>\n",
       "      <td>Lenovo IdeaPad Slim 3 10th Gen Intel Core i3 1...</td>\n",
       "      <td>68</td>\n",
       "      <td>37,490</td>\n",
       "      <td>“Intel Core i7</td>\n",
       "    </tr>\n",
       "    <tr>\n",
       "      <th>6</th>\n",
       "      <td>Lenovo IdeaPad 3 10th Gen Intel Core i3 15.6 H...</td>\n",
       "      <td>158</td>\n",
       "      <td>36,990</td>\n",
       "      <td>“Intel Core i7</td>\n",
       "    </tr>\n",
       "    <tr>\n",
       "      <th>7</th>\n",
       "      <td>ASUS VivoBook 14 (2021), 14-inch (35.56 cms) F...</td>\n",
       "      <td>407</td>\n",
       "      <td>38,990</td>\n",
       "      <td>“Intel Core i7</td>\n",
       "    </tr>\n",
       "    <tr>\n",
       "      <th>8</th>\n",
       "      <td>Dell New Vostro 3401 Laptop Intel i3-1115G4, 8...</td>\n",
       "      <td>103</td>\n",
       "      <td>40,490</td>\n",
       "      <td>“Intel Core i7</td>\n",
       "    </tr>\n",
       "    <tr>\n",
       "      <th>0</th>\n",
       "      <td>Lenovo IdeaPad Slim 3 10th Gen Intel Core i3 1...</td>\n",
       "      <td>297</td>\n",
       "      <td>36,990</td>\n",
       "      <td>“Intel Core i9</td>\n",
       "    </tr>\n",
       "    <tr>\n",
       "      <th>1</th>\n",
       "      <td>HP 14s 11th Gen Intel Core i3- 8GB RAM/256GB S...</td>\n",
       "      <td>1,787</td>\n",
       "      <td>39,990</td>\n",
       "      <td>“Intel Core i9</td>\n",
       "    </tr>\n",
       "    <tr>\n",
       "      <th>2</th>\n",
       "      <td>HP 15s 11th Gen Intel Core i3 15.6 inches Lapt...</td>\n",
       "      <td>225</td>\n",
       "      <td>42,490</td>\n",
       "      <td>“Intel Core i9</td>\n",
       "    </tr>\n",
       "    <tr>\n",
       "      <th>3</th>\n",
       "      <td>Dell New Inspiron 3511 Laptop Intel i3-1115G4,...</td>\n",
       "      <td>548</td>\n",
       "      <td>36,990</td>\n",
       "      <td>“Intel Core i9</td>\n",
       "    </tr>\n",
       "    <tr>\n",
       "      <th>4</th>\n",
       "      <td>Lenovo IdeaPad Slim 3 10th Gen Intel Core i3 1...</td>\n",
       "      <td>297</td>\n",
       "      <td>36,990</td>\n",
       "      <td>“Intel Core i9</td>\n",
       "    </tr>\n",
       "    <tr>\n",
       "      <th>5</th>\n",
       "      <td>Lenovo IdeaPad Slim 3 10th Gen Intel Core i3 1...</td>\n",
       "      <td>68</td>\n",
       "      <td>37,490</td>\n",
       "      <td>“Intel Core i9</td>\n",
       "    </tr>\n",
       "    <tr>\n",
       "      <th>6</th>\n",
       "      <td>Lenovo IdeaPad 3 10th Gen Intel Core i3 15.6 H...</td>\n",
       "      <td>158</td>\n",
       "      <td>36,990</td>\n",
       "      <td>“Intel Core i9</td>\n",
       "    </tr>\n",
       "    <tr>\n",
       "      <th>7</th>\n",
       "      <td>ASUS VivoBook 14 (2021), 14-inch (35.56 cms) F...</td>\n",
       "      <td>407</td>\n",
       "      <td>38,990</td>\n",
       "      <td>“Intel Core i9</td>\n",
       "    </tr>\n",
       "    <tr>\n",
       "      <th>8</th>\n",
       "      <td>Dell New Vostro 3401 Laptop Intel i3-1115G4, 8...</td>\n",
       "      <td>103</td>\n",
       "      <td>40,490</td>\n",
       "      <td>“Intel Core i9</td>\n",
       "    </tr>\n",
       "  </tbody>\n",
       "</table>\n",
       "</div>"
      ],
      "text/plain": [
       "                                       Laptop Name() Rating Laptop Price  \\\n",
       "0  Lenovo IdeaPad Slim 3 10th Gen Intel Core i3 1...    297       36,990   \n",
       "1  HP 14s 11th Gen Intel Core i3- 8GB RAM/256GB S...  1,787       39,990   \n",
       "2  HP 15s 11th Gen Intel Core i3 15.6 inches Lapt...    225       42,490   \n",
       "3  Dell New Inspiron 3511 Laptop Intel i3-1115G4,...    548       36,990   \n",
       "4  Lenovo IdeaPad Slim 3 10th Gen Intel Core i3 1...    297       36,990   \n",
       "5  Lenovo IdeaPad Slim 3 10th Gen Intel Core i3 1...     68       37,490   \n",
       "6  Lenovo IdeaPad 3 10th Gen Intel Core i3 15.6 H...    158       36,990   \n",
       "7  ASUS VivoBook 14 (2021), 14-inch (35.56 cms) F...    407       38,990   \n",
       "8  Dell New Vostro 3401 Laptop Intel i3-1115G4, 8...    103       40,490   \n",
       "0  Lenovo IdeaPad Slim 3 10th Gen Intel Core i3 1...    297       36,990   \n",
       "1  HP 14s 11th Gen Intel Core i3- 8GB RAM/256GB S...  1,787       39,990   \n",
       "2  HP 15s 11th Gen Intel Core i3 15.6 inches Lapt...    225       42,490   \n",
       "3  Dell New Inspiron 3511 Laptop Intel i3-1115G4,...    548       36,990   \n",
       "4  Lenovo IdeaPad Slim 3 10th Gen Intel Core i3 1...    297       36,990   \n",
       "5  Lenovo IdeaPad Slim 3 10th Gen Intel Core i3 1...     68       37,490   \n",
       "6  Lenovo IdeaPad 3 10th Gen Intel Core i3 15.6 H...    158       36,990   \n",
       "7  ASUS VivoBook 14 (2021), 14-inch (35.56 cms) F...    407       38,990   \n",
       "8  Dell New Vostro 3401 Laptop Intel i3-1115G4, 8...    103       40,490   \n",
       "\n",
       "        Processor  \n",
       "0  “Intel Core i7  \n",
       "1  “Intel Core i7  \n",
       "2  “Intel Core i7  \n",
       "3  “Intel Core i7  \n",
       "4  “Intel Core i7  \n",
       "5  “Intel Core i7  \n",
       "6  “Intel Core i7  \n",
       "7  “Intel Core i7  \n",
       "8  “Intel Core i7  \n",
       "0  “Intel Core i9  \n",
       "1  “Intel Core i9  \n",
       "2  “Intel Core i9  \n",
       "3  “Intel Core i9  \n",
       "4  “Intel Core i9  \n",
       "5  “Intel Core i9  \n",
       "6  “Intel Core i9  \n",
       "7  “Intel Core i9  \n",
       "8  “Intel Core i9  "
      ]
     },
     "execution_count": 70,
     "metadata": {},
     "output_type": "execute_result"
    }
   ],
   "source": [
    "LaptopDfFinal"
   ]
  },
  {
   "cell_type": "markdown",
   "id": "db08a43a",
   "metadata": {},
   "source": [
    "# Q9: Write a python program to scrape data for first 10 job results for Data Scientist Designation in Noidalocation. You have to scrape company name, No. of days ago when job was posted, Rating of the company.\n"
   ]
  },
  {
   "cell_type": "code",
   "execution_count": 36,
   "id": "c4373ac0",
   "metadata": {},
   "outputs": [],
   "source": [
    "driver = webdriver.Chrome('chromedriver.exe')\n"
   ]
  },
  {
   "cell_type": "code",
   "execution_count": 37,
   "id": "3e1dc3e4",
   "metadata": {},
   "outputs": [],
   "source": [
    "url = 'https://www.ambitionbox.com/'\n",
    "driver.get(url)"
   ]
  },
  {
   "cell_type": "code",
   "execution_count": 38,
   "id": "ec8f4325",
   "metadata": {},
   "outputs": [
    {
     "data": {
      "text/plain": [
       "<selenium.webdriver.remote.webelement.WebElement (session=\"fde92c6ccdf351db4e4cb9e9ad10dbcb\", element=\"7c2b44b2-7dd7-497b-ad61-cf7bc4673791\")>"
      ]
     },
     "execution_count": 38,
     "metadata": {},
     "output_type": "execute_result"
    }
   ],
   "source": [
    "Search_job=driver.find_element_by_xpath(\"/html/body/div[1]/nav/nav/a[6]\")\n",
    "Search_job"
   ]
  },
  {
   "cell_type": "code",
   "execution_count": 39,
   "id": "a140ed92",
   "metadata": {},
   "outputs": [],
   "source": [
    "Search_job.click()"
   ]
  },
  {
   "cell_type": "code",
   "execution_count": 40,
   "id": "7a93bdd2",
   "metadata": {},
   "outputs": [
    {
     "data": {
      "text/plain": [
       "<selenium.webdriver.remote.webelement.WebElement (session=\"fde92c6ccdf351db4e4cb9e9ad10dbcb\", element=\"107c31c7-27ff-45da-8d8d-3ed790bf2cd5\")>"
      ]
     },
     "execution_count": 40,
     "metadata": {},
     "output_type": "execute_result"
    }
   ],
   "source": [
    "Search_Designation=driver.find_element_by_xpath(\"/html/body/div/div/div/div[2]/div[1]/div/div/div/div/span/input\")\n",
    "Search_Designation "
   ]
  },
  {
   "cell_type": "code",
   "execution_count": 41,
   "id": "dc3a2e77",
   "metadata": {},
   "outputs": [],
   "source": [
    "Search_Designation.send_keys(\"Data Scientist\")"
   ]
  },
  {
   "cell_type": "code",
   "execution_count": 42,
   "id": "8ff3e977",
   "metadata": {},
   "outputs": [
    {
     "data": {
      "text/plain": [
       "<selenium.webdriver.remote.webelement.WebElement (session=\"fde92c6ccdf351db4e4cb9e9ad10dbcb\", element=\"282b68a5-f7e3-4dd0-bf64-f77cfe448641\")>"
      ]
     },
     "execution_count": 42,
     "metadata": {},
     "output_type": "execute_result"
    }
   ],
   "source": [
    "Search_click=driver.find_element_by_xpath(\"/html/body/div/div/div/div[2]/div[1]/div/div/div/button/span\")\n",
    "Search_click"
   ]
  },
  {
   "cell_type": "code",
   "execution_count": 43,
   "id": "d38ef6c4",
   "metadata": {},
   "outputs": [],
   "source": [
    "Search_click.click()   "
   ]
  },
  {
   "cell_type": "code",
   "execution_count": 46,
   "id": "a10b55bc",
   "metadata": {},
   "outputs": [
    {
     "data": {
      "text/plain": [
       "<selenium.webdriver.remote.webelement.WebElement (session=\"fde92c6ccdf351db4e4cb9e9ad10dbcb\", element=\"062d4a02-9700-4f28-9b31-f5f0c5bd18d8\")>"
      ]
     },
     "execution_count": 46,
     "metadata": {},
     "output_type": "execute_result"
    }
   ],
   "source": [
    "Search_city=driver.find_element_by_xpath(\"/html/body/div/div/div/div[2]/div[2]/div[1]/div/div/div/div[2]/div[1]/p\")\n",
    "Search_city"
   ]
  },
  {
   "cell_type": "code",
   "execution_count": 47,
   "id": "3b16ac01",
   "metadata": {},
   "outputs": [],
   "source": [
    "Search_city.click()    "
   ]
  },
  {
   "cell_type": "code",
   "execution_count": 48,
   "id": "cb857f91",
   "metadata": {},
   "outputs": [
    {
     "data": {
      "text/plain": [
       "<selenium.webdriver.remote.webelement.WebElement (session=\"fde92c6ccdf351db4e4cb9e9ad10dbcb\", element=\"42f3f804-07b5-428d-9e9d-247f77c7cb81\")>"
      ]
     },
     "execution_count": 48,
     "metadata": {},
     "output_type": "execute_result"
    }
   ],
   "source": [
    "Search_city2=driver.find_element_by_xpath(\" /html/body/div/div/div/div[2]/div[2]/div[1]/div/div/div/div[2]/div[2]/div/div[2]/input\")\n",
    "Search_city2"
   ]
  },
  {
   "cell_type": "code",
   "execution_count": 49,
   "id": "3cdefdc6",
   "metadata": {},
   "outputs": [],
   "source": [
    "Search_city2.send_keys(\"Noida\")    "
   ]
  },
  {
   "cell_type": "code",
   "execution_count": 50,
   "id": "75d9dd33",
   "metadata": {},
   "outputs": [
    {
     "data": {
      "text/plain": [
       "<selenium.webdriver.remote.webelement.WebElement (session=\"fde92c6ccdf351db4e4cb9e9ad10dbcb\", element=\"7cd95f5c-20f1-467a-85b9-c6981672e40d\")>"
      ]
     },
     "execution_count": 50,
     "metadata": {},
     "output_type": "execute_result"
    }
   ],
   "source": [
    "Search_Noida=driver.find_element_by_xpath(\"/html/body/div/div/div/div[2]/div[2]/div[1]/div/div/div/div[2]/div[2]/div/div[3]/div[1]/div[1]/div/label\")\n",
    "Search_Noida"
   ]
  },
  {
   "cell_type": "code",
   "execution_count": 51,
   "id": "9cd5e4f3",
   "metadata": {},
   "outputs": [],
   "source": [
    "Search_Noida.click()    "
   ]
  },
  {
   "cell_type": "code",
   "execution_count": 52,
   "id": "fedf4354",
   "metadata": {},
   "outputs": [
    {
     "data": {
      "text/plain": [
       "10"
      ]
     },
     "execution_count": 52,
     "metadata": {},
     "output_type": "execute_result"
    }
   ],
   "source": [
    "title_tags = driver.find_elements_by_xpath('//p[@class=\"company body-medium\"]')\n",
    "len(title_tags)"
   ]
  },
  {
   "cell_type": "code",
   "execution_count": 53,
   "id": "f44895e1",
   "metadata": {},
   "outputs": [
    {
     "data": {
      "text/plain": [
       "['NTT DATA GLOBAL DELIVERY SERVICES PRIVATE LIMITED',\n",
       " 'HCL Technologies Limited',\n",
       " 'WSP CONSULTANTS INDIA PRIVATE LIMITED',\n",
       " 'Microsoft India (R and D) Pvt Ltd',\n",
       " 'HCL Technologies Ltd',\n",
       " 'Jubilant Foodworks Limited',\n",
       " 'HCL Technologies',\n",
       " 'RATEGAIN TRAVEL TECHNOLOGIES LIMITED',\n",
       " 'Hanu Software Solutions Pvt Ltd',\n",
       " 'Tavant Technologies India Pvt. Ltd.']"
      ]
     },
     "execution_count": 53,
     "metadata": {},
     "output_type": "execute_result"
    }
   ],
   "source": [
    "CompanyName=[]\n",
    "for i in title_tags:\n",
    "    CompanyName.append(i.text)\n",
    "    \n",
    "CompanyName"
   ]
  },
  {
   "cell_type": "code",
   "execution_count": 54,
   "id": "f27ab342",
   "metadata": {},
   "outputs": [
    {
     "data": {
      "text/plain": [
       "20"
      ]
     },
     "execution_count": 54,
     "metadata": {},
     "output_type": "execute_result"
    }
   ],
   "source": [
    "Days = driver.find_elements_by_xpath('//span[@class=\"body-small-l\"]')\n",
    "len(Days)"
   ]
  },
  {
   "cell_type": "code",
   "execution_count": 55,
   "id": "563c1b83",
   "metadata": {},
   "outputs": [
    {
     "data": {
      "text/plain": [
       "['10d ago',\n",
       " '11d ago',\n",
       " '11d ago',\n",
       " '22d ago',\n",
       " '19d ago',\n",
       " '9d ago',\n",
       " '26d ago',\n",
       " '4d ago',\n",
       " '11d ago',\n",
       " '1mon ago']"
      ]
     },
     "execution_count": 55,
     "metadata": {},
     "output_type": "execute_result"
    }
   ],
   "source": [
    "DaysPosted=[]\n",
    "for i in Days[0:20:2]:\n",
    "    DaysPosted.append(i.text)\n",
    "    \n",
    "DaysPosted"
   ]
  },
  {
   "cell_type": "code",
   "execution_count": 56,
   "id": "db3cf283",
   "metadata": {},
   "outputs": [
    {
     "data": {
      "text/plain": [
       "10"
      ]
     },
     "execution_count": 56,
     "metadata": {},
     "output_type": "execute_result"
    }
   ],
   "source": [
    "Ratings = driver.find_elements_by_xpath('//span[@class=\"body-small\"]')\n",
    "len(Ratings)"
   ]
  },
  {
   "cell_type": "code",
   "execution_count": 57,
   "id": "da190a22",
   "metadata": {},
   "outputs": [
    {
     "data": {
      "text/plain": [
       "['3.9', '3.8', '4.2', '4.2', '3.8', '3.9', '3.8', '3.7', '3.7', '4.0']"
      ]
     },
     "execution_count": 57,
     "metadata": {},
     "output_type": "execute_result"
    }
   ],
   "source": [
    "RatingsList=[]\n",
    "for i in Ratings:\n",
    "    RatingsList.append(i.text)\n",
    "    \n",
    "RatingsList"
   ]
  },
  {
   "cell_type": "code",
   "execution_count": 58,
   "id": "823857a1",
   "metadata": {},
   "outputs": [
    {
     "data": {
      "text/html": [
       "<div>\n",
       "<style scoped>\n",
       "    .dataframe tbody tr th:only-of-type {\n",
       "        vertical-align: middle;\n",
       "    }\n",
       "\n",
       "    .dataframe tbody tr th {\n",
       "        vertical-align: top;\n",
       "    }\n",
       "\n",
       "    .dataframe thead th {\n",
       "        text-align: right;\n",
       "    }\n",
       "</style>\n",
       "<table border=\"1\" class=\"dataframe\">\n",
       "  <thead>\n",
       "    <tr style=\"text-align: right;\">\n",
       "      <th></th>\n",
       "      <th>Company Name</th>\n",
       "      <th>No of days company posted</th>\n",
       "      <th>Rating of the company</th>\n",
       "    </tr>\n",
       "  </thead>\n",
       "  <tbody>\n",
       "    <tr>\n",
       "      <th>0</th>\n",
       "      <td>NTT DATA GLOBAL DELIVERY SERVICES PRIVATE LIMITED</td>\n",
       "      <td>10d ago</td>\n",
       "      <td>3.9</td>\n",
       "    </tr>\n",
       "    <tr>\n",
       "      <th>1</th>\n",
       "      <td>HCL Technologies Limited</td>\n",
       "      <td>11d ago</td>\n",
       "      <td>3.8</td>\n",
       "    </tr>\n",
       "    <tr>\n",
       "      <th>2</th>\n",
       "      <td>WSP CONSULTANTS INDIA PRIVATE LIMITED</td>\n",
       "      <td>11d ago</td>\n",
       "      <td>4.2</td>\n",
       "    </tr>\n",
       "    <tr>\n",
       "      <th>3</th>\n",
       "      <td>Microsoft India (R and D) Pvt Ltd</td>\n",
       "      <td>22d ago</td>\n",
       "      <td>4.2</td>\n",
       "    </tr>\n",
       "    <tr>\n",
       "      <th>4</th>\n",
       "      <td>HCL Technologies Ltd</td>\n",
       "      <td>19d ago</td>\n",
       "      <td>3.8</td>\n",
       "    </tr>\n",
       "    <tr>\n",
       "      <th>5</th>\n",
       "      <td>Jubilant Foodworks Limited</td>\n",
       "      <td>9d ago</td>\n",
       "      <td>3.9</td>\n",
       "    </tr>\n",
       "    <tr>\n",
       "      <th>6</th>\n",
       "      <td>HCL Technologies</td>\n",
       "      <td>26d ago</td>\n",
       "      <td>3.8</td>\n",
       "    </tr>\n",
       "    <tr>\n",
       "      <th>7</th>\n",
       "      <td>RATEGAIN TRAVEL TECHNOLOGIES LIMITED</td>\n",
       "      <td>4d ago</td>\n",
       "      <td>3.7</td>\n",
       "    </tr>\n",
       "    <tr>\n",
       "      <th>8</th>\n",
       "      <td>Hanu Software Solutions Pvt Ltd</td>\n",
       "      <td>11d ago</td>\n",
       "      <td>3.7</td>\n",
       "    </tr>\n",
       "    <tr>\n",
       "      <th>9</th>\n",
       "      <td>Tavant Technologies India Pvt. Ltd.</td>\n",
       "      <td>1mon ago</td>\n",
       "      <td>4.0</td>\n",
       "    </tr>\n",
       "  </tbody>\n",
       "</table>\n",
       "</div>"
      ],
      "text/plain": [
       "                                        Company Name  \\\n",
       "0  NTT DATA GLOBAL DELIVERY SERVICES PRIVATE LIMITED   \n",
       "1                           HCL Technologies Limited   \n",
       "2              WSP CONSULTANTS INDIA PRIVATE LIMITED   \n",
       "3                  Microsoft India (R and D) Pvt Ltd   \n",
       "4                               HCL Technologies Ltd   \n",
       "5                         Jubilant Foodworks Limited   \n",
       "6                                   HCL Technologies   \n",
       "7               RATEGAIN TRAVEL TECHNOLOGIES LIMITED   \n",
       "8                    Hanu Software Solutions Pvt Ltd   \n",
       "9                Tavant Technologies India Pvt. Ltd.   \n",
       "\n",
       "  No of days company posted Rating of the company  \n",
       "0                   10d ago                   3.9  \n",
       "1                   11d ago                   3.8  \n",
       "2                   11d ago                   4.2  \n",
       "3                   22d ago                   4.2  \n",
       "4                   19d ago                   3.8  \n",
       "5                    9d ago                   3.9  \n",
       "6                   26d ago                   3.8  \n",
       "7                    4d ago                   3.7  \n",
       "8                   11d ago                   3.7  \n",
       "9                  1mon ago                   4.0  "
      ]
     },
     "execution_count": 58,
     "metadata": {},
     "output_type": "execute_result"
    }
   ],
   "source": [
    "import pandas as pd\n",
    "DFJobs=pd.DataFrame({\"Company Name\" :CompanyName,\"No of days company posted\":DaysPosted,\"Rating of the company\":RatingsList})\n",
    "\n",
    "DFJobs"
   ]
  },
  {
   "cell_type": "markdown",
   "id": "7acd4fee",
   "metadata": {},
   "source": [
    "# Q10: Write a python program to scrape the salary data for Data Scientist designation.You have to scrape Company name, Number of salaries, Average salary, Minsalary, Max Salary"
   ]
  },
  {
   "cell_type": "code",
   "execution_count": 22,
   "id": "b2d256d7",
   "metadata": {},
   "outputs": [],
   "source": [
    "driver = webdriver.Chrome('chromedriver.exe')\n"
   ]
  },
  {
   "cell_type": "code",
   "execution_count": 23,
   "id": "e927f949",
   "metadata": {},
   "outputs": [],
   "source": [
    "url = 'https://www.ambitionbox.com/'\n",
    "driver.get(url)"
   ]
  },
  {
   "cell_type": "code",
   "execution_count": 24,
   "id": "9ec221ca",
   "metadata": {},
   "outputs": [
    {
     "data": {
      "text/plain": [
       "<selenium.webdriver.remote.webelement.WebElement (session=\"2325954afa96724c9aa502276f1f4aeb\", element=\"c82a279b-a4c7-4c4e-a668-6b41bcb1e9a3\")>"
      ]
     },
     "execution_count": 24,
     "metadata": {},
     "output_type": "execute_result"
    }
   ],
   "source": [
    "Search_salary=driver.find_element_by_xpath(\"/html/body/div[1]/nav/nav/a[4]\")\n",
    "Search_salary"
   ]
  },
  {
   "cell_type": "code",
   "execution_count": 25,
   "id": "c9db57c1",
   "metadata": {},
   "outputs": [],
   "source": [
    "Search_salary.click()  "
   ]
  },
  {
   "cell_type": "code",
   "execution_count": 26,
   "id": "fe09789f",
   "metadata": {},
   "outputs": [
    {
     "data": {
      "text/plain": [
       "<selenium.webdriver.remote.webelement.WebElement (session=\"2325954afa96724c9aa502276f1f4aeb\", element=\"ef39959a-ef07-4164-9efc-1aa74961e31c\")>"
      ]
     },
     "execution_count": 26,
     "metadata": {},
     "output_type": "execute_result"
    }
   ],
   "source": [
    "Search_desig=driver.find_element_by_xpath(\"/html/body/div/div/div/main/section[1]/div[2]/div[1]/span/input\")\n",
    "Search_desig"
   ]
  },
  {
   "cell_type": "code",
   "execution_count": 27,
   "id": "ac692eda",
   "metadata": {},
   "outputs": [],
   "source": [
    "Search_desig.send_keys(\"Data Scientist\")  tt_text"
   ]
  },
  {
   "cell_type": "code",
   "execution_count": 33,
   "id": "cd535028",
   "metadata": {},
   "outputs": [
    {
     "data": {
      "text/plain": [
       "<selenium.webdriver.remote.webelement.WebElement (session=\"2325954afa96724c9aa502276f1f4aeb\", element=\"bde7f42f-5660-4856-8c40-155dae79ee16\")>"
      ]
     },
     "execution_count": 33,
     "metadata": {},
     "output_type": "execute_result"
    }
   ],
   "source": [
    "Search_desig=driver.find_element_by_xpath(\"/html/body/div/div/div/main/section[1]/div[2]/div[1]/span/div/div/div[1]\")\n",
    "Search_desig"
   ]
  },
  {
   "cell_type": "code",
   "execution_count": 34,
   "id": "ad2d6247",
   "metadata": {},
   "outputs": [],
   "source": [
    "Search_desig.click()"
   ]
  },
  {
   "cell_type": "code",
   "execution_count": 35,
   "id": "8562545a",
   "metadata": {},
   "outputs": [
    {
     "data": {
      "text/plain": [
       "10"
      ]
     },
     "execution_count": 35,
     "metadata": {},
     "output_type": "execute_result"
    }
   ],
   "source": [
    "Company = driver.find_elements_by_xpath('//div[@class=\"name\"]')\n",
    "len(Company)"
   ]
  },
  {
   "cell_type": "code",
   "execution_count": 36,
   "id": "53e0e640",
   "metadata": {},
   "outputs": [
    {
     "data": {
      "text/plain": [
       "['Ab Inbev\\nbased on 28 salaries',\n",
       " 'ZS\\nbased on 15 salaries',\n",
       " 'Optum\\nbased on 25 salaries',\n",
       " 'Fractal Analytics\\nbased on 77 salaries',\n",
       " 'Tiger Analytics\\nbased on 33 salaries',\n",
       " 'UnitedHealth\\nbased on 52 salaries',\n",
       " 'Verizon\\nbased on 14 salaries',\n",
       " 'Ganit Business Solutions\\nbased on 13 salaries',\n",
       " 'Ericsson\\nbased on 43 salaries',\n",
       " 'Deloitte\\nbased on 57 salaries']"
      ]
     },
     "execution_count": 36,
     "metadata": {},
     "output_type": "execute_result"
    }
   ],
   "source": [
    "CompanyName=[]  \n",
    "for i in Company:\n",
    "     CompanyName.append(i.text)\n",
    "        \n",
    "CompanyName"
   ]
  },
  {
   "cell_type": "code",
   "execution_count": 38,
   "id": "07dd4634",
   "metadata": {},
   "outputs": [
    {
     "data": {
      "text/plain": [
       "10"
      ]
     },
     "execution_count": 38,
     "metadata": {},
     "output_type": "execute_result"
    }
   ],
   "source": [
    "TotalSalary = driver.find_elements_by_xpath('//div[@class=\"salaries sbold-list-header\"]')\n",
    "len(TotalSalary)"
   ]
  },
  {
   "cell_type": "code",
   "execution_count": 39,
   "id": "fcb8a0d5",
   "metadata": {},
   "outputs": [
    {
     "data": {
      "text/plain": [
       "['Data Scientist\\n . \\n3-4 yrs exp',\n",
       " 'Data Scientist\\n . \\n2 yrs exp',\n",
       " 'Data Scientist\\n . \\n3-4 yrs exp',\n",
       " 'Data Scientist\\n . \\n2-4 yrs exp',\n",
       " 'Data Scientist\\n . \\n3-4 yrs exp',\n",
       " 'Data Scientist\\n . \\n2-4 yrs exp',\n",
       " 'Data Scientist\\n . \\n4 yrs exp',\n",
       " 'Data Scientist\\n . \\n4 yrs exp',\n",
       " 'Data Scientist\\n . \\n3-4 yrs exp',\n",
       " 'Data Scientist\\n . \\n2-4 yrs exp']"
      ]
     },
     "execution_count": 39,
     "metadata": {},
     "output_type": "execute_result"
    }
   ],
   "source": [
    "Salry=[]  \n",
    "for i in TotalSalary:\n",
    "     Salry.append(i.text)\n",
    "        \n",
    "Salry  "
   ]
  },
  {
   "cell_type": "code",
   "execution_count": 41,
   "id": "23b1cf99",
   "metadata": {},
   "outputs": [
    {
     "data": {
      "text/plain": [
       "20"
      ]
     },
     "execution_count": 41,
     "metadata": {},
     "output_type": "execute_result"
    }
   ],
   "source": [
    "MinSalary = driver.find_elements_by_xpath('//div[@class=\"value body-medium\"]')\n",
    "len(MinSalary)"
   ]
  },
  {
   "cell_type": "code",
   "execution_count": 46,
   "id": "5211a5fc",
   "metadata": {},
   "outputs": [
    {
     "data": {
      "text/plain": [
       "['₹ 15.0L',\n",
       " '₹ 9.5L',\n",
       " '₹ 11.0L',\n",
       " '₹ 9.5L',\n",
       " '₹ 8.3L',\n",
       " '₹ 8.3L',\n",
       " '₹ 10.0L',\n",
       " '₹ 8.5L',\n",
       " '₹ 5.8L',\n",
       " '₹ 6.9L']"
      ]
     },
     "execution_count": 46,
     "metadata": {},
     "output_type": "execute_result"
    }
   ],
   "source": [
    "MinSal=[]  \n",
    "for i in MinSalary:\n",
    "     MinSal.append(i.text)\n",
    "        \n",
    "MinSal[0:20:2]  "
   ]
  },
  {
   "cell_type": "code",
   "execution_count": null,
   "id": "a7664002",
   "metadata": {},
   "outputs": [],
   "source": []
  },
  {
   "cell_type": "code",
   "execution_count": 52,
   "id": "faf35f79",
   "metadata": {},
   "outputs": [
    {
     "data": {
      "text/plain": [
       "10"
      ]
     },
     "execution_count": 52,
     "metadata": {},
     "output_type": "execute_result"
    }
   ],
   "source": [
    "AvgSalary = driver.find_elements_by_xpath('//p[@class=\"averageCtc\"]')\n",
    "len(AvgSalary)"
   ]
  },
  {
   "cell_type": "code",
   "execution_count": 53,
   "id": "f1eca89f",
   "metadata": {},
   "outputs": [
    {
     "data": {
      "text/plain": [
       "['₹ 20.3L',\n",
       " '₹ 15.3L',\n",
       " '₹ 15.1L',\n",
       " '₹ 15.1L',\n",
       " '₹ 14.4L',\n",
       " '₹ 13.9L',\n",
       " '₹ 12.7L',\n",
       " '₹ 12.4L',\n",
       " '₹ 11.9L',\n",
       " '₹ 11.7L']"
      ]
     },
     "execution_count": 53,
     "metadata": {},
     "output_type": "execute_result"
    }
   ],
   "source": [
    "AvgSal=[]  \n",
    "for i in AvgSalary:\n",
    "     AvgSal.append(i.text)\n",
    "        \n",
    "AvgSal"
   ]
  },
  {
   "cell_type": "code",
   "execution_count": 48,
   "id": "0a7ab405",
   "metadata": {},
   "outputs": [
    {
     "data": {
      "text/plain": [
       "['₹ 25.5L',\n",
       " '₹ 20.0L',\n",
       " '₹ 21.3L',\n",
       " '₹ 22.0L',\n",
       " '₹ 20.0L',\n",
       " '₹ 20.5L',\n",
       " '₹ 21.0L',\n",
       " '₹ 15.0L',\n",
       " '₹ 24.0L',\n",
       " '₹ 23.4L']"
      ]
     },
     "execution_count": 48,
     "metadata": {},
     "output_type": "execute_result"
    }
   ],
   "source": [
    "MaxSal=[]  \n",
    "for i in MinSalary:\n",
    "     MaxSal.append(i.text)\n",
    "        \n",
    "MaxSal[1:20:2]  "
   ]
  },
  {
   "cell_type": "code",
   "execution_count": null,
   "id": "7e823ec2",
   "metadata": {},
   "outputs": [],
   "source": [
    "AvgSalary=[]  \n",
    "for i in MinSalary:\n",
    "     AvgSalary.append(i.text)\n",
    "        \n",
    "MaxSal"
   ]
  },
  {
   "cell_type": "code",
   "execution_count": 54,
   "id": "247823ed",
   "metadata": {},
   "outputs": [
    {
     "data": {
      "text/html": [
       "<div>\n",
       "<style scoped>\n",
       "    .dataframe tbody tr th:only-of-type {\n",
       "        vertical-align: middle;\n",
       "    }\n",
       "\n",
       "    .dataframe tbody tr th {\n",
       "        vertical-align: top;\n",
       "    }\n",
       "\n",
       "    .dataframe thead th {\n",
       "        text-align: right;\n",
       "    }\n",
       "</style>\n",
       "<table border=\"1\" class=\"dataframe\">\n",
       "  <thead>\n",
       "    <tr style=\"text-align: right;\">\n",
       "      <th></th>\n",
       "      <th>Company Name</th>\n",
       "      <th>Total Salary</th>\n",
       "      <th>Minimum Salary</th>\n",
       "      <th>Maximum Salary</th>\n",
       "      <th>Average Salary</th>\n",
       "    </tr>\n",
       "  </thead>\n",
       "  <tbody>\n",
       "    <tr>\n",
       "      <th>0</th>\n",
       "      <td>Ab Inbev\\nbased on 28 salaries</td>\n",
       "      <td>Data Scientist\\n . \\n3-4 yrs exp</td>\n",
       "      <td>₹ 15.0L</td>\n",
       "      <td>₹ 25.5L</td>\n",
       "      <td>₹ 20.3L</td>\n",
       "    </tr>\n",
       "    <tr>\n",
       "      <th>1</th>\n",
       "      <td>ZS\\nbased on 15 salaries</td>\n",
       "      <td>Data Scientist\\n . \\n2 yrs exp</td>\n",
       "      <td>₹ 9.5L</td>\n",
       "      <td>₹ 20.0L</td>\n",
       "      <td>₹ 15.3L</td>\n",
       "    </tr>\n",
       "    <tr>\n",
       "      <th>2</th>\n",
       "      <td>Optum\\nbased on 25 salaries</td>\n",
       "      <td>Data Scientist\\n . \\n3-4 yrs exp</td>\n",
       "      <td>₹ 11.0L</td>\n",
       "      <td>₹ 21.3L</td>\n",
       "      <td>₹ 15.1L</td>\n",
       "    </tr>\n",
       "    <tr>\n",
       "      <th>3</th>\n",
       "      <td>Fractal Analytics\\nbased on 77 salaries</td>\n",
       "      <td>Data Scientist\\n . \\n2-4 yrs exp</td>\n",
       "      <td>₹ 9.5L</td>\n",
       "      <td>₹ 22.0L</td>\n",
       "      <td>₹ 15.1L</td>\n",
       "    </tr>\n",
       "    <tr>\n",
       "      <th>4</th>\n",
       "      <td>Tiger Analytics\\nbased on 33 salaries</td>\n",
       "      <td>Data Scientist\\n . \\n3-4 yrs exp</td>\n",
       "      <td>₹ 8.3L</td>\n",
       "      <td>₹ 20.0L</td>\n",
       "      <td>₹ 14.4L</td>\n",
       "    </tr>\n",
       "    <tr>\n",
       "      <th>5</th>\n",
       "      <td>UnitedHealth\\nbased on 52 salaries</td>\n",
       "      <td>Data Scientist\\n . \\n2-4 yrs exp</td>\n",
       "      <td>₹ 8.3L</td>\n",
       "      <td>₹ 20.5L</td>\n",
       "      <td>₹ 13.9L</td>\n",
       "    </tr>\n",
       "    <tr>\n",
       "      <th>6</th>\n",
       "      <td>Verizon\\nbased on 14 salaries</td>\n",
       "      <td>Data Scientist\\n . \\n4 yrs exp</td>\n",
       "      <td>₹ 10.0L</td>\n",
       "      <td>₹ 21.0L</td>\n",
       "      <td>₹ 12.7L</td>\n",
       "    </tr>\n",
       "    <tr>\n",
       "      <th>7</th>\n",
       "      <td>Ganit Business Solutions\\nbased on 13 salaries</td>\n",
       "      <td>Data Scientist\\n . \\n4 yrs exp</td>\n",
       "      <td>₹ 8.5L</td>\n",
       "      <td>₹ 15.0L</td>\n",
       "      <td>₹ 12.4L</td>\n",
       "    </tr>\n",
       "    <tr>\n",
       "      <th>8</th>\n",
       "      <td>Ericsson\\nbased on 43 salaries</td>\n",
       "      <td>Data Scientist\\n . \\n3-4 yrs exp</td>\n",
       "      <td>₹ 5.8L</td>\n",
       "      <td>₹ 24.0L</td>\n",
       "      <td>₹ 11.9L</td>\n",
       "    </tr>\n",
       "    <tr>\n",
       "      <th>9</th>\n",
       "      <td>Deloitte\\nbased on 57 salaries</td>\n",
       "      <td>Data Scientist\\n . \\n2-4 yrs exp</td>\n",
       "      <td>₹ 6.9L</td>\n",
       "      <td>₹ 23.4L</td>\n",
       "      <td>₹ 11.7L</td>\n",
       "    </tr>\n",
       "  </tbody>\n",
       "</table>\n",
       "</div>"
      ],
      "text/plain": [
       "                                     Company Name  \\\n",
       "0                  Ab Inbev\\nbased on 28 salaries   \n",
       "1                        ZS\\nbased on 15 salaries   \n",
       "2                     Optum\\nbased on 25 salaries   \n",
       "3         Fractal Analytics\\nbased on 77 salaries   \n",
       "4           Tiger Analytics\\nbased on 33 salaries   \n",
       "5              UnitedHealth\\nbased on 52 salaries   \n",
       "6                   Verizon\\nbased on 14 salaries   \n",
       "7  Ganit Business Solutions\\nbased on 13 salaries   \n",
       "8                  Ericsson\\nbased on 43 salaries   \n",
       "9                  Deloitte\\nbased on 57 salaries   \n",
       "\n",
       "                       Total Salary Minimum Salary Maximum Salary  \\\n",
       "0  Data Scientist\\n . \\n3-4 yrs exp        ₹ 15.0L        ₹ 25.5L   \n",
       "1    Data Scientist\\n . \\n2 yrs exp         ₹ 9.5L        ₹ 20.0L   \n",
       "2  Data Scientist\\n . \\n3-4 yrs exp        ₹ 11.0L        ₹ 21.3L   \n",
       "3  Data Scientist\\n . \\n2-4 yrs exp         ₹ 9.5L        ₹ 22.0L   \n",
       "4  Data Scientist\\n . \\n3-4 yrs exp         ₹ 8.3L        ₹ 20.0L   \n",
       "5  Data Scientist\\n . \\n2-4 yrs exp         ₹ 8.3L        ₹ 20.5L   \n",
       "6    Data Scientist\\n . \\n4 yrs exp        ₹ 10.0L        ₹ 21.0L   \n",
       "7    Data Scientist\\n . \\n4 yrs exp         ₹ 8.5L        ₹ 15.0L   \n",
       "8  Data Scientist\\n . \\n3-4 yrs exp         ₹ 5.8L        ₹ 24.0L   \n",
       "9  Data Scientist\\n . \\n2-4 yrs exp         ₹ 6.9L        ₹ 23.4L   \n",
       "\n",
       "  Average Salary  \n",
       "0        ₹ 20.3L  \n",
       "1        ₹ 15.3L  \n",
       "2        ₹ 15.1L  \n",
       "3        ₹ 15.1L  \n",
       "4        ₹ 14.4L  \n",
       "5        ₹ 13.9L  \n",
       "6        ₹ 12.7L  \n",
       "7        ₹ 12.4L  \n",
       "8        ₹ 11.9L  \n",
       "9        ₹ 11.7L  "
      ]
     },
     "execution_count": 54,
     "metadata": {},
     "output_type": "execute_result"
    }
   ],
   "source": [
    "import pandas as pd\n",
    "DataScientistJobs=pd.DataFrame({\"Company Name\" :CompanyName,\"Total Salary\":Salry,\"Minimum Salary\":MinSal[0:20:2],\"Maximum Salary\" : MaxSal[1:20:2],\"Average Salary\" : AvgSal})\n",
    "\n",
    "DataScientistJobs"
   ]
  },
  {
   "cell_type": "code",
   "execution_count": null,
   "id": "4d5936d3",
   "metadata": {},
   "outputs": [],
   "source": []
  }
 ],
 "metadata": {
  "kernelspec": {
   "display_name": "Python 3",
   "language": "python",
   "name": "python3"
  },
  "language_info": {
   "codemirror_mode": {
    "name": "ipython",
    "version": 3
   },
   "file_extension": ".py",
   "mimetype": "text/x-python",
   "name": "python",
   "nbconvert_exporter": "python",
   "pygments_lexer": "ipython3",
   "version": "3.8.8"
  }
 },
 "nbformat": 4,
 "nbformat_minor": 5
}
